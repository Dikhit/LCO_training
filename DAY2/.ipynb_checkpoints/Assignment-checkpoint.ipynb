{
 "cells": [
  {
   "cell_type": "code",
   "execution_count": 1,
   "metadata": {},
   "outputs": [
    {
     "name": "stdout",
     "output_type": "stream",
     "text": [
      "Assignment DAY 2\n"
     ]
    }
   ],
   "source": [
    "print(\"Assignment DAY 2\")"
   ]
  },
  {
   "cell_type": "code",
   "execution_count": 17,
   "metadata": {},
   "outputs": [
    {
     "name": "stdout",
     "output_type": "stream",
     "text": [
      "Palindrome problem\n",
      "Enter the string : Madam, I'm Adam\n",
      "Simplified String : ['M', 'a', 'd', 'a', 'm', 'I', 'm', 'A', 'd', 'a', 'm'] and reverse string is : <function reverseString at 0x0000024F49CAB048>\n",
      "not palindrome\n"
     ]
    }
   ],
   "source": [
    "print(\"Palindrome problem\")\n",
    "def reverseString(inputString):\n",
    "    return inputString[::-1]\n",
    "def removeSpecialCharecter(inputString):\n",
    "    originalString = list()\n",
    "    for iterator in inputString:\n",
    "        if ord(iterator) in range(65,91) or ord(iterator) in range(97,123):\n",
    "            originalString.append(iterator)\n",
    "    return originalString\n",
    "def main():\n",
    "    inputString = input(\"Enter the string : \")\n",
    "    simplifiedString = removeSpecialCharecter(inputString)\n",
    "    finalString = reverseString(simplifiedString)\n",
    "    print(\"Simplified String : {} and reverse string is : {}\".format(simplifiedString, reverseString))\n",
    "    for i in range(len(finalString)):\n",
    "        if simplifiedString[i] == finalString[i]:\n",
    "            print(\"ihefolihe\")\n",
    "if __name__ == '__main__' : main()"
   ]
  },
  {
   "cell_type": "code",
   "execution_count": 14,
   "metadata": {},
   "outputs": [
    {
     "name": "stdout",
     "output_type": "stream",
     "text": [
      "E\n"
     ]
    }
   ],
   "source": [
    "x='e'\n",
    "print(x.upper())"
   ]
  },
  {
   "cell_type": "code",
   "execution_count": 7,
   "metadata": {},
   "outputs": [
    {
     "name": "stdout",
     "output_type": "stream",
     "text": [
      "Enter the string : Dikhit\n",
      "your string is Dikhit\n",
      "Enter the character for change: k\n"
     ]
    },
    {
     "ename": "AttributeError",
     "evalue": "'str' object has no attribute 'capatilize'",
     "output_type": "error",
     "traceback": [
      "\u001b[1;31m---------------------------------------------------------------------------\u001b[0m",
      "\u001b[1;31mAttributeError\u001b[0m                            Traceback (most recent call last)",
      "\u001b[1;32m<ipython-input-7-51e58d1d778e>\u001b[0m in \u001b[0;36m<module>\u001b[1;34m\u001b[0m\n\u001b[0;32m      4\u001b[0m \u001b[1;32mfor\u001b[0m \u001b[0mindex\u001b[0m\u001b[1;33m,\u001b[0m\u001b[0mvalue\u001b[0m \u001b[1;32min\u001b[0m \u001b[0menumerate\u001b[0m\u001b[1;33m(\u001b[0m\u001b[0minputString\u001b[0m\u001b[1;33m)\u001b[0m\u001b[1;33m:\u001b[0m\u001b[1;33m\u001b[0m\u001b[1;33m\u001b[0m\u001b[0m\n\u001b[0;32m      5\u001b[0m     \u001b[1;32mif\u001b[0m \u001b[0mvalue\u001b[0m \u001b[1;33m==\u001b[0m \u001b[0minputChar\u001b[0m\u001b[1;33m:\u001b[0m\u001b[1;33m\u001b[0m\u001b[1;33m\u001b[0m\u001b[0m\n\u001b[1;32m----> 6\u001b[1;33m         \u001b[0minputString\u001b[0m\u001b[1;33m[\u001b[0m\u001b[0mindex\u001b[0m\u001b[1;33m]\u001b[0m \u001b[1;33m=\u001b[0m \u001b[0mvalue\u001b[0m\u001b[1;33m.\u001b[0m\u001b[0mcapatilize\u001b[0m\u001b[1;33m(\u001b[0m\u001b[1;33m)\u001b[0m\u001b[1;33m\u001b[0m\u001b[1;33m\u001b[0m\u001b[0m\n\u001b[0m\u001b[0;32m      7\u001b[0m \u001b[1;33m\u001b[0m\u001b[0m\n\u001b[0;32m      8\u001b[0m \u001b[0mprint\u001b[0m\u001b[1;33m(\u001b[0m\u001b[0minputString\u001b[0m\u001b[1;33m)\u001b[0m\u001b[1;33m\u001b[0m\u001b[1;33m\u001b[0m\u001b[0m\n",
      "\u001b[1;31mAttributeError\u001b[0m: 'str' object has no attribute 'capatilize'"
     ]
    }
   ],
   "source": [
    "inputString = input(\"Enter the string : \")\n",
    "print(\"your string is {}\".format(inputString))\n",
    "inputChar = input(\"Enter the character for change: \")\n",
    "for index,value in enumerate(inputString):\n",
    "    if value == inputChar:\n",
    "        inputString[index] = value.capatilize()\n",
    "\n",
    "print(inputString)\n",
    "        "
   ]
  },
  {
   "cell_type": "code",
   "execution_count": null,
   "metadata": {},
   "outputs": [],
   "source": []
  },
  {
   "cell_type": "code",
   "execution_count": 25,
   "metadata": {},
   "outputs": [
    {
     "name": "stdout",
     "output_type": "stream",
     "text": [
      "Amstrong number\n",
      "Enter the input number : 1634\n",
      "It is valid amstrong number\n"
     ]
    }
   ],
   "source": [
    "print(\"Amstrong number\")\n",
    "numberString = input(\"Enter the input number : \")\n",
    "length = len(numberString)\n",
    "sum = 0\n",
    "for iterator in numberString:\n",
    "    value = int(iterator)\n",
    "    value = value ** length\n",
    "    sum = sum + value\n",
    "if sum == int(numberString):\n",
    "    print(\"It is valid amstrong number\")\n",
    "else :\n",
    "    print(\"Sorry, It is not a amstrong number\")"
   ]
  },
  {
   "cell_type": "code",
   "execution_count": 4,
   "metadata": {},
   "outputs": [
    {
     "name": "stdout",
     "output_type": "stream",
     "text": [
      "Enter any year : 2014\n",
      "2014 is not a leap year\n"
     ]
    }
   ],
   "source": [
    "def main():\n",
    "    inputYear = int(input(\"Enter any year : \"))\n",
    "    if (inputYear % 4) == 0:\n",
    "        if (inputYear % 100) == 0:\n",
    "            if (inputYear % 400) == 0:\n",
    "                print(\"{} is a leap year\".format(inputYear))\n",
    "            else:\n",
    "                print(\"{} is not a leap year\".format(inputYear))\n",
    "        else:\n",
    "            print(\"{} is a leap year\".format(inputYear))\n",
    "    else:\n",
    "        print(\"{} is not a leap year\".format(inputYear))\n",
    "if __name__ == '__main__' : main()"
   ]
  },
  {
   "cell_type": "code",
   "execution_count": 15,
   "metadata": {},
   "outputs": [
    {
     "name": "stdout",
     "output_type": "stream",
     "text": [
      "\n",
      "Enter the first string : apple\n",
      "Enter the second string : orange\n",
      "aoprpalnege"
     ]
    }
   ],
   "source": [
    "print(\"program to mix two string in alternate manner\")\n",
    "def findLarger(firstArg, secondArg):\n",
    "    if firstArg > secondArg:\n",
    "        return firstArg\n",
    "    else:\n",
    "        return secondArg\n",
    "def main():\n",
    "    firstString = input(\"Enter the first string : \")\n",
    "    secondString = input(\"Enter the second string : \")\n",
    "    firstStringLength = len(firstString)\n",
    "    secondStringLength = len(secondString)\n",
    "    longest = findLarger(firstStringLength, secondStringLength)\n",
    "    for iterator in range(longest):\n",
    "        if iterator < firstStringLength:\n",
    "            print(firstString[iterator], end = \"\")\n",
    "        if iterator < secondStringLength:\n",
    "            print(secondString[iterator], end = \"\")\n",
    "if __name__ == '__main__' : main()"
   ]
  },
  {
   "cell_type": "code",
   "execution_count": null,
   "metadata": {},
   "outputs": [],
   "source": []
  },
  {
   "cell_type": "code",
   "execution_count": null,
   "metadata": {},
   "outputs": [],
   "source": []
  }
 ],
 "metadata": {
  "kernelspec": {
   "display_name": "Python 3",
   "language": "python",
   "name": "python3"
  },
  "language_info": {
   "codemirror_mode": {
    "name": "ipython",
    "version": 3
   },
   "file_extension": ".py",
   "mimetype": "text/x-python",
   "name": "python",
   "nbconvert_exporter": "python",
   "pygments_lexer": "ipython3",
   "version": "3.7.4"
  }
 },
 "nbformat": 4,
 "nbformat_minor": 2
}
