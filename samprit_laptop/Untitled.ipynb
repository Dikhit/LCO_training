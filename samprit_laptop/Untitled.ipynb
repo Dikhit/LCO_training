{
 "cells": [
  {
   "cell_type": "code",
   "execution_count": 9,
   "metadata": {},
   "outputs": [],
   "source": [
    "f = open(\"myFile.txt\", 'w+')"
   ]
  },
  {
   "cell_type": "code",
   "execution_count": 10,
   "metadata": {},
   "outputs": [
    {
     "data": {
      "text/plain": [
       "11"
      ]
     },
     "execution_count": 10,
     "metadata": {},
     "output_type": "execute_result"
    }
   ],
   "source": [
    "f.write(\"HelloWorld!\")"
   ]
  },
  {
   "cell_type": "code",
   "execution_count": 11,
   "metadata": {},
   "outputs": [],
   "source": [
    "f.close()"
   ]
  },
  {
   "cell_type": "code",
   "execution_count": 16,
   "metadata": {},
   "outputs": [],
   "source": [
    "f = open(\"myFile.txt\")"
   ]
  },
  {
   "cell_type": "code",
   "execution_count": 17,
   "metadata": {},
   "outputs": [
    {
     "name": "stdout",
     "output_type": "stream",
     "text": [
      "HelloWorld!\n"
     ]
    }
   ],
   "source": [
    "print(f.read())"
   ]
  },
  {
   "cell_type": "code",
   "execution_count": 21,
   "metadata": {},
   "outputs": [
    {
     "data": {
      "text/plain": [
       "1"
      ]
     },
     "execution_count": 21,
     "metadata": {},
     "output_type": "execute_result"
    }
   ],
   "source": [
    "f.seek(1)"
   ]
  },
  {
   "cell_type": "code",
   "execution_count": 22,
   "metadata": {},
   "outputs": [
    {
     "name": "stdout",
     "output_type": "stream",
     "text": [
      "elloWorld!\n"
     ]
    }
   ],
   "source": [
    "print(f.read())"
   ]
  },
  {
   "cell_type": "code",
   "execution_count": 23,
   "metadata": {},
   "outputs": [],
   "source": [
    "f.close()"
   ]
  },
  {
   "cell_type": "code",
   "execution_count": 15,
   "metadata": {},
   "outputs": [
    {
     "data": {
      "text/plain": [
       "'HelloWorld!'"
      ]
     },
     "execution_count": 15,
     "metadata": {},
     "output_type": "execute_result"
    }
   ],
   "source": [
    "data"
   ]
  },
  {
   "cell_type": "code",
   "execution_count": 33,
   "metadata": {},
   "outputs": [],
   "source": [
    "f = open(\"myFile.txt\", 'w+')"
   ]
  },
  {
   "cell_type": "code",
   "execution_count": 34,
   "metadata": {},
   "outputs": [
    {
     "data": {
      "text/plain": [
       "6"
      ]
     },
     "execution_count": 34,
     "metadata": {},
     "output_type": "execute_result"
    }
   ],
   "source": [
    "f.write(\"Hello\\n\")\n",
    "f.write(\"World\\n\")"
   ]
  },
  {
   "cell_type": "code",
   "execution_count": 35,
   "metadata": {},
   "outputs": [],
   "source": [
    "f.close()"
   ]
  },
  {
   "cell_type": "code",
   "execution_count": 36,
   "metadata": {},
   "outputs": [],
   "source": [
    "f = open(\"myFile.txt\")"
   ]
  },
  {
   "cell_type": "code",
   "execution_count": 39,
   "metadata": {},
   "outputs": [
    {
     "data": {
      "text/plain": [
       "0"
      ]
     },
     "execution_count": 39,
     "metadata": {},
     "output_type": "execute_result"
    }
   ],
   "source": [
    "f.seek(0)"
   ]
  },
  {
   "cell_type": "code",
   "execution_count": 40,
   "metadata": {},
   "outputs": [
    {
     "data": {
      "text/plain": [
       "'Hello\\n'"
      ]
     },
     "execution_count": 40,
     "metadata": {},
     "output_type": "execute_result"
    }
   ],
   "source": [
    "f.readline()"
   ]
  },
  {
   "cell_type": "code",
   "execution_count": 41,
   "metadata": {},
   "outputs": [],
   "source": [
    "f.close()"
   ]
  },
  {
   "cell_type": "code",
   "execution_count": 42,
   "metadata": {},
   "outputs": [
    {
     "name": "stdout",
     "output_type": "stream",
     "text": [
      "Hello\n",
      "World\n",
      "\n"
     ]
    }
   ],
   "source": [
    "with open(\"myFile.txt\") as f:\n",
    "    print(f.read())"
   ]
  },
  {
   "cell_type": "code",
   "execution_count": 52,
   "metadata": {},
   "outputs": [],
   "source": [
    "class FileManagement(object):\n",
    "    \n",
    "    def __init__(self):\n",
    "        \n",
    "        self.filename = \"Database.txt\"\n",
    "        try:\n",
    "            self.f = open(self.filename, \"a\")\n",
    "        except:\n",
    "            print(\"Error in creating file...\")\n",
    "            \n",
    "    def insert_data(self, data):\n",
    "        try:\n",
    "            with open(self.filename, 'a') as f:\n",
    "                f.write(data[0]+\"\\n\")\n",
    "                f.write(data[1]+\"\\n\")\n",
    "                f.write(data[2])\n",
    "                f.write(\"\\n\\n\")\n",
    "            return True\n",
    "        except:\n",
    "            return False\n",
    "        \n",
    "    def read_data(self):\n",
    "        data = \"\"\n",
    "        final_list = []\n",
    "        try:\n",
    "            with open(self.filename) as f:\n",
    "                data = f.read()\n",
    "                \n",
    "            user_chunk = data.split(\"\\n\\n\")\n",
    "            \n",
    "            for item in user_chunk[:-1]:\n",
    "                \n",
    "                single_chunk = item.split(\"\\n\")\n",
    "                final_list.append((single_chunk[0],single_chunk[1],single_chunk[2]))\n",
    "            return final_list\n",
    "        except:\n",
    "            return False"
   ]
  },
  {
   "cell_type": "code",
   "execution_count": 57,
   "metadata": {},
   "outputs": [],
   "source": [
    "def main():\n",
    "    \n",
    "    db = FileManagement()\n",
    "    \n",
    "    print(\"\\n1. Insert Data\")\n",
    "    print(\"\\n2. View Data\")\n",
    "    choice = input(\"\\n\\nEnter your choice : \")\n",
    "    \n",
    "    if choice == \"1\":\n",
    "        \n",
    "        name = input(\"\\nEnter a name : \")\n",
    "        email = input(\"Enter a email : \")\n",
    "        passw = input(\"Enter a password : \")\n",
    "        \n",
    "        if db.insert_data([name, email, passw]):\n",
    "            print(\"\\nData Added!\")\n",
    "        else:\n",
    "            print(\"Oops! Something went wrong!\")\n",
    "            \n",
    "    elif choice == \"2\":\n",
    "        \n",
    "        print(\"\\nAll User Data\\n\")\n",
    "        \n",
    "        if db.read_data():\n",
    "            for index, item in enumerate(db.read_data()):\n",
    "                \n",
    "                print(\"Sl No : \" + str(index+1))\n",
    "                print(\"Name : \" + item[0])\n",
    "                print(\"Email : \" + item[1])\n",
    "                print(\"Password : \" + item[2])\n",
    "                print()"
   ]
  },
  {
   "cell_type": "code",
   "execution_count": 61,
   "metadata": {},
   "outputs": [
    {
     "name": "stdout",
     "output_type": "stream",
     "text": [
      "\n",
      "1. Insert Data\n",
      "\n",
      "2. View Data\n",
      "\n",
      "\n",
      "Enter your choice : 2\n",
      "\n",
      "All User Data\n",
      "\n",
      "Sl No : 1\n",
      "Name : LCO\n",
      "Email : lco@gmail.com\n",
      "Password : 123\n",
      "\n",
      "Sl No : 2\n",
      "Name : lco2\n",
      "Email : lco2@gmail.com\n",
      "Password : 123\n",
      "\n",
      "Sl No : 3\n",
      "Name : Samprit\n",
      "Email : sam@samprit.in\n",
      "Password : 23456\n",
      "\n"
     ]
    }
   ],
   "source": [
    "main()"
   ]
  },
  {
   "cell_type": "code",
   "execution_count": 2,
   "metadata": {},
   "outputs": [
    {
     "name": "stdout",
     "output_type": "stream",
     "text": [
      "6\n",
      "15478 8452 8232 874 985 4512\n",
      "['15478', '8452', '8232', '874', '985', '4512']\n",
      "3\n",
      "first half 188\n",
      "second half 452\n",
      "188452\n",
      "OUI\n"
     ]
    }
   ],
   "source": [
    "num_of_input = int(input())\n",
    "elements = input().split()\n",
    "print(elements)\n",
    "mid_value = len(elements) // 2\n",
    "print(mid_value)\n",
    "first_half = []\n",
    "second_half = []\n",
    "for i in range(0,mid_value):\n",
    "    value = elements[i][0]\n",
    "    first_half.append(value)\n",
    "for i in range(mid_value,len(elements)):\n",
    "    value = elements[i][len(elements[i]) - 1]\n",
    "    second_half.append(value)\n",
    "value1 = \"\".join([num for num in first_half])\n",
    "print(\"first half\", value1)\n",
    "value2 = \"\".join([num for num in second_half])\n",
    "print(\"second half\", value2)\n",
    "final_value = value1 + value2\n",
    "final_value = int(final_value)\n",
    "print(final_value)\n",
    "if final_value % 11 == 0:\n",
    "    print(\"OUI\")\n",
    "else:\n",
    "    print(\"NON\")"
   ]
  },
  {
   "cell_type": "code",
   "execution_count": null,
   "metadata": {},
   "outputs": [],
   "source": []
  },
  {
   "cell_type": "code",
   "execution_count": 5,
   "metadata": {},
   "outputs": [
    {
     "name": "stdout",
     "output_type": "stream",
     "text": [
      "abc\n"
     ]
    },
    {
     "ename": "ValueError",
     "evalue": "invalid literal for int() with base 10: 'abc'",
     "output_type": "error",
     "traceback": [
      "\u001b[1;31m---------------------------------------------------------------------------\u001b[0m",
      "\u001b[1;31mValueError\u001b[0m                                Traceback (most recent call last)",
      "\u001b[1;32m<ipython-input-5-dec815747c80>\u001b[0m in \u001b[0;36m<module>\u001b[1;34m\u001b[0m\n\u001b[0;32m     55\u001b[0m \u001b[0msum\u001b[0m \u001b[1;33m=\u001b[0m \u001b[1;36m0\u001b[0m\u001b[1;33m\u001b[0m\u001b[1;33m\u001b[0m\u001b[0m\n\u001b[0;32m     56\u001b[0m \u001b[1;32mfor\u001b[0m \u001b[0mi\u001b[0m \u001b[1;32min\u001b[0m \u001b[0mrange\u001b[0m\u001b[1;33m(\u001b[0m\u001b[1;36m0\u001b[0m\u001b[1;33m,\u001b[0m\u001b[0mlen\u001b[0m\u001b[1;33m(\u001b[0m\u001b[0muser_input\u001b[0m\u001b[1;33m)\u001b[0m \u001b[1;33m+\u001b[0m \u001b[1;36m1\u001b[0m\u001b[1;33m)\u001b[0m\u001b[1;33m:\u001b[0m\u001b[1;33m\u001b[0m\u001b[1;33m\u001b[0m\u001b[0m\n\u001b[1;32m---> 57\u001b[1;33m     \u001b[0msum\u001b[0m \u001b[1;33m=\u001b[0m \u001b[0mint\u001b[0m\u001b[1;33m(\u001b[0m\u001b[0muser_input\u001b[0m\u001b[1;33m[\u001b[0m\u001b[0mi\u001b[0m\u001b[1;33m]\u001b[0m\u001b[1;33m)\u001b[0m \u001b[1;33m+\u001b[0m \u001b[0msum\u001b[0m\u001b[1;33m\u001b[0m\u001b[1;33m\u001b[0m\u001b[0m\n\u001b[0m\u001b[0;32m     58\u001b[0m     \u001b[0mprint\u001b[0m\u001b[1;33m(\u001b[0m\u001b[0mx\u001b[0m\u001b[1;33m)\u001b[0m\u001b[1;33m\u001b[0m\u001b[1;33m\u001b[0m\u001b[0m\n",
      "\u001b[1;31mValueError\u001b[0m: invalid literal for int() with base 10: 'abc'"
     ]
    }
   ],
   "source": [
    "a=1\n",
    "A=1\n",
    "b=2\n",
    "B=2\n",
    "c=3\n",
    "C=3\n",
    "d=4\n",
    "D=4\n",
    "e=5\n",
    "E=5\n",
    "f=6\n",
    "F=6\n",
    "g=7\n",
    "G=7\n",
    "h=8\n",
    "H=8\n",
    "i=9\n",
    "I=9\n",
    "j=10\n",
    "J=10\n",
    "k=11\n",
    "K=11\n",
    "l=12\n",
    "L=12\n",
    "m=13\n",
    "M=13\n",
    "n=14\n",
    "N=14\n",
    "o=15\n",
    "O=15\n",
    "p=16\n",
    "P=16\n",
    "q=17\n",
    "Q=17\n",
    "r=18\n",
    "R=18\n",
    "s=19\n",
    "S=19\n",
    "t=20\n",
    "T=20\n",
    "u=21\n",
    "U=21\n",
    "v=22\n",
    "V=22\n",
    "w=23\n",
    "W=23\n",
    "x=24\n",
    "X=24\n",
    "y=25\n",
    "Y=25\n",
    "z=26\n",
    "Z=26\n",
    "\n",
    "user_input=input().split()\n",
    "sum = 0\n",
    "for i in range(0,len(user_input) + 1):\n",
    "    if i.islower():\n",
    "        \n",
    "print(sum)"
   ]
  },
  {
   "cell_type": "code",
   "execution_count": null,
   "metadata": {},
   "outputs": [],
   "source": []
  }
 ],
 "metadata": {
  "kernelspec": {
   "display_name": "Python 3",
   "language": "python",
   "name": "python3"
  },
  "language_info": {
   "codemirror_mode": {
    "name": "ipython",
    "version": 3
   },
   "file_extension": ".py",
   "mimetype": "text/x-python",
   "name": "python",
   "nbconvert_exporter": "python",
   "pygments_lexer": "ipython3",
   "version": "3.7.4"
  }
 },
 "nbformat": 4,
 "nbformat_minor": 2
}
