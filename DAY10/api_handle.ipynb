{
 "cells": [
  {
   "cell_type": "code",
   "execution_count": 1,
   "metadata": {},
   "outputs": [
    {
     "name": "stdout",
     "output_type": "stream",
     "text": [
      "Assignment\n"
     ]
    }
   ],
   "source": [
    "print(\"Assignment\")"
   ]
  },
  {
   "cell_type": "code",
   "execution_count": 9,
   "metadata": {},
   "outputs": [],
   "source": [
    "import getpass\n",
    "import requests as rq\n",
    "from IPython.display import Image\n",
    "import geocoder\n",
    "\n",
    "\n",
    "class api_fetcher(object):\n",
    "    def __init__(self):\n",
    "        pass\n",
    "    \n",
    "    def github_fetch(self):\n",
    "        user_name = input(\"Enter your github user name : \")\n",
    "        print(\"Enter your top secret passwod : \",end = \" \")\n",
    "        \n",
    "        try: \n",
    "            github_password = getpass.getpass() \n",
    "        except Exception as error: \n",
    "            print('ERROR', error)\n",
    "            \n",
    "        github = rq.get('https://api.github.com/user', auth=(user_name, github_password))\n",
    "        \n",
    "        if github.status_code == 200:\n",
    "            github_data = github.json()\n",
    "            \n",
    "            \n",
    "            github_repos = rq.get(github_data['repos_url'])\n",
    "            github_repos = github_repos.json()\n",
    "            \n",
    "            print(\"Hey\", github_data['name'])\n",
    "            print(\"Some of your details, \")\n",
    "            print(\"your id is \", github_data['id'], \" and your node id is \", github_data['node_id'])\n",
    "            \n",
    "            for items in range(len(github_repos)):\n",
    "                print(\"Repository number \", items+1, end = \" \")\n",
    "                print(github_repos[items]['name'])\n",
    "                \n",
    "            ans = input(\"Do you want to see more (y/n)\")\n",
    "            if ans == 'y' or ans == 'Y':\n",
    "                print(\"public repos : \", github_data['public_repos'])\n",
    "                print(\"public gists : \", github_data['public_gists'])\n",
    "                if github_data['followers'] > 5:\n",
    "                    print(\"Wow, you have \", github_data['followers'], \" followers\")\n",
    "                print(\"you have total private repos : \", github_data['total_private_repos'])\n",
    "                print(\"and number of your owned private repos is : \",github_data['owned_private_repos'])\n",
    "                if not github_data['two_factor_authentication']:\n",
    "                    print(\"Ohoo! you don't have any two factor authentication\")\n",
    "                else:\n",
    "                    print(\"your account is safe \")\n",
    "            else:\n",
    "                pass\n",
    "        else:\n",
    "            print(\"Oopps! status code is not 200\")\n",
    "    \n",
    "    def random_users(self):\n",
    "        random_user_api = rq.get(\"https://randomuser.me/api/\")\n",
    "        random_user_api_json = random_user_api.json()\n",
    "        \n",
    "        data_container = random_user_api_json['results']\n",
    "        for iterator in range(len(data_container)):\n",
    "            \n",
    "            name_list = data_container[iterator]['name']\n",
    "            name = name_list['title'] + \" \" + name_list['first'] + \" \" + name_list['last']\n",
    "            print(\"Hey\",name)\n",
    "            print(\"email : \", data_container[iterator]['email'])\n",
    "            print(\"Age : \", data_container[iterator]['dob']['age'])\n",
    "            print(\"Phone Number : \", data_container[iterator]['phone'])\n",
    "            img_file = data_container[iterator]['picture']['medium']\n",
    "            print(\"img link : \",img_file)\n",
    "    \n",
    "    def weather_api(self):\n",
    "        g = geocoder.ip('106.207.169.216')\n",
    "        lat = str(g.latlng[0])\n",
    "        lon = str(g.latlng[1])\n",
    "        print(\"long : \", lon)\n",
    "        print(\"lat : \", lat)\n",
    "        print(\"call open weather api\")\n",
    "            "
   ]
  },
  {
   "cell_type": "code",
   "execution_count": 10,
   "metadata": {},
   "outputs": [],
   "source": [
    "api_fetch = api_fetcher()"
   ]
  },
  {
   "cell_type": "code",
   "execution_count": 11,
   "metadata": {},
   "outputs": [
    {
     "name": "stdout",
     "output_type": "stream",
     "text": [
      "long :  75.7878\n",
      "lat :  26.9196\n",
      "call open weather api\n"
     ]
    }
   ],
   "source": [
    "api_fetch.weather_api()"
   ]
  },
  {
   "cell_type": "code",
   "execution_count": null,
   "metadata": {},
   "outputs": [],
   "source": []
  }
 ],
 "metadata": {
  "kernelspec": {
   "display_name": "Python 3",
   "language": "python",
   "name": "python3"
  },
  "language_info": {
   "codemirror_mode": {
    "name": "ipython",
    "version": 3
   },
   "file_extension": ".py",
   "mimetype": "text/x-python",
   "name": "python",
   "nbconvert_exporter": "python",
   "pygments_lexer": "ipython3",
   "version": "3.7.4"
  }
 },
 "nbformat": 4,
 "nbformat_minor": 2
}
