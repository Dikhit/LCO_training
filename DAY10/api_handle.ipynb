{
 "cells": [
  {
   "cell_type": "code",
   "execution_count": 1,
   "metadata": {},
   "outputs": [
    {
     "name": "stdout",
     "output_type": "stream",
     "text": [
      "Assignment\n"
     ]
    }
   ],
   "source": [
    "print(\"Assignment\")"
   ]
  },
  {
   "cell_type": "code",
   "execution_count": 105,
   "metadata": {},
   "outputs": [],
   "source": [
    "import getpass\n",
    "import requests as rq\n",
    "from IPython.display import Image\n",
    "import geocoder\n",
    "\n",
    "class api_fetcher(object):\n",
    "    def __init__(self):\n",
    "        pass\n",
    "    \n",
    "    def github_fetch(self):\n",
    "        user_name = input(\"\\n\\n\\nEnter your github user name : \")\n",
    "        print(\"Enter your top secret passwod : \",end = \" \")\n",
    "        \n",
    "        try: \n",
    "            github_password = getpass.getpass() \n",
    "        except Exception as error: \n",
    "            print('ERROR', error)\n",
    "        \n",
    "        print(\"Please wait...\")\n",
    "        github = rq.get('https://api.github.com/user', auth=(user_name, github_password))\n",
    "        \n",
    "        if github.status_code == 200:\n",
    "            github_data = github.json()\n",
    "            something = github_data\n",
    "            \n",
    "            github_repos = rq.get(github_data['repos_url'])\n",
    "            github_repos = github_repos.json()\n",
    "            \n",
    "            print(\"Hey\", github_data['name'])\n",
    "            print(\"Some of your details, \")\n",
    "            print(\"your id is \", github_data['id'], \" and your node id is \", github_data['node_id'])\n",
    "            \n",
    "            for items in range(len(github_repos)):\n",
    "                print(\"Repository number \", items+1, end = \" \")\n",
    "                print(github_repos[items]['name'])\n",
    "                \n",
    "            ans = input(\"Do you want to see more (y/n)\")\n",
    "            if ans == 'y' or ans == 'Y':\n",
    "                print(\"public repos : \", github_data['public_repos'])\n",
    "                print(\"public gists : \", github_data['public_gists'])\n",
    "                if github_data['followers'] > 5:\n",
    "                    print(\"Wow, you have \", github_data['followers'], \" followers\")\n",
    "                print(\"you have total private repos : \", github_data['total_private_repos'])\n",
    "                print(\"and number of your owned private repos is : \",github_data['owned_private_repos'])\n",
    "                if not github_data['two_factor_authentication']:\n",
    "                    print(\"Ohoo! you don't have any two factor authentication\")\n",
    "                else:\n",
    "                    print(\"your account is safe \")\n",
    "            else:\n",
    "                pass\n",
    "        else:\n",
    "            print(\"Oopps! status code is not 200\")\n",
    "    \n",
    "    \n",
    "    \n",
    "    def random_users(self):\n",
    "        print(\"please wait....\")\n",
    "        random_user_api = rq.get(\"https://randomuser.me/api/\")\n",
    "        random_user_api_json = random_user_api.json()\n",
    "        data_container = random_user_api_json['results']\n",
    "        for iterator in range(len(data_container)):\n",
    "            img_file = data_container[iterator]['picture']['medium']\n",
    "            print(img_file)\n",
    "            r = rq.get(img_file)\n",
    "            print(r)\n",
    "            with open('random_user.jpg','wb') as f:\n",
    "                f.write(r.content)\n",
    "    \n",
    "    def weather_api(self):\n",
    "        print(\"please wait...\")\n",
    "        g = geocoder.ip('me')\n",
    "        lat = str(g.latlng[0])\n",
    "        lon = str(g.latlng[1])\n",
    "        print(\"long : \", lon)\n",
    "        print(\"lat : \", lat)\n",
    "        my_key = \"d1f33dde47c618309a063b43cde61cf5\"\n",
    "        request_api = rq.get(\"https://samples.openweathermap.org/data/2.5/weather?lat=\"+ lat +\"&lon=\" + lon + \"&appid=\"+ my_key)\n",
    "        request_api_json = request_api.json()\n",
    "        print(request_api_json)   \n",
    "    \n",
    "    \n",
    "    def news_api(self):\n",
    "        my_key = \"8d9c9c873f79441ca24a20222137d013\"\n",
    "        news_api = rq.get(\"https://newsapi.org/v2/everything?q=bitcoin&from=2019-12-22&sortBy=publishedAt&apiKey=\" + my_key)\n",
    "        news_api_json = news_api.json()\n",
    "        for iterator in range(10):\n",
    "            print(\"Source Name : \", news_api_json['articles'][iterator]['source']['name'])\n",
    "            print(\"\\nAuthor : \", news_api_json['articles'][iterator]['author'], end = \"\\t\\t\\t\\t\")\n",
    "            print(\"published at : \", news_api_json['articles'][iterator]['publishedAt'])\n",
    "            print(\"\\nTitle : \", news_api_json['articles'][iterator]['title'])\n",
    "            print(\"\\nweb URL : \", news_api_json['articles'][iterator]['url'])\n",
    "           \n",
    "            print(\"\\nBrief Description : \")\n",
    "            print(\"\\t\", news_api_json['articles'][iterator]['description'])\n",
    "            print(\"\\nMain Content : \")\n",
    "            print(\"\\t\", news_api_json['articles'][iterator]['content'])\n",
    "            \n",
    "            print('\\n\\n\\n')\n",
    "            \n",
    "    def space_api(self):\n",
    "        print(\"\\n\\nSpace API fetching ...\")\n",
    "        space_api_request = rq.get(\"http://api.open-notify.org/astros.json\")\n",
    "        space_json = space_api_request.json()\n",
    "        \n",
    "        if space_json['message'] == \"success\":\n",
    "            print(\"\\n\\n\")\n",
    "            print(\"Total number of astronaut is \", space_json['number'])\n",
    "            print(\"name of the astronauts are : \")\n",
    "            for iterator in range(len(space_json['people'])):\n",
    "                print(\"Name \" + space_json['people'][iterator]['name'], end = \"\\n\")\n",
    "                print(\"Craft \" +  space_json['people'][iterator]['craft'])\n",
    "                print(\"\\n\\n\")\n",
    "        else:\n",
    "            print(\"Sorry, Wrong Request\")\n",
    "            "
   ]
  },
  {
   "cell_type": "code",
   "execution_count": 106,
   "metadata": {},
   "outputs": [],
   "source": [
    "def main():\n",
    "    api_db = api_fetcher()\n",
    "    \n",
    "    print(\"\\n\\n1.Fetch my github data ...\")\n",
    "    print(\"\\n2. Generate random user ....\")\n",
    "    print(\"\\n3. Weather details \")\n",
    "    print(\"\\n3. List of news ...\")\n",
    "    ans =  input(\"\\n\\nSelect your choice : \")\n",
    "    if ans == \"1\":\n",
    "        api_db.github_fetch()\n",
    "    elif ans == \"2\":\n",
    "        Image(filename = \"random_user.jpg\", width = 100)\n",
    "        api_db.random_users()\n",
    "    elif ans == \"3\":\n",
    "        api_db.weather_api()\n",
    "    elif ans == \"4\":\n",
    "        api_db.news_api()\n",
    "    elif ans == \"5\":\n",
    "        api_db.space_api()\n",
    "    else:\n",
    "        print(\"Wrong Input\")"
   ]
  },
  {
   "cell_type": "code",
   "execution_count": 107,
   "metadata": {},
   "outputs": [
    {
     "name": "stdout",
     "output_type": "stream",
     "text": [
      "\n",
      "\n",
      "1.Fetch my github data ...\n",
      "\n",
      "2. Generate random user ....\n",
      "\n",
      "3. Weather details \n",
      "\n",
      "3. List of news ...\n",
      "\n",
      "\n",
      "Select your choice : 5\n",
      "\n",
      "\n",
      "Space API fetching ...\n",
      "\n",
      "\n",
      "\n",
      "Total number of astronaut is  6\n",
      "name of the astronauts are : \n",
      "Name Christina Koch\n",
      "Craft ISS\n",
      "\n",
      "\n",
      "\n",
      "Name Alexander Skvortsov\n",
      "Craft ISS\n",
      "\n",
      "\n",
      "\n",
      "Name Luca Parmitano\n",
      "Craft ISS\n",
      "\n",
      "\n",
      "\n",
      "Name Andrew Morgan\n",
      "Craft ISS\n",
      "\n",
      "\n",
      "\n",
      "Name Oleg Skripochka\n",
      "Craft ISS\n",
      "\n",
      "\n",
      "\n",
      "Name Jessica Meir\n",
      "Craft ISS\n",
      "\n",
      "\n",
      "\n"
     ]
    }
   ],
   "source": [
    "main()"
   ]
  },
  {
   "cell_type": "code",
   "execution_count": 94,
   "metadata": {},
   "outputs": [
    {
     "data": {
      "image/jpeg": "[encoded data removed]",
      "text/plain": [
       "<IPython.core.display.Image object>"
      ]
     },
     "execution_count": 94,
     "metadata": {
      "image/jpeg": {
       "width": 100
      }
     },
     "output_type": "execute_result"
    }
   ],
   "source": [
    "Image(filename = \"random_user.jpg\", width = 100)"
   ]
  },
  {
   "cell_type": "code",
   "execution_count": null,
   "metadata": {},
   "outputs": [],
   "source": []
  }
 ],
 "metadata": {
  "kernelspec": {
   "display_name": "Python 3",
   "language": "python",
   "name": "python3"
  },
  "language_info": {
   "codemirror_mode": {
    "name": "ipython",
    "version": 3
   },
   "file_extension": ".py",
   "mimetype": "text/x-python",
   "name": "python",
   "nbconvert_exporter": "python",
   "pygments_lexer": "ipython3",
   "version": "3.7.4"
  }
 },
 "nbformat": 4,
 "nbformat_minor": 2
}
