{
 "cells": [
  {
   "cell_type": "code",
   "execution_count": 2,
   "metadata": {},
   "outputs": [],
   "source": [
    "import requests as rq"
   ]
  },
  {
   "cell_type": "code",
   "execution_count": 3,
   "metadata": {},
   "outputs": [],
   "source": [
    "github = rq.get('https://api.github.com/user', auth=(\"Dikhit\", \"8472049800d@#\"))"
   ]
  },
  {
   "cell_type": "code",
   "execution_count": 4,
   "metadata": {},
   "outputs": [],
   "source": [
    "gihub_json = github.json()"
   ]
  },
  {
   "cell_type": "code",
   "execution_count": 5,
   "metadata": {},
   "outputs": [
    {
     "data": {
      "text/plain": [
       "{'login': 'Dikhit',\n",
       " 'id': 39065753,\n",
       " 'node_id': 'MDQ6VXNlcjM5MDY1NzUz',\n",
       " 'avatar_url': 'https://avatars2.githubusercontent.com/u/39065753?v=4',\n",
       " 'gravatar_id': '',\n",
       " 'url': 'https://api.github.com/users/Dikhit',\n",
       " 'html_url': 'https://github.com/Dikhit',\n",
       " 'followers_url': 'https://api.github.com/users/Dikhit/followers',\n",
       " 'following_url': 'https://api.github.com/users/Dikhit/following{/other_user}',\n",
       " 'gists_url': 'https://api.github.com/users/Dikhit/gists{/gist_id}',\n",
       " 'starred_url': 'https://api.github.com/users/Dikhit/starred{/owner}{/repo}',\n",
       " 'subscriptions_url': 'https://api.github.com/users/Dikhit/subscriptions',\n",
       " 'organizations_url': 'https://api.github.com/users/Dikhit/orgs',\n",
       " 'repos_url': 'https://api.github.com/users/Dikhit/repos',\n",
       " 'events_url': 'https://api.github.com/users/Dikhit/events{/privacy}',\n",
       " 'received_events_url': 'https://api.github.com/users/Dikhit/received_events',\n",
       " 'type': 'User',\n",
       " 'site_admin': False,\n",
       " 'name': 'katlic',\n",
       " 'company': None,\n",
       " 'blog': '',\n",
       " 'location': None,\n",
       " 'email': None,\n",
       " 'hireable': None,\n",
       " 'bio': None,\n",
       " 'public_repos': 12,\n",
       " 'public_gists': 4,\n",
       " 'followers': 8,\n",
       " 'following': 5,\n",
       " 'created_at': '2018-05-07T18:53:09Z',\n",
       " 'updated_at': '2020-01-22T14:28:09Z',\n",
       " 'private_gists': 1,\n",
       " 'total_private_repos': 23,\n",
       " 'owned_private_repos': 19,\n",
       " 'disk_usage': 219681,\n",
       " 'collaborators': 3,\n",
       " 'two_factor_authentication': False,\n",
       " 'plan': {'name': 'free',\n",
       "  'space': 976562499,\n",
       "  'collaborators': 0,\n",
       "  'private_repos': 10000}}"
      ]
     },
     "execution_count": 5,
     "metadata": {},
     "output_type": "execute_result"
    }
   ],
   "source": [
    "gihub_json"
   ]
  },
  {
   "cell_type": "code",
   "execution_count": null,
   "metadata": {},
   "outputs": [],
   "source": []
  }
 ],
 "metadata": {
  "kernelspec": {
   "display_name": "Python 3",
   "language": "python",
   "name": "python3"
  },
  "language_info": {
   "codemirror_mode": {
    "name": "ipython",
    "version": 3
   },
   "file_extension": ".py",
   "mimetype": "text/x-python",
   "name": "python",
   "nbconvert_exporter": "python",
   "pygments_lexer": "ipython3",
   "version": "3.7.4"
  }
 },
 "nbformat": 4,
 "nbformat_minor": 2
}
