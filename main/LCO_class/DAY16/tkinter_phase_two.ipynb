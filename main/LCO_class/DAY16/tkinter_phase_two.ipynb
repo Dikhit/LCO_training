{
 "cells": [
  {
   "cell_type": "code",
   "execution_count": 3,
   "metadata": {},
   "outputs": [
    {
     "name": "stdout",
     "output_type": "stream",
     "text": [
      "tkinter phase two\n"
     ]
    }
   ],
   "source": [
    "print(\"tkinter phase two\")"
   ]
  },
  {
   "cell_type": "code",
   "execution_count": 1,
   "metadata": {},
   "outputs": [],
   "source": [
    "from tkinter import *"
   ]
  },
  {
   "cell_type": "code",
   "execution_count": 14,
   "metadata": {},
   "outputs": [],
   "source": [
    "class App():\n",
    "    def __init__(self):\n",
    "        root = Tk()\n",
    "        root.title(\"MyApp\")\n",
    "        root.geometry(\"300x400+40+40\")\n",
    "        w = custom_window(root, text = \"Dikhit\")\n",
    "        w.pack()\n",
    "\n",
    "\n",
    "        root.mainloop()"
   ]
  },
  {
   "cell_type": "code",
   "execution_count": 13,
   "metadata": {},
   "outputs": [],
   "source": [
    "class custom_window(Frame):\n",
    "    def __init__(self, parent, text = \"\", *args, **kwargs):\n",
    "        super().__init__(parent, *args, **kwargs)\n",
    "        \n",
    "        self._root = parent\n",
    "        self._text = text\n",
    "        self.lbl = Label(self._root, bg=\"black\", fg=\"white\", text = self._text)\n",
    "        self.lbl.pack()\n",
    "        \n",
    "        self.btn_one = Button(self._root, text=\"Click me\", command = lambda: self.callback_btn_one())\n",
    "        self.btn_one.pack()\n",
    "        \n",
    "    def callback_btn_one(self):\n",
    "        self.lbl['text'] = \"New Text\""
   ]
  },
  {
   "cell_type": "code",
   "execution_count": 23,
   "metadata": {},
   "outputs": [],
   "source": [
    "class temp_convertor():\n",
    "    def __init__(self):\n",
    "        root = Tk()\n",
    "        root.title(\"MyApp\")\n",
    "        root.geometry(\"300x400+40+40\")\n",
    "        w = temp_window(root)\n",
    "        w.user\n",
    "        w.pack()\n",
    "\n",
    "\n",
    "        root.mainloop()\n",
    "        \n",
    "obj = temp_convertor()"
   ]
  },
  {
   "cell_type": "code",
   "execution_count": 74,
   "metadata": {},
   "outputs": [],
   "source": [
    "class temp_window(Frame):\n",
    "    def __init__(self, parent, *args, **kwargs):\n",
    "        super().__init__(parent, *args, **kwargs)\n",
    "        \n",
    "        self._root = parent\n",
    "        self.value = \"result\"\n",
    "        self.lbl = Label(self._root, bg=\"black\", fg=\"white\", text = \"Enter the value\")\n",
    "        self.lbl.pack()\n",
    "        \n",
    "        self.btn_one = Button(self._root, text=\"Cel\", command = lambda: self.calcius())\n",
    "        self.btn_one.pack()\n",
    "        \n",
    "        self.btn_one = Button(self._root, text=\"ferhn\", command = lambda: self.farh())\n",
    "        self.btn_one.pack()\n",
    "        \n",
    "        self.fm = Frame(self._root, bg='green', width=200, height = 300)\n",
    "        self.fm.place(x=10, y=25)\n",
    "        self.lbl_two = Label(self.fm, fg='black', text = self.value)\n",
    "        self.lbl_two.pack()\n",
    "        \n",
    "    def calcius(self):\n",
    "        data = self.user_input()\n",
    "        f = int(data)*9/5 + 32\n",
    "        self.lbl_two['text'] = f\n",
    "        \n",
    "    \n",
    "    def farh(self):\n",
    "        data = self.user_input()\n",
    "        c = (int(data) - 32)/1.8\n",
    "        self.lbl_two['text'] = c\n",
    "    \n",
    "    def user_input(self):\n",
    "        e = Entry(self.fm, width = 15)\n",
    "        e.pack(padx=10, pady=15)\n",
    "        return e.get()"
   ]
  },
  {
   "cell_type": "code",
   "execution_count": 75,
   "metadata": {},
   "outputs": [
    {
     "name": "stderr",
     "output_type": "stream",
     "text": [
      "Exception in Tkinter callback\n",
      "Traceback (most recent call last):\n",
      "  File \"C:\\Users\\Katlic\\AppData\\Local\\Continuum\\anaconda3\\lib\\tkinter\\__init__.py\", line 1705, in __call__\n",
      "    return self.func(*args)\n",
      "  File \"<ipython-input-74-42af29203f6f>\", line 10, in <lambda>\n",
      "    self.btn_one = Button(self._root, text=\"Cel\", command = lambda: self.calcius())\n",
      "  File \"<ipython-input-74-42af29203f6f>\", line 23, in calcius\n",
      "    f = int(data)*9/5 + 32\n",
      "ValueError: invalid literal for int() with base 10: ''\n"
     ]
    }
   ],
   "source": [
    "class temp_convertor():\n",
    "    def __init__(self):\n",
    "        root = Tk()\n",
    "        root.title(\"MyApp\")\n",
    "        root.geometry(\"300x400+40+40\")\n",
    "        w = temp_window(root)\n",
    "        w.pack()\n",
    "        w.user_input()\n",
    "\n",
    "        root.mainloop()\n",
    "        \n",
    "obj = temp_convertor()"
   ]
  },
  {
   "cell_type": "markdown",
   "metadata": {},
   "source": []
  },
  {
   "cell_type": "code",
   "execution_count": null,
   "metadata": {},
   "outputs": [],
   "source": []
  },
  {
   "cell_type": "code",
   "execution_count": null,
   "metadata": {},
   "outputs": [],
   "source": []
  },
  {
   "cell_type": "code",
   "execution_count": null,
   "metadata": {},
   "outputs": [],
   "source": []
  },
  {
   "cell_type": "code",
   "execution_count": null,
   "metadata": {},
   "outputs": [],
   "source": []
  },
  {
   "cell_type": "code",
   "execution_count": 112,
   "metadata": {},
   "outputs": [],
   "source": [
    "class App():\n",
    "    def __init__(self):\n",
    "        root = Tk()\n",
    "        root.title(\"MyApp\")\n",
    "        root.geometry(\"350x400+40+40\")\n",
    "        \n",
    "        self.fm = Frame(root, bg='#758AA2', width=100, height = 100, pady=100)\n",
    "        self.fm.pack()\n",
    "\n",
    "        self.lbl = Label(self.fm, fg='#EA7773', text = \"Enter the number\")\n",
    "        self.lbl.pack()\n",
    "        \n",
    "        e = Entry(self.fm, width = 35)\n",
    "        e.pack(padx=10, pady = 15)\n",
    "        \n",
    "        w = custom_window(root, text = e.get())\n",
    "        w.pack()\n",
    "\n",
    "\n",
    "        root.mainloop()"
   ]
  },
  {
   "cell_type": "code",
   "execution_count": 115,
   "metadata": {},
   "outputs": [],
   "source": [
    "class custom_window(Frame):\n",
    "    def __init__(self, parent, text, *args, **kwargs):\n",
    "        super().__init__(parent, *args, **kwargs)\n",
    "        \n",
    "        self._root = parent\n",
    "        self._temp = text\n",
    "        self.lbl = Label(self._root, bg=\"black\", fg=\"white\", text = self._temp)\n",
    "        self.lbl.pack()\n",
    "        \n",
    "        self.btn_one = Button(self._root, text=\"Celsius\", command = lambda: self.callback_btn_one())\n",
    "        self.btn_one.pack()\n",
    "        \n",
    "        self.btn_two = Button(self._root, text=\"Fahrenheit\", command = lambda: self.callback_btn_two())\n",
    "        self.btn_two.pack()\n",
    "        \n",
    "    def callback_btn_one(self):\n",
    "        x = (int(self._temp) - 32)*(5/9)\n",
    "        x = int(x)\n",
    "        self.lbl['text'] = x\n",
    "        \n",
    "    def callback_btn_two(self):\n",
    "        x = (int(self._temp) * (9/5)) + 32\n",
    "        x = int(x)\n",
    "        self.lbl['text'] = x"
   ]
  },
  {
   "cell_type": "code",
   "execution_count": 116,
   "metadata": {},
   "outputs": [
    {
     "name": "stderr",
     "output_type": "stream",
     "text": [
      "Exception in Tkinter callback\n",
      "Traceback (most recent call last):\n",
      "  File \"C:\\Users\\Katlic\\AppData\\Local\\Continuum\\anaconda3\\lib\\tkinter\\__init__.py\", line 1705, in __call__\n",
      "    return self.func(*args)\n",
      "  File \"<ipython-input-115-b67e814b6046>\", line 10, in <lambda>\n",
      "    self.btn_one = Button(self._root, text=\"Celsius\", command = lambda: self.callback_btn_one())\n",
      "  File \"<ipython-input-115-b67e814b6046>\", line 17, in callback_btn_one\n",
      "    x = (int(self._temp) - 32)*(5/9)\n",
      "ValueError: invalid literal for int() with base 10: ''\n",
      "Exception in Tkinter callback\n",
      "Traceback (most recent call last):\n",
      "  File \"C:\\Users\\Katlic\\AppData\\Local\\Continuum\\anaconda3\\lib\\tkinter\\__init__.py\", line 1705, in __call__\n",
      "    return self.func(*args)\n",
      "  File \"<ipython-input-115-b67e814b6046>\", line 10, in <lambda>\n",
      "    self.btn_one = Button(self._root, text=\"Celsius\", command = lambda: self.callback_btn_one())\n",
      "  File \"<ipython-input-115-b67e814b6046>\", line 17, in callback_btn_one\n",
      "    x = (int(self._temp) - 32)*(5/9)\n",
      "ValueError: invalid literal for int() with base 10: ''\n"
     ]
    }
   ],
   "source": [
    "obj = App()"
   ]
  },
  {
   "cell_type": "code",
   "execution_count": null,
   "metadata": {},
   "outputs": [],
   "source": []
  },
  {
   "cell_type": "code",
   "execution_count": null,
   "metadata": {},
   "outputs": [],
   "source": []
  }
 ],
 "metadata": {
  "kernelspec": {
   "display_name": "Python 3",
   "language": "python",
   "name": "python3"
  },
  "language_info": {
   "codemirror_mode": {
    "name": "ipython",
    "version": 3
   },
   "file_extension": ".py",
   "mimetype": "text/x-python",
   "name": "python",
   "nbconvert_exporter": "python",
   "pygments_lexer": "ipython3",
   "version": "3.7.4"
  }
 },
 "nbformat": 4,
 "nbformat_minor": 2
}
