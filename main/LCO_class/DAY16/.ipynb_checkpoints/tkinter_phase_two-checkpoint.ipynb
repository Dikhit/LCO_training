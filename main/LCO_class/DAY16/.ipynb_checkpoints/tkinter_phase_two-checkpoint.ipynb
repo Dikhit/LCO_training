{
 "cells": [
  {
   "cell_type": "code",
   "execution_count": 3,
   "metadata": {},
   "outputs": [
    {
     "name": "stdout",
     "output_type": "stream",
     "text": [
      "tkinter phase two\n"
     ]
    }
   ],
   "source": [
    "print(\"tkinter phase two\")"
   ]
  },
  {
   "cell_type": "code",
   "execution_count": 1,
   "metadata": {},
   "outputs": [],
   "source": [
    "from tkinter import *"
   ]
  },
  {
   "cell_type": "code",
   "execution_count": 14,
   "metadata": {},
   "outputs": [],
   "source": [
    "class App():\n",
    "    def __init__(self):\n",
    "        root = Tk()\n",
    "        root.title(\"MyApp\")\n",
    "        root.geometry(\"300x400+40+40\")\n",
    "        w = custom_window(root, text = \"Dikhit\")\n",
    "        w.pack()\n",
    "\n",
    "\n",
    "        root.mainloop()"
   ]
  },
  {
   "cell_type": "code",
   "execution_count": 13,
   "metadata": {},
   "outputs": [],
   "source": [
    "class custom_window(Frame):\n",
    "    def __init__(self, parent, text = \"\", *args, **kwargs):\n",
    "        super().__init__(parent, *args, **kwargs)\n",
    "        \n",
    "        self._root = parent\n",
    "        self._text = text\n",
    "        self.lbl = Label(self._root, bg=\"black\", fg=\"white\", text = self._text)\n",
    "        self.lbl.pack()\n",
    "        \n",
    "        self.btn_one = Button(self._root, text=\"Click me\", command = lambda: self.callback_btn_one())\n",
    "        self.btn_one.pack()\n",
    "        \n",
    "    def callback_btn_one(self):\n",
    "        self.lbl['text'] = \"New Text\""
   ]
  },
  {
   "cell_type": "code",
   "execution_count": 23,
   "metadata": {},
   "outputs": [],
   "source": [
    "class temp_convertor():\n",
    "    def __init__(self):\n",
    "        root = Tk()\n",
    "        root.title(\"MyApp\")\n",
    "        root.geometry(\"300x400+40+40\")\n",
    "        w = temp_window(root)\n",
    "        w.pack()\n",
    "\n",
    "\n",
    "        root.mainloop()\n",
    "        \n",
    "obj = temp_convertor()"
   ]
  },
  {
   "cell_type": "code",
   "execution_count": 43,
   "metadata": {},
   "outputs": [],
   "source": [
    "class temp_window(Frame):\n",
    "    def __init__(self, parent, *args, **kwargs):\n",
    "        super().__init__(parent, *args, **kwargs)\n",
    "        \n",
    "        self._root = parent\n",
    "        \n",
    "        self.lbl = Label(self._root, bg=\"black\", fg=\"white\", text = \"Enter the value\")\n",
    "        self.lbl.pack()\n",
    "        \n",
    "        fm = Frame(self._root, bg='green', width=200, height = 30)\n",
    "        fm.place(x=10, y=25)\n",
    "        e = Entry(fm, width = 25)\n",
    "        e.pack(padx=10, pady=15)\n",
    "        \n",
    "        self.input_value = e.get()\n",
    "        \n",
    "        \n",
    "        self.btn_one = Button(self._root, text=\"Cel\", command = lambda: self.calcius())\n",
    "        self.btn_one.pack()\n",
    "        \n",
    "        self.btn_one = Button(self._root, text=\"ferhn\", command = lambda: self.farh())\n",
    "        self.btn_one.pack()\n",
    "        \n",
    "    def calcius(self):\n",
    "        data = self.input_value\n",
    "        print(str(self.input_value))\n",
    "        \n",
    "    \n",
    "    def farh(self):\n",
    "        pass\n",
    "        "
   ]
  },
  {
   "cell_type": "code",
   "execution_count": 44,
   "metadata": {},
   "outputs": [
    {
     "name": "stdout",
     "output_type": "stream",
     "text": [
      "\n"
     ]
    }
   ],
   "source": [
    "class temp_convertor():\n",
    "    def __init__(self):\n",
    "        root = Tk()\n",
    "        root.title(\"MyApp\")\n",
    "        root.geometry(\"300x400+40+40\")\n",
    "        w = temp_window(root)\n",
    "        w.pack()\n",
    "\n",
    "\n",
    "        root.mainloop()\n",
    "        \n",
    "obj = temp_convertor()"
   ]
  },
  {
   "cell_type": "markdown",
   "metadata": {},
   "source": [
    "### "
   ]
  }
 ],
 "metadata": {
  "kernelspec": {
   "display_name": "Python 3",
   "language": "python",
   "name": "python3"
  },
  "language_info": {
   "codemirror_mode": {
    "name": "ipython",
    "version": 3
   },
   "file_extension": ".py",
   "mimetype": "text/x-python",
   "name": "python",
   "nbconvert_exporter": "python",
   "pygments_lexer": "ipython3",
   "version": "3.7.4"
  }
 },
 "nbformat": 4,
 "nbformat_minor": 2
}
