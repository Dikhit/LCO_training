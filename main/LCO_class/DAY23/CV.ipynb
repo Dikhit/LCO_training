{
 "cells": [
  {
   "cell_type": "code",
   "execution_count": 1,
   "metadata": {},
   "outputs": [
    {
     "name": "stdout",
     "output_type": "stream",
     "text": [
      "DAY 23\n"
     ]
    }
   ],
   "source": [
    "print(\"DAY 23\")"
   ]
  },
  {
   "cell_type": "code",
   "execution_count": 3,
   "metadata": {},
   "outputs": [],
   "source": [
    "import bs4\n",
    "from selenium import webdriver\n",
    "from selenium.webdriver.common.keys import Keys"
   ]
  },
  {
   "cell_type": "code",
   "execution_count": null,
   "metadata": {},
   "outputs": [],
   "source": [
    "executable_path = \"C:\\\\Users\\\\Katlic\\\\Downloads\\\\web_drivers_chrome\\\\chromedriver.exe\"\n",
    "driver = webdriver.Chrome(executable_path=executable_path)\n",
    "driver.get(\"https://www.veenaworld.com/?mytextfield=jaipur\")\n",
    "for i in range(1,10):\n",
    "    x_path = \"/html/body/vw-root/main/div/vw-home-new/div/div[5]/div[2]/div[\"+ str(i) + \"]/a/div/div[2]/div/h2\"\n",
    "    names = driver.find_element_by_xpath(x_path)"
   ]
  },
  {
   "cell_type": "code",
   "execution_count": null,
   "metadata": {},
   "outputs": [],
   "source": []
  },
  {
   "cell_type": "code",
   "execution_count": 2,
   "metadata": {},
   "outputs": [],
   "source": [
    "import cv2\n",
    "import numpy as np\n",
    "import math\n",
    "import matplotlib.pyplot as plt\n",
    "\n",
    "cap = cv2.VideoCapture(0)\n",
    "    \n",
    "while True:\n",
    "    _, frame = cap.read()\n",
    "    image_array = np.array(frame)\n",
    "    gray = cv2.cvtColor(image_array, cv2.COLOR_BGR2GRAY)\n",
    "\n",
    "    path = \"C:\\\\Users\\\\Katlic\\\\AppData\\\\Local\\\\Continuum\\\\anaconda3\\\\Lib\\\\site-packages\\\\cv2\\\\data\\\\haarcascade_eye.XML\"\n",
    "    detector = cv2.CascadeClassifier(path)\n",
    "    eyes = detector.detectMultiScale(gray,1.3,5)\n",
    "    for eye in eyes:\n",
    "        x,y,w,h = eye\n",
    "        cv2.rectangle(gray, (x,y), (x+w, y+h), (255,0,0), 5)\n",
    "    \n",
    "    cv2.imshow(\"See your funny face \", gray)\n",
    "    cv2.imshow(\"See your funny face \", gray)\n",
    "\n",
    "    key_stroke = cv2.waitKey(1)\n",
    "    if key_stroke == 27:\n",
    "        break\n",
    "cap.release()\n",
    "cv2.destroyAllWindows()"
   ]
  },
  {
   "cell_type": "code",
   "execution_count": 4,
   "metadata": {},
   "outputs": [
    {
     "ename": "SystemError",
     "evalue": "<class 'cv2.CascadeClassifier'> returned a result with an error set",
     "output_type": "error",
     "traceback": [
      "\u001b[1;31m---------------------------------------------------------------------------\u001b[0m",
      "\u001b[1;31merror\u001b[0m                                     Traceback (most recent call last)",
      "\u001b[1;31merror\u001b[0m: OpenCV(4.1.2) C:\\projects\\opencv-python\\opencv\\modules\\objdetect\\src\\cascadedetect.cpp:569: error: (-2:Unspecified error) in function 'bool __cdecl cv::HaarEvaluator::Feature::read(const class cv::FileNode &,const class cv::Size_<int> &)'\n> Invalid HAAR feature (expected: 'rw.r.x + rw.r.width <= W'), where\n>     'rw.r.x + rw.r.width' is 16\n> must be less than or equal to\n>     'W' is 15\n",
      "\nThe above exception was the direct cause of the following exception:\n",
      "\u001b[1;31mSystemError\u001b[0m                               Traceback (most recent call last)",
      "\u001b[1;32m<ipython-input-4-d1f241801a77>\u001b[0m in \u001b[0;36m<module>\u001b[1;34m\u001b[0m\n\u001b[0;32m     12\u001b[0m \u001b[1;33m\u001b[0m\u001b[0m\n\u001b[0;32m     13\u001b[0m     \u001b[0mpath\u001b[0m \u001b[1;33m=\u001b[0m \u001b[1;34m\"C:\\\\Users\\\\Katlic\\\\AppData\\\\Local\\\\Continuum\\\\anaconda3\\\\Lib\\\\site-packages\\\\cv2\\\\data\\\\haarcascade_mcs_nose.XML\"\u001b[0m\u001b[1;33m\u001b[0m\u001b[1;33m\u001b[0m\u001b[0m\n\u001b[1;32m---> 14\u001b[1;33m     \u001b[0mdetector\u001b[0m \u001b[1;33m=\u001b[0m \u001b[0mcv2\u001b[0m\u001b[1;33m.\u001b[0m\u001b[0mCascadeClassifier\u001b[0m\u001b[1;33m(\u001b[0m\u001b[0mpath\u001b[0m\u001b[1;33m)\u001b[0m\u001b[1;33m\u001b[0m\u001b[1;33m\u001b[0m\u001b[0m\n\u001b[0m\u001b[0;32m     15\u001b[0m     \u001b[0mnoses\u001b[0m \u001b[1;33m=\u001b[0m \u001b[0mdetector\u001b[0m\u001b[1;33m.\u001b[0m\u001b[0mdetectMultiScale\u001b[0m\u001b[1;33m(\u001b[0m\u001b[0mgray\u001b[0m\u001b[1;33m,\u001b[0m\u001b[1;36m1.3\u001b[0m\u001b[1;33m,\u001b[0m\u001b[1;36m5\u001b[0m\u001b[1;33m)\u001b[0m\u001b[1;33m\u001b[0m\u001b[1;33m\u001b[0m\u001b[0m\n\u001b[0;32m     16\u001b[0m     \u001b[0mprint\u001b[0m\u001b[1;33m(\u001b[0m\u001b[0mnoses\u001b[0m\u001b[1;33m)\u001b[0m\u001b[1;33m\u001b[0m\u001b[1;33m\u001b[0m\u001b[0m\n",
      "\u001b[1;31mSystemError\u001b[0m: <class 'cv2.CascadeClassifier'> returned a result with an error set"
     ]
    }
   ],
   "source": [
    "import cv2\n",
    "import numpy as np\n",
    "import math\n",
    "import matplotlib.pyplot as plt\n",
    "\n",
    "cap = cv2.VideoCapture(0)\n",
    "    \n",
    "while True:\n",
    "    _, frame = cap.read()\n",
    "    image_array = np.array(frame)\n",
    "    gray = cv2.cvtColor(image_array, cv2.COLOR_BGR2GRAY)\n",
    "\n",
    "    path = \"C:\\\\Users\\\\Katlic\\\\AppData\\\\Local\\\\Continuum\\\\anaconda3\\\\Lib\\\\site-packages\\\\cv2\\\\data\\\\haarcascade_mcs_nose.XML\"\n",
    "    detector = cv2.CascadeClassifier(path)\n",
    "    noses = detector.detectMultiScale(gray,1.3,5)\n",
    "    print(noses)\n",
    "    x,y,w,h = noses\n",
    "    cv2.rectangle(gray, (x,y), (x+w, y+h), (255,0,0), 5)\n",
    "    \n",
    "    cv2.imshow(\"See your funny face \", gray)\n",
    "\n",
    "    key_stroke = cv2.waitKey(1)\n",
    "    if key_stroke == 27:\n",
    "        break\n",
    "cap.release()\n",
    "cv2.destroyAllWindows()"
   ]
  },
  {
   "cell_type": "code",
   "execution_count": 6,
   "metadata": {},
   "outputs": [
    {
     "ename": "OSError",
     "evalue": "Unable to load the nose cascade classifier xml file",
     "output_type": "error",
     "traceback": [
      "\u001b[1;31m---------------------------------------------------------------------------\u001b[0m",
      "\u001b[1;31mOSError\u001b[0m                                   Traceback (most recent call last)",
      "\u001b[1;32m<ipython-input-6-406c848d3772>\u001b[0m in \u001b[0;36m<module>\u001b[1;34m\u001b[0m\n\u001b[0;32m     10\u001b[0m \u001b[1;33m\u001b[0m\u001b[0m\n\u001b[0;32m     11\u001b[0m \u001b[1;32mif\u001b[0m \u001b[0mnose_cascade\u001b[0m\u001b[1;33m.\u001b[0m\u001b[0mempty\u001b[0m\u001b[1;33m(\u001b[0m\u001b[1;33m)\u001b[0m\u001b[1;33m:\u001b[0m\u001b[1;33m\u001b[0m\u001b[1;33m\u001b[0m\u001b[0m\n\u001b[1;32m---> 12\u001b[1;33m   \u001b[1;32mraise\u001b[0m \u001b[0mIOError\u001b[0m\u001b[1;33m(\u001b[0m\u001b[1;34m'Unable to load the nose cascade classifier xml file'\u001b[0m\u001b[1;33m)\u001b[0m\u001b[1;33m\u001b[0m\u001b[1;33m\u001b[0m\u001b[0m\n\u001b[0m\u001b[0;32m     13\u001b[0m \u001b[1;33m\u001b[0m\u001b[0m\n\u001b[0;32m     14\u001b[0m \u001b[0mcap\u001b[0m \u001b[1;33m=\u001b[0m \u001b[0mcv2\u001b[0m\u001b[1;33m.\u001b[0m\u001b[0mVideoCapture\u001b[0m\u001b[1;33m(\u001b[0m\u001b[1;36m0\u001b[0m\u001b[1;33m)\u001b[0m\u001b[1;33m\u001b[0m\u001b[1;33m\u001b[0m\u001b[0m\n",
      "\u001b[1;31mOSError\u001b[0m: Unable to load the nose cascade classifier xml file"
     ]
    }
   ],
   "source": [
    "import cv2\n",
    "import cv2\n",
    "import numpy as np\n",
    "import math\n",
    "import matplotlib.pyplot as plt\n",
    "\n",
    "path = \"C:\\\\Users\\\\Katlic\\\\Documents\\\\haarcascade_mcs_nose\\\\haarcascade_mcs_nose\"\n",
    "\n",
    "nose_cascade = cv2.CascadeClassifier(path) \n",
    " \n",
    "if nose_cascade.empty(): \n",
    "  raise IOError('Unable to load the nose cascade classifier xml file') \n",
    " \n",
    "cap = cv2.VideoCapture(0) \n",
    "# ds_factor = 0.5 \n",
    " \n",
    "while True: \n",
    "    ret, frame = cap.read() \n",
    "#     frame = cv2.resize(frame, None, fx=ds_factor, fy=ds_factor, interpolation=cv2.INTER_AREA) \n",
    "    gray = cv2.cvtColor(frame, cv2.COLOR_BGR2GRAY) \n",
    " \n",
    "    nose_rects = nose_cascade.detectMultiScale(gray, 1.3, 5) \n",
    "#     if len(nose_rects) > 0:\n",
    "#         print(\"Nose Detected!\")\n",
    "    for (x,y,w,h) in nose_rects: \n",
    "        cv2.rectangle(frame, (x,y-5), (x+w+5,y+h-3), (0,255,0), 2) \n",
    "        break \n",
    "        \n",
    "        \n",
    " \n",
    "    cv2.imshow('Nose Detector', frame) \n",
    "    c = cv2.waitKey(1) \n",
    "    if c == 27: \n",
    "        break \n",
    " \n",
    "cap.release() \n",
    "cv2.destroyAllWindows()"
   ]
  },
  {
   "cell_type": "code",
   "execution_count": null,
   "metadata": {},
   "outputs": [],
   "source": []
  },
  {
   "cell_type": "code",
   "execution_count": null,
   "metadata": {},
   "outputs": [],
   "source": []
  }
 ],
 "metadata": {
  "kernelspec": {
   "display_name": "Python 3",
   "language": "python",
   "name": "python3"
  },
  "language_info": {
   "codemirror_mode": {
    "name": "ipython",
    "version": 3
   },
   "file_extension": ".py",
   "mimetype": "text/x-python",
   "name": "python",
   "nbconvert_exporter": "python",
   "pygments_lexer": "ipython3",
   "version": "3.7.4"
  }
 },
 "nbformat": 4,
 "nbformat_minor": 2
}
