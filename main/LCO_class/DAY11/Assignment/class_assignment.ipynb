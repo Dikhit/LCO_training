{
 "cells": [
  {
   "cell_type": "code",
   "execution_count": 133,
   "metadata": {},
   "outputs": [],
   "source": [
    "import bs4\n",
    "import requests as rq\n",
    "import datetime\n",
    "import pprint"
   ]
  },
  {
   "cell_type": "code",
   "execution_count": 142,
   "metadata": {},
   "outputs": [
    {
     "name": "stdout",
     "output_type": "stream",
     "text": [
      "Enter the price : 500000\n",
      "Please wait...\n",
      "Done\n"
     ]
    }
   ],
   "source": [
    "price = int(input(\"Enter the price : \"))\n",
    "print(\"Please wait...\")\n",
    "\n",
    "amazon = rq.get(\"https://www.amazon.in/s?k=laptops\")\n",
    "html_content = amazon.text\n",
    "final_amazon_text = \"\"\n",
    "if amazon.status_code:\n",
    "    soup = bs4.BeautifulSoup(html_content, 'html.parser')\n",
    "    laptop_data = soup.find_all('span', attrs = {'class':'a-size-medium a-color-base a-text-normal'})\n",
    "    laptop_price = soup.find_all('span', attrs = {'class' : 'a-offscreen'})\n",
    "    for index in range(len(laptop_data)):\n",
    "        i = str(laptop_price[index].text)\n",
    "        i = ''.join([x for x in i if x.isdigit()])\n",
    "        i = int(i)\n",
    "        if i < price:\n",
    "            final_amazon_text = final_amazon_text +  str(laptop_data[index].text) + \"\\t\" + str(laptop_price[index].text) + \"\\n\\n\"\n",
    "    with open(\"amazon.txt\", \"w+\", encoding=\"utf-8\") as file:\n",
    "        file.write(final_amazon_text)\n",
    "    print(\"Done\")\n",
    "else:\n",
    "    print(\"status code is \", amazon.status_Code)"
   ]
  },
  {
   "cell_type": "code",
   "execution_count": 139,
   "metadata": {},
   "outputs": [
    {
     "name": "stdout",
     "output_type": "stream",
     "text": [
      "Mumbai\n"
     ]
    }
   ],
   "source": [
    "final_string = \"\"\n",
    "counter = 0\n",
    "r = rq.get(\"https://en.wikipedia.org/wiki/List_of_cities_in_India_by_population\")\n",
    "bs=BeautifulSoup(r.text, \"html.parser\")\n",
    "table_body=bs.find('tbody')\n",
    "rows = table_body.find_all('tr')\n",
    "for row in rows:\n",
    "    if counter < 1:\n",
    "        pass\n",
    "    else:\n",
    "        cols=row.find_all('td')\n",
    "        cols=[x.text.strip() for x in cols]\n",
    "        print(cols[1])\n",
    "        break\n",
    "        for i in range(len(cols)):\n",
    "            res=(cols[0],cols[1],cols[2])\n",
    "        each_details = \" \".join(name for name in res)\n",
    "        final_string = final_string + each_details + \"\\n\\n\"\n",
    "    counter += 1\n",
    "\n",
    "with open(\"city.txt\", \"w+\") as file:\n",
    "    file.write(final_string)"
   ]
  },
  {
   "cell_type": "code",
   "execution_count": 8,
   "metadata": {},
   "outputs": [
    {
     "name": "stdout",
     "output_type": "stream",
     "text": [
      "Film   U.S. release date\n",
      " \n",
      "\n",
      "Iron Man   May 2, 2008\n",
      " \n",
      "\n",
      "The Incredible Hulk   June 13, 2008\n",
      " \n",
      "\n",
      "Iron Man 2   May 7, 2010\n",
      " \n",
      "\n",
      "Thor   May 6, 2011\n",
      " \n",
      "\n",
      "Captain America: The First Avenger   July 22, 2011\n",
      " \n",
      "\n",
      "Marvel's The Avengers   May 4, 2012\n",
      " \n",
      "\n",
      "Iron Man 3   May 3, 2013\n",
      " \n",
      "\n",
      "Thor: The Dark World   November 8, 2013\n",
      " \n",
      "\n",
      "Captain America: The Winter Soldier   April 4, 2014\n",
      " \n",
      "\n",
      "Guardians of the Galaxy   August 1, 2014\n",
      " \n",
      "\n",
      "Avengers: Age of Ultron   May 1, 2015\n",
      " \n",
      "\n",
      "Ant-Man   July 17, 2015\n",
      " \n",
      "\n",
      "Captain America: Civil War   May 6, 2016\n",
      " \n",
      "\n",
      "Doctor Strange   November 4, 2016\n",
      " \n",
      "\n",
      "Guardians of the Galaxy Vol. 2   May 5, 2017\n",
      " \n",
      "\n",
      "Spider-Man: Homecoming   July 7, 2017\n",
      " \n",
      "\n",
      "Thor: Ragnarok   November 3, 2017\n",
      " \n",
      "\n",
      "Black Panther   February 16, 2018\n",
      " \n",
      "\n",
      "Avengers: Infinity War   April 27, 2018\n",
      " \n",
      "\n",
      "Ant-Man and the Wasp   July 6, 2018\n",
      " \n",
      "\n",
      "Captain Marvel   March 8, 2019\n",
      " \n",
      "\n",
      "Avengers: Endgame   April 26, 2019\n",
      " \n",
      "\n",
      "Spider-Man: Far From Home   July 2, 2019\n",
      " \n",
      "\n"
     ]
    }
   ],
   "source": [
    "import requests as rq\n",
    "from bs4 import BeautifulSoup\n",
    "temp_data=\"\"\n",
    "res = rq.get(\"https://en.wikipedia.org/wiki/List_of_Marvel_Cinematic_Universe_films\")                                                  \n",
    "soup = BeautifulSoup(res.text, 'html.parser') \n",
    "table = soup.find(\"table\",class_=\"wikitable plainrowheaders\")\n",
    "with open(\"marvel.txt\",\"w+\") as file:\n",
    "    for items in table.find_all(\"tr\"):\n",
    "        data = [' '.join(item.text.split()) for item in items.find_all(['th','td'])]\n",
    "        if len(data)>2:\n",
    "            temp_data=data[0]+\"   \"+data[1]+\"\\n\"\n",
    "            print(temp_data,\"\\n\")\n",
    "            file.write(temp_data)"
   ]
  },
  {
   "cell_type": "code",
   "execution_count": 117,
   "metadata": {},
   "outputs": [],
   "source": []
  },
  {
   "cell_type": "code",
   "execution_count": null,
   "metadata": {},
   "outputs": [],
   "source": []
  }
 ],
 "metadata": {
  "kernelspec": {
   "display_name": "Python 3",
   "language": "python",
   "name": "python3"
  },
  "language_info": {
   "codemirror_mode": {
    "name": "ipython",
    "version": 3
   },
   "file_extension": ".py",
   "mimetype": "text/x-python",
   "name": "python",
   "nbconvert_exporter": "python",
   "pygments_lexer": "ipython3",
   "version": "3.7.4"
  }
 },
 "nbformat": 4,
 "nbformat_minor": 2
}
