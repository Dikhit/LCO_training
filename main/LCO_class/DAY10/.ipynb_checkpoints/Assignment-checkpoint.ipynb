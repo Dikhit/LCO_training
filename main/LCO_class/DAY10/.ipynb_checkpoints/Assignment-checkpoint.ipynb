{
 "cells": [
  {
   "cell_type": "code",
   "execution_count": 2,
   "metadata": {},
   "outputs": [
    {
     "name": "stdout",
     "output_type": "stream",
     "text": [
      "Assignment\n"
     ]
    }
   ],
   "source": [
    "print(\"Assignment\")"
   ]
  },
  {
   "cell_type": "code",
   "execution_count": 6,
   "metadata": {},
   "outputs": [],
   "source": [
    "import requests as rq"
   ]
  },
  {
   "cell_type": "code",
   "execution_count": 7,
   "metadata": {},
   "outputs": [],
   "source": [
    "github_user_name = \"Dikhit\"\n",
    "github_password = \"8472049800d@#\""
   ]
  },
  {
   "cell_type": "code",
   "execution_count": 8,
   "metadata": {},
   "outputs": [],
   "source": [
    "github_api_reply = rq.get('https://api.github.com/user', auth=(github_user_name, github_password))"
   ]
  },
  {
   "cell_type": "code",
   "execution_count": 9,
   "metadata": {},
   "outputs": [],
   "source": [
    "github_json = github_api_reply.json()"
   ]
  },
  {
   "cell_type": "code",
   "execution_count": 12,
   "metadata": {},
   "outputs": [
    {
     "data": {
      "text/plain": [
       "{'login': 'Dikhit',\n",
       " 'id': 39065753,\n",
       " 'node_id': 'MDQ6VXNlcjM5MDY1NzUz',\n",
       " 'avatar_url': 'https://avatars2.githubusercontent.com/u/39065753?v=4',\n",
       " 'gravatar_id': '',\n",
       " 'url': 'https://api.github.com/users/Dikhit',\n",
       " 'html_url': 'https://github.com/Dikhit',\n",
       " 'followers_url': 'https://api.github.com/users/Dikhit/followers',\n",
       " 'following_url': 'https://api.github.com/users/Dikhit/following{/other_user}',\n",
       " 'gists_url': 'https://api.github.com/users/Dikhit/gists{/gist_id}',\n",
       " 'starred_url': 'https://api.github.com/users/Dikhit/starred{/owner}{/repo}',\n",
       " 'subscriptions_url': 'https://api.github.com/users/Dikhit/subscriptions',\n",
       " 'organizations_url': 'https://api.github.com/users/Dikhit/orgs',\n",
       " 'repos_url': 'https://api.github.com/users/Dikhit/repos',\n",
       " 'events_url': 'https://api.github.com/users/Dikhit/events{/privacy}',\n",
       " 'received_events_url': 'https://api.github.com/users/Dikhit/received_events',\n",
       " 'type': 'User',\n",
       " 'site_admin': False,\n",
       " 'name': 'katlic',\n",
       " 'company': None,\n",
       " 'blog': '',\n",
       " 'location': None,\n",
       " 'email': None,\n",
       " 'hireable': None,\n",
       " 'bio': None,\n",
       " 'public_repos': 12,\n",
       " 'public_gists': 4,\n",
       " 'followers': 8,\n",
       " 'following': 5,\n",
       " 'created_at': '2018-05-07T18:53:09Z',\n",
       " 'updated_at': '2020-01-22T14:28:09Z',\n",
       " 'private_gists': 1,\n",
       " 'total_private_repos': 23,\n",
       " 'owned_private_repos': 19,\n",
       " 'disk_usage': 219671,\n",
       " 'collaborators': 3,\n",
       " 'two_factor_authentication': False,\n",
       " 'plan': {'name': 'free',\n",
       "  'space': 976562499,\n",
       "  'collaborators': 0,\n",
       "  'private_repos': 10000}}"
      ]
     },
     "execution_count": 12,
     "metadata": {},
     "output_type": "execute_result"
    }
   ],
   "source": [
    "github_json"
   ]
  },
  {
   "cell_type": "code",
   "execution_count": 13,
   "metadata": {},
   "outputs": [
    {
     "data": {
      "text/plain": [
       "'Dikhit'"
      ]
     },
     "execution_count": 13,
     "metadata": {},
     "output_type": "execute_result"
    }
   ],
   "source": [
    "github_json['login']"
   ]
  },
  {
   "cell_type": "code",
   "execution_count": 20,
   "metadata": {},
   "outputs": [],
   "source": [
    "import getpass\n",
    "import requests as rq\n",
    "class api_fetcher(object):\n",
    "    def __init__(self):\n",
    "        pass\n",
    "    \n",
    "    def github_fetch(self):\n",
    "        user_name = input(\"Enter your github user name : \")\n",
    "        print(\"Enter your top secret passwod : \",end = \" \")\n",
    "        try: \n",
    "            github_password = getpass.getpass() \n",
    "        except Exception as error: \n",
    "            print('ERROR', error)\n",
    "        print(user_name,github_password)\n",
    "        github = rq.get('https://api.github.com/user', auth=(user_name, github_password))\n",
    "        print(github.status_code)\n",
    "        if github.status_code == 200:\n",
    "            github_data = github.json()\n",
    "            print(\"Hey\", github_data['login'])"
   ]
  },
  {
   "cell_type": "code",
   "execution_count": 21,
   "metadata": {},
   "outputs": [
    {
     "name": "stdout",
     "output_type": "stream",
     "text": [
      "Enter your github user name : Dikhit\n",
      "Enter your top secret passwod :  ········\n",
      "Dikhit 8472049800d@#\n",
      "200\n",
      "Hey  Dikhit\n"
     ]
    }
   ],
   "source": [
    "api_obj = api_fetcher()\n",
    "api_obj.github_fetch()"
   ]
  },
  {
   "cell_type": "code",
   "execution_count": 15,
   "metadata": {},
   "outputs": [
    {
     "data": {
      "text/plain": [
       "'something'"
      ]
     },
     "execution_count": 15,
     "metadata": {},
     "output_type": "execute_result"
    }
   ],
   "source": [
    "p"
   ]
  },
  {
   "cell_type": "code",
   "execution_count": null,
   "metadata": {},
   "outputs": [],
   "source": []
  }
 ],
 "metadata": {
  "kernelspec": {
   "display_name": "Python 3",
   "language": "python",
   "name": "python3"
  },
  "language_info": {
   "codemirror_mode": {
    "name": "ipython",
    "version": 3
   },
   "file_extension": ".py",
   "mimetype": "text/x-python",
   "name": "python",
   "nbconvert_exporter": "python",
   "pygments_lexer": "ipython3",
   "version": "3.7.4"
  }
 },
 "nbformat": 4,
 "nbformat_minor": 2
}
