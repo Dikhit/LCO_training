{
 "cells": [
  {
   "cell_type": "code",
   "execution_count": 2,
   "metadata": {},
   "outputs": [
    {
     "name": "stdout",
     "output_type": "stream",
     "text": [
      "DAY 10 binary files\n"
     ]
    }
   ],
   "source": [
    "print(\"DAY 10 binary files\")"
   ]
  },
  {
   "cell_type": "code",
   "execution_count": 12,
   "metadata": {},
   "outputs": [],
   "source": [
    "with open(\"pic.jpg\",'rb') as f:\n",
    "    pic = f.read()"
   ]
  },
  {
   "cell_type": "code",
   "execution_count": 13,
   "metadata": {},
   "outputs": [],
   "source": [
    "with open('new_pic.jpg', 'wb') as new_f:\n",
    "    new_f.write(pic)"
   ]
  },
  {
   "cell_type": "code",
   "execution_count": 16,
   "metadata": {},
   "outputs": [],
   "source": [
    "new_f = open('new_pic.jpg','rb')\n",
    "data = new_f.readlines()"
   ]
  },
  {
   "cell_type": "code",
   "execution_count": 54,
   "metadata": {},
   "outputs": [],
   "source": [
    "def photo_copy(file_name,path_name):\n",
    "    with open(file_name,'rb') as file:\n",
    "        data = file.read()\n",
    "        \n",
    "    with open(path_name + \"\\\\new_pic.jpg\",'wb') as f:\n",
    "        f.write(data)"
   ]
  },
  {
   "cell_type": "code",
   "execution_count": 55,
   "metadata": {},
   "outputs": [
    {
     "ename": "OSError",
     "evalue": "[Errno 22] Invalid argument: '\"C:\\\\Users\\\\Katlic\\\\Documents\\\\LCO_Bootcamp\\\\DAY10\\\\abc\\\\new_pic.jpg'",
     "output_type": "error",
     "traceback": [
      "\u001b[1;31m---------------------------------------------------------------------------\u001b[0m",
      "\u001b[1;31mOSError\u001b[0m                                   Traceback (most recent call last)",
      "\u001b[1;32m<ipython-input-55-2aec9714482e>\u001b[0m in \u001b[0;36m<module>\u001b[1;34m\u001b[0m\n\u001b[1;32m----> 1\u001b[1;33m \u001b[0mphoto_copy\u001b[0m\u001b[1;33m(\u001b[0m\u001b[1;34m\"pic.JPG\"\u001b[0m\u001b[1;33m,\u001b[0m\u001b[1;34m'\"C:\\\\Users\\\\Katlic\\\\Documents\\\\LCO_Bootcamp\\\\DAY10\\\\abc\\\\new_pic.jpg'\u001b[0m\u001b[1;33m)\u001b[0m\u001b[1;33m\u001b[0m\u001b[1;33m\u001b[0m\u001b[0m\n\u001b[0m",
      "\u001b[1;32m<ipython-input-54-9e72f5fc8f41>\u001b[0m in \u001b[0;36mphoto_copy\u001b[1;34m(file_name, path_name)\u001b[0m\n\u001b[0;32m      3\u001b[0m         \u001b[0mdata\u001b[0m \u001b[1;33m=\u001b[0m \u001b[0mfile\u001b[0m\u001b[1;33m.\u001b[0m\u001b[0mread\u001b[0m\u001b[1;33m(\u001b[0m\u001b[1;33m)\u001b[0m\u001b[1;33m\u001b[0m\u001b[1;33m\u001b[0m\u001b[0m\n\u001b[0;32m      4\u001b[0m \u001b[1;33m\u001b[0m\u001b[0m\n\u001b[1;32m----> 5\u001b[1;33m     \u001b[1;32mwith\u001b[0m \u001b[0mopen\u001b[0m\u001b[1;33m(\u001b[0m\u001b[0mpath_name\u001b[0m\u001b[1;33m,\u001b[0m\u001b[1;34m'wb'\u001b[0m\u001b[1;33m)\u001b[0m \u001b[1;32mas\u001b[0m \u001b[0mf\u001b[0m\u001b[1;33m:\u001b[0m\u001b[1;33m\u001b[0m\u001b[1;33m\u001b[0m\u001b[0m\n\u001b[0m\u001b[0;32m      6\u001b[0m         \u001b[0mf\u001b[0m\u001b[1;33m.\u001b[0m\u001b[0mwrite\u001b[0m\u001b[1;33m(\u001b[0m\u001b[0mdata\u001b[0m\u001b[1;33m)\u001b[0m\u001b[1;33m\u001b[0m\u001b[1;33m\u001b[0m\u001b[0m\n",
      "\u001b[1;31mOSError\u001b[0m: [Errno 22] Invalid argument: '\"C:\\\\Users\\\\Katlic\\\\Documents\\\\LCO_Bootcamp\\\\DAY10\\\\abc\\\\new_pic.jpg'"
     ]
    }
   ],
   "source": [
    "photo_copy(\"pic.JPG\",'\"C:\\\\Users\\\\Katlic\\\\Documents\\\\LCO_Bootcamp\\\\DAY10\\\\abc\\\\new_pic.jpg')"
   ]
  },
  {
   "cell_type": "code",
   "execution_count": 70,
   "metadata": {},
   "outputs": [],
   "source": [
    "import os.path"
   ]
  },
  {
   "cell_type": "code",
   "execution_count": 71,
   "metadata": {},
   "outputs": [],
   "source": [
    "def photo_copy(original_path,destination_path):\n",
    "    with open (original_path+\"\\\\\"+file_name,'rb+') as f:\n",
    "        x = f.read()\n",
    "\n",
    "    with open (destination_path+\"\\\\pic.jpg\",'wb+') as f1:\n",
    "        f1.write(x)\n"
   ]
  },
  {
   "cell_type": "code",
   "execution_count": 72,
   "metadata": {},
   "outputs": [],
   "source": [
    "def run_photo_copy():\n",
    "    original_path = input(\"Enter the source path of the file: \")\n",
    "    destination_path = input(\"Enter the destination path for the file: \")\n",
    "\n",
    "    if os.path.isdir(original_path) and os.path.isdir(destination_path):\n",
    "        photo_copy(original_path,destination_path)\n",
    "        print(\"operation done\")\n",
    "    else:\n",
    "        print(\"Wrong path\")"
   ]
  },
  {
   "cell_type": "code",
   "execution_count": 73,
   "metadata": {},
   "outputs": [
    {
     "name": "stdout",
     "output_type": "stream",
     "text": [
      "Enter the source path of the file: sdhf\n",
      "Enter the destination path for the file: ahsgd\n",
      "Wrong path\n"
     ]
    }
   ],
   "source": [
    "run_photo_copy()"
   ]
  },
  {
   "cell_type": "code",
   "execution_count": null,
   "metadata": {},
   "outputs": [],
   "source": []
  }
 ],
 "metadata": {
  "kernelspec": {
   "display_name": "Python 3",
   "language": "python",
   "name": "python3"
  },
  "language_info": {
   "codemirror_mode": {
    "name": "ipython",
    "version": 3
   },
   "file_extension": ".py",
   "mimetype": "text/x-python",
   "name": "python",
   "nbconvert_exporter": "python",
   "pygments_lexer": "ipython3",
   "version": "3.7.4"
  }
 },
 "nbformat": 4,
 "nbformat_minor": 2
}
