{
 "cells": [
  {
   "cell_type": "markdown",
   "metadata": {},
   "source": [
    "## Intro of Neural Network"
   ]
  },
  {
   "cell_type": "code",
   "execution_count": 1,
   "metadata": {},
   "outputs": [],
   "source": [
    "import numpy as np"
   ]
  },
  {
   "cell_type": "code",
   "execution_count": 17,
   "metadata": {},
   "outputs": [],
   "source": [
    "def sigmoid(x):\n",
    "    return 1/(1+np.exp(-x))"
   ]
  },
  {
   "cell_type": "code",
   "execution_count": 18,
   "metadata": {},
   "outputs": [],
   "source": [
    "def logic_gate(w1,w2,b):\n",
    "    return lambda x1,x2:sigmoid(w1*x1 + w2*x2 + b)\n",
    "\n",
    "def test(gate):\n",
    "    for a,b in (0,0),(0,1),(1,0),(1,1):\n",
    "        print(\"{} + {} ==> {}\".format(a,b,int(np.round(gate(a,b)))))"
   ]
  },
  {
   "cell_type": "code",
   "execution_count": 19,
   "metadata": {},
   "outputs": [
    {
     "name": "stdout",
     "output_type": "stream",
     "text": [
      "0 + 0 ==> 0\n",
      "0 + 1 ==> 1\n",
      "1 + 0 ==> 1\n",
      "1 + 1 ==> 1\n"
     ]
    }
   ],
   "source": [
    "or_gate = logic_gate(30,30,-10)\n",
    "test(or_gate)"
   ]
  },
  {
   "cell_type": "code",
   "execution_count": 16,
   "metadata": {},
   "outputs": [
    {
     "name": "stdout",
     "output_type": "stream",
     "text": [
      "0 + 0 ==> 0\n",
      "0 + 1 ==> 0\n",
      "1 + 0 ==> 0\n",
      "1 + 1 ==> 1\n"
     ]
    }
   ],
   "source": [
    "and_gate=logic_gate(30,30,-40)\n",
    "test(and_gate)"
   ]
  },
  {
   "cell_type": "code",
   "execution_count": 22,
   "metadata": {},
   "outputs": [
    {
     "name": "stdout",
     "output_type": "stream",
     "text": [
      "0 + 0 ==> 1\n",
      "0 + 1 ==> 1\n",
      "1 + 0 ==> 1\n",
      "1 + 1 ==> 0\n"
     ]
    }
   ],
   "source": [
    "nand_gate=logic_gate(-30,-30,40)\n",
    "test(nand_gate)"
   ]
  },
  {
   "cell_type": "code",
   "execution_count": 23,
   "metadata": {},
   "outputs": [],
   "source": [
    "def xor_gate(x1,x2):\n",
    "    c = nand_gate(x1,x2)\n",
    "    d = nand_gate(x1,c)\n",
    "    e = nand_gate(x2,c)\n",
    "    output = nand_gate(d,e)\n",
    "    return output"
   ]
  },
  {
   "cell_type": "code",
   "execution_count": 27,
   "metadata": {},
   "outputs": [
    {
     "name": "stdout",
     "output_type": "stream",
     "text": [
      "0 + 0 ==> 0\n",
      "0 + 1 ==> 1\n",
      "1 + 0 ==> 1\n",
      "1 + 1 ==> 0\n"
     ]
    }
   ],
   "source": [
    "test(xor_gate)"
   ]
  },
  {
   "cell_type": "markdown",
   "metadata": {},
   "source": [
    "## Feed Forward  and Back Propagation Neural Network "
   ]
  },
  {
   "cell_type": "code",
   "execution_count": 29,
   "metadata": {},
   "outputs": [],
   "source": [
    "# read about dense  network, layer, filter application or kernel "
   ]
  },
  {
   "cell_type": "code",
   "execution_count": null,
   "metadata": {},
   "outputs": [],
   "source": []
  },
  {
   "cell_type": "markdown",
   "metadata": {},
   "source": [
    "## Convolutional Neural Network"
   ]
  },
  {
   "cell_type": "code",
   "execution_count": null,
   "metadata": {},
   "outputs": [],
   "source": []
  }
 ],
 "metadata": {
  "kernelspec": {
   "display_name": "Python 3",
   "language": "python",
   "name": "python3"
  },
  "language_info": {
   "codemirror_mode": {
    "name": "ipython",
    "version": 3
   },
   "file_extension": ".py",
   "mimetype": "text/x-python",
   "name": "python",
   "nbconvert_exporter": "python",
   "pygments_lexer": "ipython3",
   "version": "3.7.4"
  }
 },
 "nbformat": 4,
 "nbformat_minor": 2
}
