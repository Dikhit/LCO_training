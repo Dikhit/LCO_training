{
 "cells": [
  {
   "cell_type": "code",
   "execution_count": 1,
   "metadata": {},
   "outputs": [],
   "source": [
    "import numpy as np"
   ]
  },
  {
   "cell_type": "code",
   "execution_count": 17,
   "metadata": {},
   "outputs": [],
   "source": [
    "def sigmoid(x):\n",
    "    return 1/(1+np.exp(-x))"
   ]
  },
  {
   "cell_type": "code",
   "execution_count": 14,
   "metadata": {},
   "outputs": [],
   "source": [
    "def logic_gate(w1,w2,b):\n",
    "    return lambda x1,x2:sigmoid(w1*x1 + w2*x2 + b)\n",
    "\n",
    "def test(gate):\n",
    "    for a,b in (0,0),(0,1),(1,0),(1,1):\n",
    "        print(\"{} + {} ==> {}\".format(a,b,int(np.round(gate(a,b)))))"
   ]
  },
  {
   "cell_type": "code",
   "execution_count": 15,
   "metadata": {},
   "outputs": [
    {
     "name": "stdout",
     "output_type": "stream",
     "text": [
      "0 + 0 ==> 0\n",
      "0 + 1 ==> 1\n",
      "1 + 0 ==> 1\n",
      "1 + 1 ==> 1\n"
     ]
    }
   ],
   "source": [
    "or_gate = logic_gate(30,30,-10)\n",
    "test(or_gate)"
   ]
  },
  {
   "cell_type": "code",
   "execution_count": 16,
   "metadata": {},
   "outputs": [
    {
     "name": "stdout",
     "output_type": "stream",
     "text": [
      "0 + 0 ==> 0\n",
      "0 + 1 ==> 0\n",
      "1 + 0 ==> 0\n",
      "1 + 1 ==> 1\n"
     ]
    }
   ],
   "source": [
    "and_gate=logic_gate(30,30,-40)\n",
    "test(and_gate)"
   ]
  },
  {
   "cell_type": "code",
   "execution_count": null,
   "metadata": {},
   "outputs": [],
   "source": []
  }
 ],
 "metadata": {
  "kernelspec": {
   "display_name": "Python 3",
   "language": "python",
   "name": "python3"
  },
  "language_info": {
   "codemirror_mode": {
    "name": "ipython",
    "version": 3
   },
   "file_extension": ".py",
   "mimetype": "text/x-python",
   "name": "python",
   "nbconvert_exporter": "python",
   "pygments_lexer": "ipython3",
   "version": "3.7.4"
  }
 },
 "nbformat": 4,
 "nbformat_minor": 2
}
