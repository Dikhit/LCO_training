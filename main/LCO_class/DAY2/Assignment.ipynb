{
 "cells": [
  {
   "cell_type": "code",
   "execution_count": 1,
   "metadata": {},
   "outputs": [
    {
     "name": "stdout",
     "output_type": "stream",
     "text": [
      "Assignment DAY 2\n"
     ]
    }
   ],
   "source": [
    "print(\"Assignment DAY 2\")"
   ]
  },
  {
   "cell_type": "code",
   "execution_count": 18,
   "metadata": {},
   "outputs": [
    {
     "name": "stdout",
     "output_type": "stream",
     "text": [
      "Enter your string : (Madam, I'm Adam)\n",
      "It is a palindrome.\n"
     ]
    }
   ],
   "source": [
    "# Question 1\n",
    "userInput=input(\"Enter your string : \")\n",
    "unwantedChar=[\".\",\" \",\",\",\"'\",\"`\",\"~\",\"!\",\"@\",\"#\",\"$\",\"%\",\"^\",\"&\",\"*\",\"(\",\")\"]\n",
    "for i in unwantedChar:\n",
    "    userInput=userInput.replace(i,'')\n",
    "def reverseFunc(userInput):\n",
    "    return userInput[::-1]\n",
    "carrier=reverseFunc(userInput)\n",
    "userInput=userInput.lower()\n",
    "carrier=carrier.lower()\n",
    "if carrier==userInput:\n",
    "    print(\"It is a palindrome.\")\n",
    "else:\n",
    "    print(\"Not a palindrome.\")"
   ]
  },
  {
   "cell_type": "code",
   "execution_count": 12,
   "metadata": {},
   "outputs": [
    {
     "name": "stdout",
     "output_type": "stream",
     "text": [
      "Enter the string : Hello\n",
      "Enter the index : 0\n",
      "hello"
     ]
    }
   ],
   "source": [
    "# Question 2\n",
    "userString=[]\n",
    "userString=input(\"Enter the string : \")\n",
    "index=int(input(\"Enter the index : \"))\n",
    "for i in range(0,len(userString)):\n",
    "    if i==index:\n",
    "        x=userString[index].swapcase()\n",
    "        print(x,end=\"\")\n",
    "    else:\n",
    "        print(userString[i],end=\"\")"
   ]
  },
  {
   "cell_type": "code",
   "execution_count": 38,
   "metadata": {},
   "outputs": [
    {
     "name": "stdout",
     "output_type": "stream",
     "text": [
      "(4,3)\n",
      "(3,4)\n",
      "(8,-1)\n",
      "(9,-2)\n",
      "(-1,8)\n",
      "(-2,9)\n"
     ]
    }
   ],
   "source": [
    "# Question 3\n",
    "def main():\n",
    "    myList = [2,4,3,8,9,-1,-2]\n",
    "    FirstPair = list()\n",
    "    SecondPair = list()\n",
    "    finalNumber = 7\n",
    "    for parentIterator in myList:\n",
    "        for childIterator in myList:\n",
    "            if parentIterator + childIterator == finalNumber:\n",
    "                print(\"({},{})\".format(parentIterator, childIterator))\n",
    "if __name__ == '__main__' : main()"
   ]
  },
  {
   "cell_type": "code",
   "execution_count": 8,
   "metadata": {},
   "outputs": [
    {
     "name": "stdout",
     "output_type": "stream",
     "text": [
      "(4,3)\n",
      "(8,-1)\n",
      "(9,-2)\n"
     ]
    }
   ],
   "source": [
    "container=[2,4,3,8,9,-1,-2]\n",
    "for index,value in enumerate(container):\n",
    "    for secondIndex,secondValue in enumerate(container[index+1:]):\n",
    "        if value+secondValue==7:\n",
    "            print(\"({},{})\".format(value,secondValue))"
   ]
  },
  {
   "cell_type": "code",
   "execution_count": 19,
   "metadata": {},
   "outputs": [
    {
     "name": "stdout",
     "output_type": "stream",
     "text": [
      "Amstrong number\n",
      "Enter the input number : 153\n",
      "It is valid amstrong number\n"
     ]
    }
   ],
   "source": [
    "# Question 4\n",
    "print(\"Amstrong number\")\n",
    "numberString = input(\"Enter the input number : \")\n",
    "length = len(numberString)\n",
    "sum = 0\n",
    "for iterator in numberString:\n",
    "    value = int(iterator)\n",
    "    value = value ** length\n",
    "    sum = sum + value\n",
    "if sum == int(numberString):\n",
    "    print(\"It is valid amstrong number\")\n",
    "else :\n",
    "    print(\"Sorry, It is not a amstrong number\")"
   ]
  },
  {
   "cell_type": "code",
   "execution_count": 4,
   "metadata": {},
   "outputs": [
    {
     "name": "stdout",
     "output_type": "stream",
     "text": [
      "Enter any year : 2014\n",
      "2014 is not a leap year\n"
     ]
    }
   ],
   "source": [
    "# Question 5\n",
    "def main():\n",
    "    inputYear = int(input(\"Enter any year : \"))\n",
    "    if (inputYear % 4) == 0:\n",
    "        if (inputYear % 100) == 0:\n",
    "            if (inputYear % 400) == 0:\n",
    "                print(\"{} is a leap year\".format(inputYear))\n",
    "            else:\n",
    "                print(\"{} is not a leap year\".format(inputYear))\n",
    "        else:\n",
    "            print(\"{} is a leap year\".format(inputYear))\n",
    "    else:\n",
    "        print(\"{} is not a leap year\".format(inputYear))\n",
    "if __name__ == '__main__' : main()"
   ]
  },
  {
   "cell_type": "code",
   "execution_count": 9,
   "metadata": {},
   "outputs": [
    {
     "name": "stdout",
     "output_type": "stream",
     "text": [
      "program to mix two string in alternate manner\n",
      "Enter the first string : apple\n",
      "Enter the second string : orange\n",
      "aoprpalnege"
     ]
    }
   ],
   "source": [
    "# Question 6\n",
    "print(\"program to mix two string in alternate manner\")\n",
    "def findLarger(firstArg, secondArg):\n",
    "    if firstArg > secondArg:\n",
    "        return firstArg\n",
    "    else:\n",
    "        return secondArg\n",
    "def main():\n",
    "    firstString = input(\"Enter the first string : \")\n",
    "    secondString = input(\"Enter the second string : \")\n",
    "    firstStringLength = len(firstString)\n",
    "    secondStringLength = len(secondString)\n",
    "    longest = findLarger(firstStringLength, secondStringLength)\n",
    "    for iterator in range(longest):\n",
    "        if iterator < firstStringLength:\n",
    "            print(firstString[iterator], end = \"\")\n",
    "        if iterator < secondStringLength:\n",
    "            print(secondString[iterator], end = \"\")\n",
    "if __name__ == '__main__' : main()"
   ]
  },
  {
   "cell_type": "code",
   "execution_count": 11,
   "metadata": {},
   "outputs": [
    {
     "name": "stdout",
     "output_type": "stream",
     "text": [
      "\\\\\n",
      " \\\\\n",
      "  \\\\\n",
      "   \\\\\n",
      "   //\n",
      "  //\n",
      " //\n",
      "//\n"
     ]
    }
   ],
   "source": [
    "# Question 7\n",
    "for i in range(4):\n",
    "    print(' '*i+\"\\\\\\\\\");\n",
    "j = 3\n",
    "while j>=0:\n",
    "    print(x*j+\"//\")\n",
    "    j-=1"
   ]
  },
  {
   "cell_type": "code",
   "execution_count": 6,
   "metadata": {},
   "outputs": [
    {
     "name": "stdout",
     "output_type": "stream",
     "text": [
      "alphabet number relation\n",
      "Enter any string : Attitude\n",
      "Output is 100\n"
     ]
    }
   ],
   "source": [
    "# Question 8\n",
    "print(\"alphabet number relation\")\n",
    "alphaNumeric = {\n",
    "    'a':1,\n",
    "    'b':2,\n",
    "    'c':3,\n",
    "    'd':4,\n",
    "    'e':5,\n",
    "    'f':6,\n",
    "    'g':7,\n",
    "    'h':8,\n",
    "    'i':9,\n",
    "    'j':10,\n",
    "    'k':11,\n",
    "    'l':12,\n",
    "    'm':13,\n",
    "    'n':14,\n",
    "    'o':15,\n",
    "    'p':16,\n",
    "    'q':17,\n",
    "    'r':18,\n",
    "    's':19,\n",
    "    't':20,\n",
    "    'u':21,\n",
    "    'v':22,\n",
    "    'w':23,\n",
    "    'x':24,\n",
    "    'y':25,\n",
    "    'z':26,\n",
    "    'A':1,\n",
    "    'B':2,\n",
    "    'C':3,\n",
    "    'D':4,\n",
    "    'E':5,\n",
    "    'F':6,\n",
    "    'G':7,\n",
    "    'H':8,\n",
    "    'I':9,\n",
    "    'J':10,\n",
    "    'K':11,\n",
    "    'L':12,\n",
    "    'M':13,\n",
    "    'N':14,\n",
    "    'O':15,\n",
    "    'P':16,\n",
    "    'Q':17,\n",
    "    'R':18,\n",
    "    'S':19,\n",
    "    'T':20,\n",
    "    'U':21,\n",
    "    'V':22,\n",
    "    'W':23,\n",
    "    'X':24,\n",
    "    'Y':25,\n",
    "    'Z':26\n",
    "}\n",
    "inputString = input(\"Enter any string : \")\n",
    "sum  = 0\n",
    "for iterator in inputString:\n",
    "    sum = sum + alphaNumeric[iterator]\n",
    "print(\"Output is {}\".format(sum))"
   ]
  },
  {
   "cell_type": "code",
   "execution_count": 28,
   "metadata": {},
   "outputs": [
    {
     "name": "stdout",
     "output_type": "stream",
     "text": [
      "Enter the string : Attitude\n",
      "The asnwer is 100\n"
     ]
    }
   ],
   "source": [
    "userString=[]\n",
    "sum=0\n",
    "userString=input(\"Enter the string : \")\n",
    "for i in userString:\n",
    "    if i==i.upper():\n",
    "        a = ord(i) - 64\n",
    "        sum = sum + a\n",
    "    elif i==i.lower():\n",
    "        a = ord(i) - 96\n",
    "        sum = sum + a\n",
    "print(\"The asnwer is \"+ str(sum))"
   ]
  },
  {
   "cell_type": "code",
   "execution_count": 5,
   "metadata": {},
   "outputs": [
    {
     "name": "stdout",
     "output_type": "stream",
     "text": [
      "last Question \n",
      "Enter the number of steps : 4\n",
      "Enter where you want to move (up/down/right/left)up\n",
      "Enter the number of steps : 5\n",
      "[0, 5]\n",
      "Enter where you want to move (up/down/right/left)down\n",
      "Enter the number of steps : 3\n",
      "[0, 2]\n",
      "Enter where you want to move (up/down/right/left)left\n",
      "Enter the number of steps : 3\n",
      "[-3, 2]\n",
      "Enter where you want to move (up/down/right/left)right\n",
      "Enter the number of steps : 2\n",
      "[-1, 2]\n",
      "Final Distance : 2.23606797749979\n",
      "After integer converting final distance is : 2\n"
     ]
    }
   ],
   "source": [
    "# Question 9\n",
    "print(\"last Question \")\n",
    "originalPosition = [0,0]\n",
    "newPosition = originalPosition\n",
    "numOfMoves = int(input(\"Enter the number of steps : \"))\n",
    "while numOfMoves > 0:\n",
    "    choice = input(\"Enter where you want to move (up/down/right/left)\")\n",
    "    if choice == 'UP' or choice == 'Up' or choice == 'up':\n",
    "        steps = int(input(\"Enter the number of steps : \"))\n",
    "        newPosition[1] = newPosition[1] + steps\n",
    "        print(newPosition)\n",
    "    elif choice == 'DOWN' or choice == 'Down' or choice == 'down':\n",
    "        steps = int(input(\"Enter the number of steps : \"))\n",
    "        newPosition[1] = newPosition[1] - steps\n",
    "        print(newPosition)\n",
    "    elif choice == 'LEFT' or choice == 'Left' or choice == 'left':\n",
    "        steps = int(input(\"Enter the number of steps : \"))\n",
    "        newPosition[0] = newPosition[0] - steps\n",
    "        print(newPosition)\n",
    "    elif choice == 'Right' or choice == 'Right' or choice == 'right':\n",
    "        steps = int(input(\"Enter the number of steps : \"))\n",
    "        newPosition[0] = newPosition[0] + steps\n",
    "        print(newPosition)\n",
    "    else:\n",
    "        print(\"wrong input..distance from original point is ...\")\n",
    "    numOfMoves = numOfMoves - 1\n",
    "finalDistance = (newPosition[0] ** 2 + newPosition[1] ** 2) ** 0.5\n",
    "print(\"Final Distance : {}\".format(finalDistance))\n",
    "print(\"final distance is : {}\".format(round(finalDistance)))"
   ]
  }
 ],
 "metadata": {
  "kernelspec": {
   "display_name": "Python 3",
   "language": "python",
   "name": "python3"
  },
  "language_info": {
   "codemirror_mode": {
    "name": "ipython",
    "version": 3
   },
   "file_extension": ".py",
   "mimetype": "text/x-python",
   "name": "python",
   "nbconvert_exporter": "python",
   "pygments_lexer": "ipython3",
   "version": "3.7.4"
  }
 },
 "nbformat": 4,
 "nbformat_minor": 2
}
