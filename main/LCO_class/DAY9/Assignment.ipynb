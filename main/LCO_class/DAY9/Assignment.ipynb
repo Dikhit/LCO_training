{
 "cells": [
  {
   "cell_type": "code",
   "execution_count": 21,
   "metadata": {},
   "outputs": [],
   "source": [
    "class FileManagement(object):\n",
    "    \n",
    "    def __init__(self):\n",
    "        \n",
    "        self.filename = \"Database.txt\"\n",
    "        try:\n",
    "            self.f = open(self.filename, \"a\")\n",
    "        except:\n",
    "            print(\"Error in creating file...\")\n",
    "            \n",
    "    def insert_data(self, data):\n",
    "        try:\n",
    "            with open(self.filename, 'a') as f:\n",
    "                f.write(data[0]+\"\\n\")\n",
    "                f.write(data[1]+\"\\n\")\n",
    "                f.write(data[2])\n",
    "                f.write(\"\\n\\n\")\n",
    "            return True\n",
    "        except:\n",
    "            return False\n",
    "        \n",
    "    def read_data(self):\n",
    "        data = \"\"\n",
    "        try:\n",
    "            with open(self.filename) as f:\n",
    "                data = f.read()\n",
    "                \n",
    "            user_chunk = data.split(\"\\n\\n\")\n",
    "            \n",
    "            for item in user_chunk[:-1]:\n",
    "                \n",
    "                single_chunk = item.split(\"\\n\")\n",
    "                final_list.append((single_chunk[0],single_chunk[1],single_chunk[2]))\n",
    "            return final_list\n",
    "        except:\n",
    "            return False\n",
    "        \n",
    "    def search_data(self):\n",
    "        pass\n",
    "    \n",
    "    def update_data(self):\n",
    "        final_list = self.read_data()\n",
    "        print(final_list)\n",
    "    "
   ]
  },
  {
   "cell_type": "code",
   "execution_count": 22,
   "metadata": {},
   "outputs": [],
   "source": [
    "def main():\n",
    "    \n",
    "    db = FileManagement()\n",
    "    \n",
    "    print(\"\\n1. Insert Data\")\n",
    "    print(\"\\n2. View Data\")\n",
    "    print(\"\\n3. Update Data\")\n",
    "    print(\"\\n4. Search Data\")\n",
    "    choice = input(\"\\n\\nEnter your choice : \")\n",
    "    \n",
    "    if choice == \"1\":\n",
    "        \n",
    "        name = input(\"\\nEnter a name : \")\n",
    "        email = input(\"Enter a email : \")\n",
    "        passw = input(\"Enter a password : \")\n",
    "        \n",
    "        if db.insert_data([name, email, passw]):\n",
    "            print(\"\\nData Added!\")\n",
    "        else:\n",
    "            print(\"Oops! Something went wrong!\")\n",
    "            \n",
    "    elif choice == \"2\":\n",
    "        \n",
    "        print(\"\\nAll User Data\\n\")\n",
    "        \n",
    "        if db.read_data():\n",
    "            for index, item in enumerate(db.read_data()):\n",
    "                print(\"Sl No : \" + str(index+1))\n",
    "                print(\"Name : \" + item[0])\n",
    "                print(\"Email : \" + item[1])\n",
    "                print(\"Password : \" + item[2])\n",
    "                print()\n",
    "                \n",
    "    elif choice == \"3\":\n",
    "        db.update_data()\n",
    "        "
   ]
  },
  {
   "cell_type": "code",
   "execution_count": 23,
   "metadata": {},
   "outputs": [
    {
     "name": "stdout",
     "output_type": "stream",
     "text": [
      "\n",
      "1. Insert Data\n",
      "\n",
      "2. View Data\n",
      "\n",
      "3. Update Data\n",
      "\n",
      "4. Search Data\n",
      "\n",
      "\n",
      "Enter your choice : 2\n",
      "\n",
      "All User Data\n",
      "\n"
     ]
    }
   ],
   "source": [
    "main()"
   ]
  },
  {
   "cell_type": "code",
   "execution_count": null,
   "metadata": {},
   "outputs": [],
   "source": []
  }
 ],
 "metadata": {
  "kernelspec": {
   "display_name": "Python 3",
   "language": "python",
   "name": "python3"
  },
  "language_info": {
   "codemirror_mode": {
    "name": "ipython",
    "version": 3
   },
   "file_extension": ".py",
   "mimetype": "text/x-python",
   "name": "python",
   "nbconvert_exporter": "python",
   "pygments_lexer": "ipython3",
   "version": "3.7.4"
  }
 },
 "nbformat": 4,
 "nbformat_minor": 2
}
