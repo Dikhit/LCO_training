{
 "cells": [
  {
   "cell_type": "code",
   "execution_count": 4,
   "metadata": {},
   "outputs": [
    {
     "name": "stdout",
     "output_type": "stream",
     "text": [
      "DAY 3 Functions\n"
     ]
    }
   ],
   "source": [
    "print(\"DAY 3 Functions\")"
   ]
  },
  {
   "cell_type": "code",
   "execution_count": 6,
   "metadata": {},
   "outputs": [],
   "source": [
    "def firstFunc(param1,param2):\n",
    "    print(param1,param2)"
   ]
  },
  {
   "cell_type": "code",
   "execution_count": 7,
   "metadata": {},
   "outputs": [
    {
     "name": "stdout",
     "output_type": "stream",
     "text": [
      "Dikhit kumar\n"
     ]
    }
   ],
   "source": [
    "firstFunc(\"Dikhit\", \"kumar\")"
   ]
  },
  {
   "cell_type": "code",
   "execution_count": 8,
   "metadata": {},
   "outputs": [],
   "source": [
    "def func(param,k1=\"123\"):\n",
    "    print(param,k1)"
   ]
  },
  {
   "cell_type": "code",
   "execution_count": 9,
   "metadata": {},
   "outputs": [
    {
     "name": "stdout",
     "output_type": "stream",
     "text": [
      "123 123\n"
     ]
    }
   ],
   "source": [
    "func(\"123\")"
   ]
  },
  {
   "cell_type": "code",
   "execution_count": 10,
   "metadata": {},
   "outputs": [],
   "source": [
    "def some(*arg):\n",
    "    print(arg)\n",
    "# *arg is tuple .. can hold many number of arguments"
   ]
  },
  {
   "cell_type": "code",
   "execution_count": 11,
   "metadata": {},
   "outputs": [
    {
     "name": "stdout",
     "output_type": "stream",
     "text": [
      "(1, 2, 33, 4, 5, 66)\n"
     ]
    }
   ],
   "source": [
    "some(1,2,33,4,5,66,)"
   ]
  },
  {
   "cell_type": "code",
   "execution_count": 33,
   "metadata": {},
   "outputs": [
    {
     "name": "stdout",
     "output_type": "stream",
     "text": [
      "bad choice\n"
     ]
    }
   ],
   "source": [
    "def sum(*arg, opr=\"*\"):\n",
    "    sum = 0\n",
    "    mult = 1\n",
    "    if opr == '+':\n",
    "        for i in arg:\n",
    "            sum = sum + i\n",
    "        return sum\n",
    "    elif opr == '*':\n",
    "        for i in arg:\n",
    "            mult = mult * i\n",
    "        return mult\n",
    "    else:\n",
    "        return \"bad choice\"\n",
    "x = sum(1,2,3,4,5,opr=\"7\")\n",
    "print(x)"
   ]
  },
  {
   "cell_type": "code",
   "execution_count": 34,
   "metadata": {},
   "outputs": [
    {
     "name": "stdout",
     "output_type": "stream",
     "text": [
      "{'K1': 'Hello', 'k2': 'World'}\n"
     ]
    }
   ],
   "source": [
    "def method3(**kwargs):\n",
    "    print(kwargs)\n",
    "method3(K1=\"Hello\", k2=\"World\")"
   ]
  },
  {
   "cell_type": "code",
   "execution_count": 37,
   "metadata": {},
   "outputs": [
    {
     "name": "stdout",
     "output_type": "stream",
     "text": [
      "5 is prime number\n",
      "7 is prime number\n",
      "11 is prime number\n",
      "13 is prime number\n",
      "17 is prime number\n",
      "19 is prime number\n",
      "23 is prime number\n",
      "29 is prime number\n",
      "31 is prime number\n"
     ]
    }
   ],
   "source": [
    "# prime finder using a single function\n",
    "def primeFinder(*args):\n",
    "    if len(args) == 1:\n",
    "        count = 0\n",
    "        value = args[0] ** 0.5\n",
    "        for i in range(1,args[0]+1):\n",
    "            if args[0] % i == 0:\n",
    "                count = count + 1\n",
    "                if count > 2:\n",
    "                    break\n",
    "        if count == 2:\n",
    "            return True\n",
    "        else:\n",
    "            return False\n",
    "    elif len(args) == 2:\n",
    "        if args[0] <= args[1]:\n",
    "            count = 0\n",
    "            for item in range(args[0],args[1]+1):\n",
    "                for i in range(1,item+1):\n",
    "                    if item % i == 0:\n",
    "                        count = count + 1\n",
    "                        if count > 2:\n",
    "                            break\n",
    "                if count == 2:\n",
    "                    print(\"{} is prime number\".format(item))\n",
    "                count = 0\n",
    "        else:\n",
    "            return \"not a valid range\"\n",
    "    else:\n",
    "        return \"not a valid argument\"\n",
    "\n",
    "primeFinder(4,35)"
   ]
  },
  {
   "cell_type": "code",
   "execution_count": null,
   "metadata": {},
   "outputs": [],
   "source": []
  }
 ],
 "metadata": {
  "kernelspec": {
   "display_name": "Python 3",
   "language": "python",
   "name": "python3"
  },
  "language_info": {
   "codemirror_mode": {
    "name": "ipython",
    "version": 3
   },
   "file_extension": ".py",
   "mimetype": "text/x-python",
   "name": "python",
   "nbconvert_exporter": "python",
   "pygments_lexer": "ipython3",
   "version": "3.7.4"
  }
 },
 "nbformat": 4,
 "nbformat_minor": 2
}
