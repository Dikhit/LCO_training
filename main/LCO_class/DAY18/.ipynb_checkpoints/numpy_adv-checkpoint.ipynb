{
 "cells": [
  {
   "cell_type": "code",
   "execution_count": 1,
   "metadata": {},
   "outputs": [],
   "source": [
    "import numpy as np"
   ]
  },
  {
   "cell_type": "code",
   "execution_count": null,
   "metadata": {},
   "outputs": [],
   "source": [
    "def my_array(container):\n",
    "    sum = 0\n",
    "    for items in container:\n",
    "        sum = sum + items\n",
    "    \n",
    "    avg = sum/len(container)\n",
    "    \n",
    "    temp = container[0]\n",
    "    for first in container:\n",
    "        if temp > first:\n",
    "            temp = first\n",
    "    max_value = temp\n",
    "    \n",
    "    temp = container[0]\n",
    "    for first in container:\n",
    "        if temp < first:\n",
    "            temp = first\n",
    "    min_value = temp\n",
    "    \n",
    "    my_output = (avg, max_value,min_value)\n",
    "\n",
    "    return my_output"
   ]
  }
 ],
 "metadata": {
  "kernelspec": {
   "display_name": "Python 3",
   "language": "python",
   "name": "python3"
  },
  "language_info": {
   "codemirror_mode": {
    "name": "ipython",
    "version": 3
   },
   "file_extension": ".py",
   "mimetype": "text/x-python",
   "name": "python",
   "nbconvert_exporter": "python",
   "pygments_lexer": "ipython3",
   "version": "3.7.4"
  }
 },
 "nbformat": 4,
 "nbformat_minor": 2
}
