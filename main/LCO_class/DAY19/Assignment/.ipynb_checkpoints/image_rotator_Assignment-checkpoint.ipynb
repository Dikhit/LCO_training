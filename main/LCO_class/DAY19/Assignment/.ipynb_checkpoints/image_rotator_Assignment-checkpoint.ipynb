{
 "cells": [
  {
   "cell_type": "code",
   "execution_count": 2,
   "metadata": {},
   "outputs": [],
   "source": [
    "from tkinter import *\n",
    "import pickle\n",
    "import selenium.webdriver\n",
    "from PIL import ImageTk, Image\n",
    "from tkinter import ttk\n",
    "import cv2\n",
    "import time\n",
    "import matplotlib.pyplot as plt"
   ]
  },
  {
   "cell_type": "code",
   "execution_count": 21,
   "metadata": {},
   "outputs": [
    {
     "ename": "FileNotFoundError",
     "evalue": "[Errno 2] No such file or directory: 'new.jpeg'",
     "output_type": "error",
     "traceback": [
      "\u001b[1;31m---------------------------------------------------------------------------\u001b[0m",
      "\u001b[1;31mFileNotFoundError\u001b[0m                         Traceback (most recent call last)",
      "\u001b[1;32m<ipython-input-21-47be3e96f4c1>\u001b[0m in \u001b[0;36m<module>\u001b[1;34m\u001b[0m\n\u001b[0;32m     37\u001b[0m \u001b[1;33m\u001b[0m\u001b[0m\n\u001b[0;32m     38\u001b[0m \u001b[1;33m\u001b[0m\u001b[0m\n\u001b[1;32m---> 39\u001b[1;33m \u001b[0mmy_img\u001b[0m \u001b[1;33m=\u001b[0m \u001b[0mImageTk\u001b[0m\u001b[1;33m.\u001b[0m\u001b[0mPhotoImage\u001b[0m\u001b[1;33m(\u001b[0m\u001b[0mImage\u001b[0m\u001b[1;33m.\u001b[0m\u001b[0mopen\u001b[0m\u001b[1;33m(\u001b[0m\u001b[1;34m\"new.jpeg\"\u001b[0m\u001b[1;33m)\u001b[0m\u001b[1;33m)\u001b[0m\u001b[1;33m\u001b[0m\u001b[1;33m\u001b[0m\u001b[0m\n\u001b[0m\u001b[0;32m     40\u001b[0m \u001b[1;31m# why we don't have to pass the root object in the image\u001b[0m\u001b[1;33m\u001b[0m\u001b[1;33m\u001b[0m\u001b[1;33m\u001b[0m\u001b[0m\n\u001b[0;32m     41\u001b[0m \u001b[0mlbl\u001b[0m\u001b[1;33m=\u001b[0m\u001b[0mLabel\u001b[0m\u001b[1;33m(\u001b[0m\u001b[0mimage\u001b[0m\u001b[1;33m=\u001b[0m\u001b[0mmy_img\u001b[0m\u001b[1;33m)\u001b[0m\u001b[1;33m\u001b[0m\u001b[1;33m\u001b[0m\u001b[0m\n",
      "\u001b[1;32m~\\AppData\\Local\\Continuum\\anaconda3\\lib\\site-packages\\PIL\\Image.py\u001b[0m in \u001b[0;36mopen\u001b[1;34m(fp, mode)\u001b[0m\n\u001b[0;32m   2764\u001b[0m \u001b[1;33m\u001b[0m\u001b[0m\n\u001b[0;32m   2765\u001b[0m     \u001b[1;32mif\u001b[0m \u001b[0mfilename\u001b[0m\u001b[1;33m:\u001b[0m\u001b[1;33m\u001b[0m\u001b[1;33m\u001b[0m\u001b[0m\n\u001b[1;32m-> 2766\u001b[1;33m         \u001b[0mfp\u001b[0m \u001b[1;33m=\u001b[0m \u001b[0mbuiltins\u001b[0m\u001b[1;33m.\u001b[0m\u001b[0mopen\u001b[0m\u001b[1;33m(\u001b[0m\u001b[0mfilename\u001b[0m\u001b[1;33m,\u001b[0m \u001b[1;34m\"rb\"\u001b[0m\u001b[1;33m)\u001b[0m\u001b[1;33m\u001b[0m\u001b[1;33m\u001b[0m\u001b[0m\n\u001b[0m\u001b[0;32m   2767\u001b[0m         \u001b[0mexclusive_fp\u001b[0m \u001b[1;33m=\u001b[0m \u001b[1;32mTrue\u001b[0m\u001b[1;33m\u001b[0m\u001b[1;33m\u001b[0m\u001b[0m\n\u001b[0;32m   2768\u001b[0m \u001b[1;33m\u001b[0m\u001b[0m\n",
      "\u001b[1;31mFileNotFoundError\u001b[0m: [Errno 2] No such file or directory: 'new.jpeg'"
     ]
    }
   ],
   "source": [
    "root =Tk()\n",
    "root.geometry(\"400x400+40+40\")\n",
    "root.title(\"Image Viewer App\")\n",
    "\n",
    "global img \n",
    "\n",
    "global current_deg\n",
    "current_deg = 0\n",
    "\n",
    "def left_rotate(deg):\n",
    "    img = cv2.imread(\"new.jpeg\")\n",
    "    print(img.shape)\n",
    "    num_cols, num_rows = img.shape[:2]\n",
    "    global current_deg\n",
    "    current_deg = current_deg - 10\n",
    "\n",
    "    rot_matrix = cv2.getRotationMatrix2D((num_cols/2, num_rows/2), current_deg, 1.0)\n",
    "    img_rotation = cv2.warpAffine(img, rot_matrix, (num_cols, num_rows))\n",
    "    \n",
    "    cv2.imwrite(\"new.jpeg\", img_rotation)\n",
    "    my_img = ImageTk.PhotoImage(Image.open(\"new.jpeg\"))\n",
    "    pass\n",
    "\n",
    "def right_rotate(deg):\n",
    "    img = cv2.imread(\"new.jpeg\")\n",
    "    print(img.shape)\n",
    "    num_cols, num_rows = img.shape[:2]\n",
    "    global current_deg\n",
    "    current_deg = current_deg + 10\n",
    "\n",
    "    rot_matrix = cv2.getRotationMatrix2D((num_cols/2, num_rows/2), current_deg, 1.0)\n",
    "    img_rotation = cv2.warpAffine(img, rot_matrix, (num_cols, num_rows))\n",
    "    \n",
    "    cv2.imwrite(\"new.jpeg\", img_rotation)\n",
    "    my_img = ImageTk.PhotoImage(Image.open(\"new.jpeg\"))\n",
    "    pass\n",
    "\n",
    "\n",
    "my_img = ImageTk.PhotoImage(Image.open(\"new.jpeg\"))\n",
    "# why we don't have to pass the root object in the image\n",
    "lbl=Label(image=my_img)\n",
    "lbl.pack()\n",
    "\n",
    "\n",
    "left_rotation_button = ttk.Button(root, text = \"-10deg\", command=lambda : left_rotate(current_deg)).pack(side=\"left\")\n",
    "# current_degree = Label(root, text = current_deg).pack()\n",
    "right_rotation_button = ttk.Button(root, text = \"+10deg\", command=lambda : right_rotate(current_deg)).pack(side=\"right\")\n",
    "\n",
    "\n",
    "root.mainloop()    "
   ]
  },
  {
   "cell_type": "code",
   "execution_count": null,
   "metadata": {},
   "outputs": [],
   "source": []
  },
  {
   "cell_type": "code",
   "execution_count": null,
   "metadata": {},
   "outputs": [],
   "source": []
  },
  {
   "cell_type": "code",
   "execution_count": 5,
   "metadata": {},
   "outputs": [
    {
     "name": "stdout",
     "output_type": "stream",
     "text": [
      "Enter the degree for rotation : 30\n",
      "Successfully saved\n",
      "Enter the degree for rotation : 70\n",
      "Successfully saved\n"
     ]
    }
   ],
   "source": [
    "value = 0\n",
    "x = 0\n",
    "while x < 2:\n",
    "    img = cv2.imread(\"new.jpeg\")\n",
    "    degree = int(input(\"Enter the degree for rotation : \"))\n",
    "    value = value + degree\n",
    "    num_cols, num_rows = img.shape[:2]\n",
    "\n",
    "    rot_matrix = cv2.getRotationMatrix2D((num_cols/2, num_rows/2), value, 1.0)\n",
    "    img_rotation = cv2.warpAffine(img, rot_matrix, (num_cols, num_rows))\n",
    "    \n",
    "    x += 1\n",
    "    cv2.imwrite(\"final.jpg\", img_rotation)\n",
    "    print(\"Successfully saved\")"
   ]
  },
  {
   "cell_type": "code",
   "execution_count": null,
   "metadata": {},
   "outputs": [],
   "source": []
  }
 ],
 "metadata": {
  "kernelspec": {
   "display_name": "Python 3",
   "language": "python",
   "name": "python3"
  },
  "language_info": {
   "codemirror_mode": {
    "name": "ipython",
    "version": 3
   },
   "file_extension": ".py",
   "mimetype": "text/x-python",
   "name": "python",
   "nbconvert_exporter": "python",
   "pygments_lexer": "ipython3",
   "version": "3.7.4"
  }
 },
 "nbformat": 4,
 "nbformat_minor": 2
}
