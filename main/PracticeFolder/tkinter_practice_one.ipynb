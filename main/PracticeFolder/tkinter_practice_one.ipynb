{
 "cells": [
  {
   "cell_type": "code",
   "execution_count": 2,
   "metadata": {},
   "outputs": [
    {
     "name": "stdout",
     "output_type": "stream",
     "text": [
      "Youtube video first chapter\n"
     ]
    }
   ],
   "source": [
    "print(\"Youtube video first chapter\")"
   ]
  },
  {
   "cell_type": "code",
   "execution_count": 2,
   "metadata": {},
   "outputs": [],
   "source": [
    "from tkinter import *"
   ]
  },
  {
   "cell_type": "markdown",
   "metadata": {},
   "source": [
    "#### Grid"
   ]
  },
  {
   "cell_type": "code",
   "execution_count": 25,
   "metadata": {},
   "outputs": [],
   "source": [
    "root = Tk()\n",
    "root.title(\"My App\")\n",
    "root.geometry(\"400x400+40+40\")\n",
    "root.resizable(False, False)\n",
    "\n",
    "my_label = Label(root, text = \"nemophee\")\n",
    "my_label.grid(row=0, column = 0)\n",
    "\n",
    "my_second_label = Label(root, text = \"katlic\")\n",
    "my_second_label.grid(row=1, column=5)\n",
    "\n",
    "root.mainloop()"
   ]
  },
  {
   "cell_type": "markdown",
   "metadata": {},
   "source": [
    "#### Pack"
   ]
  },
  {
   "cell_type": "code",
   "execution_count": 27,
   "metadata": {},
   "outputs": [],
   "source": [
    "root = Tk()\n",
    "root.title(\"My App\")\n",
    "root.geometry(\"400x400+40+40\")\n",
    "root.resizable(False, False)\n",
    "\n",
    "my_label = Label(root, text = \"nemophee_katlic\")\n",
    "my_label.pack()\n",
    "\n",
    "root.mainloop()"
   ]
  },
  {
   "cell_type": "markdown",
   "metadata": {},
   "source": [
    "### Creating Button"
   ]
  },
  {
   "cell_type": "code",
   "execution_count": 37,
   "metadata": {},
   "outputs": [],
   "source": [
    "root = Tk()\n",
    "root.title(\"Button Creation\")\n",
    "root.geometry(\"400x400+40+40\")\n",
    "\n",
    "def method():\n",
    "    my_label = Label(root, text = \"hey, you click the button!\")\n",
    "    my_label.pack()\n",
    "    myLabel['text'] = \"Kashmiri\"\n",
    "\n",
    "myLabel = Label(root, text = \"Dikhit\")\n",
    "myLabel.pack()\n",
    "\n",
    "\n",
    "my_text_changer_button = Button(root, text = \"Click to change the text\", command = lambda : method())\n",
    "my_text_changer_button.pack()\n",
    "root.mainloop()"
   ]
  },
  {
   "cell_type": "code",
   "execution_count": 47,
   "metadata": {},
   "outputs": [],
   "source": [
    "root = Tk()\n",
    "root.title(\"My App\")\n",
    "root.geometry(\"300x300+40+40\")\n",
    "\n",
    "my_label = Label(root, text = \"temperature Convertor!\")\n",
    "my_label.pack()\n",
    "\n",
    "\n",
    "celciius_button = Button(root, text = \"Celcius Convertor\", fg = \"#AE1438\")\n",
    "celciius_button.pack()\n",
    "\n",
    "farenhite_button = Button(root, text = \"Celcius Convertor\", fg = \"#AE1438\")\n",
    "farenhite_button.pack()\n",
    "\n",
    "root.mainloop()"
   ]
  },
  {
   "cell_type": "markdown",
   "metadata": {},
   "source": [
    "### Creating Input Fields"
   ]
  },
  {
   "cell_type": "code",
   "execution_count": 70,
   "metadata": {},
   "outputs": [],
   "source": [
    "class App():\n",
    "    def __init_(self):\n",
    "        pass\n",
    "    \n",
    "    def main_function(self):\n",
    "        root = Tk()\n",
    "        root.title(\"My App\")\n",
    "        root.geometry(\"300x300+40+40\")\n",
    "\n",
    "        def celcius_button_controller():\n",
    "            data = entry.get()\n",
    "            cel_value = ((int(data)*(9/5)) + 32) \n",
    "            my_label['text'] = cel_value\n",
    "            entry.delete(0,END)\n",
    "\n",
    "\n",
    "        def farenhite_button_controller():\n",
    "            data = entry.get()\n",
    "            far_value = data\n",
    "            my_label['text'] = far_value\n",
    "            entry.delete(0,END)\n",
    "\n",
    "\n",
    "        my_label = Label(root, text = \"Enter the Temperature\")\n",
    "        my_label.pack()\n",
    "\n",
    "        entry = Entry(root, width=\"50\")\n",
    "        entry.pack()\n",
    "\n",
    "        celcius_button = Button(root, text=\"Convert to Celcius\", command=lambda: celcius_button_controller())\n",
    "        celcius_button.pack()\n",
    "\n",
    "\n",
    "        farenhite_button = Button(root, text=\"Convert to farenhite\", command=lambda: farenhite_button_controller())\n",
    "        farenhite_button.pack()\n",
    "\n",
    "\n",
    "        root.mainloop()"
   ]
  },
  {
   "cell_type": "code",
   "execution_count": 71,
   "metadata": {},
   "outputs": [],
   "source": [
    "app_obj = App()\n",
    "app_obj.main_function()"
   ]
  },
  {
   "cell_type": "markdown",
   "metadata": {},
   "source": [
    "#### Calculator"
   ]
  },
  {
   "cell_type": "code",
   "execution_count": 6,
   "metadata": {},
   "outputs": [],
   "source": [
    "root = Tk()\n",
    "root.title(\"Simple Calculator\")\n",
    "root.geometry(\"430x330+40+40\")\n",
    "          \n",
    "def button_controller(number):\n",
    "    current = entry.get()\n",
    "    entry.delete(0,END)\n",
    "    entry.insert(0,str(current) + str(number))\n",
    "    pass\n",
    "\n",
    "def button_clear():\n",
    "    entry.delete(0, END)\n",
    "    pass\n",
    "\n",
    "def button_add():\n",
    "    global operator\n",
    "    operator = \"add\"\n",
    "    first_number = entry.get()\n",
    "    global f_num\n",
    "    f_num = int(first_number)\n",
    "    entry.delete(0,END)\n",
    "    pass\n",
    "\n",
    "def button_sub():\n",
    "    global operator\n",
    "    operator = \"sub\"\n",
    "    first_number = entry.get()\n",
    "    f_num = int(first_number)\n",
    "    entry.delete(0,END)\n",
    "    pass\n",
    "\n",
    "def button_mult():\n",
    "    global operator\n",
    "    operator = \"mult\"\n",
    "    first_number = entry.get()\n",
    "    global f_num\n",
    "    f_num = int(first_number)\n",
    "    entry.delete(0,END)\n",
    "    pass\n",
    "\n",
    "def button_div():\n",
    "    global operator\n",
    "    operator = \"div\"\n",
    "    first_number = entry.get()\n",
    "    global f_num\n",
    "    f_num = int(first_number)\n",
    "    entry.delete(0,END)\n",
    "    pass\n",
    "    \n",
    "def button_equal():\n",
    "    second_number = entry.get()\n",
    "    entry.delete(0,END)\n",
    "    if operator == \"add\":\n",
    "        entry.insert(0,f_num + int(second_number))\n",
    "    elif operator == \"sub\":\n",
    "        entry.insert(0,f_num - int(second_number))\n",
    "    elif operator == \"mult\":\n",
    "        entry.insert(0,f_num * int(second_number))\n",
    "    elif operator == \"div\":\n",
    "        entry.insert(0,f_num / int(second_number))\n",
    "    \n",
    "entry = Entry(root, width=\"50\", borderwidth='5')\n",
    "entry.grid(row=0, column=0, columnspan=3, padx=10, pady=10)\n",
    "\n",
    "\n",
    "button_one = Button(root, text = \"1\", padx=40, pady=20, command = lambda : button_controller(1))\n",
    "button_two = Button(root, text = \"2\", padx=40, pady=20, command = lambda : button_controller(2))\n",
    "button_three = Button(root, text = \"3\", padx=40, pady=20, command = lambda : button_controller(3))\n",
    "button_four = Button(root, text = \"4\", padx=40, pady=20, command = lambda : button_controller(4))\n",
    "button_five = Button(root, text = \"5\", padx=40, pady=20, command = lambda : button_controller(5))\n",
    "button_six = Button(root, text = \"6\", padx=40, pady=20, command = lambda : button_controller(6))\n",
    "button_seven = Button(root, text = \"7\", padx=40, pady=20, command = lambda : button_controller(7))\n",
    "button_eigth = Button(root, text = \"8\", padx=40, pady=20, command = lambda : button_controller(8))\n",
    "button_nine = Button(root, text = \"9\", padx=40, pady=20, command = lambda : button_controller(9))\n",
    "button_zero = Button(root, text = \"0\", padx=40, pady=20, command = lambda : button_controller(0))\n",
    "\n",
    "\n",
    "add_button = Button(root, text = \"+\", padx=40, pady=20, command=lambda : button_add())\n",
    "sub_button = Button(root, text = \"-\", padx=40, pady=20, command=lambda : button_sub())\n",
    "multi_button = Button(root, text = \"*\", padx=40, pady=20, command=lambda : button_mult())\n",
    "div_button = Button(root, text = \"/\", padx=40, pady=20, command=lambda : button_div())\n",
    "equal_button = Button(root, text = \"=\", padx=40, pady=20, command=lambda : button_equal())\n",
    "all_clear_button = Button(root, text = \"C\", padx=40, pady=20, command = lambda : button_clear())\n",
    "\n",
    "button_one.grid(row=3,column = 0)\n",
    "button_two.grid(row=3,column = 1)\n",
    "button_three.grid(row=3,column = 2)\n",
    "sub_button.grid(row=3, column = 3)\n",
    "\n",
    "button_four.grid(row=2,column = 0)\n",
    "button_five.grid(row=2,column = 1)\n",
    "button_six.grid(row=2,column = 2)\n",
    "add_button.grid(row=2, column = 3)\n",
    "\n",
    "button_seven.grid(row=1,column = 0)\n",
    "button_eigth.grid(row=1,column = 1)\n",
    "button_nine.grid(row=1,column = 2)\n",
    "all_clear_button.grid(row=1, column = 3)\n",
    "\n",
    "button_zero.grid(row=4, column =0)\n",
    "equal_button.grid(row=4, column = 1)\n",
    "div_button.grid(row=4, column = 2)\n",
    "multi_button.grid(row=4, column =3)\n",
    "root.mainloop()"
   ]
  },
  {
   "cell_type": "markdown",
   "metadata": {},
   "source": [
    "### Images"
   ]
  },
  {
   "cell_type": "code",
   "execution_count": 3,
   "metadata": {},
   "outputs": [],
   "source": [
    "root = Tk()\n",
    "root.title(\"image using tkinter\")\n",
    "root.geometry(\"300x300+40+40\")\n",
    "root.iconbitmap(\"icon.PNG\")\n",
    "\n",
    "\n",
    "button_quit = Button(root, text = \"Exit program\", command = root.quit)\n",
    "button_quit.pack()\n",
    "\n",
    "\n",
    "root.mainloop()"
   ]
  },
  {
   "cell_type": "code",
   "execution_count": null,
   "metadata": {},
   "outputs": [],
   "source": []
  }
 ],
 "metadata": {
  "kernelspec": {
   "display_name": "Python 3",
   "language": "python",
   "name": "python3"
  },
  "language_info": {
   "codemirror_mode": {
    "name": "ipython",
    "version": 3
   },
   "file_extension": ".py",
   "mimetype": "text/x-python",
   "name": "python",
   "nbconvert_exporter": "python",
   "pygments_lexer": "ipython3",
   "version": "3.7.4"
  }
 },
 "nbformat": 4,
 "nbformat_minor": 2
}
