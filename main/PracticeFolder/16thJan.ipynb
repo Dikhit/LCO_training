{
 "cells": [
  {
   "cell_type": "code",
   "execution_count": 19,
   "metadata": {},
   "outputs": [
    {
     "name": "stdout",
     "output_type": "stream",
     "text": [
      "Enter the number : 20\n",
      "2\n",
      "3\n",
      "5\n",
      "7\n",
      "11\n",
      "13\n",
      "17\n",
      "19\n"
     ]
    }
   ],
   "source": [
    "def prime_checker(num):\n",
    "    if num == 1:\n",
    "        return False\n",
    "    if num in [2,3]:\n",
    "        return True\n",
    "    if num > 3:\n",
    "        for iterator in range(2,num):\n",
    "            if num % iterator  == 0:\n",
    "                return False\n",
    "    return True\n",
    "\n",
    "num = int(input(\"Enter the number : \"))\n",
    "for i in range(1,num):\n",
    "    if prime_checker(i) == True:\n",
    "        print(i)"
   ]
  },
  {
   "cell_type": "code",
   "execution_count": 14,
   "metadata": {},
   "outputs": [
    {
     "data": {
      "text/plain": [
       "False"
      ]
     },
     "execution_count": 14,
     "metadata": {},
     "output_type": "execute_result"
    }
   ],
   "source": [
    "prime_checker(5)"
   ]
  },
  {
   "cell_type": "code",
   "execution_count": 16,
   "metadata": {},
   "outputs": [
    {
     "name": "stdout",
     "output_type": "stream",
     "text": [
      "Enter the string : zzoooo\n",
      "yes\n"
     ]
    }
   ],
   "source": [
    "def main():\n",
    "    string = input(\"Enter the string : \")\n",
    "    num_of_o = 0\n",
    "    num_of_z = 0\n",
    "    result = 1\n",
    "    if string_checker(string) == True:\n",
    "        for i in string:\n",
    "            if i == 'z':\n",
    "                num_of_z+=1\n",
    "            elif i == 'o':\n",
    "                num_of_o+=1\n",
    "        result = num_of_o/num_of_z\n",
    "        if result % 2 == 0:\n",
    "            print('yes')\n",
    "        else:\n",
    "            print(\"No\")\n",
    "    else:\n",
    "        print(\"No\")\n",
    "    \n",
    "def string_checker(string):\n",
    "    count = 0\n",
    "    for i in string:\n",
    "        if i == 'z' or i == 'o':\n",
    "            count = count + 1\n",
    "    if len(string) == count:\n",
    "        return True\n",
    "    else:\n",
    "        return False\n",
    "\n",
    "if __name__ == \"__main__\" : main()"
   ]
  },
  {
   "cell_type": "code",
   "execution_count": 37,
   "metadata": {},
   "outputs": [
    {
     "name": "stdout",
     "output_type": "stream",
     "text": [
      "Enter the first string : Dikhit\n",
      "Enter the seocnd string : Kumar\n"
     ]
    }
   ],
   "source": [
    "first_input = input(\"Enter the first string : \")\n",
    "second_input = input(\"Enter the seocnd string : \")\n",
    "\n",
    "sorted_first_string = sorted(first_input)\n",
    "sorted_second_string = sorted(second_input)\n",
    "x = sorted_first_string.copy()\n",
    "y = sorted_second_string.copy()\n",
    "for index1,value1 in enumerate(x):\n",
    "    for index2,value2 in enumerate(y):\n",
    "        if value1 != value2:\n",
    "            sorted_first_string.insert(index2,'')\n"
   ]
  },
  {
   "cell_type": "code",
   "execution_count": 38,
   "metadata": {},
   "outputs": [
    {
     "data": {
      "text/plain": [
       "['',\n",
       " '',\n",
       " '',\n",
       " '',\n",
       " '',\n",
       " '',\n",
       " '',\n",
       " '',\n",
       " '',\n",
       " '',\n",
       " '',\n",
       " '',\n",
       " '',\n",
       " '',\n",
       " '',\n",
       " '',\n",
       " '',\n",
       " '',\n",
       " '',\n",
       " '',\n",
       " '',\n",
       " '',\n",
       " '',\n",
       " '',\n",
       " '',\n",
       " '',\n",
       " '',\n",
       " '',\n",
       " '',\n",
       " '',\n",
       " 'D',\n",
       " 'h',\n",
       " 'i',\n",
       " 'i',\n",
       " 'k',\n",
       " 't']"
      ]
     },
     "execution_count": 38,
     "metadata": {},
     "output_type": "execute_result"
    }
   ],
   "source": [
    "sorted_first_string"
   ]
  },
  {
   "cell_type": "code",
   "execution_count": 35,
   "metadata": {},
   "outputs": [
    {
     "data": {
      "text/plain": [
       "['K', 'a', 'm', 'r', 'u']"
      ]
     },
     "execution_count": 35,
     "metadata": {},
     "output_type": "execute_result"
    }
   ],
   "source": [
    "sorted_second_string"
   ]
  },
  {
   "cell_type": "code",
   "execution_count": 36,
   "metadata": {},
   "outputs": [
    {
     "data": {
      "text/plain": [
       "['__add__',\n",
       " '__class__',\n",
       " '__contains__',\n",
       " '__delattr__',\n",
       " '__delitem__',\n",
       " '__dir__',\n",
       " '__doc__',\n",
       " '__eq__',\n",
       " '__format__',\n",
       " '__ge__',\n",
       " '__getattribute__',\n",
       " '__getitem__',\n",
       " '__gt__',\n",
       " '__hash__',\n",
       " '__iadd__',\n",
       " '__imul__',\n",
       " '__init__',\n",
       " '__init_subclass__',\n",
       " '__iter__',\n",
       " '__le__',\n",
       " '__len__',\n",
       " '__lt__',\n",
       " '__mul__',\n",
       " '__ne__',\n",
       " '__new__',\n",
       " '__reduce__',\n",
       " '__reduce_ex__',\n",
       " '__repr__',\n",
       " '__reversed__',\n",
       " '__rmul__',\n",
       " '__setattr__',\n",
       " '__setitem__',\n",
       " '__sizeof__',\n",
       " '__str__',\n",
       " '__subclasshook__',\n",
       " 'append',\n",
       " 'clear',\n",
       " 'copy',\n",
       " 'count',\n",
       " 'extend',\n",
       " 'index',\n",
       " 'insert',\n",
       " 'pop',\n",
       " 'remove',\n",
       " 'reverse',\n",
       " 'sort']"
      ]
     },
     "execution_count": 36,
     "metadata": {},
     "output_type": "execute_result"
    }
   ],
   "source": [
    "dir(list)"
   ]
  },
  {
   "cell_type": "code",
   "execution_count": 80,
   "metadata": {},
   "outputs": [
    {
     "ename": "SyntaxError",
     "evalue": "invalid syntax (<ipython-input-80-8d9e89d2722c>, line 2)",
     "output_type": "error",
     "traceback": [
      "\u001b[1;36m  File \u001b[1;32m\"<ipython-input-80-8d9e89d2722c>\"\u001b[1;36m, line \u001b[1;32m2\u001b[0m\n\u001b[1;33m    global one_list= [1]\u001b[0m\n\u001b[1;37m                   ^\u001b[0m\n\u001b[1;31mSyntaxError\u001b[0m\u001b[1;31m:\u001b[0m invalid syntax\n"
     ]
    }
   ],
   "source": [
    "one_list= [1]\n",
    "one = 1\n",
    "two_list= [2]\n",
    "two = 2\n",
    "three_list= [3]\n",
    "three = 3\n",
    "four_list= [4]\n",
    "four = 4\n",
    "five_list = [5]\n",
    "five = 5\n",
    "six_list = [6]\n",
    "six = 6\n",
    "isFlag = True\n",
    "for i in range(10):\n",
    "    if isFlag == True:\n",
    "        one = one + 11\n",
    "        one_list.append(one)\n",
    "        two = two + 9\n",
    "        two_list.append(two)\n",
    "        three = three + 7\n",
    "        three_list.append(three)\n",
    "        four = four + 5\n",
    "        four_list.append(four)\n",
    "        five = five + 3\n",
    "        five_list.append(five)\n",
    "        six = six + 1\n",
    "        six_list.append(six)\n",
    "        isFlag = False\n",
    "    elif isFlag == False:\n",
    "        one = one + 1\n",
    "        one_list.append(one)\n",
    "        two = two + 3\n",
    "        two_list.append(two)\n",
    "        three = three + 5\n",
    "        three_list.append(three)\n",
    "        four = four + 7\n",
    "        four_list.append(four)\n",
    "        five = five + 9\n",
    "        five_list.append(five)\n",
    "        six = six + 11\n",
    "        six_list.append(six)\n",
    "        isFlag = True\n",
    "# num_of_input = int(input(\"Enter the number of input : \"))\n",
    "input_seat_number = int(\"Enter the seat number : \")\n",
    "if input_seat_number in one_list:\n",
    "    "
   ]
  },
  {
   "cell_type": "code",
   "execution_count": 79,
   "metadata": {},
   "outputs": [
    {
     "ename": "NameError",
     "evalue": "name 'value_adder' is not defined",
     "output_type": "error",
     "traceback": [
      "\u001b[1;31m---------------------------------------------------------------------------\u001b[0m",
      "\u001b[1;31mNameError\u001b[0m                                 Traceback (most recent call last)",
      "\u001b[1;32m<ipython-input-79-6f4c26f79685>\u001b[0m in \u001b[0;36m<module>\u001b[1;34m\u001b[0m\n\u001b[1;32m----> 1\u001b[1;33m \u001b[0mvalue_adder\u001b[0m\u001b[1;33m(\u001b[0m\u001b[1;33m)\u001b[0m\u001b[1;33m\u001b[0m\u001b[1;33m\u001b[0m\u001b[0m\n\u001b[0m",
      "\u001b[1;31mNameError\u001b[0m: name 'value_adder' is not defined"
     ]
    }
   ],
   "source": [
    "value_adder()"
   ]
  },
  {
   "cell_type": "code",
   "execution_count": 74,
   "metadata": {},
   "outputs": [
    {
     "data": {
      "text/plain": [
       "[2, 11, 14, 23, 26, 35, 38, 47, 50, 59, 62]"
      ]
     },
     "execution_count": 74,
     "metadata": {},
     "output_type": "execute_result"
    }
   ],
   "source": [
    "two_list"
   ]
  },
  {
   "cell_type": "code",
   "execution_count": 75,
   "metadata": {},
   "outputs": [
    {
     "data": {
      "text/plain": [
       "[3, 10, 15, 22, 27, 34, 39, 46, 51, 58, 63]"
      ]
     },
     "execution_count": 75,
     "metadata": {},
     "output_type": "execute_result"
    }
   ],
   "source": [
    "three_list"
   ]
  },
  {
   "cell_type": "code",
   "execution_count": 76,
   "metadata": {},
   "outputs": [
    {
     "data": {
      "text/plain": [
       "[4, 9, 16, 21, 28, 33, 40, 45, 52, 57, 64]"
      ]
     },
     "execution_count": 76,
     "metadata": {},
     "output_type": "execute_result"
    }
   ],
   "source": [
    "four_list"
   ]
  },
  {
   "cell_type": "code",
   "execution_count": 77,
   "metadata": {},
   "outputs": [
    {
     "data": {
      "text/plain": [
       "[5, 8, 17, 20, 29, 32, 41, 44, 53, 56, 65]"
      ]
     },
     "execution_count": 77,
     "metadata": {},
     "output_type": "execute_result"
    }
   ],
   "source": [
    "five_list"
   ]
  },
  {
   "cell_type": "code",
   "execution_count": 89,
   "metadata": {},
   "outputs": [
    {
     "name": "stdout",
     "output_type": "stream",
     "text": [
      "Enter a number:30\n"
     ]
    },
    {
     "ename": "NameError",
     "evalue": "name 'input_num' is not defined",
     "output_type": "error",
     "traceback": [
      "\u001b[1;31m---------------------------------------------------------------------------\u001b[0m",
      "\u001b[1;31mNameError\u001b[0m                                 Traceback (most recent call last)",
      "\u001b[1;32m<ipython-input-89-b2890af2d646>\u001b[0m in \u001b[0;36m<module>\u001b[1;34m\u001b[0m\n\u001b[0;32m      1\u001b[0m \u001b[0mnum\u001b[0m \u001b[1;33m=\u001b[0m \u001b[0mint\u001b[0m\u001b[1;33m(\u001b[0m\u001b[0minput\u001b[0m\u001b[1;33m(\u001b[0m\u001b[1;34m\"Enter a number:\"\u001b[0m\u001b[1;33m)\u001b[0m\u001b[1;33m)\u001b[0m\u001b[1;33m\u001b[0m\u001b[1;33m\u001b[0m\u001b[0m\n\u001b[1;32m----> 2\u001b[1;33m \u001b[1;32mfor\u001b[0m \u001b[0mnum\u001b[0m \u001b[1;32min\u001b[0m \u001b[0mrange\u001b[0m\u001b[1;33m(\u001b[0m\u001b[0minput_num\u001b[0m\u001b[1;33m)\u001b[0m\u001b[1;33m:\u001b[0m\u001b[1;33m\u001b[0m\u001b[1;33m\u001b[0m\u001b[0m\n\u001b[0m\u001b[0;32m      3\u001b[0m     \u001b[1;32mif\u001b[0m \u001b[0mall\u001b[0m\u001b[1;33m(\u001b[0m\u001b[0mnum\u001b[0m\u001b[1;33m%\u001b[0m\u001b[0mi\u001b[0m\u001b[1;33m!=\u001b[0m\u001b[1;36m0\u001b[0m \u001b[1;32mfor\u001b[0m \u001b[0mi\u001b[0m \u001b[1;32min\u001b[0m \u001b[0mrange\u001b[0m\u001b[1;33m(\u001b[0m\u001b[1;36m2\u001b[0m\u001b[1;33m,\u001b[0m\u001b[0mnum\u001b[0m\u001b[1;33m)\u001b[0m\u001b[1;33m)\u001b[0m\u001b[1;33m:\u001b[0m\u001b[1;33m\u001b[0m\u001b[1;33m\u001b[0m\u001b[0m\n\u001b[0;32m      4\u001b[0m         \u001b[0mprint\u001b[0m\u001b[1;33m(\u001b[0m\u001b[0mnum\u001b[0m\u001b[1;33m)\u001b[0m\u001b[1;33m\u001b[0m\u001b[1;33m\u001b[0m\u001b[0m\n",
      "\u001b[1;31mNameError\u001b[0m: name 'input_num' is not defined"
     ]
    }
   ],
   "source": [
    "num = int(input(\"Enter a number:\"))\n",
    "for num in range(input_num):\n",
    "    if all(num%i!=0 for i in range(2,num)):\n",
    "        print(num)"
   ]
  },
  {
   "cell_type": "code",
   "execution_count": 86,
   "metadata": {},
   "outputs": [
    {
     "name": "stdout",
     "output_type": "stream",
     "text": [
      "Enter the upper limit : 50\n",
      "2 3 5 7 11 13 17 19 23 29 31 37 41 43 47 "
     ]
    }
   ],
   "source": [
    "def prime_finder(num):\n",
    "    count = 0\n",
    "    for i in range(1,num+1):\n",
    "        if num % i == 0:\n",
    "            count +=1\n",
    "            if count > 2:\n",
    "                return False\n",
    "    if count == 2:\n",
    "        return True\n",
    "    else:\n",
    "        return False\n",
    "num = int(input(\"Enter the upper limit : \"))\n",
    "for i in range(1,num):\n",
    "    if prime_finder(i) == True:\n",
    "        print(i,end = \" \")"
   ]
  },
  {
   "cell_type": "code",
   "execution_count": 82,
   "metadata": {},
   "outputs": [
    {
     "data": {
      "text/plain": [
       "True"
      ]
     },
     "execution_count": 82,
     "metadata": {},
     "output_type": "execute_result"
    }
   ],
   "source": [
    "prime_finder(2)"
   ]
  },
  {
   "cell_type": "code",
   "execution_count": 84,
   "metadata": {},
   "outputs": [
    {
     "data": {
      "text/plain": [
       "False"
      ]
     },
     "execution_count": 84,
     "metadata": {},
     "output_type": "execute_result"
    }
   ],
   "source": [
    "prime_finder(8)"
   ]
  },
  {
   "cell_type": "code",
   "execution_count": 5,
   "metadata": {},
   "outputs": [
    {
     "name": "stdout",
     "output_type": "stream",
     "text": [
      "Enter the number of input : 6\n",
      "Enter the seat number : 67\n",
      "Enter the seat number : 68\n",
      "Enter the seat number : 69\n",
      "64 AS\n",
      "Enter the seat number : 70\n",
      "63 AS\n",
      "Enter the seat number : 61\n",
      "72 WS\n",
      "Enter the seat number : 62\n",
      "71 MS\n"
     ]
    }
   ],
   "source": [
    "one_list= [1]\n",
    "one = 1\n",
    "two_list= [2]\n",
    "two = 2\n",
    "three_list= [3]\n",
    "three = 3\n",
    "four_list= [4]\n",
    "four = 4\n",
    "five_list = [5]\n",
    "five = 5\n",
    "six_list = [6]\n",
    "six = 6\n",
    "isFlag = True\n",
    "seat_position = ['WS','MS','AS', 'AS','MS','WS']\n",
    "for i in range(200):\n",
    "    if isFlag == True:\n",
    "        one = one + 11\n",
    "        one_list.append(one)\n",
    "        two = two + 9\n",
    "        two_list.append(two)\n",
    "        three = three + 7\n",
    "        three_list.append(three)\n",
    "        four = four + 5\n",
    "        four_list.append(four)\n",
    "        five = five + 3\n",
    "        five_list.append(five)\n",
    "        six = six + 1\n",
    "        six_list.append(six)\n",
    "        isFlag = False\n",
    "    elif isFlag == False:\n",
    "        one = one + 1\n",
    "        one_list.append(one)\n",
    "        two = two + 3\n",
    "        two_list.append(two)\n",
    "        three = three + 5\n",
    "        three_list.append(three)\n",
    "        four = four + 7\n",
    "        four_list.append(four)\n",
    "        five = five + 9\n",
    "        five_list.append(five)\n",
    "        six = six + 11\n",
    "        six_list.append(six)\n",
    "        isFlag = True\n",
    "num_of_input = int(input(\"Enter the number of input : \"))\n",
    "while num_of_input > 0:\n",
    "    input_seat_number = int(input(\"Enter the seat number : \"))\n",
    "    if input_seat_number in one_list:\n",
    "        if input_seat_number + 11 in one_list:\n",
    "            print(input_seat_number+11,seat_position[0])\n",
    "        elif input_seat_number - 11 in one_list:\n",
    "            print(input_seat_number - 11,seat_position[0])\n",
    "\n",
    "    elif input_seat_number in two_list:\n",
    "        if input_seat_number + 9 in two_list:\n",
    "            print(input_seat_number+9,seat_position[1])\n",
    "        elif input_seat_number - 9 in two_list:\n",
    "            print(input_seat_number - 9,seat_position[1])\n",
    "\n",
    "    elif input_seat_number in three_list:\n",
    "        if input_seat_number + 7 in three_list:\n",
    "            print(input_seat_number+7,seat_position[2])\n",
    "        elif input_seat_number - 7 in three_list:\n",
    "            print(input_seat_number - 7,seat_position[2])\n",
    "\n",
    "    elif input_seat_number in four_list:\n",
    "        if input_seat_number + 5 in four_list:\n",
    "            print(input_seat_number+5,seat_position[3])\n",
    "        elif input_seat_number - 5 in four_list:\n",
    "            print(input_seat_number - 5,seat_position[3])\n",
    "\n",
    "    elif input_seat_number in five_list:\n",
    "        if input_seat_number + 3 in five_list:\n",
    "            print(input_seat_number+3,seat_position[4])\n",
    "        elif input_seat_number - 3 in five_list:\n",
    "            print(input_seat_number - 3,seat_position[4])\n",
    "\n",
    "    elif input_seat_number in six_list:\n",
    "        if input_seat_number + 1 in six_list:\n",
    "            print(input_seat_number+1,seat_position[5])\n",
    "        elif input_seat_number - 1 in six_list:\n",
    "            print(input_seat_number - 1,seat_position[5])\n",
    "    num_of_input -=1\n",
    "            "
   ]
  },
  {
   "cell_type": "code",
   "execution_count": 6,
   "metadata": {},
   "outputs": [
    {
     "name": "stdout",
     "output_type": "stream",
     "text": [
      "Enter the number of input : 6\n",
      "Enter the seat number : 67\n",
      "66 WS\n",
      "Enter the seat number : 65\n",
      "68 MS\n",
      "Enter the seat number : 59\n",
      "50 MS\n",
      "Enter the seat number : 12\n",
      "1 WS\n",
      "Enter the seat number : 57\n",
      "52 AS\n",
      "Enter the seat number : 34\n",
      "27 AS\n"
     ]
    }
   ],
   "source": [
    "one_list= [1]\n",
    "one = 1\n",
    "two_list= [2]\n",
    "two = 2\n",
    "three_list= [3]\n",
    "three = 3\n",
    "four_list= [4]\n",
    "four = 4\n",
    "five_list = [5]\n",
    "five = 5\n",
    "six_list = [6]\n",
    "six = 6\n",
    "isFlag = True\n",
    "seat_position = ['WS','MS','AS', 'AS','MS','WS']\n",
    "for i in range(200):\n",
    "    if isFlag == True:\n",
    "        one = one + 11\n",
    "        one_list.append(one)\n",
    "        two = two + 9\n",
    "        two_list.append(two)\n",
    "        three = three + 7\n",
    "        three_list.append(three)\n",
    "        four = four + 5\n",
    "        four_list.append(four)\n",
    "        five = five + 3\n",
    "        five_list.append(five)\n",
    "        six = six + 1\n",
    "        six_list.append(six)\n",
    "        isFlag = False\n",
    "    elif isFlag == False:\n",
    "        one = one + 1\n",
    "        one_list.append(one)\n",
    "        two = two + 3\n",
    "        two_list.append(two)\n",
    "        three = three + 5\n",
    "        three_list.append(three)\n",
    "        four = four + 7\n",
    "        four_list.append(four)\n",
    "        five = five + 9\n",
    "        five_list.append(five)\n",
    "        six = six + 11\n",
    "        six_list.append(six)\n",
    "        isFlag = True\n",
    "num_of_input = int(input(\"Enter the number of input : \"))\n",
    "while num_of_input > 0:\n",
    "    input_seat_number = int(input(\"Enter the seat number : \"))\n",
    "    if input_seat_number in one_list:\n",
    "        if input_seat_number + 11 in one_list:\n",
    "            print(input_seat_number+11,seat_position[0])\n",
    "        elif input_seat_number - 11 in one_list:\n",
    "            print(input_seat_number - 11,seat_position[0])\n",
    "\n",
    "    elif input_seat_number in two_list:\n",
    "        if input_seat_number + 9 in two_list:\n",
    "            print(input_seat_number+9,seat_position[1])\n",
    "        elif input_seat_number - 9 in two_list:\n",
    "            print(input_seat_number - 9,seat_position[1])\n",
    "\n",
    "    elif input_seat_number in three_list:\n",
    "        if input_seat_number + 7 in three_list:\n",
    "            print(input_seat_number+7,seat_position[2])\n",
    "        elif input_seat_number - 7 in three_list:\n",
    "            print(input_seat_number - 7,seat_position[2])\n",
    "\n",
    "    elif input_seat_number in four_list:\n",
    "        if input_seat_number + 5 in four_list:\n",
    "            print(input_seat_number+5,seat_position[3])\n",
    "        elif input_seat_number - 5 in four_list:\n",
    "            print(input_seat_number - 5,seat_position[3])\n",
    "\n",
    "    elif input_seat_number in five_list:\n",
    "        if input_seat_number + 3 in five_list:\n",
    "            print(input_seat_number+3,seat_position[4])\n",
    "        elif input_seat_number - 3 in five_list:\n",
    "            print(input_seat_number - 3,seat_position[4])\n",
    "\n",
    "    elif input_seat_number in six_list:\n",
    "        if input_seat_number + 1 in six_list:\n",
    "            print(input_seat_number+1,seat_position[5])\n",
    "        elif input_seat_number - 1 in six_list:\n",
    "            print(input_seat_number - 1,seat_position[5])\n",
    "    num_of_input -=1\n",
    "            "
   ]
  },
  {
   "cell_type": "code",
   "execution_count": 13,
   "metadata": {},
   "outputs": [
    {
     "name": "stdout",
     "output_type": "stream",
     "text": [
      "Enter the number of element : 5\n",
      "Enter the number : 1\n",
      "Enter the number : 2\n",
      "Enter the number : 3\n",
      "Enter the number : 4\n",
      "Enter the number : 5\n",
      "120\n"
     ]
    }
   ],
   "source": [
    "myList = []\n",
    "mult = 1\n",
    "num_of_element = int(input(\"Enter the number of element : \"))\n",
    "for i in range(num_of_element):\n",
    "    value = int(input(\"Enter the number : \"))\n",
    "    myList.append(value)\n",
    "for i in myList:\n",
    "    mult =( mult * i) % (10 ** 9 + 7)\n",
    "print(mult)"
   ]
  },
  {
   "cell_type": "code",
   "execution_count": 12,
   "metadata": {},
   "outputs": [
    {
     "name": "stdout",
     "output_type": "stream",
     "text": [
      "Enter : 20\n",
      "2\n",
      "3\n",
      "5\n",
      "7\n",
      "11\n",
      "13\n",
      "17\n",
      "19\n"
     ]
    }
   ],
   "source": [
    "num1 = int(input(\"Enter : \"))\n",
    "for num in range(2,num1):\n",
    "    if all(num%i!=0 for i in range(2,num)):\n",
    "        print(num)"
   ]
  },
  {
   "cell_type": "code",
   "execution_count": 15,
   "metadata": {},
   "outputs": [
    {
     "name": "stdout",
     "output_type": "stream",
     "text": [
      "5\n",
      "120\n"
     ]
    }
   ],
   "source": [
    "def factorial_number(num):\n",
    "    if num == 1:\n",
    "        return 1\n",
    "    else:\n",
    "        return num * factorial_number(num - 1)\n",
    "number = int(input())\n",
    "print(factorial_number(number))"
   ]
  },
  {
   "cell_type": "code",
   "execution_count": null,
   "metadata": {},
   "outputs": [],
   "source": [
    "myList = []\n",
    "mult = 1\n",
    "num_of_element = input(\"Enter the number of element : \")\n",
    "for i in range(num_of_element):\n",
    "    value = int(input(\"Enter the number : \"))\n",
    "    myList.append(value)\n",
    "for i in myList:\n",
    "    mult =( mult * i) % (10 ** 9 + 7)\n",
    "print(mult)"
   ]
  }
 ],
 "metadata": {
  "kernelspec": {
   "display_name": "Python 3",
   "language": "python",
   "name": "python3"
  },
  "language_info": {
   "codemirror_mode": {
    "name": "ipython",
    "version": 3
   },
   "file_extension": ".py",
   "mimetype": "text/x-python",
   "name": "python",
   "nbconvert_exporter": "python",
   "pygments_lexer": "ipython3",
   "version": "3.7.4"
  }
 },
 "nbformat": 4,
 "nbformat_minor": 2
}
