{
 "cells": [
  {
   "cell_type": "code",
   "execution_count": 1,
   "metadata": {},
   "outputs": [
    {
     "name": "stdout",
     "output_type": "stream",
     "text": [
      "Quiz game direct ans sytem.. for one correct ans +10 Score and for incorrect ans -10 is applied\n",
      "Enter the number of Question you want to ask : 3\n",
      "Enter the Question : First Name\n",
      "Enter the ans : Dikhit\n",
      "Enter the Question : Second Name\n",
      "Enter the ans : Kumar\n",
      "Enter the Question : Third Name\n",
      "Enter the ans : bhuyan\n",
      "First Name\n",
      "Ans please : Dikhit\n",
      "You are correct..\n",
      "Your score is 10\n",
      "Second Name\n",
      "Ans please : Kumar\n",
      "You are correct..\n",
      "Your score is 20\n",
      "Third Name\n",
      "Ans please : \n",
      "You are wrong..\n",
      "Your current score is 10\n",
      "Score is 10\n"
     ]
    }
   ],
   "source": [
    "def main():\n",
    "    print(\"Quiz game direct ans sytem.. for one correct ans +10 Score and for incorrect ans -10 is applied\")\n",
    "    numOfQuestion = int( input(\"Enter the number of Question you want to ask : \"))\n",
    "    QuestionContainer = list()\n",
    "    AnsContainer = list()\n",
    "    score = 0\n",
    "    for iterator in range(0,numOfQuestion,1):\n",
    "        Question = input(\"Enter the Question : \")\n",
    "        QuestionContainer.append(Question)\n",
    "        Ans = input(\"Enter the ans : \")\n",
    "        AnsContainer.append(Ans)\n",
    "    \n",
    "    for iterator in range(0,numOfQuestion,1):\n",
    "        print(QuestionContainer[iterator])\n",
    "        UserAns = input(\"Ans please : \")\n",
    "        if UserAns == AnsContainer[iterator]:\n",
    "            print(\"You are correct..\")\n",
    "            score = score + 10\n",
    "            print(\"Your score is \" + str(score))\n",
    "        elif UserAns != AnsContainer[iterator]:\n",
    "            print(\"You are wrong..\")\n",
    "            score = score - 10\n",
    "            print(\"Your current score is \" + str(score))\n",
    "\n",
    "    print(\"Score is \" + str(score))\n",
    "if __name__ == \"__main__\" : main()"
   ]
  },
  {
   "cell_type": "code",
   "execution_count": null,
   "metadata": {},
   "outputs": [
    {
     "name": "stdout",
     "output_type": "stream",
     "text": [
      "multiple choice master Quiz game\n",
      "Enter the nmber of Question : 2\n",
      "Enter the number of ans you want to display in the screen for select the correct one : 4\n"
     ]
    }
   ],
   "source": [
    "def main():\n",
    "    print(\"multiple choice master Quiz game\")\n",
    "    numOfQuestion = int( input(\"Enter the nmber of Question : \"))\n",
    "    questionContainer = list()\n",
    "    ansContainer = list()\n",
    "    ansIterator = 0\n",
    "    correctAns = list()\n",
    "    numOfMultipleChoiceAns = int(input(\"Enter the number of ans you want to display in the screen for select the correct one : \"))\n",
    "    for iterator in range(0,numOfQuestion,1):\n",
    "        Question = input(\"Enter the Question : \")\n",
    "        questionContainer.append(Question)\n",
    "        for ansIterator in range(ansIterator, ansIterator+numOfMultipleChoiceAns,1):\n",
    "            i=1\n",
    "            ans = input(\"choice ans \")\n",
    "            ansContainer.append(ans)\n",
    "            i=i+1\n",
    "            ansIterator+=numOfMultipleChoiceAns\n",
    "            correctCheck = input(\"Is it the correct ans (y/N) : \")\n",
    "            if correctCheck == 'y' or correctCheck == 'Y' or correctCheck == 'yes':\n",
    "                correctAns.append(ans)\n",
    "        \n",
    "    print(questionContainer)\n",
    "    print(ansContainer)\n",
    "    print(correctAns)\n",
    "\n",
    "if __name__ == \"__main__\":main()"
   ]
  },
  {
   "cell_type": "code",
   "execution_count": null,
   "metadata": {},
   "outputs": [],
   "source": []
  },
  {
   "cell_type": "code",
   "execution_count": null,
   "metadata": {},
   "outputs": [],
   "source": []
  }
 ],
 "metadata": {
  "kernelspec": {
   "display_name": "Python 3",
   "language": "python",
   "name": "python3"
  },
  "language_info": {
   "codemirror_mode": {
    "name": "ipython",
    "version": 3
   },
   "file_extension": ".py",
   "mimetype": "text/x-python",
   "name": "python",
   "nbconvert_exporter": "python",
   "pygments_lexer": "ipython3",
   "version": "3.7.4"
  }
 },
 "nbformat": 4,
 "nbformat_minor": 2
}
