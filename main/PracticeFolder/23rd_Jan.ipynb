{
 "cells": [
  {
   "cell_type": "code",
   "execution_count": 1,
   "metadata": {},
   "outputs": [],
   "source": [
    "with open(\"myFiles.txt\",'a+') as f:\n",
    "    f.write(\"abc \\n\")\n",
    "    f.write(\"bcd \\n\")\n",
    "    f.write(\"cde \\n\")"
   ]
  },
  {
   "cell_type": "code",
   "execution_count": 2,
   "metadata": {},
   "outputs": [],
   "source": [
    "with open(\"myFiles.txt\") as f:\n",
    "    data = f.read()"
   ]
  },
  {
   "cell_type": "code",
   "execution_count": 3,
   "metadata": {},
   "outputs": [
    {
     "data": {
      "text/plain": [
       "'abc \\nbcd \\ncde \\n'"
      ]
     },
     "execution_count": 3,
     "metadata": {},
     "output_type": "execute_result"
    }
   ],
   "source": [
    "data"
   ]
  },
  {
   "cell_type": "code",
   "execution_count": 9,
   "metadata": {},
   "outputs": [],
   "source": [
    "f = open(\"myFiles.txt\",'w+') as f:\n",
    "for lines in f:\n",
    "    f.write(lines.)"
   ]
  },
  {
   "cell_type": "code",
   "execution_count": 10,
   "metadata": {},
   "outputs": [
    {
     "data": {
      "text/plain": [
       "['abc \\n', 'bcd \\n', 'cde \\n']"
      ]
     },
     "execution_count": 10,
     "metadata": {},
     "output_type": "execute_result"
    }
   ],
   "source": [
    "data"
   ]
  },
  {
   "cell_type": "code",
   "execution_count": 11,
   "metadata": {},
   "outputs": [],
   "source": [
    "for items in data:\n",
    "    if items == 'abc':\n",
    "        data = data.replace(items,\"abcde\")"
   ]
  },
  {
   "cell_type": "code",
   "execution_count": 12,
   "metadata": {},
   "outputs": [
    {
     "data": {
      "text/plain": [
       "['abc \\n', 'bcd \\n', 'cde \\n']"
      ]
     },
     "execution_count": 12,
     "metadata": {},
     "output_type": "execute_result"
    }
   ],
   "source": [
    "data"
   ]
  },
  {
   "cell_type": "code",
   "execution_count": 5,
   "metadata": {},
   "outputs": [],
   "source": [
    "import requests as rq\n",
    "# lat = input(\"Enter latitude: \")\n",
    "# lon = input(\"Enter longitude: \")\n",
    "    \n",
    "response = rq.get(\"https://samples.openweathermap.org/data/2.5/weather?q=London,uk&appid=d1f33dde47c618309a063b43cde61cf5\")"
   ]
  },
  {
   "cell_type": "code",
   "execution_count": 6,
   "metadata": {},
   "outputs": [
    {
     "data": {
      "text/plain": [
       "{'coord': {'lon': -0.13, 'lat': 51.51},\n",
       " 'weather': [{'id': 300,\n",
       "   'main': 'Drizzle',\n",
       "   'description': 'light intensity drizzle',\n",
       "   'icon': '09d'}],\n",
       " 'base': 'stations',\n",
       " 'main': {'temp': 280.32,\n",
       "  'pressure': 1012,\n",
       "  'humidity': 81,\n",
       "  'temp_min': 279.15,\n",
       "  'temp_max': 281.15},\n",
       " 'visibility': 10000,\n",
       " 'wind': {'speed': 4.1, 'deg': 80},\n",
       " 'clouds': {'all': 90},\n",
       " 'dt': 1485789600,\n",
       " 'sys': {'type': 1,\n",
       "  'id': 5091,\n",
       "  'message': 0.0103,\n",
       "  'country': 'GB',\n",
       "  'sunrise': 1485762037,\n",
       "  'sunset': 1485794875},\n",
       " 'id': 2643743,\n",
       " 'name': 'London',\n",
       " 'cod': 200}"
      ]
     },
     "execution_count": 6,
     "metadata": {},
     "output_type": "execute_result"
    }
   ],
   "source": [
    "response.json()"
   ]
  },
  {
   "cell_type": "code",
   "execution_count": null,
   "metadata": {},
   "outputs": [],
   "source": []
  }
 ],
 "metadata": {
  "kernelspec": {
   "display_name": "Python 3",
   "language": "python",
   "name": "python3"
  },
  "language_info": {
   "codemirror_mode": {
    "name": "ipython",
    "version": 3
   },
   "file_extension": ".py",
   "mimetype": "text/x-python",
   "name": "python",
   "nbconvert_exporter": "python",
   "pygments_lexer": "ipython3",
   "version": "3.7.4"
  }
 },
 "nbformat": 4,
 "nbformat_minor": 2
}
