{
 "cells": [
  {
   "cell_type": "code",
   "execution_count": 1,
   "metadata": {},
   "outputs": [
    {
     "name": "stdout",
     "output_type": "stream",
     "text": [
      "hello\n"
     ]
    }
   ],
   "source": [
    "print(\"hello\")"
   ]
  },
  {
   "cell_type": "code",
   "execution_count": null,
   "metadata": {},
   "outputs": [],
   "source": [
    "import random\n",
    "lowerRange = int( input(\"Enter the lower range : \"))\n",
    "upperRange = int( input(\"Enter the upper range : \"))\n",
    "number = random.random() * ((upperRange - lowerRange)+lowerRange)\n",
    "number = int(number)\n",
    "print(\"Guess the number ... range of the generated number is {} and {}\".format(lowerRange, upperRange))\n",
    "userInputNumber = int( input(\"Enter the number : \"))\n",
    "while( userInputNumber != number ):\n",
    "    if userInputNumber > number:\n",
    "        print(\"Sorry you are too high\")\n",
    "    elif userInputNumber < number :\n",
    "        print(\"Sorry your are too low\")\n",
    "if userInputNumber == number:\n",
    "    print(\"you are correct\")\n"
   ]
  },
  {
   "cell_type": "code",
   "execution_count": null,
   "metadata": {},
   "outputs": [],
   "source": [
    "print(\"hello\")"
   ]
  },
  {
   "cell_type": "code",
   "execution_count": null,
   "metadata": {},
   "outputs": [],
   "source": []
  },
  {
   "cell_type": "code",
   "execution_count": null,
   "metadata": {},
   "outputs": [],
   "source": [
    "import random\n",
    "def randomNumberGenerator():\n",
    "    lowerRange = int( input(\"Enter the lower range : \"))\n",
    "    upperRange = int( input(\"Enter the upper range : \"))\n",
    "    number = random.random() * ((upperRange - lowerRange)+lowerRange)\n",
    "    number = int(number)\n",
    "    print(\"Guess the number ... range of the generated number is {} and {}\".format(lowerRange, upperRange))\n",
    "    userInputNumber = int( input(\"Enter the number : \"))\n",
    "    if userInputNumber > number:\n",
    "        print(\"Sorry you are too high... Correct ans is \", str(number))\n",
    "    elif userInputNumber < number :\n",
    "        print(\"Sorry your are too low...Correct ans is \", str(number))\n",
    "    elif userInputNumber == number:\n",
    "        print(\"you are correct.. great jobs\")\n",
    "\n",
    "def main():\n",
    "    numOfTimes = int(input(\"Enter the number of times you want to play : \"))\n",
    "    for iterator in range(0,numOfTimes,1):\n",
    "        print(\"Player \", str( (iterator % 2)+1), \" turn\")\n",
    "        randomNumberGenerator()\n",
    "\n",
    "if __name__ == \"__main__\" : main()"
   ]
  },
  {
   "cell_type": "code",
   "execution_count": null,
   "metadata": {},
   "outputs": [],
   "source": []
  },
  {
   "cell_type": "code",
   "execution_count": 1,
   "metadata": {},
   "outputs": [
    {
     "name": "stdout",
     "output_type": "stream",
     "text": [
      "Enter the number of times you want to play : 3\n",
      "Player  1  turn\n",
      "Enter the lower range : 1\n",
      "Enter the upper range : 10\n",
      "Guess the number ... range of the generated number is 1 and 10\n",
      "Enter the number : 7\n",
      "Sorry you are too high... Correct ans is  5\n",
      "Player  2  turn\n",
      "Enter the lower range : 110\n",
      "Enter the upper range : 120\n",
      "Guess the number ... range of the generated number is 110 and 120\n",
      "Enter the number : 115\n",
      "Sorry you are too high... Correct ans is  18\n",
      "Player  1  turn\n",
      "Enter the lower range : 0\n",
      "Enter the upper range : 9\n",
      "Guess the number ... range of the generated number is 0 and 9\n",
      "Enter the number : \n"
     ]
    },
    {
     "ename": "ValueError",
     "evalue": "invalid literal for int() with base 10: ''",
     "output_type": "error",
     "traceback": [
      "\u001b[1;31m---------------------------------------------------------------------------\u001b[0m",
      "\u001b[1;31mValueError\u001b[0m                                Traceback (most recent call last)",
      "\u001b[1;32m<ipython-input-1-85ea60aa5ad1>\u001b[0m in \u001b[0;36m<module>\u001b[1;34m\u001b[0m\n\u001b[0;32m     20\u001b[0m         \u001b[0mrandomNumberGenerator\u001b[0m\u001b[1;33m(\u001b[0m\u001b[1;33m)\u001b[0m\u001b[1;33m\u001b[0m\u001b[1;33m\u001b[0m\u001b[0m\n\u001b[0;32m     21\u001b[0m \u001b[1;33m\u001b[0m\u001b[0m\n\u001b[1;32m---> 22\u001b[1;33m \u001b[1;32mif\u001b[0m \u001b[0m__name__\u001b[0m \u001b[1;33m==\u001b[0m \u001b[1;34m\"__main__\"\u001b[0m \u001b[1;33m:\u001b[0m \u001b[0mmain\u001b[0m\u001b[1;33m(\u001b[0m\u001b[1;33m)\u001b[0m\u001b[1;33m\u001b[0m\u001b[1;33m\u001b[0m\u001b[0m\n\u001b[0m",
      "\u001b[1;32m<ipython-input-1-85ea60aa5ad1>\u001b[0m in \u001b[0;36mmain\u001b[1;34m()\u001b[0m\n\u001b[0;32m     18\u001b[0m     \u001b[1;32mfor\u001b[0m \u001b[0miterator\u001b[0m \u001b[1;32min\u001b[0m \u001b[0mrange\u001b[0m\u001b[1;33m(\u001b[0m\u001b[1;36m0\u001b[0m\u001b[1;33m,\u001b[0m\u001b[0mnumOfTimes\u001b[0m\u001b[1;33m,\u001b[0m\u001b[1;36m1\u001b[0m\u001b[1;33m)\u001b[0m\u001b[1;33m:\u001b[0m\u001b[1;33m\u001b[0m\u001b[1;33m\u001b[0m\u001b[0m\n\u001b[0;32m     19\u001b[0m         \u001b[0mprint\u001b[0m\u001b[1;33m(\u001b[0m\u001b[1;34m\"Player \"\u001b[0m\u001b[1;33m,\u001b[0m \u001b[0mstr\u001b[0m\u001b[1;33m(\u001b[0m \u001b[1;33m(\u001b[0m\u001b[0miterator\u001b[0m \u001b[1;33m%\u001b[0m \u001b[1;36m2\u001b[0m\u001b[1;33m)\u001b[0m\u001b[1;33m+\u001b[0m\u001b[1;36m1\u001b[0m\u001b[1;33m)\u001b[0m\u001b[1;33m,\u001b[0m \u001b[1;34m\" turn\"\u001b[0m\u001b[1;33m)\u001b[0m\u001b[1;33m\u001b[0m\u001b[1;33m\u001b[0m\u001b[0m\n\u001b[1;32m---> 20\u001b[1;33m         \u001b[0mrandomNumberGenerator\u001b[0m\u001b[1;33m(\u001b[0m\u001b[1;33m)\u001b[0m\u001b[1;33m\u001b[0m\u001b[1;33m\u001b[0m\u001b[0m\n\u001b[0m\u001b[0;32m     21\u001b[0m \u001b[1;33m\u001b[0m\u001b[0m\n\u001b[0;32m     22\u001b[0m \u001b[1;32mif\u001b[0m \u001b[0m__name__\u001b[0m \u001b[1;33m==\u001b[0m \u001b[1;34m\"__main__\"\u001b[0m \u001b[1;33m:\u001b[0m \u001b[0mmain\u001b[0m\u001b[1;33m(\u001b[0m\u001b[1;33m)\u001b[0m\u001b[1;33m\u001b[0m\u001b[1;33m\u001b[0m\u001b[0m\n",
      "\u001b[1;32m<ipython-input-1-85ea60aa5ad1>\u001b[0m in \u001b[0;36mrandomNumberGenerator\u001b[1;34m()\u001b[0m\n\u001b[0;32m      6\u001b[0m     \u001b[0mnumber\u001b[0m \u001b[1;33m=\u001b[0m \u001b[0mint\u001b[0m\u001b[1;33m(\u001b[0m\u001b[0mnumber\u001b[0m\u001b[1;33m)\u001b[0m\u001b[1;33m\u001b[0m\u001b[1;33m\u001b[0m\u001b[0m\n\u001b[0;32m      7\u001b[0m     \u001b[0mprint\u001b[0m\u001b[1;33m(\u001b[0m\u001b[1;34m\"Guess the number ... range of the generated number is {} and {}\"\u001b[0m\u001b[1;33m.\u001b[0m\u001b[0mformat\u001b[0m\u001b[1;33m(\u001b[0m\u001b[0mlowerRange\u001b[0m\u001b[1;33m,\u001b[0m \u001b[0mupperRange\u001b[0m\u001b[1;33m)\u001b[0m\u001b[1;33m)\u001b[0m\u001b[1;33m\u001b[0m\u001b[1;33m\u001b[0m\u001b[0m\n\u001b[1;32m----> 8\u001b[1;33m     \u001b[0muserInputNumber\u001b[0m \u001b[1;33m=\u001b[0m \u001b[0mint\u001b[0m\u001b[1;33m(\u001b[0m \u001b[0minput\u001b[0m\u001b[1;33m(\u001b[0m\u001b[1;34m\"Enter the number : \"\u001b[0m\u001b[1;33m)\u001b[0m\u001b[1;33m)\u001b[0m\u001b[1;33m\u001b[0m\u001b[1;33m\u001b[0m\u001b[0m\n\u001b[0m\u001b[0;32m      9\u001b[0m     \u001b[1;32mif\u001b[0m \u001b[0muserInputNumber\u001b[0m \u001b[1;33m>\u001b[0m \u001b[0mnumber\u001b[0m\u001b[1;33m:\u001b[0m\u001b[1;33m\u001b[0m\u001b[1;33m\u001b[0m\u001b[0m\n\u001b[0;32m     10\u001b[0m         \u001b[0mprint\u001b[0m\u001b[1;33m(\u001b[0m\u001b[1;34m\"Sorry you are too high... Correct ans is \"\u001b[0m\u001b[1;33m,\u001b[0m \u001b[0mstr\u001b[0m\u001b[1;33m(\u001b[0m\u001b[0mnumber\u001b[0m\u001b[1;33m)\u001b[0m\u001b[1;33m)\u001b[0m\u001b[1;33m\u001b[0m\u001b[1;33m\u001b[0m\u001b[0m\n",
      "\u001b[1;31mValueError\u001b[0m: invalid literal for int() with base 10: ''"
     ]
    }
   ],
   "source": [
    "import random\n",
    "def randomNumberGenerator():\n",
    "    lowerRange = int( input(\"Enter the lower range : \"))\n",
    "    upperRange = int( input(\"Enter the upper range : \"))\n",
    "    number = random.random() * ((upperRange - lowerRange)+lowerRange)\n",
    "    number = int(number)\n",
    "    print(\"Guess the number ... range of the generated number is {} and {}\".format(lowerRange, upperRange))\n",
    "    userInputNumber = int( input(\"Enter the number : \"))\n",
    "    if userInputNumber > number:\n",
    "        print(\"Sorry you are too high... Correct ans is \", str(number))\n",
    "    elif userInputNumber < number :\n",
    "        print(\"Sorry your are too low...Correct ans is \", str(number))\n",
    "    elif userInputNumber == number:\n",
    "        print(\"you are correct.. great job\")\n",
    "\n",
    "def main():\n",
    "    numOfTimes = int(input(\"Enter the number of times you want to play : \"))\n",
    "    for iterator in range(0,numOfTimes,1):\n",
    "        print(\"Player \", str( (iterator % 2)+1), \" turn\")\n",
    "        randomNumberGenerator()\n",
    "\n",
    "if __name__ == \"__main__\" : main()"
   ]
  },
  {
   "cell_type": "code",
   "execution_count": null,
   "metadata": {},
   "outputs": [],
   "source": []
  }
 ],
 "metadata": {
  "kernelspec": {
   "display_name": "Python 3",
   "language": "python",
   "name": "python3"
  },
  "language_info": {
   "codemirror_mode": {
    "name": "ipython",
    "version": 3
   },
   "file_extension": ".py",
   "mimetype": "text/x-python",
   "name": "python",
   "nbconvert_exporter": "python",
   "pygments_lexer": "ipython3",
   "version": "3.7.4"
  }
 },
 "nbformat": 4,
 "nbformat_minor": 2
}
