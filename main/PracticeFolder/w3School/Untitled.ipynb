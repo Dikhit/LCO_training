{
 "cells": [
  {
   "cell_type": "code",
   "execution_count": 1,
   "metadata": {},
   "outputs": [
    {
     "name": "stdout",
     "output_type": "stream",
     "text": [
      "Charecter inout\n",
      "Enter the first letter of your name : D\n",
      "hey your name starts with D\n"
     ]
    }
   ],
   "source": [
    "print('Charecter inout')\n",
    "UserCharecter = input(\"Enter the first letter of your name : \")\n",
    "print(\"hey your name starts with {}\".format(UserCharecter))"
   ]
  },
  {
   "cell_type": "code",
   "execution_count": 2,
   "metadata": {},
   "outputs": [
    {
     "name": "stdout",
     "output_type": "stream",
     "text": [
      "Even Or Odd\n",
      "Enter any number for cuhecking event or odd : 12\n",
      "It is a even number ..\n"
     ]
    }
   ],
   "source": [
    "print(\"Even Or Odd\")\n",
    "user_input = int(input(\"Enter any number for cuhecking event or odd : \"))\n",
    "if user_input % 2 == 0:\n",
    "    print(\"It is a even number ..\")\n",
    "else:\n",
    "    print(\"It is a odd number ..\")"
   ]
  },
  {
   "cell_type": "code",
   "execution_count": 4,
   "metadata": {},
   "outputs": [
    {
     "name": "stdout",
     "output_type": "stream",
     "text": [
      "Enter any number less than 10 : 1\n",
      "1,Enter any number less than 10 : 13\n"
     ]
    }
   ],
   "source": [
    "numbers = list()\n",
    "while True:\n",
    "    userInput = int(input(\"Enter any number less than 10 : \"))\n",
    "    if userInput > 10:\n",
    "        break\n",
    "    else :\n",
    "        numbers.append(userInput)\n",
    "    \n",
    "    print(num)"
   ]
  },
  {
   "cell_type": "code",
   "execution_count": 1,
   "metadata": {},
   "outputs": [
    {
     "name": "stdout",
     "output_type": "stream",
     "text": [
      "third problem\n"
     ]
    }
   ],
   "source": [
    "print(\"third problem\")"
   ]
  },
  {
   "cell_type": "code",
   "execution_count": 9,
   "metadata": {},
   "outputs": [
    {
     "name": "stdout",
     "output_type": "stream",
     "text": [
      "Enter the value : 1\n",
      "Enter the value : 2\n",
      "Enter the value : 3\n",
      "Enter the value : 4\n",
      "Enter the value : 5\n",
      "Enter the value for searched : 4\n",
      "Element found..\n",
      "Enter the new value to replace the old one : 3\n",
      "['1', '2', '3', '3', '5']\n"
     ]
    }
   ],
   "source": [
    "number = list()\n",
    "for iterator in range(5):\n",
    "    value = input(\"Enter the value : \")\n",
    "    number.append(value)\n",
    "searchValue = input(\"Enter the value for searched : \")\n",
    "for index,value in enumerate(number):\n",
    "    if searchValue == value:\n",
    "        print(\"Element found..\")\n",
    "        value = input(\"Enter the new value to replace the old one : \")\n",
    "        number[index] = value\n",
    "print(number)"
   ]
  },
  {
   "cell_type": "code",
   "execution_count": null,
   "metadata": {},
   "outputs": [],
   "source": []
  }
 ],
 "metadata": {
  "kernelspec": {
   "display_name": "Python 3",
   "language": "python",
   "name": "python3"
  },
  "language_info": {
   "codemirror_mode": {
    "name": "ipython",
    "version": 3
   },
   "file_extension": ".py",
   "mimetype": "text/x-python",
   "name": "python",
   "nbconvert_exporter": "python",
   "pygments_lexer": "ipython3",
   "version": "3.7.4"
  }
 },
 "nbformat": 4,
 "nbformat_minor": 2
}
