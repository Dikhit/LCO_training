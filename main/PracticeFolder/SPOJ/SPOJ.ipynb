{
 "cells": [
  {
   "cell_type": "code",
   "execution_count": 1,
   "metadata": {},
   "outputs": [
    {
     "name": "stdout",
     "output_type": "stream",
     "text": [
      " 1\n",
      "1\n",
      " 2\n",
      "2\n",
      " 33\n",
      "33\n",
      " 44\n",
      "44\n",
      " 56\n",
      "56\n",
      " 42\n"
     ]
    }
   ],
   "source": [
    "number=0\n",
    "while number!=42:\n",
    "    number=int(input())\n",
    "    if number==42:\n",
    "        break\n",
    "    else:\n",
    "        print(number)"
   ]
  },
  {
   "cell_type": "code",
   "execution_count": 1,
   "metadata": {},
   "outputs": [
    {
     "name": "stdout",
     "output_type": "stream",
     "text": [
      "2\n",
      "1\n",
      "10\n",
      "3\n",
      "5\n",
      "7\n",
      "\n",
      "\n",
      "3\n",
      "5\n",
      "3\n",
      "5\n",
      "\n",
      "\n"
     ]
    }
   ],
   "source": [
    "import math\n",
    "def primeGenerator(number):\n",
    "    if number == 1:\n",
    "        return False\n",
    "    upperLimit = number ** 0.5\n",
    "    upperLimit = math.ceil(upperLimit)\n",
    "    for iterator in range(2,upperLimit+1,1):\n",
    "        if number % iterator == 0:\n",
    "            return False\n",
    "    return True\n",
    "def main():\n",
    "    rangeTime = int(input())\n",
    "    lowerLimitContainer = list()\n",
    "    upperLimitContainer = list()\n",
    "    while rangeTime > 0:\n",
    "        firstNumber = int(input())\n",
    "        secondNumber = int(input())\n",
    "        primeNumber = list()\n",
    "        nonPrimeNumber = list()\n",
    "        for iterator in range(firstNumber, secondNumber+1,1):\n",
    "            if primeGenerator(iterator):\n",
    "                primeNumber.append(iterator)\n",
    "            else:\n",
    "                nonPrimeNumber.append(iterator)\n",
    "        for iterator in primeNumber:\n",
    "            print(iterator)\n",
    "        print('\\n')\n",
    "        rangeTime=rangeTime - 1\n",
    "if __name__ == \"__main__\" : main()"
   ]
  },
  {
   "cell_type": "code",
   "execution_count": null,
   "metadata": {},
   "outputs": [
    {
     "name": "stdout",
     "output_type": "stream",
     "text": [
      "Binary addition and substraction\n"
     ]
    }
   ],
   "source": [
    "print(\"Binary addition and substraction\")\n",
    "num1 = input(\"Enter the first binary number : \")\n",
    "num2 = input(\"Enter the second binary number : \")\n",
    "sum = bin(int(num1,2) - int(num2,2))\n",
    "print(sum)"
   ]
  },
  {
   "cell_type": "code",
   "execution_count": 22,
   "metadata": {},
   "outputs": [
    {
     "name": "stdout",
     "output_type": "stream",
     "text": [
      "Enter the number : 100\n",
      "Enter the second number : 10\n",
      "Enter the operation (+,-,*./)/\n",
      "100\n",
      "/10\n",
      "-----------\n",
      "10.0\n"
     ]
    }
   ],
   "source": [
    "firstNumber = int(input(\"Enter the number : \"))\n",
    "secondNumber = int(input(\"Enter the second number : \"))\n",
    "operator = input(\"Enter the operation (+,-,*./)\")\n",
    "if operator == '+':\n",
    "    print(firstNumber)\n",
    "    print(operator,str(secondNumber),sep=\"\")\n",
    "    print(\"-----------\")\n",
    "    print(int(firstNumber) + int(secondNumber))\n",
    "elif operator == '-':\n",
    "    print(firstNumber)\n",
    "    print(operator,str(secondNumber),sep=\"\")\n",
    "    print(\"-----------\")\n",
    "    print(int(firstNumber) - int(secondNumber))\n",
    "elif operator == '*':\n",
    "    print(firstNumber)\n",
    "    print(operator,str(secondNumber),sep=\"\")\n",
    "    print(\"-----------\")\n",
    "    print(int(firstNumber) * int(secondNumber))\n",
    "elif operator == '/':\n",
    "    print(firstNumber)\n",
    "    print(operator,str(secondNumber),sep=\"\")\n",
    "    print(\"-----------\")\n",
    "    print(int(firstNumber) / int(secondNumber))\n",
    "else:\n",
    "    print(\"Operator is not define\")"
   ]
  },
  {
   "cell_type": "code",
   "execution_count": 10,
   "metadata": {},
   "outputs": [
    {
     "name": "stdout",
     "output_type": "stream",
     "text": [
      "ACM reverse number problem ...\n",
      "Enter the first number : 1200\n",
      "Enter the second number : 20200\n",
      "reverse of 1200 is <function reverseNumber at 0x000002BB5A850B88>\n",
      "reverse of 1200 is <function reverseNumber at 0x000002BB5A850B88>\n"
     ]
    },
    {
     "ename": "TypeError",
     "evalue": "'int' object is not subscriptable",
     "output_type": "error",
     "traceback": [
      "\u001b[1;31m---------------------------------------------------------------------------\u001b[0m",
      "\u001b[1;31mTypeError\u001b[0m                                 Traceback (most recent call last)",
      "\u001b[1;32m<ipython-input-10-52af2f5d57d0>\u001b[0m in \u001b[0;36m<module>\u001b[1;34m\u001b[0m\n\u001b[0;32m     14\u001b[0m     \u001b[0mprint\u001b[0m\u001b[1;33m(\u001b[0m\u001b[1;34m\"reverse of {} is {}\"\u001b[0m\u001b[1;33m.\u001b[0m\u001b[0mformat\u001b[0m\u001b[1;33m(\u001b[0m\u001b[0msumOfReverse\u001b[0m\u001b[1;33m,\u001b[0m \u001b[0mreverseOfSum\u001b[0m\u001b[1;33m)\u001b[0m\u001b[1;33m)\u001b[0m\u001b[1;33m\u001b[0m\u001b[1;33m\u001b[0m\u001b[0m\n\u001b[0;32m     15\u001b[0m     \u001b[1;32mpass\u001b[0m\u001b[1;33m\u001b[0m\u001b[1;33m\u001b[0m\u001b[0m\n\u001b[1;32m---> 16\u001b[1;33m \u001b[1;32mif\u001b[0m \u001b[0m__name__\u001b[0m \u001b[1;33m==\u001b[0m \u001b[1;34m\"__main__\"\u001b[0m\u001b[1;33m:\u001b[0m\u001b[0mmain\u001b[0m\u001b[1;33m(\u001b[0m\u001b[1;33m)\u001b[0m\u001b[1;33m\u001b[0m\u001b[1;33m\u001b[0m\u001b[0m\n\u001b[0m",
      "\u001b[1;32m<ipython-input-10-52af2f5d57d0>\u001b[0m in \u001b[0;36mmain\u001b[1;34m()\u001b[0m\n\u001b[0;32m     11\u001b[0m     \u001b[0mprint\u001b[0m\u001b[1;33m(\u001b[0m\u001b[1;34m\"reverse of {} is {}\"\u001b[0m\u001b[1;33m.\u001b[0m\u001b[0mformat\u001b[0m\u001b[1;33m(\u001b[0m\u001b[0mfirstNumber\u001b[0m\u001b[1;33m,\u001b[0m \u001b[0mreverseNumber\u001b[0m\u001b[1;33m)\u001b[0m\u001b[1;33m)\u001b[0m\u001b[1;33m\u001b[0m\u001b[1;33m\u001b[0m\u001b[0m\n\u001b[0;32m     12\u001b[0m     \u001b[0msumOfReverse\u001b[0m \u001b[1;33m=\u001b[0m \u001b[0mint\u001b[0m\u001b[1;33m(\u001b[0m\u001b[0mreverseFirstNumber\u001b[0m\u001b[1;33m)\u001b[0m \u001b[1;33m+\u001b[0m \u001b[0mint\u001b[0m\u001b[1;33m(\u001b[0m\u001b[0mreverseSecondNumber\u001b[0m\u001b[1;33m)\u001b[0m\u001b[1;33m\u001b[0m\u001b[1;33m\u001b[0m\u001b[0m\n\u001b[1;32m---> 13\u001b[1;33m     \u001b[0mreverseOfSum\u001b[0m \u001b[1;33m=\u001b[0m \u001b[0mint\u001b[0m\u001b[1;33m(\u001b[0m\u001b[0mreverseNumber\u001b[0m\u001b[1;33m(\u001b[0m\u001b[0msumOfReverse\u001b[0m\u001b[1;33m)\u001b[0m\u001b[1;33m)\u001b[0m\u001b[1;33m\u001b[0m\u001b[1;33m\u001b[0m\u001b[0m\n\u001b[0m\u001b[0;32m     14\u001b[0m     \u001b[0mprint\u001b[0m\u001b[1;33m(\u001b[0m\u001b[1;34m\"reverse of {} is {}\"\u001b[0m\u001b[1;33m.\u001b[0m\u001b[0mformat\u001b[0m\u001b[1;33m(\u001b[0m\u001b[0msumOfReverse\u001b[0m\u001b[1;33m,\u001b[0m \u001b[0mreverseOfSum\u001b[0m\u001b[1;33m)\u001b[0m\u001b[1;33m)\u001b[0m\u001b[1;33m\u001b[0m\u001b[1;33m\u001b[0m\u001b[0m\n\u001b[0;32m     15\u001b[0m     \u001b[1;32mpass\u001b[0m\u001b[1;33m\u001b[0m\u001b[1;33m\u001b[0m\u001b[0m\n",
      "\u001b[1;32m<ipython-input-10-52af2f5d57d0>\u001b[0m in \u001b[0;36mreverseNumber\u001b[1;34m(number)\u001b[0m\n\u001b[0;32m      2\u001b[0m \u001b[1;33m\u001b[0m\u001b[0m\n\u001b[0;32m      3\u001b[0m \u001b[1;32mdef\u001b[0m \u001b[0mreverseNumber\u001b[0m\u001b[1;33m(\u001b[0m\u001b[0mnumber\u001b[0m\u001b[1;33m)\u001b[0m\u001b[1;33m:\u001b[0m\u001b[1;33m\u001b[0m\u001b[1;33m\u001b[0m\u001b[0m\n\u001b[1;32m----> 4\u001b[1;33m     \u001b[1;32mreturn\u001b[0m \u001b[0mnumber\u001b[0m\u001b[1;33m[\u001b[0m\u001b[1;33m:\u001b[0m\u001b[1;33m:\u001b[0m\u001b[1;33m-\u001b[0m\u001b[1;36m1\u001b[0m\u001b[1;33m]\u001b[0m\u001b[1;33m\u001b[0m\u001b[1;33m\u001b[0m\u001b[0m\n\u001b[0m\u001b[0;32m      5\u001b[0m \u001b[1;32mdef\u001b[0m \u001b[0mmain\u001b[0m\u001b[1;33m(\u001b[0m\u001b[1;33m)\u001b[0m\u001b[1;33m:\u001b[0m\u001b[1;33m\u001b[0m\u001b[1;33m\u001b[0m\u001b[0m\n\u001b[0;32m      6\u001b[0m     \u001b[0mfirstNumber\u001b[0m \u001b[1;33m=\u001b[0m \u001b[0minput\u001b[0m\u001b[1;33m(\u001b[0m\u001b[1;34m\"Enter the first number : \"\u001b[0m\u001b[1;33m)\u001b[0m\u001b[1;33m\u001b[0m\u001b[1;33m\u001b[0m\u001b[0m\n",
      "\u001b[1;31mTypeError\u001b[0m: 'int' object is not subscriptable"
     ]
    }
   ],
   "source": [
    "print(\"ACM reverse number problem ...\")\n",
    "\n",
    "def reverseNumber(number):\n",
    "    return number[::-1]\n",
    "def main():\n",
    "    firstNumber = input(\"Enter the first number : \")\n",
    "    secondNumber = input(\"Enter the second number : \")\n",
    "    reverseFirstNumber = int(reverseNumber(firstNumber))\n",
    "    reverseSecondNumber = int(reverseNumber(secondNumber))\n",
    "    print(\"reverse of {} is {}\".format(firstNumber, reverseNumber))\n",
    "    print(\"reverse of {} is {}\".format(firstNumber, reverseNumber))\n",
    "    sumOfReverse = int(reverseFirstNumber) + int(reverseSecondNumber)\n",
    "    reverseOfSum = int(reverseNumber(sumOfReverse))\n",
    "    print(\"reverse of {} is {}\".format(sumOfReverse, reverseOfSum))\n",
    "    pass\n",
    "if __name__ == \"__main__\":main()"
   ]
  },
  {
   "cell_type": "code",
   "execution_count": 1,
   "metadata": {},
   "outputs": [
    {
     "name": "stdout",
     "output_type": "stream",
     "text": [
      "2\n",
      "1 10\n"
     ]
    },
    {
     "ename": "ValueError",
     "evalue": "invalid literal for int() with base 10: '1 10'",
     "output_type": "error",
     "traceback": [
      "\u001b[1;31m---------------------------------------------------------------------------\u001b[0m",
      "\u001b[1;31mValueError\u001b[0m                                Traceback (most recent call last)",
      "\u001b[1;32m<ipython-input-1-bf0b7707c139>\u001b[0m in \u001b[0;36m<module>\u001b[1;34m\u001b[0m\n\u001b[0;32m     27\u001b[0m         \u001b[0mprint\u001b[0m\u001b[1;33m(\u001b[0m\u001b[1;34m'\\n'\u001b[0m\u001b[1;33m)\u001b[0m\u001b[1;33m\u001b[0m\u001b[1;33m\u001b[0m\u001b[0m\n\u001b[0;32m     28\u001b[0m         \u001b[0mrangeTime\u001b[0m\u001b[1;33m=\u001b[0m\u001b[0mrangeTime\u001b[0m \u001b[1;33m-\u001b[0m \u001b[1;36m1\u001b[0m\u001b[1;33m\u001b[0m\u001b[1;33m\u001b[0m\u001b[0m\n\u001b[1;32m---> 29\u001b[1;33m \u001b[1;32mif\u001b[0m \u001b[0m__name__\u001b[0m \u001b[1;33m==\u001b[0m \u001b[1;34m\"__main__\"\u001b[0m \u001b[1;33m:\u001b[0m \u001b[0mmain\u001b[0m\u001b[1;33m(\u001b[0m\u001b[1;33m)\u001b[0m\u001b[1;33m\u001b[0m\u001b[1;33m\u001b[0m\u001b[0m\n\u001b[0m",
      "\u001b[1;32m<ipython-input-1-bf0b7707c139>\u001b[0m in \u001b[0;36mmain\u001b[1;34m()\u001b[0m\n\u001b[0;32m     12\u001b[0m     \u001b[0mrangeTime\u001b[0m \u001b[1;33m=\u001b[0m \u001b[0mint\u001b[0m\u001b[1;33m(\u001b[0m\u001b[0minput\u001b[0m\u001b[1;33m(\u001b[0m\u001b[1;33m)\u001b[0m\u001b[1;33m)\u001b[0m\u001b[1;33m\u001b[0m\u001b[1;33m\u001b[0m\u001b[0m\n\u001b[0;32m     13\u001b[0m     \u001b[1;32mwhile\u001b[0m \u001b[0mrangeTime\u001b[0m \u001b[1;33m>\u001b[0m \u001b[1;36m0\u001b[0m\u001b[1;33m:\u001b[0m\u001b[1;33m\u001b[0m\u001b[1;33m\u001b[0m\u001b[0m\n\u001b[1;32m---> 14\u001b[1;33m         \u001b[0mfirstNumber\u001b[0m \u001b[1;33m=\u001b[0m \u001b[0mint\u001b[0m\u001b[1;33m(\u001b[0m\u001b[0minput\u001b[0m\u001b[1;33m(\u001b[0m\u001b[1;33m)\u001b[0m\u001b[1;33m)\u001b[0m\u001b[1;33m\u001b[0m\u001b[1;33m\u001b[0m\u001b[0m\n\u001b[0m\u001b[0;32m     15\u001b[0m         \u001b[0msecondNumber\u001b[0m \u001b[1;33m=\u001b[0m \u001b[0mint\u001b[0m\u001b[1;33m(\u001b[0m\u001b[0minput\u001b[0m\u001b[1;33m(\u001b[0m\u001b[1;33m)\u001b[0m\u001b[1;33m)\u001b[0m\u001b[1;33m\u001b[0m\u001b[1;33m\u001b[0m\u001b[0m\n\u001b[0;32m     16\u001b[0m \u001b[1;31m#         primeNumber = list()\u001b[0m\u001b[1;33m\u001b[0m\u001b[1;33m\u001b[0m\u001b[1;33m\u001b[0m\u001b[0m\n",
      "\u001b[1;31mValueError\u001b[0m: invalid literal for int() with base 10: '1 10'"
     ]
    }
   ],
   "source": [
    "import math\n",
    "def primeGenerator(number):\n",
    "    if number == 1:\n",
    "        return False\n",
    "    upperLimit = number ** 0.5\n",
    "    upperLimit = math.ceil(upperLimit)\n",
    "    for iterator in range(2,upperLimit+1,1):\n",
    "        if number % iterator == 0:\n",
    "            return False\n",
    "    return True\n",
    "def main():\n",
    "    rangeTime = int(input())\n",
    "    while rangeTime > 0:\n",
    "        firstNumber = int(input())\n",
    "        secondNumber = int(input())\n",
    "#         primeNumber = list()\n",
    "#         nonPrimeNumber = list()\n",
    "#         for iterator in range(firstNumber, secondNumber+1,1):\n",
    "#             if primeGenerator(iterator):\n",
    "#                 primeNumber.append(iterator)\n",
    "#             else:\n",
    "#                 nonPrimeNumber.append(iterator)\n",
    "#         for iterator in primeNumber:\n",
    "        for iterator in range(firstNumber, secondNumber+1,1):\n",
    "             if primeGenerator(iterator):\n",
    "                print(iterator)\n",
    "        print('\\n')\n",
    "        rangeTime=rangeTime - 1\n",
    "if __name__ == \"__main__\" : main()"
   ]
  },
  {
   "cell_type": "code",
   "execution_count": 4,
   "metadata": {},
   "outputs": [],
   "source": [
    "# prime finder using a single function\n",
    "def prime_finder(*args):\n",
    "    if len(args) == 2:\n",
    "        if args[0] <= args[1]:\n",
    "            count = 0\n",
    "            for item in range(args[0],args[1]+1):\n",
    "                for i in range(1,item+1):\n",
    "                    if item % i == 0:\n",
    "                        count = count + 1\n",
    "                        if count > 2:\n",
    "                            break\n",
    "                if count == 2:\n",
    "                    print(item)\n",
    "                count = 0\n",
    "        else:\n",
    "            return \"not a valid range\"\n",
    "    else:\n",
    "        return \"not a valid argument\""
   ]
  },
  {
   "cell_type": "code",
   "execution_count": 2,
   "metadata": {},
   "outputs": [],
   "source": [
    "num = [0] * 26"
   ]
  },
  {
   "cell_type": "markdown",
   "metadata": {},
   "source": [
    "num"
   ]
  },
  {
   "cell_type": "code",
   "execution_count": 3,
   "metadata": {},
   "outputs": [
    {
     "data": {
      "text/plain": [
       "[0, 0, 0, 0, 0, 0, 0, 0, 0, 0, 0, 0, 0, 0, 0, 0, 0, 0, 0, 0, 0, 0, 0, 0, 0, 0]"
      ]
     },
     "execution_count": 3,
     "metadata": {},
     "output_type": "execute_result"
    }
   ],
   "source": [
    "num"
   ]
  },
  {
   "cell_type": "code",
   "execution_count": null,
   "metadata": {},
   "outputs": [],
   "source": []
  }
 ],
 "metadata": {
  "kernelspec": {
   "display_name": "Python 3",
   "language": "python",
   "name": "python3"
  },
  "language_info": {
   "codemirror_mode": {
    "name": "ipython",
    "version": 3
   },
   "file_extension": ".py",
   "mimetype": "text/x-python",
   "name": "python",
   "nbconvert_exporter": "python",
   "pygments_lexer": "ipython3",
   "version": "3.7.4"
  }
 },
 "nbformat": 4,
 "nbformat_minor": 2
}
