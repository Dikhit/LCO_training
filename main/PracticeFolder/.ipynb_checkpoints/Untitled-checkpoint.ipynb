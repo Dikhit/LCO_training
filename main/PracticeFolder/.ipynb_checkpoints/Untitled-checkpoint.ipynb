{
 "cells": [
  {
   "cell_type": "code",
   "execution_count": 1,
   "metadata": {},
   "outputs": [],
   "source": [
    "from selenium import webdriver\n",
    "from selenium.webdriver.common.keys import Keys\n",
    "import time\n",
    "import bs4\n",
    "executable_path = \"C:\\\\Users\\\\Katlic\\\\Downloads\\\\web_drivers_chrome\\\\chromedriver.exe\""
   ]
  },
  {
   "cell_type": "code",
   "execution_count": 9,
   "metadata": {},
   "outputs": [
    {
     "name": "stdout",
     "output_type": "stream",
     "text": [
      "webdev \n"
     ]
    }
   ],
   "source": [
    "driver = webdriver.Chrome(executable_path=executable_path)\n",
    "driver.get(\"http://auxesis.in\")\n",
    "webdev = driver.find_element_by_xpath('/html/body/footer/div[2]/div/div/div[4]/address/a')\n",
    "print(\"webdev : \",webdev.text)\n",
    "time.sleep(2)\n",
    "driver.quit()\n"
   ]
  },
  {
   "cell_type": "code",
   "execution_count": null,
   "metadata": {},
   "outputs": [],
   "source": []
  }
 ],
 "metadata": {
  "kernelspec": {
   "display_name": "Python 3",
   "language": "python",
   "name": "python3"
  },
  "language_info": {
   "codemirror_mode": {
    "name": "ipython",
    "version": 3
   },
   "file_extension": ".py",
   "mimetype": "text/x-python",
   "name": "python",
   "nbconvert_exporter": "python",
   "pygments_lexer": "ipython3",
   "version": "3.7.4"
  }
 },
 "nbformat": 4,
 "nbformat_minor": 2
}
