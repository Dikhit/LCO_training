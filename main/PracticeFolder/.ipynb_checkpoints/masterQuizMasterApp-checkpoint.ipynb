{
 "cells": [
  {
   "cell_type": "code",
   "execution_count": null,
   "metadata": {},
   "outputs": [
    {
     "name": "stdout",
     "output_type": "stream",
     "text": [
      "Enter the number of Question you want to ask : 3\n",
      "Enter the Question : what is the capital of india\n"
     ]
    }
   ],
   "source": [
    "def main():\n",
    "    numOfQuestion = int( input(\"Enter the number of Question you want to ask : \"))\n",
    "    QuestionContainer = list()\n",
    "    AnsContainer = list()\n",
    "    score = 0\n",
    "    for iterator in range(0,numOfQuestion,1):\n",
    "        Question = input(\"Enter the Question : \")\n",
    "        QuestionContainer.append(Question)\n",
    "        Ans = input(\"Enter the ans : \")\n",
    "        AnsContainer.append(Ans)\n",
    "    \n",
    "    for iterator in range(0,numOfQuestion,1):\n",
    "        print(QuestionContainer[iterator])\n",
    "        UserAns = input(\"Ans please : \")\n",
    "        if UserAns == AnsContainer[iterator]:\n",
    "            print(\"You are correct..\")\n",
    "            score = score + 10\n",
    "            print(\"Your score is \" + str(score))\n",
    "        elif UserAns != AnsContainer[iterator]:\n",
    "            print(\"You are wrong..\")\n",
    "            score = score - 10\n",
    "            print(\"Your current score is \" + str(score))\n",
    "\n",
    "    print(\"Score is \" + str(score))\n",
    "if __name__ == \"__main__\" : main()"
   ]
  },
  {
   "cell_type": "code",
   "execution_count": null,
   "metadata": {},
   "outputs": [],
   "source": []
  }
 ],
 "metadata": {
  "kernelspec": {
   "display_name": "Python 3",
   "language": "python",
   "name": "python3"
  },
  "language_info": {
   "codemirror_mode": {
    "name": "ipython",
    "version": 3
   },
   "file_extension": ".py",
   "mimetype": "text/x-python",
   "name": "python",
   "nbconvert_exporter": "python",
   "pygments_lexer": "ipython3",
   "version": "3.7.4"
  }
 },
 "nbformat": 4,
 "nbformat_minor": 2
}
