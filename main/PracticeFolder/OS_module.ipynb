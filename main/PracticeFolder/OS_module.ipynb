{
 "cells": [
  {
   "cell_type": "code",
   "execution_count": 88,
   "metadata": {},
   "outputs": [],
   "source": [
    "import os\n",
    "from datetime import datetime\n",
    "import cv2\n",
    "import matplotlib.pyplot as plt"
   ]
  },
  {
   "cell_type": "markdown",
   "metadata": {},
   "source": [
    "## current directory\n",
    "os.getcwd()"
   ]
  },
  {
   "cell_type": "code",
   "execution_count": 8,
   "metadata": {},
   "outputs": [
    {
     "name": "stdout",
     "output_type": "stream",
     "text": [
      "C:\\Users\\Katlic\\Desktop\\New folder\n",
      "C:\\Users\\Katlic\\Desktop\\New folder\n"
     ]
    }
   ],
   "source": [
    "# directory changing\n",
    "print(os.getcwd())\n",
    "os.chdir('C:\\\\Users\\\\Katlic\\\\Desktop\\\\New folder')\n",
    "print(os.getcwd())\n",
    "with open(\"some.txt\", \"a+\") as file:\n",
    "    file.write('hey i am Dikhit')"
   ]
  },
  {
   "cell_type": "code",
   "execution_count": 11,
   "metadata": {},
   "outputs": [],
   "source": [
    "os.chdir('C:\\\\Users\\\\Katlic\\\\Documents\\\\LCO_Bootcamp\\\\LCO_class_assign_prac\\\\PracticeFolder')"
   ]
  },
  {
   "cell_type": "code",
   "execution_count": 12,
   "metadata": {},
   "outputs": [
    {
     "data": {
      "text/plain": [
       "'C:\\\\Users\\\\Katlic\\\\Documents\\\\LCO_Bootcamp\\\\LCO_class_assign_prac\\\\PracticeFolder'"
      ]
     },
     "execution_count": 12,
     "metadata": {},
     "output_type": "execute_result"
    }
   ],
   "source": [
    "os.getcwd()"
   ]
  },
  {
   "cell_type": "code",
   "execution_count": 13,
   "metadata": {},
   "outputs": [
    {
     "data": {
      "text/plain": [
       "['.ipynb_checkpoints',\n",
       " '1.jpg',\n",
       " '16thJan.ipynb',\n",
       " '17th_Jan.ipynb',\n",
       " '18th_Jan.ipynb',\n",
       " '19th_Jan.ipynb',\n",
       " '1st_Feb.ipynb',\n",
       " '21st_Jan.ipynb',\n",
       " '22nd_Jan.ipynb',\n",
       " '23rd_Jan.ipynb',\n",
       " '25th_Jan.ipynb',\n",
       " '26th_Jan.ipynb',\n",
       " '27th_Jan.ipynb',\n",
       " '2nd Feb.ipynb',\n",
       " '30th_Jan.ipynb',\n",
       " '31st_Jan.ipynb',\n",
       " '4th_Feb.ipynb',\n",
       " 'ab.png',\n",
       " 'abc.png',\n",
       " 'abcd.png',\n",
       " 'cookies.pkl',\n",
       " 'dark_text.jpg',\n",
       " 'data.txt',\n",
       " 'database',\n",
       " 'database.txt',\n",
       " 'Decorator.ipynb',\n",
       " 'files.txt',\n",
       " 'final_move.jpg',\n",
       " 'FunctionsPractice.ipynb',\n",
       " 'geckodriver.log',\n",
       " 'generators.ipynb',\n",
       " 'images',\n",
       " 'img_details.ipynb',\n",
       " 'lco_app',\n",
       " 'loc_courses.txt',\n",
       " 'masterQuizMasterApp.ipynb',\n",
       " 'myFiles.txt',\n",
       " 'numberPredictionGame.ipynb',\n",
       " 'numpy.ipynb',\n",
       " 'openCV_PK.ipynb',\n",
       " 'openCV_sentdesk.ipynb',\n",
       " 'OS_module.ipynb',\n",
       " 'output.avi',\n",
       " 'phase_two_first_exam.ipynb',\n",
       " 'python_data_structure.ipynb',\n",
       " 'random_user.jpg',\n",
       " 'regex.ipynb',\n",
       " 'rotated_img.jpg',\n",
       " 'sambhuH.w',\n",
       " 'saved.jpg',\n",
       " 'SPOJ',\n",
       " 'tkinter_practice_one.ipynb',\n",
       " 'Untitled.ipynb',\n",
       " 'Untitled1.ipynb',\n",
       " 'Untitled2.ipynb',\n",
       " 'Untitled3.ipynb',\n",
       " 'Untitled4.ipynb',\n",
       " 'Untitled5.ipynb',\n",
       " 'w3School',\n",
       " '__MACOSX']"
      ]
     },
     "execution_count": 13,
     "metadata": {},
     "output_type": "execute_result"
    }
   ],
   "source": [
    "os.listdir()"
   ]
  },
  {
   "cell_type": "code",
   "execution_count": 14,
   "metadata": {},
   "outputs": [
    {
     "data": {
      "text/plain": [
       "list"
      ]
     },
     "execution_count": 14,
     "metadata": {},
     "output_type": "execute_result"
    }
   ],
   "source": [
    "type(os.listdir())"
   ]
  },
  {
   "cell_type": "code",
   "execution_count": 20,
   "metadata": {},
   "outputs": [],
   "source": [
    "os.mkdir('python_created_this')"
   ]
  },
  {
   "cell_type": "code",
   "execution_count": 16,
   "metadata": {},
   "outputs": [],
   "source": [
    "os.makedirs('auto_generated/sub')"
   ]
  },
  {
   "cell_type": "code",
   "execution_count": 21,
   "metadata": {},
   "outputs": [],
   "source": [
    "os.rmdir('python_created_this')"
   ]
  },
  {
   "cell_type": "code",
   "execution_count": 18,
   "metadata": {},
   "outputs": [
    {
     "data": {
      "text/plain": [
       "['.ipynb_checkpoints',\n",
       " '1.jpg',\n",
       " '16thJan.ipynb',\n",
       " '17th_Jan.ipynb',\n",
       " '18th_Jan.ipynb',\n",
       " '19th_Jan.ipynb',\n",
       " '1st_Feb.ipynb',\n",
       " '21st_Jan.ipynb',\n",
       " '22nd_Jan.ipynb',\n",
       " '23rd_Jan.ipynb',\n",
       " '25th_Jan.ipynb',\n",
       " '26th_Jan.ipynb',\n",
       " '27th_Jan.ipynb',\n",
       " '2nd Feb.ipynb',\n",
       " '30th_Jan.ipynb',\n",
       " '31st_Jan.ipynb',\n",
       " '4th_Feb.ipynb',\n",
       " 'ab.png',\n",
       " 'abc.png',\n",
       " 'abcd.png',\n",
       " 'auto_generated',\n",
       " 'cookies.pkl',\n",
       " 'dark_text.jpg',\n",
       " 'data.txt',\n",
       " 'database',\n",
       " 'database.txt',\n",
       " 'Decorator.ipynb',\n",
       " 'files.txt',\n",
       " 'final_move.jpg',\n",
       " 'FunctionsPractice.ipynb',\n",
       " 'geckodriver.log',\n",
       " 'generators.ipynb',\n",
       " 'images',\n",
       " 'img_details.ipynb',\n",
       " 'lco_app',\n",
       " 'loc_courses.txt',\n",
       " 'masterQuizMasterApp.ipynb',\n",
       " 'myFiles.txt',\n",
       " 'numberPredictionGame.ipynb',\n",
       " 'numpy.ipynb',\n",
       " 'openCV_PK.ipynb',\n",
       " 'openCV_sentdesk.ipynb',\n",
       " 'OS_module.ipynb',\n",
       " 'output.avi',\n",
       " 'phase_two_first_exam.ipynb',\n",
       " 'python_data_structure.ipynb',\n",
       " 'random_user.jpg',\n",
       " 'regex.ipynb',\n",
       " 'rotated_img.jpg',\n",
       " 'sambhuH.w',\n",
       " 'saved.jpg',\n",
       " 'SPOJ',\n",
       " 'tkinter_practice_one.ipynb',\n",
       " 'Untitled.ipynb',\n",
       " 'Untitled1.ipynb',\n",
       " 'Untitled2.ipynb',\n",
       " 'Untitled3.ipynb',\n",
       " 'Untitled4.ipynb',\n",
       " 'Untitled5.ipynb',\n",
       " 'w3School',\n",
       " '__MACOSX']"
      ]
     },
     "execution_count": 18,
     "metadata": {},
     "output_type": "execute_result"
    }
   ],
   "source": [
    "os.listdir()"
   ]
  },
  {
   "cell_type": "code",
   "execution_count": 25,
   "metadata": {},
   "outputs": [
    {
     "ename": "FileNotFoundError",
     "evalue": "[WinError 2] The system cannot find the file specified: 'auto_generated/'",
     "output_type": "error",
     "traceback": [
      "\u001b[1;31m---------------------------------------------------------------------------\u001b[0m",
      "\u001b[1;31mFileNotFoundError\u001b[0m                         Traceback (most recent call last)",
      "\u001b[1;32m<ipython-input-25-36b29ce3db9b>\u001b[0m in \u001b[0;36m<module>\u001b[1;34m\u001b[0m\n\u001b[1;32m----> 1\u001b[1;33m \u001b[0mos\u001b[0m\u001b[1;33m.\u001b[0m\u001b[0mrmdir\u001b[0m\u001b[1;33m(\u001b[0m\u001b[1;34m'auto_generated/'\u001b[0m\u001b[1;33m)\u001b[0m\u001b[1;33m\u001b[0m\u001b[1;33m\u001b[0m\u001b[0m\n\u001b[0m",
      "\u001b[1;31mFileNotFoundError\u001b[0m: [WinError 2] The system cannot find the file specified: 'auto_generated/'"
     ]
    }
   ],
   "source": [
    "os.rmdir('auto_generated/')"
   ]
  },
  {
   "cell_type": "code",
   "execution_count": 26,
   "metadata": {},
   "outputs": [
    {
     "data": {
      "text/plain": [
       "['.ipynb_checkpoints',\n",
       " '1.jpg',\n",
       " '16thJan.ipynb',\n",
       " '17th_Jan.ipynb',\n",
       " '18th_Jan.ipynb',\n",
       " '19th_Jan.ipynb',\n",
       " '1st_Feb.ipynb',\n",
       " '21st_Jan.ipynb',\n",
       " '22nd_Jan.ipynb',\n",
       " '23rd_Jan.ipynb',\n",
       " '25th_Jan.ipynb',\n",
       " '26th_Jan.ipynb',\n",
       " '27th_Jan.ipynb',\n",
       " '2nd Feb.ipynb',\n",
       " '30th_Jan.ipynb',\n",
       " '31st_Jan.ipynb',\n",
       " '4th_Feb.ipynb',\n",
       " 'ab.png',\n",
       " 'abc.png',\n",
       " 'abcd.png',\n",
       " 'cookies.pkl',\n",
       " 'dark_text.jpg',\n",
       " 'data.txt',\n",
       " 'database',\n",
       " 'database.txt',\n",
       " 'Decorator.ipynb',\n",
       " 'files.txt',\n",
       " 'final_move.jpg',\n",
       " 'FunctionsPractice.ipynb',\n",
       " 'geckodriver.log',\n",
       " 'generators.ipynb',\n",
       " 'images',\n",
       " 'img_details.ipynb',\n",
       " 'lco_app',\n",
       " 'loc_courses.txt',\n",
       " 'masterQuizMasterApp.ipynb',\n",
       " 'myFiles.txt',\n",
       " 'numberPredictionGame.ipynb',\n",
       " 'numpy.ipynb',\n",
       " 'openCV_PK.ipynb',\n",
       " 'openCV_sentdesk.ipynb',\n",
       " 'OS_module.ipynb',\n",
       " 'output.avi',\n",
       " 'phase_two_first_exam.ipynb',\n",
       " 'python_data_structure.ipynb',\n",
       " 'random_user.jpg',\n",
       " 'regex.ipynb',\n",
       " 'rotated_img.jpg',\n",
       " 'sambhuH.w',\n",
       " 'saved.jpg',\n",
       " 'SPOJ',\n",
       " 'tkinter_practice_one.ipynb',\n",
       " 'Untitled.ipynb',\n",
       " 'Untitled1.ipynb',\n",
       " 'Untitled2.ipynb',\n",
       " 'Untitled3.ipynb',\n",
       " 'Untitled4.ipynb',\n",
       " 'Untitled5.ipynb',\n",
       " 'w3School',\n",
       " '__MACOSX']"
      ]
     },
     "execution_count": 26,
     "metadata": {},
     "output_type": "execute_result"
    }
   ],
   "source": [
    "os.listdir()"
   ]
  },
  {
   "cell_type": "code",
   "execution_count": 27,
   "metadata": {},
   "outputs": [],
   "source": [
    "os.rename('Untitled.ipynb','abc.ipynb')"
   ]
  },
  {
   "cell_type": "code",
   "execution_count": 28,
   "metadata": {},
   "outputs": [
    {
     "data": {
      "text/plain": [
       "['.ipynb_checkpoints',\n",
       " '1.jpg',\n",
       " '16thJan.ipynb',\n",
       " '17th_Jan.ipynb',\n",
       " '18th_Jan.ipynb',\n",
       " '19th_Jan.ipynb',\n",
       " '1st_Feb.ipynb',\n",
       " '21st_Jan.ipynb',\n",
       " '22nd_Jan.ipynb',\n",
       " '23rd_Jan.ipynb',\n",
       " '25th_Jan.ipynb',\n",
       " '26th_Jan.ipynb',\n",
       " '27th_Jan.ipynb',\n",
       " '2nd Feb.ipynb',\n",
       " '30th_Jan.ipynb',\n",
       " '31st_Jan.ipynb',\n",
       " '4th_Feb.ipynb',\n",
       " 'ab.png',\n",
       " 'abc.ipynb',\n",
       " 'abc.png',\n",
       " 'abcd.png',\n",
       " 'cookies.pkl',\n",
       " 'dark_text.jpg',\n",
       " 'data.txt',\n",
       " 'database',\n",
       " 'database.txt',\n",
       " 'Decorator.ipynb',\n",
       " 'files.txt',\n",
       " 'final_move.jpg',\n",
       " 'FunctionsPractice.ipynb',\n",
       " 'geckodriver.log',\n",
       " 'generators.ipynb',\n",
       " 'images',\n",
       " 'img_details.ipynb',\n",
       " 'lco_app',\n",
       " 'loc_courses.txt',\n",
       " 'masterQuizMasterApp.ipynb',\n",
       " 'myFiles.txt',\n",
       " 'numberPredictionGame.ipynb',\n",
       " 'numpy.ipynb',\n",
       " 'openCV_PK.ipynb',\n",
       " 'openCV_sentdesk.ipynb',\n",
       " 'OS_module.ipynb',\n",
       " 'output.avi',\n",
       " 'phase_two_first_exam.ipynb',\n",
       " 'python_data_structure.ipynb',\n",
       " 'random_user.jpg',\n",
       " 'regex.ipynb',\n",
       " 'rotated_img.jpg',\n",
       " 'sambhuH.w',\n",
       " 'saved.jpg',\n",
       " 'SPOJ',\n",
       " 'tkinter_practice_one.ipynb',\n",
       " 'Untitled1.ipynb',\n",
       " 'Untitled2.ipynb',\n",
       " 'Untitled3.ipynb',\n",
       " 'Untitled4.ipynb',\n",
       " 'Untitled5.ipynb',\n",
       " 'w3School',\n",
       " '__MACOSX']"
      ]
     },
     "execution_count": 28,
     "metadata": {},
     "output_type": "execute_result"
    }
   ],
   "source": [
    "os.listdir()"
   ]
  },
  {
   "cell_type": "code",
   "execution_count": 30,
   "metadata": {},
   "outputs": [
    {
     "data": {
      "text/plain": [
       "os.stat_result(st_mode=33206, st_ino=281474976959756, st_dev=2459770869, st_nlink=1, st_uid=0, st_gid=0, st_size=2857, st_atime=1579323094, st_mtime=1578659812, st_ctime=1578746091)"
      ]
     },
     "execution_count": 30,
     "metadata": {},
     "output_type": "execute_result"
    }
   ],
   "source": [
    "os.stat('abc.ipynb')"
   ]
  },
  {
   "cell_type": "code",
   "execution_count": 37,
   "metadata": {},
   "outputs": [],
   "source": [
    "time1 = os.stat('abc.ipynb').st_atime\n",
    "time2 = os.stat('abc.ipynb').st_mtime\n",
    "time3 = os.stat('abc.ipynb').st_ctime"
   ]
  },
  {
   "cell_type": "code",
   "execution_count": 39,
   "metadata": {},
   "outputs": [
    {
     "name": "stdout",
     "output_type": "stream",
     "text": [
      "2020-01-18 10:21:34.464049 2020-01-10 18:06:52.910861 2020-01-11 18:04:51.406599\n"
     ]
    }
   ],
   "source": [
    "print(datetime.fromtimestamp(time1), datetime.fromtimestamp(time2), datetime.fromtimestamp(time3))"
   ]
  },
  {
   "cell_type": "code",
   "execution_count": 41,
   "metadata": {},
   "outputs": [
    {
     "name": "stdout",
     "output_type": "stream",
     "text": [
      "dir_paths C:\\Users\\Katlic\\Documents\\LCO_Bootcamp\\LCO_class_assign_prac\\PracticeFolder\n",
      "dir_names ['.ipynb_checkpoints', 'database', 'images', 'lco_app', 'sambhuH.w', 'SPOJ', 'w3School', '__MACOSX']\n",
      "file_names ['1.jpg', '16thJan.ipynb', '17th_Jan.ipynb', '18th_Jan.ipynb', '19th_Jan.ipynb', '1st_Feb.ipynb', '21st_Jan.ipynb', '22nd_Jan.ipynb', '23rd_Jan.ipynb', '25th_Jan.ipynb', '26th_Jan.ipynb', '27th_Jan.ipynb', '2nd Feb.ipynb', '30th_Jan.ipynb', '31st_Jan.ipynb', '4th_Feb.ipynb', 'ab.png', 'abc.ipynb', 'abc.png', 'abcd.png', 'cookies.pkl', 'dark_text.jpg', 'data.txt', 'database.txt', 'Decorator.ipynb', 'files.txt', 'final_move.jpg', 'FunctionsPractice.ipynb', 'geckodriver.log', 'generators.ipynb', 'img_details.ipynb', 'loc_courses.txt', 'masterQuizMasterApp.ipynb', 'myFiles.txt', 'numberPredictionGame.ipynb', 'numpy.ipynb', 'openCV_PK.ipynb', 'openCV_sentdesk.ipynb', 'OS_module.ipynb', 'output.avi', 'phase_two_first_exam.ipynb', 'python_data_structure.ipynb', 'random_user.jpg', 'regex.ipynb', 'rotated_img.jpg', 'saved.jpg', 'tkinter_practice_one.ipynb', 'Untitled1.ipynb', 'Untitled2.ipynb', 'Untitled3.ipynb', 'Untitled4.ipynb', 'Untitled5.ipynb']\n",
      "\n",
      "\n",
      "\n",
      "dir_paths C:\\Users\\Katlic\\Documents\\LCO_Bootcamp\\LCO_class_assign_prac\\PracticeFolder\\.ipynb_checkpoints\n",
      "dir_names []\n",
      "file_names ['16thJan-checkpoint.ipynb', '17th_Jan-checkpoint.ipynb', '18th_Jan-checkpoint.ipynb', '19th_Jan-checkpoint.ipynb', '1st_Feb-checkpoint.ipynb', '21st_Jan-checkpoint.ipynb', '22nd_Jan-checkpoint.ipynb', '23rd_Jan-checkpoint.ipynb', '25th_Jan-checkpoint.ipynb', '26th_Jan-checkpoint.ipynb', '27th_Jan-checkpoint.ipynb', '2nd Feb-checkpoint.ipynb', '30th_Jan-checkpoint.ipynb', '31st_Jan-checkpoint.ipynb', '4th_Feb-checkpoint.ipynb', 'Decorator-checkpoint.ipynb', 'FunctionsPractice-checkpoint.ipynb', 'generators-checkpoint.ipynb', 'img_details-checkpoint.ipynb', 'masterQuizMasterApp-checkpoint.ipynb', 'numberPredictionGame-checkpoint.ipynb', 'numpy-checkpoint.ipynb', 'openCV_PK-checkpoint.ipynb', 'openCV_sentdesk-checkpoint.ipynb', 'OS_module-checkpoint.ipynb', 'phase_two_first_exam-checkpoint.ipynb', 'python_data_structure-checkpoint.ipynb', 'regex-checkpoint.ipynb', 'Untitled-checkpoint.ipynb', 'Untitled1-checkpoint.ipynb', 'Untitled2-checkpoint.ipynb', 'Untitled3-checkpoint.ipynb', 'Untitled4-checkpoint.ipynb', 'Untitled5-checkpoint.ipynb']\n",
      "\n",
      "\n",
      "\n",
      "dir_paths C:\\Users\\Katlic\\Documents\\LCO_Bootcamp\\LCO_class_assign_prac\\PracticeFolder\\database\n",
      "dir_names []\n",
      "file_names ['address.db', 'data.txt', 'employee_address.db']\n",
      "\n",
      "\n",
      "\n",
      "dir_paths C:\\Users\\Katlic\\Documents\\LCO_Bootcamp\\LCO_class_assign_prac\\PracticeFolder\\images\n",
      "dir_names []\n",
      "file_names ['1.jpg', '2.jpg', '3.jpg', '4.jpg', '5.jpg']\n",
      "\n",
      "\n",
      "\n",
      "dir_paths C:\\Users\\Katlic\\Documents\\LCO_Bootcamp\\LCO_class_assign_prac\\PracticeFolder\\lco_app\n",
      "dir_names ['.ipynb_checkpoints']\n",
      "file_names ['python_competition.ipynb', 'python_crash_course.ipynb']\n",
      "\n",
      "\n",
      "\n",
      "dir_paths C:\\Users\\Katlic\\Documents\\LCO_Bootcamp\\LCO_class_assign_prac\\PracticeFolder\\lco_app\\.ipynb_checkpoints\n",
      "dir_names []\n",
      "file_names ['python_crash_course-checkpoint.ipynb', 'Untitled-checkpoint.ipynb', 'Untitled1-checkpoint.ipynb']\n",
      "\n",
      "\n",
      "\n",
      "dir_paths C:\\Users\\Katlic\\Documents\\LCO_Bootcamp\\LCO_class_assign_prac\\PracticeFolder\\sambhuH.w\n",
      "dir_names []\n",
      "file_names ['.DS_Store', 'A3.txt', 'am.txt', 'amzon_phn.py', 'bitcoin.py', 'bitcoin.txt', 'pexels.py', 'spotify.py', 'spotify.txt', 'zomata.py']\n",
      "\n",
      "\n",
      "\n",
      "dir_paths C:\\Users\\Katlic\\Documents\\LCO_Bootcamp\\LCO_class_assign_prac\\PracticeFolder\\SPOJ\n",
      "dir_names ['.ipynb_checkpoints']\n",
      "file_names ['SPOJ.ipynb']\n",
      "\n",
      "\n",
      "\n",
      "dir_paths C:\\Users\\Katlic\\Documents\\LCO_Bootcamp\\LCO_class_assign_prac\\PracticeFolder\\SPOJ\\.ipynb_checkpoints\n",
      "dir_names []\n",
      "file_names ['SPOJ-checkpoint.ipynb', 'Untitled-checkpoint.ipynb']\n",
      "\n",
      "\n",
      "\n",
      "dir_paths C:\\Users\\Katlic\\Documents\\LCO_Bootcamp\\LCO_class_assign_prac\\PracticeFolder\\w3School\n",
      "dir_names ['.ipynb_checkpoints']\n",
      "file_names ['Untitled.ipynb']\n",
      "\n",
      "\n",
      "\n",
      "dir_paths C:\\Users\\Katlic\\Documents\\LCO_Bootcamp\\LCO_class_assign_prac\\PracticeFolder\\w3School\\.ipynb_checkpoints\n",
      "dir_names []\n",
      "file_names ['Untitled-checkpoint.ipynb']\n",
      "\n",
      "\n",
      "\n",
      "dir_paths C:\\Users\\Katlic\\Documents\\LCO_Bootcamp\\LCO_class_assign_prac\\PracticeFolder\\__MACOSX\n",
      "dir_names ['sambhuH.w']\n",
      "file_names []\n",
      "\n",
      "\n",
      "\n",
      "dir_paths C:\\Users\\Katlic\\Documents\\LCO_Bootcamp\\LCO_class_assign_prac\\PracticeFolder\\__MACOSX\\sambhuH.w\n",
      "dir_names []\n",
      "file_names ['._.DS_Store', '._A3.txt', '._amzon_phn.py', '._bitcoin.py', '._pexels.py', '._spotify.py', '._zomata.py']\n",
      "\n",
      "\n",
      "\n"
     ]
    }
   ],
   "source": [
    "traverse_path = \"C:\\\\Users\\\\Katlic\\\\Documents\\\\LCO_Bootcamp\\\\LCO_class_assign_prac\\\\PracticeFolder\"\n",
    "for dir_paths, dir_names, file_names in os.walk(traverse_path):\n",
    "    print(\"dir_paths\", dir_paths)\n",
    "    print('dir_names', dir_names)\n",
    "    print('file_names', file_names)\n",
    "    print('\\n\\n')"
   ]
  },
  {
   "cell_type": "code",
   "execution_count": 47,
   "metadata": {},
   "outputs": [],
   "source": [
    "traverse_path = \"C:\\\\Users\\\\Katlic\\\\Documents\\\\LCO_Bootcamp\\\\LCO_class_assign_prac\\\\PracticeFolder\"\n",
    "final_path = \"\"\n",
    "for dir_paths, dir_names, file_names in os.walk(traverse_path):\n",
    "    if 'data.txt' in file_names:\n",
    "        print(\"file found\")\n",
    "        final_path = dir_paths"
   ]
  },
  {
   "cell_type": "code",
   "execution_count": 48,
   "metadata": {},
   "outputs": [
    {
     "data": {
      "text/plain": [
       "'C:\\\\Users\\\\Katlic\\\\Documents\\\\LCO_Bootcamp\\\\python_projects\\\\typing_speed'"
      ]
     },
     "execution_count": 48,
     "metadata": {},
     "output_type": "execute_result"
    }
   ],
   "source": [
    "final_path"
   ]
  },
  {
   "cell_type": "markdown",
   "metadata": {},
   "source": [
    "### Search File Using OS module"
   ]
  },
  {
   "cell_type": "code",
   "execution_count": 50,
   "metadata": {},
   "outputs": [
    {
     "name": "stdout",
     "output_type": "stream",
     "text": [
      "['.ipynb_checkpoints', 'database', 'images', 'lco_app', 'sambhuH.w', 'SPOJ', 'w3School', '__MACOSX']\n",
      "C:\\Users\\Katlic\\Documents\\LCO_Bootcamp\\LCO_class_assign_prac\\PracticeFolder\n"
     ]
    }
   ],
   "source": [
    "# traverse_path = \"C:\\\\Users\\\\Katlic\"\n",
    "# file_name = \"Untitled2.ipynb\"\n",
    "\n",
    "traverse_from = input(\"Enter the starting path : \")\n",
    "final_path = input(\"Enter the file name : \")\n",
    "\n",
    "final_path = \"\"\n",
    "\n",
    "for dir_paths, dir_names, file_names in os.walk(traverse_path):\n",
    "    if file_name in file_names:\n",
    "        print(dir_names)\n",
    "        print(dir_paths)\n",
    "        final_path = dir_paths"
   ]
  },
  {
   "cell_type": "code",
   "execution_count": 51,
   "metadata": {},
   "outputs": [
    {
     "data": {
      "text/plain": [
       "'C:\\\\Users\\\\Katlic\\\\Documents\\\\LCO_Bootcamp\\\\LCO_class_assign_prac\\\\PracticeFolder'"
      ]
     },
     "execution_count": 51,
     "metadata": {},
     "output_type": "execute_result"
    }
   ],
   "source": [
    "final_path"
   ]
  },
  {
   "cell_type": "code",
   "execution_count": 56,
   "metadata": {},
   "outputs": [],
   "source": [
    "x = os.environ.get('HOME')"
   ]
  },
  {
   "cell_type": "markdown",
   "metadata": {},
   "source": [
    "# Video 2"
   ]
  },
  {
   "cell_type": "code",
   "execution_count": 58,
   "metadata": {},
   "outputs": [
    {
     "ename": "AttributeError",
     "evalue": "module 'os' has no attribute 'getuid'",
     "output_type": "error",
     "traceback": [
      "\u001b[1;31m---------------------------------------------------------------------------\u001b[0m",
      "\u001b[1;31mAttributeError\u001b[0m                            Traceback (most recent call last)",
      "\u001b[1;32m<ipython-input-58-d10ac9d71d9f>\u001b[0m in \u001b[0;36m<module>\u001b[1;34m\u001b[0m\n\u001b[0;32m      1\u001b[0m \u001b[1;31m# get current user id\u001b[0m\u001b[1;33m\u001b[0m\u001b[1;33m\u001b[0m\u001b[1;33m\u001b[0m\u001b[0m\n\u001b[1;32m----> 2\u001b[1;33m \u001b[0mos\u001b[0m\u001b[1;33m.\u001b[0m\u001b[0mgetuid\u001b[0m\u001b[1;33m(\u001b[0m\u001b[1;33m)\u001b[0m\u001b[1;33m\u001b[0m\u001b[1;33m\u001b[0m\u001b[0m\n\u001b[0m",
      "\u001b[1;31mAttributeError\u001b[0m: module 'os' has no attribute 'getuid'"
     ]
    }
   ],
   "source": [
    "# get current user id\n",
    "os.getuid()"
   ]
  },
  {
   "cell_type": "code",
   "execution_count": 59,
   "metadata": {},
   "outputs": [
    {
     "data": {
      "text/plain": [
       "'Katlic'"
      ]
     },
     "execution_count": 59,
     "metadata": {},
     "output_type": "execute_result"
    }
   ],
   "source": [
    "os.getlogin()"
   ]
  },
  {
   "cell_type": "code",
   "execution_count": 61,
   "metadata": {},
   "outputs": [
    {
     "data": {
      "text/plain": [
       "11432"
      ]
     },
     "execution_count": 61,
     "metadata": {},
     "output_type": "execute_result"
    }
   ],
   "source": [
    "os.getpid()"
   ]
  },
  {
   "cell_type": "code",
   "execution_count": 62,
   "metadata": {},
   "outputs": [
    {
     "data": {
      "text/plain": [
       "19120"
      ]
     },
     "execution_count": 62,
     "metadata": {},
     "output_type": "execute_result"
    }
   ],
   "source": [
    "os.getppid()"
   ]
  },
  {
   "cell_type": "code",
   "execution_count": 66,
   "metadata": {},
   "outputs": [
    {
     "data": {
      "text/plain": [
       "str"
      ]
     },
     "execution_count": 66,
     "metadata": {},
     "output_type": "execute_result"
    }
   ],
   "source": [
    "type(os.name)"
   ]
  },
  {
   "cell_type": "code",
   "execution_count": 67,
   "metadata": {},
   "outputs": [
    {
     "data": {
      "text/plain": [
       "'nt'"
      ]
     },
     "execution_count": 67,
     "metadata": {},
     "output_type": "execute_result"
    }
   ],
   "source": [
    "os.name"
   ]
  },
  {
   "cell_type": "code",
   "execution_count": 68,
   "metadata": {},
   "outputs": [
    {
     "data": {
      "text/plain": [
       "int"
      ]
     },
     "execution_count": 68,
     "metadata": {},
     "output_type": "execute_result"
    }
   ],
   "source": [
    "type(os.getpid())"
   ]
  },
  {
   "cell_type": "code",
   "execution_count": 109,
   "metadata": {},
   "outputs": [],
   "source": [
    "path = \"C:\\\\Users\\\\Katlic\\\\AppData\\\\Local\\\\Continuum\\\\anaconda3\\\\Lib\\\\site-packages\\\\cv2\\\\data\\\\haarcascade_frontalface_default.XML\"\n",
    "\n",
    "def load_images_from_folder(folder):\n",
    "    images = []\n",
    "    for filename in os.listdir(folder):\n",
    "        img = cv2.imread(os.path.join(folder,filename))\n",
    "        if img is not None:\n",
    "            gray = cv2.cvtColor(img, cv2.COLOR_BGR2GRAY)\n",
    "            detector = cv2.CascadeClassifier(path)\n",
    "            faces = detector.detectMultiScale(gray,1.3,5)\n",
    "            print(faces)\n",
    "    return images"
   ]
  },
  {
   "cell_type": "code",
   "execution_count": 110,
   "metadata": {},
   "outputs": [],
   "source": [
    "path = 'C:\\\\Users\\\\Katlic\\\\Documents\\\\LCO_Bootcamp\\\\LCO_class_assign_prac\\\\PracticeFolder'"
   ]
  },
  {
   "cell_type": "code",
   "execution_count": 111,
   "metadata": {},
   "outputs": [
    {
     "ename": "error",
     "evalue": "OpenCV(4.1.2) C:\\projects\\opencv-python\\opencv\\modules\\objdetect\\src\\cascadedetect.cpp:1689: error: (-215:Assertion failed) !empty() in function 'cv::CascadeClassifier::detectMultiScale'\n",
     "output_type": "error",
     "traceback": [
      "\u001b[1;31m---------------------------------------------------------------------------\u001b[0m",
      "\u001b[1;31merror\u001b[0m                                     Traceback (most recent call last)",
      "\u001b[1;32m<ipython-input-111-9d8a2b48af07>\u001b[0m in \u001b[0;36m<module>\u001b[1;34m\u001b[0m\n\u001b[1;32m----> 1\u001b[1;33m \u001b[0mx\u001b[0m \u001b[1;33m=\u001b[0m \u001b[0mload_images_from_folder\u001b[0m\u001b[1;33m(\u001b[0m\u001b[0mpath\u001b[0m\u001b[1;33m)\u001b[0m\u001b[1;33m\u001b[0m\u001b[1;33m\u001b[0m\u001b[0m\n\u001b[0m",
      "\u001b[1;32m<ipython-input-109-48ca4077ce86>\u001b[0m in \u001b[0;36mload_images_from_folder\u001b[1;34m(folder)\u001b[0m\n\u001b[0;32m      8\u001b[0m             \u001b[0mgray\u001b[0m \u001b[1;33m=\u001b[0m \u001b[0mcv2\u001b[0m\u001b[1;33m.\u001b[0m\u001b[0mcvtColor\u001b[0m\u001b[1;33m(\u001b[0m\u001b[0mimg\u001b[0m\u001b[1;33m,\u001b[0m \u001b[0mcv2\u001b[0m\u001b[1;33m.\u001b[0m\u001b[0mCOLOR_BGR2GRAY\u001b[0m\u001b[1;33m)\u001b[0m\u001b[1;33m\u001b[0m\u001b[1;33m\u001b[0m\u001b[0m\n\u001b[0;32m      9\u001b[0m             \u001b[0mdetector\u001b[0m \u001b[1;33m=\u001b[0m \u001b[0mcv2\u001b[0m\u001b[1;33m.\u001b[0m\u001b[0mCascadeClassifier\u001b[0m\u001b[1;33m(\u001b[0m\u001b[0mpath\u001b[0m\u001b[1;33m)\u001b[0m\u001b[1;33m\u001b[0m\u001b[1;33m\u001b[0m\u001b[0m\n\u001b[1;32m---> 10\u001b[1;33m             \u001b[0mfaces\u001b[0m \u001b[1;33m=\u001b[0m \u001b[0mdetector\u001b[0m\u001b[1;33m.\u001b[0m\u001b[0mdetectMultiScale\u001b[0m\u001b[1;33m(\u001b[0m\u001b[0mgray\u001b[0m\u001b[1;33m,\u001b[0m\u001b[1;36m1.3\u001b[0m\u001b[1;33m,\u001b[0m\u001b[1;36m5\u001b[0m\u001b[1;33m)\u001b[0m\u001b[1;33m\u001b[0m\u001b[1;33m\u001b[0m\u001b[0m\n\u001b[0m\u001b[0;32m     11\u001b[0m             \u001b[0mprint\u001b[0m\u001b[1;33m(\u001b[0m\u001b[0mfaces\u001b[0m\u001b[1;33m)\u001b[0m\u001b[1;33m\u001b[0m\u001b[1;33m\u001b[0m\u001b[0m\n\u001b[0;32m     12\u001b[0m     \u001b[1;32mreturn\u001b[0m \u001b[0mimages\u001b[0m\u001b[1;33m\u001b[0m\u001b[1;33m\u001b[0m\u001b[0m\n",
      "\u001b[1;31merror\u001b[0m: OpenCV(4.1.2) C:\\projects\\opencv-python\\opencv\\modules\\objdetect\\src\\cascadedetect.cpp:1689: error: (-215:Assertion failed) !empty() in function 'cv::CascadeClassifier::detectMultiScale'\n"
     ]
    }
   ],
   "source": [
    "x = load_images_from_folder(path)"
   ]
  },
  {
   "cell_type": "code",
   "execution_count": 112,
   "metadata": {},
   "outputs": [
    {
     "ename": "error",
     "evalue": "OpenCV(4.1.2) C:\\projects\\opencv-python\\opencv\\modules\\objdetect\\src\\cascadedetect.cpp:1689: error: (-215:Assertion failed) !empty() in function 'cv::CascadeClassifier::detectMultiScale'\n",
     "output_type": "error",
     "traceback": [
      "\u001b[1;31m---------------------------------------------------------------------------\u001b[0m",
      "\u001b[1;31merror\u001b[0m                                     Traceback (most recent call last)",
      "\u001b[1;32m<ipython-input-112-9d8a2b48af07>\u001b[0m in \u001b[0;36m<module>\u001b[1;34m\u001b[0m\n\u001b[1;32m----> 1\u001b[1;33m \u001b[0mx\u001b[0m \u001b[1;33m=\u001b[0m \u001b[0mload_images_from_folder\u001b[0m\u001b[1;33m(\u001b[0m\u001b[0mpath\u001b[0m\u001b[1;33m)\u001b[0m\u001b[1;33m\u001b[0m\u001b[1;33m\u001b[0m\u001b[0m\n\u001b[0m",
      "\u001b[1;32m<ipython-input-109-48ca4077ce86>\u001b[0m in \u001b[0;36mload_images_from_folder\u001b[1;34m(folder)\u001b[0m\n\u001b[0;32m      8\u001b[0m             \u001b[0mgray\u001b[0m \u001b[1;33m=\u001b[0m \u001b[0mcv2\u001b[0m\u001b[1;33m.\u001b[0m\u001b[0mcvtColor\u001b[0m\u001b[1;33m(\u001b[0m\u001b[0mimg\u001b[0m\u001b[1;33m,\u001b[0m \u001b[0mcv2\u001b[0m\u001b[1;33m.\u001b[0m\u001b[0mCOLOR_BGR2GRAY\u001b[0m\u001b[1;33m)\u001b[0m\u001b[1;33m\u001b[0m\u001b[1;33m\u001b[0m\u001b[0m\n\u001b[0;32m      9\u001b[0m             \u001b[0mdetector\u001b[0m \u001b[1;33m=\u001b[0m \u001b[0mcv2\u001b[0m\u001b[1;33m.\u001b[0m\u001b[0mCascadeClassifier\u001b[0m\u001b[1;33m(\u001b[0m\u001b[0mpath\u001b[0m\u001b[1;33m)\u001b[0m\u001b[1;33m\u001b[0m\u001b[1;33m\u001b[0m\u001b[0m\n\u001b[1;32m---> 10\u001b[1;33m             \u001b[0mfaces\u001b[0m \u001b[1;33m=\u001b[0m \u001b[0mdetector\u001b[0m\u001b[1;33m.\u001b[0m\u001b[0mdetectMultiScale\u001b[0m\u001b[1;33m(\u001b[0m\u001b[0mgray\u001b[0m\u001b[1;33m,\u001b[0m\u001b[1;36m1.3\u001b[0m\u001b[1;33m,\u001b[0m\u001b[1;36m5\u001b[0m\u001b[1;33m)\u001b[0m\u001b[1;33m\u001b[0m\u001b[1;33m\u001b[0m\u001b[0m\n\u001b[0m\u001b[0;32m     11\u001b[0m             \u001b[0mprint\u001b[0m\u001b[1;33m(\u001b[0m\u001b[0mfaces\u001b[0m\u001b[1;33m)\u001b[0m\u001b[1;33m\u001b[0m\u001b[1;33m\u001b[0m\u001b[0m\n\u001b[0;32m     12\u001b[0m     \u001b[1;32mreturn\u001b[0m \u001b[0mimages\u001b[0m\u001b[1;33m\u001b[0m\u001b[1;33m\u001b[0m\u001b[0m\n",
      "\u001b[1;31merror\u001b[0m: OpenCV(4.1.2) C:\\projects\\opencv-python\\opencv\\modules\\objdetect\\src\\cascadedetect.cpp:1689: error: (-215:Assertion failed) !empty() in function 'cv::CascadeClassifier::detectMultiScale'\n"
     ]
    }
   ],
   "source": [
    "x = load_images_from_folder(path)"
   ]
  },
  {
   "cell_type": "code",
   "execution_count": 107,
   "metadata": {},
   "outputs": [],
   "source": [
    "num_of_images = len(x)"
   ]
  },
  {
   "cell_type": "code",
   "execution_count": 108,
   "metadata": {},
   "outputs": [
    {
     "data": {
      "text/plain": [
       "0"
      ]
     },
     "execution_count": 108,
     "metadata": {},
     "output_type": "execute_result"
    }
   ],
   "source": [
    "num_of_images"
   ]
  },
  {
   "cell_type": "code",
   "execution_count": 101,
   "metadata": {},
   "outputs": [
    {
     "data": {
      "text/plain": [
       "<matplotlib.image.AxesImage at 0x2172ca28808>"
      ]
     },
     "execution_count": 101,
     "metadata": {},
     "output_type": "execute_result"
    },
    {
     "data": {
      "image/png": "[encoded data removed]",
      "text/plain": [
       "<Figure size 432x288 with 1 Axes>"
      ]
     },
     "metadata": {
      "needs_background": "light"
     },
     "output_type": "display_data"
    }
   ],
   "source": [
    "plt.imshow(x[7])"
   ]
  },
  {
   "cell_type": "code",
   "execution_count": 102,
   "metadata": {},
   "outputs": [
    {
     "data": {
      "text/plain": [
       "<matplotlib.image.AxesImage at 0x2172da56a48>"
      ]
     },
     "execution_count": 102,
     "metadata": {},
     "output_type": "execute_result"
    },
    {
     "data": {
      "image/png": "[encoded data removed]",
      "text/plain": [
       "<Figure size 432x288 with 1 Axes>"
      ]
     },
     "metadata": {
      "needs_background": "light"
     },
     "output_type": "display_data"
    }
   ],
   "source": [
    "plt.imshow(x[6])"
   ]
  },
  {
   "cell_type": "code",
   "execution_count": 6,
   "metadata": {},
   "outputs": [],
   "source": [
    "import os\n",
    "def image_captured():\n",
    "    path = 'C:\\\\Users\\\\Katlic\\\\Documents\\\\LCO_Bootcamp\\\\LCO_class_assign_prac\\\\PracticeFolder'\n",
    "    img_Extension = ['.png', '.jpg', '.jpeg']\n",
    "#     os.chdir(path)\n",
    "    list_of_images = []\n",
    "    for file in os.listdir():\n",
    "        file_name, file_extention =  os.path.splitext(file)\n",
    "        if file_extention in img_Extension:\n",
    "            img = file_name + file_extention\n",
    "            list_of_images.append(img)\n",
    "    return list_of_images"
   ]
  },
  {
   "cell_type": "code",
   "execution_count": 7,
   "metadata": {},
   "outputs": [
    {
     "data": {
      "text/plain": [
       "['1.jpg',\n",
       " '2.jpg',\n",
       " '3.jpg',\n",
       " '4.jpg',\n",
       " '5.jpg',\n",
       " 'ab.png',\n",
       " 'abc.png',\n",
       " 'abcd.png',\n",
       " 'dark_text.jpg',\n",
       " 'final_move.jpg',\n",
       " 'random_user.jpg',\n",
       " 'rotated_img.jpg',\n",
       " 'saved.jpg',\n",
       " 'screenshot.jpg']"
      ]
     },
     "execution_count": 7,
     "metadata": {},
     "output_type": "execute_result"
    }
   ],
   "source": [
    "image_captured()"
   ]
  },
  {
   "cell_type": "code",
   "execution_count": null,
   "metadata": {},
   "outputs": [],
   "source": []
  }
 ],
 "metadata": {
  "kernelspec": {
   "display_name": "Python 3",
   "language": "python",
   "name": "python3"
  },
  "language_info": {
   "codemirror_mode": {
    "name": "ipython",
    "version": 3
   },
   "file_extension": ".py",
   "mimetype": "text/x-python",
   "name": "python",
   "nbconvert_exporter": "python",
   "pygments_lexer": "ipython3",
   "version": "3.7.4"
  }
 },
 "nbformat": 4,
 "nbformat_minor": 2
}
