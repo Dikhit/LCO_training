{
 "cells": [
  {
   "cell_type": "code",
   "execution_count": 7,
   "metadata": {},
   "outputs": [
    {
     "name": "stdout",
     "output_type": "stream",
     "text": [
      "Enter the DNA : GCTA\n",
      "GCTA\n",
      "GCTA\n"
     ]
    }
   ],
   "source": [
    "name = input(\"Enter the DNA : \")\n",
    "for i in name:\n",
    "    if i == 'G':\n",
    "        name.replace('G','C')\n",
    "        print(name)\n",
    "    elif i =='C':\n",
    "        name.replace(i,'G')\n",
    "        print(name)\n",
    "    elif i =='A':\n",
    "        name.replace(i,'U')\n",
    "    elif i == 'T':\n",
    "        name.replace(i,'A')\n",
    "    else:\n",
    "        print(\"Wrong Input\")\n",
    "        break"
   ]
  },
  {
   "cell_type": "code",
   "execution_count": 8,
   "metadata": {},
   "outputs": [],
   "source": [
    "name = \"Dikhit\""
   ]
  },
  {
   "cell_type": "code",
   "execution_count": 9,
   "metadata": {},
   "outputs": [
    {
     "data": {
      "text/plain": [
       "'DIkhIt'"
      ]
     },
     "execution_count": 9,
     "metadata": {},
     "output_type": "execute_result"
    }
   ],
   "source": [
    "name.replace('i','I')"
   ]
  },
  {
   "cell_type": "code",
   "execution_count": 10,
   "metadata": {},
   "outputs": [],
   "source": [
    "first=(1,2)"
   ]
  },
  {
   "cell_type": "code",
   "execution_count": 15,
   "metadata": {},
   "outputs": [
    {
     "data": {
      "text/plain": [
       "(1+3j)"
      ]
     },
     "execution_count": 15,
     "metadata": {},
     "output_type": "execute_result"
    }
   ],
   "source": [
    "first = complex(1,3)"
   ]
  },
  {
   "cell_type": "code",
   "execution_count": 16,
   "metadata": {},
   "outputs": [],
   "source": [
    "second = complex(2,5)"
   ]
  },
  {
   "cell_type": "code",
   "execution_count": 17,
   "metadata": {},
   "outputs": [
    {
     "data": {
      "text/plain": [
       "(2+5j)"
      ]
     },
     "execution_count": 17,
     "metadata": {},
     "output_type": "execute_result"
    }
   ],
   "source": [
    "second"
   ]
  },
  {
   "cell_type": "code",
   "execution_count": 18,
   "metadata": {},
   "outputs": [
    {
     "ename": "TypeError",
     "evalue": "can only concatenate tuple (not \"complex\") to tuple",
     "output_type": "error",
     "traceback": [
      "\u001b[1;31m---------------------------------------------------------------------------\u001b[0m",
      "\u001b[1;31mTypeError\u001b[0m                                 Traceback (most recent call last)",
      "\u001b[1;32m<ipython-input-18-410987403688>\u001b[0m in \u001b[0;36m<module>\u001b[1;34m\u001b[0m\n\u001b[1;32m----> 1\u001b[1;33m \u001b[0mfirst\u001b[0m \u001b[1;33m=\u001b[0m \u001b[0mfirst\u001b[0m\u001b[1;33m+\u001b[0m\u001b[0msecond\u001b[0m\u001b[1;33m\u001b[0m\u001b[1;33m\u001b[0m\u001b[0m\n\u001b[0m",
      "\u001b[1;31mTypeError\u001b[0m: can only concatenate tuple (not \"complex\") to tuple"
     ]
    }
   ],
   "source": [
    "first = first+second"
   ]
  },
  {
   "cell_type": "code",
   "execution_count": 8,
   "metadata": {},
   "outputs": [
    {
     "name": "stdout",
     "output_type": "stream",
     "text": [
      "GCTA\n",
      "CGAU\n"
     ]
    }
   ],
   "source": [
    "# problem LCO\n",
    "inputString=input(\"\")\n",
    "x=[]\n",
    "list_check = ['A','T','G','C','U']\n",
    "for v in inputString:\n",
    "    if v in list_check:\n",
    "        if v==\"G\":\n",
    "            x.append(\"C\")\n",
    "        elif v==\"C\":\n",
    "            x.append(\"G\")\n",
    "        elif v==\"T\":\n",
    "            x.append(\"A\")\n",
    "        elif v==\"A\":\n",
    "            x.append(\"U\")\n",
    "        else:\n",
    "            print(\"Invalid Input\")\n",
    "            x.clear()\n",
    "            break\n",
    "    else:\n",
    "        print(\"Invalid Input\")\n",
    "        x.clear()\n",
    "        break\n",
    "final = \"\".join(x)\n",
    "print(final)"
   ]
  },
  {
   "cell_type": "code",
   "execution_count": 28,
   "metadata": {},
   "outputs": [
    {
     "data": {
      "text/plain": [
       "'CGAU'"
      ]
     },
     "execution_count": 28,
     "metadata": {},
     "output_type": "execute_result"
    }
   ],
   "source": [
    "final"
   ]
  },
  {
   "cell_type": "code",
   "execution_count": 32,
   "metadata": {},
   "outputs": [],
   "source": [
    "my_dict = { 'a':97, 'b':98, 'c':99 }"
   ]
  },
  {
   "cell_type": "code",
   "execution_count": 37,
   "metadata": {},
   "outputs": [
    {
     "name": "stdout",
     "output_type": "stream",
     "text": [
      "('a', 97)\n",
      "('b', 98)\n"
     ]
    }
   ],
   "source": [
    "for value in my_dict.items():\n",
    "    print(value)"
   ]
  },
  {
   "cell_type": "code",
   "execution_count": 2,
   "metadata": {},
   "outputs": [
    {
     "name": "stdout",
     "output_type": "stream",
     "text": [
      "GCTAATGCT\n",
      "CGAUUACGA\n"
     ]
    }
   ],
   "source": [
    "b=input()\n",
    "a=\"GCTA\";c=\"CGAU\"\n",
    "try:print(''.join([c[a.index(i)]for i in b]))\n",
    "except:print(\"Invalid Input\")"
   ]
  },
  {
   "cell_type": "code",
   "execution_count": null,
   "metadata": {},
   "outputs": [],
   "source": [
    "def RNA_DNA(lis):\n",
    "    \n",
    "    switcher = { \n",
    "        \"G\": \"C\", \n",
    "        \"C\": \"G\", \n",
    "        \"T\": \"A\",\n",
    "        \"A\": \"U\"\n",
    "    }\n",
    "        \n",
    "    print (switcher.get(lis, \"Invalid Input\"),end=\"\")\n",
    "\n",
    "string = input()\n",
    "j = True\n",
    "\n",
    "for i in string:\n",
    "    if i!=\"G\" and i!=\"C\" and i!=\"T\" and i!=\"A\":\n",
    "        print (\"Invalid Input\")\n",
    "        j = False\n",
    "        break;\n",
    "        \n",
    "if (j):\n",
    "    for i in string:\n",
    "        RNA_DNA(str(i))"
   ]
  },
  {
   "cell_type": "code",
   "execution_count": 5,
   "metadata": {},
   "outputs": [
    {
     "name": "stdout",
     "output_type": "stream",
     "text": [
      "C"
     ]
    }
   ],
   "source": [
    "def RNA_DNA(lis):\n",
    "    \n",
    "    switcher = { \n",
    "        \"G\": \"C\", \n",
    "        \"C\": \"G\", \n",
    "        \"T\": \"A\",\n",
    "        \"A\": \"U\"\n",
    "    }\n",
    "        \n",
    "    print (switcher.get(lis, \"Invalid Input\"),end=\"\")\n",
    "RNA_DNA('G')"
   ]
  },
  {
   "cell_type": "code",
   "execution_count": 10,
   "metadata": {},
   "outputs": [],
   "source": [
    "class Employee():\n",
    "    def __init__(self,first_name,last_name,age,salary):\n",
    "        kind = \"Dikhit Kumar Bhuyan\"\n",
    "        self.first_name = first_name\n",
    "        self.last_name = last_name\n",
    "        self.age = age\n",
    "        self.salary = salary\n",
    "        self.company_email = first_name +\".\"+last_name + \"@company_name.com\"\n",
    "        self.name = self.first_name + \" \" + self.last_name\n",
    "        \n",
    "    def salary_change(self,percentage):\n",
    "        self.salary = self.salary + int((percentage/100)*self.salary)\n",
    "        return self.salary\n",
    "    \n",
    "    def employee_details(self):\n",
    "        return self.name,self.age,self.salary,self.company_email"
   ]
  },
  {
   "cell_type": "code",
   "execution_count": 11,
   "metadata": {},
   "outputs": [],
   "source": [
    "obj = Employee(\"Dikhit\",\"Bhuyan\",21,100000)"
   ]
  },
  {
   "cell_type": "code",
   "execution_count": 12,
   "metadata": {},
   "outputs": [
    {
     "data": {
      "text/plain": [
       "('Dikhit Bhuyan', 21, 100000, 'Dikhit.Bhuyan@company_name.com')"
      ]
     },
     "execution_count": 12,
     "metadata": {},
     "output_type": "execute_result"
    }
   ],
   "source": [
    "obj.employee_details()"
   ]
  },
  {
   "cell_type": "code",
   "execution_count": 13,
   "metadata": {},
   "outputs": [
    {
     "data": {
      "text/plain": [
       "tuple"
      ]
     },
     "execution_count": 13,
     "metadata": {},
     "output_type": "execute_result"
    }
   ],
   "source": [
    "type(obj.employee_details())"
   ]
  },
  {
   "cell_type": "code",
   "execution_count": 14,
   "metadata": {},
   "outputs": [
    {
     "data": {
      "text/plain": [
       "130000"
      ]
     },
     "execution_count": 14,
     "metadata": {},
     "output_type": "execute_result"
    }
   ],
   "source": [
    "obj.salary_change(30)"
   ]
  },
  {
   "cell_type": "code",
   "execution_count": 15,
   "metadata": {},
   "outputs": [
    {
     "data": {
      "text/plain": [
       "__main__.Employee"
      ]
     },
     "execution_count": 15,
     "metadata": {},
     "output_type": "execute_result"
    }
   ],
   "source": [
    "type(Employee(\"Dikhit\",\"Bhuyan\",21,100000))"
   ]
  },
  {
   "cell_type": "code",
   "execution_count": 16,
   "metadata": {},
   "outputs": [],
   "source": [
    "class Developer(Employee):\n",
    "    def salary(self,dev_salary):\n",
    "        return self.salary + dev_salary\n",
    "    def developer_award(self):\n",
    "        return \"Developer \" + self.name"
   ]
  },
  {
   "cell_type": "code",
   "execution_count": 17,
   "metadata": {},
   "outputs": [],
   "source": [
    "object2 = Developer(\"nemophee\", \"katlic\",22,500000)"
   ]
  },
  {
   "cell_type": "code",
   "execution_count": 18,
   "metadata": {},
   "outputs": [
    {
     "data": {
      "text/plain": [
       "('nemophee katlic', 22, 500000, 'nemophee.katlic@company_name.com')"
      ]
     },
     "execution_count": 18,
     "metadata": {},
     "output_type": "execute_result"
    }
   ],
   "source": [
    "object2.employee_details()"
   ]
  },
  {
   "cell_type": "code",
   "execution_count": 19,
   "metadata": {
    "scrolled": true
   },
   "outputs": [
    {
     "ename": "TypeError",
     "evalue": "'int' object is not callable",
     "output_type": "error",
     "traceback": [
      "\u001b[1;31m---------------------------------------------------------------------------\u001b[0m",
      "\u001b[1;31mTypeError\u001b[0m                                 Traceback (most recent call last)",
      "\u001b[1;32m<ipython-input-19-ec0b144495ad>\u001b[0m in \u001b[0;36m<module>\u001b[1;34m\u001b[0m\n\u001b[1;32m----> 1\u001b[1;33m \u001b[0mobject2\u001b[0m\u001b[1;33m.\u001b[0m\u001b[0msalary\u001b[0m\u001b[1;33m(\u001b[0m\u001b[1;36m100\u001b[0m\u001b[1;33m)\u001b[0m\u001b[1;33m\u001b[0m\u001b[1;33m\u001b[0m\u001b[0m\n\u001b[0m",
      "\u001b[1;31mTypeError\u001b[0m: 'int' object is not callable"
     ]
    }
   ],
   "source": [
    "object2.salary(100)"
   ]
  },
  {
   "cell_type": "code",
   "execution_count": null,
   "metadata": {},
   "outputs": [],
   "source": []
  },
  {
   "cell_type": "code",
   "execution_count": 2,
   "metadata": {},
   "outputs": [
    {
     "name": "stdout",
     "output_type": "stream",
     "text": [
      "hey there\n",
      "<__main__.child object at 0x00000229B5723F88>\n"
     ]
    }
   ],
   "source": [
    "obj = child()"
   ]
  },
  {
   "cell_type": "code",
   "execution_count": 3,
   "metadata": {},
   "outputs": [
    {
     "name": "stdout",
     "output_type": "stream",
     "text": [
      "hey there\n",
      "<__main__.parent object at 0x00000229B5588488>\n"
     ]
    }
   ],
   "source": [
    "objP = parent()"
   ]
  },
  {
   "cell_type": "code",
   "execution_count": 20,
   "metadata": {},
   "outputs": [],
   "source": [
    "class first():\n",
    "    def __init__(self,number):\n",
    "        self.number = number\n",
    "    def get_number(self):\n",
    "        return self.number\n",
    "\n",
    "class second():\n",
    "    def __init__(self,name):\n",
    "        self.name = name"
   ]
  },
  {
   "cell_type": "code",
   "execution_count": 122,
   "metadata": {},
   "outputs": [],
   "source": [
    "def convertor(s,i):\n",
    "    if i >= len(s):\n",
    "        return \"Wrong Input\"\n",
    "    \n",
    "    if s[i].islower():\n",
    "        for value in s:\n",
    "            if value == s[i].upper():\n",
    "                x=value.lower()\n",
    "                s = s.replace(value,x)\n",
    "                \n",
    "    elif s[i].isupper():\n",
    "        for value in s:\n",
    "            if value == s[i].lower():\n",
    "                x=value.lower()\n",
    "                s = s.replace(value,x)\n",
    "    return s"
   ]
  },
  {
   "cell_type": "code",
   "execution_count": 123,
   "metadata": {},
   "outputs": [
    {
     "data": {
      "text/plain": [
       "'tikhIt'"
      ]
     },
     "execution_count": 123,
     "metadata": {},
     "output_type": "execute_result"
    }
   ],
   "source": [
    "convertor(\"tikhIT\",0)"
   ]
  },
  {
   "cell_type": "code",
   "execution_count": 150,
   "metadata": {},
   "outputs": [],
   "source": [
    "def method(lower_limit,upper_limit,sequence_design):\n",
    "    myList = []\n",
    "    my_sequence = [num for num in range(lower_limit,upper_limit,sequence_design)]\n",
    "    for index1,value1 in enumerate(my_sequence):\n",
    "        for index2,value2 in enumerate(my_sequence[index1:]):\n",
    "            if not (value1 * value2) % 2 == 0:\n",
    "                print(\"({v1},{v2})\".format(v1=value1,v2 = value2),end = \" \")\n",
    "            "
   ]
  },
  {
   "cell_type": "code",
   "execution_count": 151,
   "metadata": {},
   "outputs": [
    {
     "name": "stdout",
     "output_type": "stream",
     "text": [
      "(1,1) (1,7) (1,13) (1,19) (7,7) (7,13) (7,19) (13,13) (13,19) (19,19) "
     ]
    }
   ],
   "source": [
    "method(1,20,3)"
   ]
  },
  {
   "cell_type": "code",
   "execution_count": 156,
   "metadata": {},
   "outputs": [],
   "source": [
    "def method2():\n",
    "    my_sequence = input(\"Enter the sequence : \").split()\n",
    "    for index1,value1 in enumerate(my_sequence):\n",
    "        for index2,value2 in enumerate(my_sequence[index1:]):\n",
    "            if not (int(value1) * int(value2)) % 2 == 0:\n",
    "                print(\"({v1},{v2})\".format(v1=value1,v2 = value2),end = \" \")"
   ]
  },
  {
   "cell_type": "code",
   "execution_count": 157,
   "metadata": {},
   "outputs": [
    {
     "name": "stdout",
     "output_type": "stream",
     "text": [
      "Enter the sequence : 1 2 3 4 44 66 3\n",
      "(1,1) (1,3) (1,3) (3,3) (3,3) (3,3) "
     ]
    }
   ],
   "source": [
    "method2()"
   ]
  },
  {
   "cell_type": "code",
   "execution_count": 163,
   "metadata": {},
   "outputs": [],
   "source": [
    "class A():\n",
    "    def some(self):\n",
    "        print(\"A\")\n",
    "class B(A):\n",
    "    def some(self):\n",
    "        print(\"B\")\n",
    "class C(A):\n",
    "    def some(self):\n",
    "        print(\"C\")\n",
    "class D(B,C):\n",
    "    def __init__(self):\n",
    "        print(\"D\")"
   ]
  },
  {
   "cell_type": "code",
   "execution_count": 164,
   "metadata": {},
   "outputs": [
    {
     "name": "stdout",
     "output_type": "stream",
     "text": [
      "D\n"
     ]
    }
   ],
   "source": [
    "obj = D()"
   ]
  },
  {
   "cell_type": "code",
   "execution_count": 165,
   "metadata": {},
   "outputs": [
    {
     "name": "stdout",
     "output_type": "stream",
     "text": [
      "B\n"
     ]
    }
   ],
   "source": [
    "obj.some()"
   ]
  },
  {
   "cell_type": "code",
   "execution_count": 1,
   "metadata": {},
   "outputs": [
    {
     "name": "stdout",
     "output_type": "stream",
     "text": [
      "0.3973394838230144\n"
     ]
    }
   ],
   "source": [
    "import random\n",
    "print(random.random())"
   ]
  },
  {
   "cell_type": "code",
   "execution_count": 13,
   "metadata": {},
   "outputs": [],
   "source": [
    "import random\n",
    "value = random.choice(range(100))"
   ]
  },
  {
   "cell_type": "code",
   "execution_count": 14,
   "metadata": {},
   "outputs": [
    {
     "data": {
      "text/plain": [
       "4"
      ]
     },
     "execution_count": 14,
     "metadata": {},
     "output_type": "execute_result"
    }
   ],
   "source": [
    "value"
   ]
  },
  {
   "cell_type": "code",
   "execution_count": 19,
   "metadata": {},
   "outputs": [],
   "source": [
    "value = random.choice([1,0,13,5,6,7,8,9,2])"
   ]
  },
  {
   "cell_type": "code",
   "execution_count": 20,
   "metadata": {},
   "outputs": [
    {
     "data": {
      "text/plain": [
       "7"
      ]
     },
     "execution_count": 20,
     "metadata": {},
     "output_type": "execute_result"
    }
   ],
   "source": [
    "value"
   ]
  },
  {
   "cell_type": "code",
   "execution_count": 21,
   "metadata": {},
   "outputs": [
    {
     "name": "stdout",
     "output_type": "stream",
     "text": [
      "5\n",
      " 1 2 3 4 5\n",
      "120\n"
     ]
    }
   ],
   "source": [
    "size = int(input())\n",
    "list1 = [int(x) for x in input().split()]\n",
    "mult = 1\n",
    "for i in list1:\n",
    "    mult = mult * i\n",
    "print(mult)"
   ]
  },
  {
   "cell_type": "code",
   "execution_count": 23,
   "metadata": {},
   "outputs": [
    {
     "name": "stdout",
     "output_type": "stream",
     "text": [
      "5\n",
      "1 2 3 4 5\n",
      "120\n"
     ]
    }
   ],
   "source": [
    "size=int(input(\"\"))\n",
    "input_element=input(\"\").split()\n",
    "multiplier=1\n",
    "for i in input_element:\n",
    "    multiplier=(multiplier*int(i))%((10**9)+7)\n",
    "print(multiplier)"
   ]
  },
  {
   "cell_type": "code",
   "execution_count": 24,
   "metadata": {},
   "outputs": [],
   "source": [
    "marvel = ['Iron-man', 'thor', 'hulk']\n"
   ]
  },
  {
   "cell_type": "code",
   "execution_count": 25,
   "metadata": {},
   "outputs": [],
   "source": [
    "del marvel[1]"
   ]
  },
  {
   "cell_type": "code",
   "execution_count": 26,
   "metadata": {},
   "outputs": [
    {
     "data": {
      "text/plain": [
       "['Iron-man', 'hulk']"
      ]
     },
     "execution_count": 26,
     "metadata": {},
     "output_type": "execute_result"
    }
   ],
   "source": [
    "marvel"
   ]
  },
  {
   "cell_type": "code",
   "execution_count": 27,
   "metadata": {},
   "outputs": [],
   "source": [
    "marvel.insert(1,'thor')"
   ]
  },
  {
   "cell_type": "code",
   "execution_count": 28,
   "metadata": {},
   "outputs": [
    {
     "data": {
      "text/plain": [
       "['Iron-man', 'thor', 'hulk']"
      ]
     },
     "execution_count": 28,
     "metadata": {},
     "output_type": "execute_result"
    }
   ],
   "source": [
    "marvel"
   ]
  },
  {
   "cell_type": "code",
   "execution_count": null,
   "metadata": {},
   "outputs": [],
   "source": []
  }
 ],
 "metadata": {
  "kernelspec": {
   "display_name": "Python 3",
   "language": "python",
   "name": "python3"
  },
  "language_info": {
   "codemirror_mode": {
    "name": "ipython",
    "version": 3
   },
   "file_extension": ".py",
   "mimetype": "text/x-python",
   "name": "python",
   "nbconvert_exporter": "python",
   "pygments_lexer": "ipython3",
   "version": "3.7.4"
  }
 },
 "nbformat": 4,
 "nbformat_minor": 2
}
