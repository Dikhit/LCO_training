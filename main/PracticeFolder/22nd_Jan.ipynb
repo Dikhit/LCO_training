{
 "cells": [
  {
   "cell_type": "code",
   "execution_count": 1,
   "metadata": {},
   "outputs": [
    {
     "name": "stdout",
     "output_type": "stream",
     "text": [
      "22nd Jan\n"
     ]
    }
   ],
   "source": [
    "print(\"22nd Jan\")"
   ]
  },
  {
   "cell_type": "code",
   "execution_count": null,
   "metadata": {},
   "outputs": [],
   "source": []
  },
  {
   "cell_type": "code",
   "execution_count": 3,
   "metadata": {},
   "outputs": [
    {
     "name": "stdout",
     "output_type": "stream",
     "text": [
      "Enter the number : 1401601499\n",
      "Illegal ISBN\n"
     ]
    }
   ],
   "source": [
    "number = input(\"Enter the number : \")\n",
    "sum = 0\n",
    "for index,value in enumerate(number):\n",
    "    value = int(value)\n",
    "    sum = sum + value*(index+1)\n",
    "if sum % 11 == 0:\n",
    "    print(\"Illegal ISBN\")"
   ]
  },
  {
   "cell_type": "code",
   "execution_count": null,
   "metadata": {},
   "outputs": [],
   "source": []
  },
  {
   "cell_type": "code",
   "execution_count": 24,
   "metadata": {},
   "outputs": [
    {
     "name": "stdout",
     "output_type": "stream",
     "text": [
      "Enter the string : 13X357-22\n",
      "True True True True True\n",
      "Valid\n"
     ]
    }
   ],
   "source": [
    "vowels_list = [\"A\",\"E\",\"I\",\"O\",\"U\",\"Y\"]\n",
    "first_condition = False\n",
    "second_condition = False\n",
    "third_condition = False\n",
    "fourth_condition = False\n",
    "vowel_condition = False\n",
    "input_string = input(\"Enter the string : \")\n",
    "\n",
    "if (int(input_string[0]) + int(input_string[1])) % 2 == 0:\n",
    "    first_condition = True\n",
    "if not input_string[2] in vowels_list:\n",
    "    vowel_condition = True\n",
    "if (int(input_string[3]) + int(input_string[4])) % 2 == 0:\n",
    "    second_condition = True\n",
    "if (int(input_string[4]) + int(input_string[5])) % 2 == 0:\n",
    "    third_condition = True\n",
    "if (int(input_string[7]) + int(input_string[8])) % 2 == 0:\n",
    "    fourth_condition = True\n",
    "    \n",
    "print(first_condition,second_condition,third_condition,fourth_condition,vowel_condition)\n",
    "if first_condition == True and second_condition == True and third_condition == True and fourth_condition ==True and vowel_condition == True:\n",
    "    print(\"Valid\")\n",
    "else:\n",
    "    print(\"Invalid\")\n"
   ]
  },
  {
   "cell_type": "code",
   "execution_count": null,
   "metadata": {},
   "outputs": [],
   "source": []
  },
  {
   "cell_type": "code",
   "execution_count": 5,
   "metadata": {},
   "outputs": [
    {
     "data": {
      "text/plain": [
       "[1, 2, 3, 4, 5, 6, 7]"
      ]
     },
     "execution_count": 5,
     "metadata": {},
     "output_type": "execute_result"
    }
   ],
   "source": [
    "extract_number"
   ]
  },
  {
   "cell_type": "code",
   "execution_count": null,
   "metadata": {},
   "outputs": [],
   "source": [
    "number = int(input(\"Enter number of chocolates : \"))\n",
    "if number % 3 == 0:\n",
    "    print(\"YES\")\n",
    "else:\n",
    "    print(\"NO\")"
   ]
  },
  {
   "cell_type": "code",
   "execution_count": 25,
   "metadata": {},
   "outputs": [
    {
     "name": "stdout",
     "output_type": "stream",
     "text": [
      "Enter the number of peoples : 5\n",
      "Enter the minimum number of skills : 100\n",
      "Enter your skill level : .jen\n"
     ]
    },
    {
     "ename": "ValueError",
     "evalue": "invalid literal for int() with base 10: '.jen'",
     "output_type": "error",
     "traceback": [
      "\u001b[1;31m---------------------------------------------------------------------------\u001b[0m",
      "\u001b[1;31mValueError\u001b[0m                                Traceback (most recent call last)",
      "\u001b[1;32m<ipython-input-25-b0ca94e5aea7>\u001b[0m in \u001b[0;36m<module>\u001b[1;34m\u001b[0m\n\u001b[0;32m      2\u001b[0m \u001b[0mmin_num_of_skills\u001b[0m \u001b[1;33m=\u001b[0m \u001b[0mint\u001b[0m\u001b[1;33m(\u001b[0m\u001b[0minput\u001b[0m\u001b[1;33m(\u001b[0m\u001b[1;34m\"Enter the minimum number of skills : \"\u001b[0m\u001b[1;33m)\u001b[0m\u001b[1;33m)\u001b[0m\u001b[1;33m\u001b[0m\u001b[1;33m\u001b[0m\u001b[0m\n\u001b[0;32m      3\u001b[0m \u001b[1;32mfor\u001b[0m \u001b[0miterator\u001b[0m \u001b[1;32min\u001b[0m \u001b[0mrange\u001b[0m\u001b[1;33m(\u001b[0m\u001b[0mnum_of_peoples\u001b[0m\u001b[1;33m)\u001b[0m\u001b[1;33m:\u001b[0m\u001b[1;33m\u001b[0m\u001b[1;33m\u001b[0m\u001b[0m\n\u001b[1;32m----> 4\u001b[1;33m     \u001b[0mskills\u001b[0m \u001b[1;33m=\u001b[0m \u001b[0mint\u001b[0m\u001b[1;33m(\u001b[0m\u001b[0minput\u001b[0m\u001b[1;33m(\u001b[0m\u001b[1;34m\"Enter your skill level : \"\u001b[0m\u001b[1;33m)\u001b[0m\u001b[1;33m)\u001b[0m\u001b[1;33m\u001b[0m\u001b[1;33m\u001b[0m\u001b[0m\n\u001b[0m\u001b[0;32m      5\u001b[0m     \u001b[1;32mif\u001b[0m \u001b[0mskills\u001b[0m \u001b[1;33m>\u001b[0m \u001b[0mmin_num_of_skills\u001b[0m\u001b[1;33m:\u001b[0m\u001b[1;33m\u001b[0m\u001b[1;33m\u001b[0m\u001b[0m\n\u001b[0;32m      6\u001b[0m         \u001b[0mprint\u001b[0m\u001b[1;33m(\u001b[0m\u001b[1;34m\"YES\"\u001b[0m\u001b[1;33m)\u001b[0m\u001b[1;33m\u001b[0m\u001b[1;33m\u001b[0m\u001b[0m\n",
      "\u001b[1;31mValueError\u001b[0m: invalid literal for int() with base 10: '.jen'"
     ]
    }
   ],
   "source": [
    "num_of_peoples = int(input(\"Enter the number of peoples : \"))\n",
    "min_num_of_skills = int(input(\"Enter the minimum number of skills : \"))\n",
    "for iterator in range(num_of_peoples):\n",
    "    skills = int(input(\"Enter your skill level : \"))\n",
    "    if skills >= min_num_of_skills:\n",
    "        print(\"YES\")\n",
    "    else:\n",
    "        print(\"NO\")"
   ]
  },
  {
   "cell_type": "code",
   "execution_count": 26,
   "metadata": {},
   "outputs": [
    {
     "name": "stdout",
     "output_type": "stream",
     "text": [
      "Enter the number3\n",
      "3\n",
      "6\n",
      "9\n",
      "12\n",
      "15\n",
      "18\n",
      "21\n",
      "24\n",
      "27\n",
      "30\n"
     ]
    }
   ],
   "source": [
    "num = int(input(\"Enter the number\"))\n",
    "for i in range(1,11):\n",
    "    print(num*i)"
   ]
  },
  {
   "cell_type": "code",
   "execution_count": 32,
   "metadata": {},
   "outputs": [
    {
     "name": "stdout",
     "output_type": "stream",
     "text": [
      "Enter the number of steps : 5\n",
      "*   *\n",
      "*   *\n",
      "*****\n",
      "*   *\n",
      "*   *\n",
      "*****\n",
      "*   *\n",
      "*   *\n",
      "*****\n",
      "*   *\n",
      "*   *\n",
      "*****\n",
      "*   *\n",
      "*   *\n",
      "*****\n",
      "*   *\n",
      "*   *\n"
     ]
    }
   ],
   "source": [
    "number_of_Steps = int(input(\"Enter the number of steps : \"))\n",
    "for iterator in range(number_of_Steps):\n",
    "    print(\"*   *\")\n",
    "    print(\"*   *\")\n",
    "    print(\"*****\")\n",
    "print(\"*   *\")\n",
    "print(\"*   *\")"
   ]
  },
  {
   "cell_type": "code",
   "execution_count": 33,
   "metadata": {},
   "outputs": [
    {
     "name": "stdout",
     "output_type": "stream",
     "text": [
      "enter the string : aba\n",
      "4\n"
     ]
    }
   ],
   "source": [
    "input_string = input(\"enter the string : \")\n",
    "sum = 0\n",
    "for items in input_string:\n",
    "    value = ord(items) - 96\n",
    "    sum = sum + value\n",
    "print(sum)"
   ]
  },
  {
   "cell_type": "code",
   "execution_count": null,
   "metadata": {},
   "outputs": [],
   "source": [
    "num_of_test_cases = int(input(\"enter the num of test cases : \"))\n",
    "while num_of_test_cases > 0:\n",
    "    input_number = int(input(\"Enter the number : \"))\n",
    "    while True:\n",
    "        if input_number % 2 == 0:\n",
    "            input_number = input_number / 2\n",
    "            if input_number == 1:\n",
    "                print(\"YES\")\n",
    "                break\n",
    "        elif not input_number % 2 == 0:\n",
    "            input_number = (3 * input_number) + 1\n",
    "            if input_number == 1:\n",
    "                print(\"YES\")\n",
    "                break\n",
    "    num_of_test_cases -=1"
   ]
  },
  {
   "cell_type": "code",
   "execution_count": 34,
   "metadata": {},
   "outputs": [
    {
     "name": "stdout",
     "output_type": "stream",
     "text": [
      "5\n",
      "1 2 3 4 5\n",
      "120\n"
     ]
    }
   ],
   "source": [
    "size=int(input(\"\"))\n",
    "input_element=input(\"\").split()\n",
    "multiplier=1\n",
    "for i in input_element:\n",
    "    multiplier=(multiplier*int(i))%((10**9)+7)\n",
    "print(multiplier)"
   ]
  },
  {
   "cell_type": "code",
   "execution_count": 36,
   "metadata": {},
   "outputs": [
    {
     "name": "stdout",
     "output_type": "stream",
     "text": [
      "Enter the number of days : 3\n",
      "3 2\n",
      "5 2\n",
      "1 2\n",
      "3\n"
     ]
    }
   ],
   "source": [
    "number_of_days = int(input(\"Enter the number of days : \"))\n",
    "tofee = 0\n",
    "while number_of_days > 0:\n",
    "    rad,horlicks_amount = input().split()\n",
    "    radius = int(rad)\n",
    "    horlicks_amount = int(horlicks_amount)\n",
    "    max_distance = horlicks_amount * 100\n",
    "    distance_required = 2 * (22/7) * radius\n",
    "    \n",
    "    if max_distance >= distance_required:\n",
    "        tofee +=1\n",
    "    number_of_days -= 1\n",
    "print(tofee)"
   ]
  },
  {
   "cell_type": "code",
   "execution_count": 40,
   "metadata": {},
   "outputs": [
    {
     "name": "stdout",
     "output_type": "stream",
     "text": [
      "Enter the element number and queries 5 3\n",
      "1 2 3 4 5\n",
      "1 3\n",
      "2\n",
      "2 4\n",
      "3\n",
      "2 5\n",
      "3\n"
     ]
    }
   ],
   "source": [
    "num_of_elements,num_of_queries = input(\"Enter the element number and queries \").split()\n",
    "num_of_elements = int(num_of_elements)\n",
    "num_of_queries = int(num_of_queries)\n",
    "elements = input().split()\n",
    "\n",
    "while num_of_queries > 0:\n",
    "    L,R  = input().split()\n",
    "    L = int(L)\n",
    "    R = int(R)\n",
    "    sum = L + R\n",
    "    sum = sum // 2\n",
    "    print(sum)\n",
    "    num_of_queries -= 1"
   ]
  },
  {
   "cell_type": "code",
   "execution_count": 41,
   "metadata": {},
   "outputs": [
    {
     "name": "stdout",
     "output_type": "stream",
     "text": [
      "5 3\n",
      "1 2 3 4 5\n",
      "1 3\n",
      "2\n",
      "2 4\n",
      "3\n",
      "2 5\n",
      "3\n"
     ]
    }
   ],
   "source": [
    "import math\n",
    "num_of_elements,num_of_queries = input().split()\n",
    "num_of_elements = int(num_of_elements)\n",
    "num_of_queries = int(num_of_queries)\n",
    "elements = input().split()\n",
    "\n",
    "while num_of_queries > 0:\n",
    "    L,R  = input().split()\n",
    "    L = int(L)\n",
    "    R = int(R)\n",
    "    sum = L + R\n",
    "    sum = sum / 2\n",
    "    sum = math.floor(sum)\n",
    "    print(sum)\n",
    "    num_of_queries -= 1"
   ]
  },
  {
   "cell_type": "code",
   "execution_count": 3,
   "metadata": {},
   "outputs": [
    {
     "name": "stdout",
     "output_type": "stream",
     "text": [
      "Enter the number of test cases : 3\n",
      "Enter the pyramid height : 9\n",
      "*################*\n",
      "**##############**\n",
      "***############***\n",
      "****##########****\n",
      "*****########*****\n",
      "******######******\n",
      "*******####*******\n",
      "********##********\n",
      "******************\n",
      "Enter the pyramid height : 2\n",
      "*##*\n",
      "****\n",
      "Enter the pyramid height : 5\n",
      "*########*\n",
      "**######**\n",
      "***####***\n",
      "****##****\n",
      "**********\n"
     ]
    }
   ],
   "source": [
    "num_of_test_case = int(input(\"Enter the number of test cases : \"))\n",
    "\n",
    "while num_of_test_case > 0:\n",
    "    pyramid_heigth = int(input(\"Enter the pyramid height : \"))\n",
    "    has_sign = pyramid_heigth * 2\n",
    "    for items in range(1,pyramid_heigth):\n",
    "        has_sign = has_sign -2\n",
    "        print(\"*\" * items,end = \"\")\n",
    "        print(\"#\" * has_sign,end = \"\")\n",
    "        print(\"*\"*items)\n",
    "    print(\"*\"*pyramid_heigth * 2)\n",
    "    num_of_test_case -=1"
   ]
  },
  {
   "cell_type": "code",
   "execution_count": 19,
   "metadata": {},
   "outputs": [
    {
     "name": "stdout",
     "output_type": "stream",
     "text": [
      "Enter the num of elements : 5\n",
      "85 25 65 21 84\n",
      "No\n"
     ]
    }
   ],
   "source": [
    "num_of_elements = int(input(\"Enter the num of elements : \"))\n",
    "elements = input().split()\n",
    "final = 0\n",
    "iterator = 1\n",
    "my_final_elements = []\n",
    "for i in elements:\n",
    "    value = int(i) % 10\n",
    "    my_final_elements.append(value)\n",
    "my_final_elements.reverse()\n",
    "for i in range(len(my_final_elements)):\n",
    "    final = final + my_final_elements[i] * iterator\n",
    "    iterator = iterator * 10\n",
    "if final % 10 == 0:\n",
    "    print(\"Yes\")\n",
    "else:\n",
    "    print(\"No\")"
   ]
  },
  {
   "cell_type": "code",
   "execution_count": 13,
   "metadata": {},
   "outputs": [
    {
     "data": {
      "text/plain": [
       "[5, 5, 5, 4, 1]"
      ]
     },
     "execution_count": 13,
     "metadata": {},
     "output_type": "execute_result"
    }
   ],
   "source": [
    "my_final_elements"
   ]
  },
  {
   "cell_type": "code",
   "execution_count": 11,
   "metadata": {},
   "outputs": [
    {
     "name": "stdout",
     "output_type": "stream",
     "text": [
      "enter the number of inputs : 6\n",
      "15478 8452 8232 874 985 4512\n",
      "188452 <class 'int'>\n",
      "['1', '8', '8']\n",
      "['4', '5', '2']\n"
     ]
    }
   ],
   "source": [
    "num_of_input = int(input(\"enter the number of inputs : \"))\n",
    "elements = input().split()\n",
    "mid_value = len(elements) // 2\n",
    "first_half = []\n",
    "second_half = []\n",
    "for i in range(0,mid_value):\n",
    "    value = elements[i][0]\n",
    "    first_half.append(value)\n",
    "for i in range(mid_value,len(elements)):\n",
    "    value = elements[i][len(elements[i]) - 1]\n",
    "    second_half.append(value)\n",
    "value1 = \"\".join([num for num in first_half])\n",
    "value2 = \"\".join([num for num in second_half])\n",
    "final_value = value1 + value2\n",
    "final_value = int(final_value)\n",
    "if final_value % 11 == 0:\n",
    "    print(\"OUI\")\n",
    "else:\n",
    "    print(\"NON\")"
   ]
  },
  {
   "cell_type": "code",
   "execution_count": 16,
   "metadata": {},
   "outputs": [
    {
     "name": "stdout",
     "output_type": "stream",
     "text": [
      "Enter the distance : 26\n",
      "1 21\n",
      "2 16\n",
      "3 11\n",
      "4 6\n",
      "5 1\n",
      "6 0\n",
      "6\n"
     ]
    }
   ],
   "source": [
    "friend_house_distance = int(input(\"Enter the distance : \"))\n",
    "steps_required = 0\n",
    "\n",
    "while friend_house_distance > 0:\n",
    "    if friend_house_distance >= 5:\n",
    "        friend_house_distance = friend_house_distance - 5\n",
    "        steps_required += 1\n",
    "        print(steps_required,friend_house_distance)\n",
    "\n",
    "    elif friend_house_distance >= 4:\n",
    "        friend_house_distance = friend_house_distance - 4\n",
    "        steps_required += 1\n",
    "        print(steps_required,friend_house_distance)\n",
    "\n",
    "    elif friend_house_distance >= 3:\n",
    "        friend_house_distance = friend_house_distance - 3\n",
    "        steps_required += 1\n",
    "        print(steps_required,friend_house_distance)\n",
    "\n",
    "    elif friend_house_distance >= 2:\n",
    "        friend_house_distance = friend_house_distance - 2\n",
    "        steps_required += 1\n",
    "        print(steps_required,friend_house_distance)\n",
    "\n",
    "    elif friend_house_distance >= 1:\n",
    "        friend_house_distance = friend_house_distance - 1\n",
    "        steps_required += 1\n",
    "        print(steps_required,friend_house_distance)\n",
    "    \n",
    "print(steps_required)"
   ]
  },
  {
   "cell_type": "code",
   "execution_count": 19,
   "metadata": {},
   "outputs": [
    {
     "name": "stdout",
     "output_type": "stream",
     "text": [
      "230 1425 4767\n",
      "4767\n"
     ]
    }
   ],
   "source": [
    "first_skill_points,second_skill_points,third_skill_poinits = input().split()\n",
    "a = int(first_skill_points)\n",
    "b = int(second_skill_points)\n",
    "c = int(third_skill_poinits)\n",
    "\n",
    "if (a >= b) and (a >= c): \n",
    "    print(a)     \n",
    "elif (b >= a) and (b >= c): \n",
    "    print(b)\n",
    "elif c>= a and c >= b: \n",
    "    print(c)"
   ]
  },
  {
   "cell_type": "code",
   "execution_count": null,
   "metadata": {},
   "outputs": [
    {
     "name": "stdout",
     "output_type": "stream",
     "text": [
      "Enter the number of test cases : 10\n",
      "2 54 9 48\n",
      "6 54\n"
     ]
    }
   ],
   "source": [
    "num_of_test_case = int(input(\"Enter the number of test cases : \"))\n",
    "while num_of_test_case > 0:\n",
    "    SH,SM,EH,EM = input().split()\n",
    "    SH = int(SH)\n",
    "    SM = int(SM)\n",
    "    EH = int(EH)\n",
    "    EM = int(EM)\n",
    "    if SM < EM and SH <= EH:\n",
    "        print( EM - SM,EH - SH)\n",
    "    elif SM > EH and SH < EH:\n",
    "        print( (EH-1) - SH,(EM+60) - SM)\n",
    "    num_of_test_case -= 1"
   ]
  },
  {
   "cell_type": "code",
   "execution_count": null,
   "metadata": {},
   "outputs": [],
   "source": [
    "num_of_test_case = int(input(\"Enter the num of test case : \"))\n",
    "while num_of_test_case > 0:\n",
    "    input_number = int(input(\"Enter the number : \"))\n",
    "    if input_number % 2 == 0:\n",
    "        print(\"YES\")\n",
    "    elif not input_number % 2 == 0:\n",
    "        input_number = input_number * 3 + 1\n",
    "        if input_number % 2 == 0:\n",
    "            print(\"YES\")\n",
    "    num_of_test_case -= 1"
   ]
  },
  {
   "cell_type": "code",
   "execution_count": null,
   "metadata": {},
   "outputs": [],
   "source": [
    "num_of_floor =  7\n",
    "lift_A_pos = 0\n",
    "lift_B_pos = 7\n",
    "num_of_test_case = int(input(\"Enter the number of test cases : \"))\n",
    "while num_of_test_case > 0:\n",
    "    lift_req_from = int(input(\"Enter your floor number : \"))\n",
    "    distance_from_A = abs(lift_A_pos - lift_req_from)\n",
    "    distance_from_B = abs(lift_B_pos - lift_req_from)\n",
    "    \n",
    "    if distance_from_A < distance_from_B:\n",
    "        lift_A_pos = lift_req_from\n",
    "        print(\"A\")\n",
    "    elif distance_from_B < distance_from_A:\n",
    "        lift_B_pos = lift_req_from\n",
    "        print(\"B\")\n",
    "    elif distance_from_A == distance_from_B:\n",
    "        if lift_A_pos < lift_B_pos:\n",
    "            lift_A_pos = lift_req_from\n",
    "            print(\"A\")\n",
    "        elif lift_B_pos < lift_A_pos:\n",
    "            lift_B_pos = lift_req_from\n",
    "            print(\"B\")\n",
    "    num_of_test_case -= 1"
   ]
  },
  {
   "cell_type": "code",
   "execution_count": 3,
   "metadata": {},
   "outputs": [
    {
     "name": "stdout",
     "output_type": "stream",
     "text": [
      "Enter the number of test cases : 1\n",
      "13 18 19 29\n",
      "6 11\n"
     ]
    }
   ],
   "source": [
    "num_of_test_case = int(input(\"Enter the number of test cases : \"))\n",
    "while num_of_test_case > 0:\n",
    "    SH,SM,EH,EM = input().split()\n",
    "    SH = int(SH)\n",
    "    SM = int(SM)\n",
    "    EH = int(EH)\n",
    "    EM = int(EM)\n",
    "    if SM < EM and SH <= EH:\n",
    "        print(EH - SH, EM - SM)\n",
    "    elif SM > EH and SH < EH:\n",
    "        print( (EH-1) - SH,(EM+60) - SM)\n",
    "    num_of_test_case -= 1"
   ]
  },
  {
   "cell_type": "code",
   "execution_count": 15,
   "metadata": {},
   "outputs": [
    {
     "name": "stdout",
     "output_type": "stream",
     "text": [
      "Enter the number of test cases : 1\n",
      "Dikhit kthiiD\n",
      "D\n",
      "['k', 't', 'h', 'i', 'i', 'D']\n",
      "i\n",
      "['k', 't', 'h', 'i', 'i', 'D']\n",
      "k\n",
      "['k', 't', 'h', 'i', 'i', 'D']\n",
      "h\n",
      "['k', 't', 'h', 'i', 'i', 'D']\n",
      "i\n",
      "['k', 't', 'h', 'i', 'i', 'D']\n",
      "t\n",
      "['k', 't', 'h', 'i', 'i', 'D']\n",
      "YES\n"
     ]
    }
   ],
   "source": [
    "num_of_test_case = int(input(\"Enter the number of test cases : \"))\n",
    "while num_of_test_case > 0:\n",
    "    first_input,second_input = input().split()\n",
    "    length_of_original_string = len(first_input)\n",
    "    second_list = [ch for ch in second_input]\n",
    "    counter = 0\n",
    "    for index,letters in enumerate(first_input):\n",
    "        print(letters)\n",
    "        if letters in second_list:\n",
    "            counter += 1\n",
    "            \n",
    "            print(second_list)\n",
    "        elif not letters in first_input:\n",
    "            print(\"NO\")\n",
    "            break\n",
    "    if counter == length_of_original_string:\n",
    "        print(\"YES\")\n",
    "    else:\n",
    "        print(\"NO\")\n",
    "    num_of_test_case -= 1"
   ]
  },
  {
   "cell_type": "code",
   "execution_count": 19,
   "metadata": {},
   "outputs": [
    {
     "name": "stdout",
     "output_type": "stream",
     "text": [
      "Enter the number of test cases : 3\n",
      "Enter the two string : Dikhit ikhtiD\n",
      "['D', 'h', 'i', 'i', 'k', 't'] ['D', 'h', 'i', 'i', 'k', 't']\n",
      "YES\n",
      "Enter the two string : sumit mitsu\n",
      "['i', 'm', 's', 't', 'u'] ['i', 'm', 's', 't', 'u']\n",
      "YES\n",
      "Enter the two string : abhi hibb\n",
      "['a', 'b', 'h', 'i'] ['b', 'b', 'h', 'i']\n",
      "NO\n"
     ]
    }
   ],
   "source": [
    "num_of_test_case = int(input(\"Enter the number of test cases : \"))\n",
    "while num_of_test_case > 0:\n",
    "    first_input,second_input = input(\"Enter the two string : \").split()\n",
    "    sorted_first_input = sorted(first_input)\n",
    "    sorted_second_input = sorted(second_input)\n",
    "    print(sorted_first_input,sorted_second_input)\n",
    "    if sorted_first_input == sorted_second_input :\n",
    "        print(\"YES\")\n",
    "    else:\n",
    "        print(\"NO\")\n",
    "    num_of_test_case -= 1"
   ]
  },
  {
   "cell_type": "code",
   "execution_count": 31,
   "metadata": {},
   "outputs": [
    {
     "name": "stdout",
     "output_type": "stream",
     "text": [
      "Enter the string : All-convoYs-9-be:Alert1.\n",
      "Enter the cypher code number : 4\n",
      "A E\n",
      "l p\n",
      "l p\n",
      "c g\n",
      "o s\n",
      "n r\n",
      "v z\n",
      "o s\n",
      "Y C\n",
      "s w\n",
      "9 3\n",
      "b f\n",
      "e i\n",
      "A E\n",
      "l p\n",
      "e i\n",
      "r v\n",
      "t x\n",
      "1 5\n",
      "Epp-gwvzwCw-3-fi:Epivx5.\n"
     ]
    }
   ],
   "source": [
    "input_string = input(\"Enter the string : \")\n",
    "input_cypher_code = int(input(\"Enter the cypher code number : \"))\n",
    "for items in input_string:\n",
    "    if items.isalpha():\n",
    "        value = ord(items)\n",
    "        value = value + input_cypher_code\n",
    "        if items.islower():\n",
    "            if value > 122:\n",
    "                value = value - 122\n",
    "                value = value + 97\n",
    "            else:\n",
    "                pass\n",
    "        elif items.isupper():\n",
    "            if value > 90:\n",
    "                value = value - 90\n",
    "                value = value + 64\n",
    "            else:\n",
    "                pass\n",
    "        value = chr(value)\n",
    "        print(items,value)\n",
    "        input_string = input_string.replace(items,value)\n",
    "    elif items.isdigit():\n",
    "        value = int(items) + input_cypher_code\n",
    "        value = value % 10\n",
    "        value = str(value)\n",
    "        print(items,value)\n",
    "        input_string = input_string.replace(items,value)\n",
    "    else:\n",
    "        pass\n",
    "print(input_string)"
   ]
  },
  {
   "cell_type": "markdown",
   "metadata": {},
   "source": [
    "# Epp-gsrzsCw-3-fi:Epivx5."
   ]
  },
  {
   "cell_type": "code",
   "execution_count": 19,
   "metadata": {},
   "outputs": [
    {
     "name": "stdout",
     "output_type": "stream",
     "text": [
      "1 10 1\n",
      "1\n",
      "2\n",
      "3\n",
      "4\n",
      "5\n",
      "6\n",
      "7\n",
      "8\n",
      "9\n",
      "10\n"
     ]
    }
   ],
   "source": [
    "l,r,k = input().split()\n",
    "count = 0\n",
    "l = int(l)\n",
    "r = int(r)\n",
    "k = int(k)\n",
    "for x in range(l,r+1):\n",
    "    if x % k == 0:\n",
    "        count+=1\n",
    "        print(count)\n",
    "    else:\n",
    "        break"
   ]
  },
  {
   "cell_type": "code",
   "execution_count": 25,
   "metadata": {},
   "outputs": [
    {
     "name": "stdout",
     "output_type": "stream",
     "text": [
      "0 1\n",
      "1 2\n",
      "2 3\n",
      "3 4\n",
      "4 5\n",
      "5 6\n",
      "6 7\n",
      "7 8\n",
      "8 9\n"
     ]
    }
   ],
   "source": [
    "for i,v in enumerate(range(1,10)):\n",
    "    print(i,v)"
   ]
  },
  {
   "cell_type": "code",
   "execution_count": 32,
   "metadata": {},
   "outputs": [
    {
     "name": "stdout",
     "output_type": "stream",
     "text": [
      "Enter : abc123yz\n",
      "Enter number : 4\n",
      "ebc123yz --?\n",
      "afc123yz --?\n",
      "abg123yz --?\n",
      "abcp23yz -->\n",
      "abc1p3yz -->\n",
      "abc12pyz -->\n",
      "abc123}z --?\n",
      "abc123y~ --?\n",
      "abc123yz\n"
     ]
    }
   ],
   "source": [
    "input_string=input(\"Enter : \")\n",
    "input_num=int(input(\"Enter number : \"))\n",
    "new_string=input_string\n",
    "for i in input_string:\n",
    "    if i.isalpha():\n",
    "        i=input_string.replace(i,chr(ord(i)+input_num))\n",
    "        print(i,\"--?\")\n",
    "    elif i.isdigit():\n",
    "        p=int(i)+input_num\n",
    "        i=input_string.replace(i,\"p\")\n",
    "        print(i,\"-->\")\n",
    "    else:\n",
    "        pass\n",
    "print(new_string) "
   ]
  },
  {
   "cell_type": "code",
   "execution_count": 34,
   "metadata": {},
   "outputs": [
    {
     "name": "stdout",
     "output_type": "stream",
     "text": [
      "Enter : abc123xyz\n",
      "Enter number : 4\n",
      "ebc123xyz\n",
      "efc123xyz\n",
      "efg123xyz\n",
      "efgp23xyz\n",
      "efgpp3xyz\n",
      "efgpppxyz\n",
      "efgppp|yz\n",
      "efgppp|}z\n",
      "efgppp|}~\n",
      "efgppp|}~\n"
     ]
    }
   ],
   "source": [
    "input_string=input(\"Enter : \")\n",
    "input_num=int(input(\"Enter number : \"))\n",
    "new_string=input_string\n",
    "for i in input_string:\n",
    "    if i.isalpha():\n",
    "        input_string=input_string.replace(i,chr(ord(i)+input_num))\n",
    "        print(input_string)\n",
    "    elif i.isdigit():\n",
    "        p=int(i)+input_num\n",
    "        input_string=input_string.replace(i,\"p\")\n",
    "        print(input_string)\n",
    "    else:\n",
    "        pass\n",
    "print(input_string)"
   ]
  },
  {
   "cell_type": "code",
   "execution_count": 45,
   "metadata": {},
   "outputs": [
    {
     "name": "stdout",
     "output_type": "stream",
     "text": [
      "abcdZXYzxy-999.@\n",
      "200\n",
      "stuvRPQsqr-999.@\n"
     ]
    }
   ],
   "source": [
    "input_string = input()\n",
    "input_cypher_code = int(input())\n",
    "\n",
    "input_string1 = list(input_string)\n",
    "for index, items in enumerate(input_string1):\n",
    "    if items.isalpha():\n",
    "        input_cypher_code_char = input_cypher_code % 26\n",
    "        value = ord(items)\n",
    "        value = value + input_cypher_code_char\n",
    "        if items.islower():\n",
    "            if value > 122:\n",
    "                value = value - 122\n",
    "                value = value + 97\n",
    "            else:\n",
    "                pass\n",
    "        elif items.isupper():\n",
    "            if value > 90:\n",
    "                value = value - 90\n",
    "                value = value + 64\n",
    "            else:\n",
    "                pass\n",
    "        input_string1[index] = chr(value)\n",
    "        input_string = ''.join(input_string1)\n",
    "    elif items.isdigit():\n",
    "        value = int(items) + input_cypher_code\n",
    "        value = value % 10\n",
    "        value = str(value)\n",
    "        input_string1[index] = value\n",
    "        input_string = ''.join(input_string1)\n",
    "    else:\n",
    "        pass\n",
    "print(input_string)"
   ]
  },
  {
   "cell_type": "code",
   "execution_count": 48,
   "metadata": {},
   "outputs": [
    {
     "name": "stdout",
     "output_type": "stream",
     "text": [
      "AaZz190./Usa\n",
      "27\n",
      "BbAa867./Vtb\n"
     ]
    }
   ],
   "source": [
    "input_string = input()\n",
    "input_cypher_code = int(input())\n",
    "a = input_cypher_code % 26\n",
    "d = input_cypher_code % 10\n",
    "input_string1 = list(input_string)\n",
    "for index, items in enumerate(input_string1):\n",
    "    if items.isalpha():\n",
    "        value = ord(items)\n",
    "        value = value + a\n",
    "        if items.islower():\n",
    "            if value > 122:\n",
    "                value = value - 122\n",
    "                value = value + 96\n",
    "            else:\n",
    "                pass\n",
    "        elif items.isupper():\n",
    "            if value > 90:\n",
    "                value = value - 90\n",
    "                value = value + 64\n",
    "            else:\n",
    "                pass\n",
    "        input_string1[index] = chr(value)\n",
    "        input_string = ''.join(input_string1)\n",
    "    elif items.isdigit():\n",
    "        value = int(items) + d\n",
    "        value = value % 10\n",
    "        value = str(value)\n",
    "        input_string1[index] = value\n",
    "        input_string = ''.join(input_string1)\n",
    "    else:\n",
    "        pass\n",
    "print(input_string)"
   ]
  },
  {
   "cell_type": "code",
   "execution_count": null,
   "metadata": {},
   "outputs": [
    {
     "name": "stdout",
     "output_type": "stream",
     "text": [
      "5\n",
      "H . . . H\n"
     ]
    }
   ],
   "source": [
    "grid = int(input())\n",
    "village = input().split(' ')\n",
    "for index,value in enumerate(village[:-1]):\n",
    "    if village[index] == 'H' and village[index + 1] == 'H':\n",
    "        print('NO')\n",
    "        break\n",
    "print(\"YES\")\n",
    "for items in village:\n",
    "    if not items == 'H':\n",
    "        items = 'B'\n",
    "    print(items,end = \" \")"
   ]
  },
  {
   "cell_type": "code",
   "execution_count": 17,
   "metadata": {},
   "outputs": [],
   "source": [
    "def prime_checker(num):\n",
    "    for i in range(2,num):\n",
    "        if num % i == 0:\n",
    "            return False\n",
    "    return True"
   ]
  },
  {
   "cell_type": "code",
   "execution_count": 18,
   "metadata": {},
   "outputs": [],
   "source": [
    "num1 = [num for num in range(65,91) if prime_checker(num)] \n",
    "num2 = [num for num in range(97,123) if prime_checker(num)]\n",
    "prime_number = num1 + num2"
   ]
  },
  {
   "cell_type": "code",
   "execution_count": 19,
   "metadata": {},
   "outputs": [],
   "source": [
    "prime_number = [67, 71, 73, 79, 83, 89, 97, 101, 103, 107, 109, 113]"
   ]
  },
  {
   "cell_type": "code",
   "execution_count": 26,
   "metadata": {},
   "outputs": [
    {
     "name": "stdout",
     "output_type": "stream",
     "text": [
      "Enter the number of test cases : 1\n",
      "Enter the length of the string : 6\n",
      "Enter the string : AFREEN\n",
      "A 65\n",
      "A q 113\n",
      "F 70\n",
      "F m 109\n",
      "R 82\n",
      "R m 109\n",
      "E 69\n",
      "E m 109\n",
      "E 69\n",
      "E m 109\n",
      "N 78\n",
      "N m 109\n",
      "qmmmmm\n"
     ]
    }
   ],
   "source": [
    "prime_number = [67, 71, 73, 79, 83, 89, 97, 101, 103, 107, 109, 113]\n",
    "def prime_checker(num):\n",
    "    for i in range(2,num):\n",
    "        if num % i == 0:\n",
    "            return False\n",
    "    return True\n",
    "\n",
    "num_of_test_case = int(input(\"Enter the number of test cases : \"))\n",
    "while num_of_test_case  > 0:\n",
    "    length_of_string = int(input(\"Enter the length of the string : \"))\n",
    "    input_string = input(\"Enter the string : \")\n",
    "    for index1,letters in enumerate(input_string):\n",
    "        aschii_value = ord(letters)\n",
    "        print(letters,aschii_value)\n",
    "        if prime_checker(aschii_value) == False:\n",
    "            for index,value in enumerate(prime_number):\n",
    "                if not aschii_value > value:\n",
    "                    if index1 == 0:\n",
    "                        aschii_value = prime_number[index]\n",
    "                    else:\n",
    "                        aschii_value = prime_number[index - 1]\n",
    "        print(letters,chr(aschii_value),aschii_value)\n",
    "        input_string = input_string.replace(letters,chr(aschii_value))\n",
    "        \n",
    "    print(input_string)               \n",
    "    num_of_test_case -= 1"
   ]
  },
  {
   "cell_type": "code",
   "execution_count": 29,
   "metadata": {},
   "outputs": [
    {
     "name": "stdout",
     "output_type": "stream",
     "text": [
      "Enter the number of elements : 6\n",
      "-3 2 3 -4 3 1\n",
      "['-3', '2', '3', '-4', '3', '1']\n"
     ]
    }
   ],
   "source": [
    "num_of_elements = int(input(\"Enter the number of elements : \"))\n",
    "elements = input().split()\n",
    "print(elements)\n",
    "iterator = 1\n",
    "sum = 0\n",
    "sum_container = []\n",
    "while iterator < num_of_elements:\n",
    "    for items in range(0,num_of_elements,iterator):\n",
    "        sum = sum + int(elements[items])\n",
    "    sum_container.append(sum)\n",
    "    iterator += 1"
   ]
  },
  {
   "cell_type": "code",
   "execution_count": 30,
   "metadata": {},
   "outputs": [
    {
     "data": {
      "text/plain": [
       "[2, 5, -2, -2, -4]"
      ]
     },
     "execution_count": 30,
     "metadata": {},
     "output_type": "execute_result"
    }
   ],
   "source": [
    "sum_container"
   ]
  },
  {
   "cell_type": "code",
   "execution_count": null,
   "metadata": {},
   "outputs": [],
   "source": []
  }
 ],
 "metadata": {
  "kernelspec": {
   "display_name": "Python 3",
   "language": "python",
   "name": "python3"
  },
  "language_info": {
   "codemirror_mode": {
    "name": "ipython",
    "version": 3
   },
   "file_extension": ".py",
   "mimetype": "text/x-python",
   "name": "python",
   "nbconvert_exporter": "python",
   "pygments_lexer": "ipython3",
   "version": "3.7.4"
  }
 },
 "nbformat": 4,
 "nbformat_minor": 2
}
