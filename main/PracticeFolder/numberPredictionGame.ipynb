{
 "cells": [
  {
   "cell_type": "code",
   "execution_count": 2,
   "metadata": {},
   "outputs": [
    {
     "name": "stdout",
     "output_type": "stream",
     "text": [
      "Enter the number of times you want to play : 3\n",
      "Player  1  turn\n",
      "Enter the lower range : 110\n",
      "Enter the upper range : 120\n",
      "Generated random number is  0.32155543153502597\n",
      "38.58665178420311 * 120 = 4630.398214104373\n",
      "After type define :  38\n",
      "Guess the number ... range of the generated number is 110 and 120\n",
      "Enter the number : 115\n",
      "Sorry you are too high... Correct ans is  38\n",
      "Player  2  turn\n",
      "Enter the lower range : 200\n",
      "Enter the upper range : 210\n",
      "Generated random number is  0.6573081079403573\n",
      "138.03470266747505 * 210 = 28987.28756016976\n",
      "After type define :  138\n",
      "Guess the number ... range of the generated number is 200 and 210\n",
      "Enter the number : 209\n",
      "Sorry you are too high... Correct ans is  138\n",
      "Player  1  turn\n",
      "Enter the lower range : 90\n",
      "Enter the upper range : 100\n",
      "Generated random number is  0.1816844842028551\n",
      "18.16844842028551 * 100 = 1816.844842028551\n",
      "After type define :  18\n",
      "Guess the number ... range of the generated number is 90 and 100\n",
      "Enter the number : 99\n",
      "Sorry you are too high... Correct ans is  18\n"
     ]
    }
   ],
   "source": [
    "import random\n",
    "def randomNumberGenerator():\n",
    "    lowerRange = int( input(\"Enter the lower range : \"))\n",
    "    upperRange = int( input(\"Enter the upper range : \"))\n",
    "    number = random.random()\n",
    "    print(\"Generated random number is \", number)\n",
    "    number = number * upperRange\n",
    "    print(\"{} * {} = {}\".format(number, upperRange, ))\n",
    "    number = int(number)\n",
    "    print(\"After type define : \", number)\n",
    "    print(\"Guess the number ... range of the generated number is {} and {}\".format(lowerRange, upperRange))\n",
    "    userInputNumber = int( input(\"Enter the number : \"))\n",
    "    if userInputNumber > number:\n",
    "        print(\"Sorry you are too high... Correct ans is \", str(number))\n",
    "    elif userInputNumber < number :\n",
    "        print(\"Sorry your are too low...Correct ans is \", str(number))\n",
    "    elif userInputNumber == number:\n",
    "        print(\"you are correct.. great job\")\n",
    "\n",
    "def main():\n",
    "    numOfTimes = int(input(\"Enter the number of times you want to play : \"))\n",
    "    for iterator in range(0,numOfTimes,1):\n",
    "        print(\"Player \", str( (iterator % 2)+1), \" turn\")\n",
    "        randomNumberGenerator()\n",
    "\n",
    "if __name__ == \"__main__\" : main()"
   ]
  },
  {
   "cell_type": "code",
   "execution_count": 10,
   "metadata": {},
   "outputs": [
    {
     "name": "stdout",
     "output_type": "stream",
     "text": [
      "Enter the number : jhgk\n",
      "hey\n"
     ]
    }
   ],
   "source": [
    "number = input(\"Enter the number : \")\n",
    "if number.isalpha():\n",
    "    print(\"hey\")"
   ]
  },
  {
   "cell_type": "code",
   "execution_count": null,
   "metadata": {},
   "outputs": [],
   "source": []
  },
  {
   "cell_type": "code",
   "execution_count": null,
   "metadata": {},
   "outputs": [],
   "source": []
  }
 ],
 "metadata": {
  "kernelspec": {
   "display_name": "Python 3",
   "language": "python",
   "name": "python3"
  },
  "language_info": {
   "codemirror_mode": {
    "name": "ipython",
    "version": 3
   },
   "file_extension": ".py",
   "mimetype": "text/x-python",
   "name": "python",
   "nbconvert_exporter": "python",
   "pygments_lexer": "ipython3",
   "version": "3.7.4"
  }
 },
 "nbformat": 4,
 "nbformat_minor": 2
}
