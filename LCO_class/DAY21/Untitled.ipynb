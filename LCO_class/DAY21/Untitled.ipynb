{
 "cells": [
  {
   "cell_type": "code",
   "execution_count": null,
   "metadata": {},
   "outputs": [],
   "source": [
    "img = cv2.imread(\"1.jpg\")\n",
    "grey_img = cv2.cvtColor(img, cv2.COLOR_BGR2GRAY)\n",
    "plt.imshow(grey_img)\n",
    "rows, cols = grey_img.shape\n",
    "print(rows, cols)\n",
    "img_output = np.zeros(grey_img.shape)\n",
    "for i in range(rows):\n",
    "    for j in range(cols):\n",
    "        offset_x = int(80.0 * math.cos(2*3.14*i / 180))\n",
    "        offset_y = 0\n",
    "\n",
    "        if offset_x + j  < cols:\n",
    "            img_output[i,j] = grey_img[i,(j+offset_x)]\n",
    "        else:\n",
    "            img_output[i,j] = 0\n",
    "cv2.imwrite(\"final.jpg\", img_output)\n",
    "\n",
    "i=0\n",
    "\n",
    "kernel_10 = np.ones((1,10), dtype=np.float32)/(10)\n",
    "reshaped=kernel_10.reshape(-1,1)"
   ]
  },
  {
   "cell_type": "code",
   "execution_count": 4,
   "metadata": {},
   "outputs": [],
   "source": [
    "import cv2\n",
    "import numpy as np\n",
    "import math\n",
    "\n",
    "cap = cv2.VideoCapture(0)\n",
    "    \n",
    "while True:\n",
    "    _, frame = cap.read()\n",
    "    \n",
    "    grey_img = cv2.cvtColor(frame, cv2.COLOR_BGR2GRAY)\n",
    "    rows, cols = grey_img.shape\n",
    "    \n",
    "    img_output = np.zeros(grey_img.shape)\n",
    "    for i in range(rows):\n",
    "        for j in range(cols):\n",
    "            offset_x = int(80.0 * math.cos(2*3.14*i / 180))\n",
    "            offset_y = 0\n",
    "\n",
    "            if offset_x + j  < cols:\n",
    "                img_output[i,j] = grey_img[i,(j+offset_x)]\n",
    "            else:\n",
    "                img_output[i,j] = 0\n",
    "    \n",
    "    cv2.imshow(\"webcam\", img_output)\n",
    "    \n",
    "    c=cv2.waitKey(1)\n",
    "    \n",
    "    if c==43 :\n",
    "        i=i+20\n",
    "        kernel_10 = np.ones((1,10+i), dtype=np.float32)/(10+i)\n",
    "        reshaped=kernel_10.reshape(-1,1)\n",
    "        \n",
    "    if c==45 and i>10:\n",
    "        i=i-10\n",
    "        kernel_10 = np.ones((1,i), dtype=np.float32)/i\n",
    "        reshaped=kernel_10.reshape(-1,1)\n",
    "        \n",
    "    elif c== 27:\n",
    "        break\n",
    "        \n",
    "cap.release()\n",
    "cv2.destroyAllWindows()"
   ]
  },
  {
   "cell_type": "code",
   "execution_count": 5,
   "metadata": {},
   "outputs": [
    {
     "ename": "TypeError",
     "evalue": "only integer scalar arrays can be converted to a scalar index",
     "output_type": "error",
     "traceback": [
      "\u001b[1;31m---------------------------------------------------------------------------\u001b[0m",
      "\u001b[1;31mTypeError\u001b[0m                                 Traceback (most recent call last)",
      "\u001b[1;32m<ipython-input-5-9362c0439fd6>\u001b[0m in \u001b[0;36m<module>\u001b[1;34m\u001b[0m\n\u001b[0;32m      8\u001b[0m     \u001b[0m_\u001b[0m\u001b[1;33m,\u001b[0m \u001b[0mframe\u001b[0m \u001b[1;33m=\u001b[0m \u001b[0mcap\u001b[0m\u001b[1;33m.\u001b[0m\u001b[0mread\u001b[0m\u001b[1;33m(\u001b[0m\u001b[1;33m)\u001b[0m\u001b[1;33m\u001b[0m\u001b[1;33m\u001b[0m\u001b[0m\n\u001b[0;32m      9\u001b[0m     \u001b[0mrows\u001b[0m\u001b[1;33m,\u001b[0m\u001b[0mcols\u001b[0m \u001b[1;33m=\u001b[0m \u001b[0mframe\u001b[0m\u001b[1;33m[\u001b[0m\u001b[1;33m:\u001b[0m\u001b[1;36m2\u001b[0m\u001b[1;33m]\u001b[0m\u001b[1;33m\u001b[0m\u001b[1;33m\u001b[0m\u001b[0m\n\u001b[1;32m---> 10\u001b[1;33m     \u001b[1;32mfor\u001b[0m \u001b[0mi\u001b[0m \u001b[1;32min\u001b[0m \u001b[0mrange\u001b[0m\u001b[1;33m(\u001b[0m\u001b[0mrows\u001b[0m\u001b[1;33m)\u001b[0m\u001b[1;33m:\u001b[0m\u001b[1;33m\u001b[0m\u001b[1;33m\u001b[0m\u001b[0m\n\u001b[0m\u001b[0;32m     11\u001b[0m         \u001b[1;32mfor\u001b[0m \u001b[0mj\u001b[0m \u001b[1;32min\u001b[0m \u001b[0mrange\u001b[0m\u001b[1;33m(\u001b[0m\u001b[0mcols\u001b[0m\u001b[1;33m)\u001b[0m\u001b[1;33m:\u001b[0m\u001b[1;33m\u001b[0m\u001b[1;33m\u001b[0m\u001b[0m\n\u001b[0;32m     12\u001b[0m             \u001b[0moffset_x\u001b[0m \u001b[1;33m=\u001b[0m \u001b[0mint\u001b[0m\u001b[1;33m(\u001b[0m\u001b[1;36m80.0\u001b[0m \u001b[1;33m*\u001b[0m \u001b[0mmath\u001b[0m\u001b[1;33m.\u001b[0m\u001b[0mcos\u001b[0m\u001b[1;33m(\u001b[0m\u001b[1;36m2\u001b[0m\u001b[1;33m*\u001b[0m\u001b[1;36m3.14\u001b[0m\u001b[1;33m*\u001b[0m\u001b[0mi\u001b[0m \u001b[1;33m/\u001b[0m \u001b[1;36m180\u001b[0m\u001b[1;33m)\u001b[0m\u001b[1;33m)\u001b[0m\u001b[1;33m\u001b[0m\u001b[1;33m\u001b[0m\u001b[0m\n",
      "\u001b[1;31mTypeError\u001b[0m: only integer scalar arrays can be converted to a scalar index"
     ]
    }
   ],
   "source": [
    "\n",
    "import cv2\n",
    "import numpy as np\n",
    "import math\n",
    "\n",
    "cap = cv2.VideoCapture(0)\n",
    "    \n",
    "while True:\n",
    "    _, frame = cap.read()\n",
    "    rows,cols = frame[:2]\n",
    "    for i in range(rows):\n",
    "        for j in range(cols):\n",
    "            offset_x = int(80.0 * math.cos(2*3.14*i / 180))\n",
    "            offset_y = 0\n",
    "\n",
    "            if offset_x + j  < cols:\n",
    "                img_output[i,j] = grey_img[i,(j+offset_x)]\n",
    "            else:\n",
    "                img_output[i,j] = 0\n",
    "    \n",
    "    cv2.imshow(\"Frame\", frame)\n",
    "    \n",
    "    key_stroke = cv2.waitKey(1)\n",
    "    if key_stroke == 27:\n",
    "        break\n",
    "cap.release()\n",
    "cv2.destroyAllWindows()"
   ]
  },
  {
   "cell_type": "code",
   "execution_count": null,
   "metadata": {},
   "outputs": [],
   "source": []
  }
 ],
 "metadata": {
  "kernelspec": {
   "display_name": "Python 3",
   "language": "python",
   "name": "python3"
  },
  "language_info": {
   "codemirror_mode": {
    "name": "ipython",
    "version": 3
   },
   "file_extension": ".py",
   "mimetype": "text/x-python",
   "name": "python",
   "nbconvert_exporter": "python",
   "pygments_lexer": "ipython3",
   "version": "3.7.4"
  }
 },
 "nbformat": 4,
 "nbformat_minor": 2
}
