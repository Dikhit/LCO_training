{
 "cells": [
  {
   "cell_type": "code",
   "execution_count": 1,
   "metadata": {},
   "outputs": [
    {
     "name": "stdout",
     "output_type": "stream",
     "text": [
      "GUI\n"
     ]
    }
   ],
   "source": [
    "print(\"GUI\")"
   ]
  },
  {
   "cell_type": "code",
   "execution_count": 106,
   "metadata": {},
   "outputs": [],
   "source": [
    "import tkinter as tk\n",
    "from tkinter import *\n",
    "import time"
   ]
  },
  {
   "cell_type": "code",
   "execution_count": 59,
   "metadata": {},
   "outputs": [],
   "source": [
    "root = tk.Tk()\n",
    "\n",
    "def method():\n",
    "    data = e.get()\n",
    "    lbl['text'] = data\n",
    "    e.delete(0,END)\n",
    "    \n",
    "root.title(\"MyApp\")\n",
    "root.geometry(\"800x400+40+40\")\n",
    "\n",
    "# resize the screen\n",
    "root.resizable(True,True) \n",
    "\n",
    "fm = Frame(root, bg='green', width=200, height = 300)\n",
    "# pack is geometric manager of tkinter (pack,grid,place)\n",
    "# fm.pack(side=\"bottom\", fill = 'both')\n",
    "\n",
    "# fm.grid(row=0,column=0)\n",
    "\n",
    "\n",
    "\n",
    "# fm2 = Frame(root, bg='red', width=200, height = 300)\n",
    "# fm2.grid(row=0,column=1)\n",
    "\n",
    "\n",
    "\n",
    "fm = Frame(root, bg='green', width=200, height = 300)\n",
    "fm.place(x=10, y=25)\n",
    "\n",
    "lbl = Label(fm, fg='black', text = \"Result\")\n",
    "lbl.pack()\n",
    "\n",
    "e = Entry(fm, width = 15)\n",
    "e.pack(padx=10, pady=15)\n",
    "\n",
    "btn = Button(fm, fg=\"black\", bg=\"white\", text=\"click me\", command=lambda:method())\n",
    "btn.pack(padx=5, pady=5)\n",
    "\n",
    "\n",
    "root.mainloop()"
   ]
  },
  {
   "cell_type": "code",
   "execution_count": 108,
   "metadata": {},
   "outputs": [],
   "source": [
    "root = tk.Tk()\n",
    "\n",
    "def isprime():\n",
    "    data = e.get()\n",
    "    counter = 0\n",
    "    data = int(data)\n",
    "    \n",
    "    if data in [0,1,2]:\n",
    "        lbl['text'] = \"Not Prime number\"\n",
    "    for i in range(1,data+1):\n",
    "        if data % i == 0:\n",
    "            counter += 1\n",
    "    if counter == 2:\n",
    "        lbl['text'] = \"Prime number\"\n",
    "    else:\n",
    "        lbl['text'] = \"Not Prime number\"\n",
    "    e.delete(0,END)\n",
    "        \n",
    "        \n",
    "root.title(\"Prime Finder\")\n",
    "root.geometry(\"250x300+500+100\")\n",
    "root.resizable(False,False)\n",
    "\n",
    "fm = Frame(root, bg='#758AA2', width=600, height = 300, pady=100)\n",
    "fm.pack()\n",
    "\n",
    "lbl = Label(fm, fg='#EA7773', text = \"Enter the number\")\n",
    "lbl.pack()\n",
    "\n",
    "e = Entry(fm, width = 35)\n",
    "e.pack(padx=10, pady = 15)\n",
    "\n",
    "btn = Button(fm, fg=\"#BB2CD9\", bg=\"white\", text=\"click me\", command=lambda:isprime())\n",
    "btn.pack(padx=5, pady=5)\n",
    "\n",
    "root.mainloop()"
   ]
  },
  {
   "cell_type": "code",
   "execution_count": null,
   "metadata": {},
   "outputs": [],
   "source": []
  }
 ],
 "metadata": {
  "kernelspec": {
   "display_name": "Python 3",
   "language": "python",
   "name": "python3"
  },
  "language_info": {
   "codemirror_mode": {
    "name": "ipython",
    "version": 3
   },
   "file_extension": ".py",
   "mimetype": "text/x-python",
   "name": "python",
   "nbconvert_exporter": "python",
   "pygments_lexer": "ipython3",
   "version": "3.7.4"
  }
 },
 "nbformat": 4,
 "nbformat_minor": 2
}
