{
 "cells": [
  {
   "cell_type": "markdown",
   "metadata": {},
   "source": [
    "### Temperature Convertor Desktop App"
   ]
  },
  {
   "cell_type": "code",
   "execution_count": 1,
   "metadata": {},
   "outputs": [],
   "source": [
    "from tkinter import *"
   ]
  },
  {
   "cell_type": "code",
   "execution_count": 12,
   "metadata": {},
   "outputs": [],
   "source": [
    "class App():\n",
    "    def __init_(self):\n",
    "        pass\n",
    "    \n",
    "    def main_function(self):\n",
    "        root = Tk()\n",
    "        root.title(\"My App\")\n",
    "        root.geometry(\"300x300+40+40\")\n",
    "\n",
    "        def celcius_button_controller():\n",
    "            data = entry.get()\n",
    "            cel_value = ((int(data)*(9/5)) + 32) \n",
    "            my_label['text'] = cel_value\n",
    "            entry.delete(0,END)\n",
    "\n",
    "\n",
    "        def farenhite_button_controller():\n",
    "            data = entry.get()\n",
    "            far_value = data\n",
    "            my_label['text'] = far_value\n",
    "            entry.delete(0,END)\n",
    "\n",
    "\n",
    "        my_label = Label(root, text = \"No Output\")\n",
    "        my_label.pack()\n",
    "\n",
    "        entry = Entry(root, width=\"50\")\n",
    "        entry.pack()\n",
    "#         entry.insert(0,\"Enter the value : \")\n",
    "\n",
    "        celcius_button = Button(root, text=\"Convert to Celcius\", command=lambda: celcius_button_controller())\n",
    "        celcius_button.pack()\n",
    "\n",
    "\n",
    "        farenhite_button = Button(root, text=\"Convert to farenhite\", command=lambda: farenhite_button_controller())\n",
    "        farenhite_button.pack()\n",
    "\n",
    "\n",
    "        root.mainloop()\n",
    "        "
   ]
  },
  {
   "cell_type": "code",
   "execution_count": 13,
   "metadata": {},
   "outputs": [],
   "source": [
    "object_app = App()\n",
    "object_app.main_function()"
   ]
  },
  {
   "cell_type": "markdown",
   "metadata": {},
   "source": [
    "## Simple calculator"
   ]
  },
  {
   "cell_type": "code",
   "execution_count": 43,
   "metadata": {},
   "outputs": [
    {
     "name": "stderr",
     "output_type": "stream",
     "text": [
      "Exception in Tkinter callback\n",
      "Traceback (most recent call last):\n",
      "  File \"C:\\Users\\Katlic\\AppData\\Local\\Continuum\\anaconda3\\lib\\tkinter\\__init__.py\", line 1705, in __call__\n",
      "    return self.func(*args)\n",
      "  File \"<ipython-input-43-edebcbaf4ba3>\", line 22, in <lambda>\n",
      "    button_nine = Button(root, text = \"9\", padx=40, pady=20, command = lambda : button_controller('9'))\n",
      "  File \"<ipython-input-43-edebcbaf4ba3>\", line 7, in button_controller\n",
      "    value.reverse()\n",
      "AttributeError: 'str' object has no attribute 'reverse'\n",
      "Exception in Tkinter callback\n",
      "Traceback (most recent call last):\n",
      "  File \"C:\\Users\\Katlic\\AppData\\Local\\Continuum\\anaconda3\\lib\\tkinter\\__init__.py\", line 1705, in __call__\n",
      "    return self.func(*args)\n",
      "  File \"<ipython-input-43-edebcbaf4ba3>\", line 21, in <lambda>\n",
      "    button_eigth = Button(root, text = \"8\", padx=40, pady=20, command = lambda : button_controller('8'))\n",
      "  File \"<ipython-input-43-edebcbaf4ba3>\", line 7, in button_controller\n",
      "    value.reverse()\n",
      "AttributeError: 'str' object has no attribute 'reverse'\n"
     ]
    }
   ],
   "source": []
  },
  {
   "cell_type": "code",
   "execution_count": null,
   "metadata": {},
   "outputs": [],
   "source": []
  }
 ],
 "metadata": {
  "kernelspec": {
   "display_name": "Python 3",
   "language": "python",
   "name": "python3"
  },
  "language_info": {
   "codemirror_mode": {
    "name": "ipython",
    "version": 3
   },
   "file_extension": ".py",
   "mimetype": "text/x-python",
   "name": "python",
   "nbconvert_exporter": "python",
   "pygments_lexer": "ipython3",
   "version": "3.7.4"
  }
 },
 "nbformat": 4,
 "nbformat_minor": 2
}
