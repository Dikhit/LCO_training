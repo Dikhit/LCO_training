{
 "cells": [
  {
   "cell_type": "code",
   "execution_count": 2,
   "metadata": {},
   "outputs": [
    {
     "name": "stdout",
     "output_type": "stream",
     "text": [
      "Q1. Implement a program which will remove all the vowels from a given string.\n",
      "Enter the string : I Write Code\n",
      " Wrt Cd\n"
     ]
    }
   ],
   "source": [
    "print(\"Q1. Implement a program which will remove all the vowels from a given string.\")\n",
    "string = input(\"Enter the string : \")\n",
    "vowels = ['a','e','i','o','u','A','E','I','O','U']\n",
    "for i in string : \n",
    "    if i in vowels:\n",
    "        string = string.replace(i,'')\n",
    "print(string)"
   ]
  },
  {
   "cell_type": "code",
   "execution_count": 5,
   "metadata": {},
   "outputs": [
    {
     "name": "stdout",
     "output_type": "stream",
     "text": [
      "Celcius input\n",
      "Enter the temperature in Celcius : 100\n",
      "Convert to (C/K/F)k\n"
     ]
    },
    {
     "data": {
      "text/plain": [
       "373.15"
      ]
     },
     "execution_count": 5,
     "metadata": {},
     "output_type": "execute_result"
    }
   ],
   "source": [
    "print(\"Question 2\")\n",
    "def temp_convertor(value = 0, finalScale = 'F'):\n",
    "    if finalScale == \"C\" or finalScale == 'c':\n",
    "        return finalScale\n",
    "    elif finalScale == \"F\" or finalScale == 'f':\n",
    "        return value * (9/5) + 32\n",
    "    elif finalScale == \"K\" or finalScale == 'k':\n",
    "        return value + 273.15\n",
    "    else:\n",
    "        print(\"Wrong Input\")\n",
    "value = float(input(\"Enter the temperature in Celcius : \"))\n",
    "finalState = input(\"Convert to (C/K/F)\")\n",
    "temp_convertor(value,finalState)"
   ]
  },
  {
   "cell_type": "code",
   "execution_count": 3,
   "metadata": {},
   "outputs": [
    {
     "name": "stdout",
     "output_type": "stream",
     "text": [
      "Question 3\n",
      "Enter the maximum length of your password : 18\n",
      "rZe7lIjAv9UkqbvYhs\n"
     ]
    }
   ],
   "source": [
    "# Question 3\n",
    "import random\n",
    "import string\n",
    "print(\"Question 3\")\n",
    "length = int(input(\"Enter the maximum length of your password : \"))\n",
    "res = ''.join(random.choices(string.ascii_lowercase + string.digits + string.ascii_uppercase, k = length)) \n",
    "print(res)"
   ]
  },
  {
   "cell_type": "code",
   "execution_count": 3,
   "metadata": {},
   "outputs": [
    {
     "name": "stdout",
     "output_type": "stream",
     "text": [
      "Rock vs Paper-> Paper wins   Rock vs Scissor-> Rock wins    Paper vs Scissor-> Scissor wins.\n",
      "Enter your choice : Rock/Paper/Scissor : Rock\n",
      "You loose!!\n",
      "Enter your choice : Rock/Paper/Scissor : Rock\n",
      "You loose!!\n",
      "Enter your choice : Rock/Paper/Scissor : Rock\n",
      "Draw\n"
     ]
    }
   ],
   "source": [
    "import random\n",
    "list=[\"Rock\",\"Paper\",\"Scissor\"]\n",
    "print(\"Rock vs Paper-> Paper wins   Rock vs Scissor-> Rock wins    Paper vs Scissor-> Scissor wins.\")\n",
    "i=3\n",
    "while i!=0:\n",
    "    userInput=input(\"Enter your choice : Rock/Paper/Scissor : \")\n",
    "    random_choice=random.choice(list)\n",
    "    if userInput==random_choice:\n",
    "        print(\"Draw\")\n",
    "    elif userInput==\"Rock\" and random_choice==\"Paper\":\n",
    "        print(\"You loose!!\")\n",
    "    elif userInput==\"Paper\" and random_choice==\"Rock\":\n",
    "        print(\"You won!!\")\n",
    "    elif userInput==\"Rock\" and random_choice==\"Scissor\":\n",
    "        print(\"You won!!\")\n",
    "    elif userInput==\"Scissor\" and random_choice==\"Rock\":\n",
    "        print(\"You loose!!\")\n",
    "    elif userInput==\"Scissor\" and random_choice==\"Paper\":\n",
    "        print(\"You won!!\")\n",
    "    elif userInput==\"Paper\" and random_choice==\"Scissor\":\n",
    "        print(\"You loose!!\")\n",
    "    i-=1"
   ]
  },
  {
   "cell_type": "code",
   "execution_count": 1,
   "metadata": {},
   "outputs": [
    {
     "name": "stdout",
     "output_type": "stream",
     "text": [
      "Question 5\n",
      "Enter the string : 8\n",
      "[(1, '8')]\n"
     ]
    }
   ],
   "source": [
    "print(\"Question 5\")\n",
    "from itertools import groupby\n",
    "input_string=input(\"Enter the string : \")\n",
    "groups = groupby(input_string)\n",
    "result = [(sum(1 for _ in group),label) for label, group in groups]\n",
    "print(result)"
   ]
  },
  {
   "cell_type": "code",
   "execution_count": 43,
   "metadata": {},
   "outputs": [],
   "source": [
    "def list_sort(sub_li): \n",
    "    l = len(sub_li) \n",
    "    for i in range(0, l): \n",
    "        for j in range(0, l-i-1): \n",
    "            if (sub_li[j][0] > sub_li[j + 1][0]): \n",
    "                tempo = sub_li[j] \n",
    "                sub_li[j]= sub_li[j + 1] \n",
    "                sub_li[j + 1]= tempo \n",
    "    return sub_li \n",
    "def duplicate_counter():\n",
    "    company_name = input(\"Enter the name of your company : \")\n",
    "    filter_string = \"\".join([ch for ch in company_name if ch.isalnum()])\n",
    "    print(\"filter string : \", filter_string)\n",
    "    my_dict = {}\n",
    "    for c in filter_string:\n",
    "        if c in my_dict.keys():\n",
    "            my_dict[c] = my_dict[c] + 1\n",
    "        else :\n",
    "            my_dict[c] = 1\n",
    "#     print(my_dict)\n",
    "#     x = sorted(my_dict.items(), key = lambda kv:(kv[1], kv[0]), reverse= True)\n",
    "#     print('x',end = \" \")\n",
    "#     print(x)\n",
    "#     y = list_sort(x)\n",
    "#     print('y',end = \" \")\n",
    "#     print(y)\n",
    "    \n",
    "    finalList = [(my_dict[x],x) for x in my_dict.keys()]\n",
    "    print(finalList)\n",
    "    finalList.sort(reverse = True)\n",
    "    print(finalList)\n",
    "    iterator = 0\n",
    "    my_list = []\n",
    "    while iterator < 3:\n",
    "        my_list.append(finalList[iterator][1])\n",
    "        iterator = iterator + 1\n",
    "    print(my_list)\n",
    "    iterator = 0\n",
    "    company_logo = \"\".join([ch for ch in my_list])\n",
    "    return company_logo"
   ]
  },
  {
   "cell_type": "code",
   "execution_count": 44,
   "metadata": {},
   "outputs": [
    {
     "name": "stdout",
     "output_type": "stream",
     "text": [
      "Enter the name of your company : aabbbccde\n",
      "filter string :  aabbbccde\n",
      "[(2, 'a'), (3, 'b'), (2, 'c'), (1, 'd'), (1, 'e')]\n",
      "[(3, 'b'), (2, 'c'), (2, 'a'), (1, 'e'), (1, 'd')]\n",
      "['b', 'c', 'a']\n"
     ]
    },
    {
     "data": {
      "text/plain": [
       "'bca'"
      ]
     },
     "execution_count": 44,
     "metadata": {},
     "output_type": "execute_result"
    }
   ],
   "source": [
    "duplicate_counter()"
   ]
  },
  {
   "cell_type": "code",
   "execution_count": 6,
   "metadata": {},
   "outputs": [
    {
     "name": "stdout",
     "output_type": "stream",
     "text": [
      "aabbbccde\n",
      "[0, 0, 0, 0, 0, 0, 0, 0, 0, 0, 0, 0, 0, 0, 0, 0, 0, 0, 0, 0, 0, 0, 0, 0, 0, 0] b 3\n",
      "a 2\n",
      "c 2\n"
     ]
    }
   ],
   "source": [
    "# Question 6\n",
    "S = input()\n",
    "letters = [0]*26\n",
    "print(letters, end = \" \")\n",
    "\n",
    "for letter in S:\n",
    "    letters[ord(letter)-ord('a')] += 1\n",
    "\n",
    "for _ in range(3):\n",
    "    \n",
    "    max_letter = max(letters)\n",
    "    \n",
    "    for index in range(26):\n",
    "        if max_letter == letters[index]:\n",
    "            print (chr(ord('a')+index), max_letter)\n",
    "            letters[index] = -1\n",
    "            break"
   ]
  },
  {
   "cell_type": "code",
   "execution_count": null,
   "metadata": {},
   "outputs": [],
   "source": []
  }
 ],
 "metadata": {
  "kernelspec": {
   "display_name": "Python 3",
   "language": "python",
   "name": "python3"
  },
  "language_info": {
   "codemirror_mode": {
    "name": "ipython",
    "version": 3
   },
   "file_extension": ".py",
   "mimetype": "text/x-python",
   "name": "python",
   "nbconvert_exporter": "python",
   "pygments_lexer": "ipython3",
   "version": "3.7.4"
  }
 },
 "nbformat": 4,
 "nbformat_minor": 2
}
