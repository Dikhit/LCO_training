{
 "cells": [
  {
   "cell_type": "code",
   "execution_count": 2,
   "metadata": {},
   "outputs": [],
   "source": [
    "from tkinter import *\n",
    "import pickle\n",
    "import selenium.webdriver\n",
    "from PIL import ImageTk, Image\n",
    "from tkinter import ttk\n",
    "import cv2\n",
    "import time\n",
    "import matplotlib.pyplot as plt"
   ]
  },
  {
   "cell_type": "code",
   "execution_count": 25,
   "metadata": {},
   "outputs": [
    {
     "name": "stdout",
     "output_type": "stream",
     "text": [
      "(500, 355, 3)\n"
     ]
    }
   ],
   "source": [
    "root =Tk()\n",
    "root.geometry(\"400x400+40+40\")\n",
    "root.title(\"Image Viewer App\")\n",
    "\n",
    "global img \n",
    "\n",
    "global current_deg\n",
    "current_deg = 0\n",
    "\n",
    "def left_rotate(deg):\n",
    "    img = cv2.imread(\"new.jpeg\")\n",
    "    print(img.shape)\n",
    "    num_cols, num_rows = img.shape[:2]\n",
    "    global current_deg\n",
    "    current_deg = current_deg - 10\n",
    "\n",
    "    rot_matrix = cv2.getRotationMatrix2D((num_cols/2, num_rows/2), current_deg, 1.0)\n",
    "    img_rotation = cv2.warpAffine(img, rot_matrix, (num_cols, num_rows))\n",
    "    \n",
    "    cv2.imwrite(\"new.jpeg\", img_rotation)\n",
    "    my_img = ImageTk.PhotoImage(Image.open(\"new.jpeg\"))\n",
    "    pass\n",
    "\n",
    "def right_rotate(deg):\n",
    "    img = cv2.imread(\"new.jpeg\")\n",
    "    print(img.shape)\n",
    "    num_cols, num_rows = img.shape[:2]\n",
    "    global current_deg\n",
    "    current_deg = current_deg + 10\n",
    "\n",
    "    rot_matrix = cv2.getRotationMatrix2D((num_cols/2, num_rows/2), current_deg, 1.0)\n",
    "    img_rotation = cv2.warpAffine(img, rot_matrix, (num_cols, num_rows))\n",
    "    \n",
    "    cv2.imwrite(\"new.jpeg\", img_rotation)\n",
    "    my_img = ImageTk.PhotoImage(Image.open(\"new.jpeg\"))\n",
    "    pass\n",
    "\n",
    "\n",
    "my_img = ImageTk.PhotoImage(Image.open(\"new.jpeg\"))\n",
    "# why we don't have to pass the root object in the image\n",
    "lbl=Label(image=my_img)\n",
    "lbl.pack()\n",
    "\n",
    "\n",
    "left_rotation_button = ttk.Button(root, text = \"-10deg\", command=lambda : left_rotate(current_deg)).pack(side=\"left\")\n",
    "# current_degree = Label(root, text = current_deg).pack()\n",
    "right_rotation_button = ttk.Button(root, text = \"+10deg\", command=lambda : right_rotate(current_deg)).pack(side=\"right\")\n",
    "\n",
    "\n",
    "root.mainloop()    "
   ]
  },
  {
   "cell_type": "code",
   "execution_count": null,
   "metadata": {},
   "outputs": [],
   "source": []
  },
  {
   "cell_type": "code",
   "execution_count": null,
   "metadata": {},
   "outputs": [],
   "source": []
  },
  {
   "cell_type": "code",
   "execution_count": 28,
   "metadata": {},
   "outputs": [
    {
     "name": "stdout",
     "output_type": "stream",
     "text": [
      "Enter the degree for rotation : 30\n",
      "Successfully saved\n",
      "Enter the degree for rotation : -30\n",
      "Successfully saved\n"
     ]
    }
   ],
   "source": [
    "value = 0\n",
    "x = 0\n",
    "\n",
    "num_cols, num_rows = img.shape[:2]\n",
    "img = cv2.imread(\"new_func.jpeg\")\n",
    "\n",
    "while x < 2:\n",
    "    degree = int(input(\"Enter the degree for rotation : \"))\n",
    "    value = value + degree\n",
    "\n",
    "    rot_matrix = cv2.getRotationMatrix2D((num_cols/2, num_rows/2), value, 1.0)\n",
    "    img_rotation = cv2.warpAffine(img, rot_matrix, (num_cols, num_rows))\n",
    "    \n",
    "    x += 1\n",
    "    cv2.imwrite(\"final.jpeg\", img_rotation)\n",
    "    print(\"Successfully saved\")"
   ]
  },
  {
   "cell_type": "code",
   "execution_count": null,
   "metadata": {},
   "outputs": [],
   "source": []
  }
 ],
 "metadata": {
  "kernelspec": {
   "display_name": "Python 3",
   "language": "python",
   "name": "python3"
  },
  "language_info": {
   "codemirror_mode": {
    "name": "ipython",
    "version": 3
   },
   "file_extension": ".py",
   "mimetype": "text/x-python",
   "name": "python",
   "nbconvert_exporter": "python",
   "pygments_lexer": "ipython3",
   "version": "3.7.4"
  }
 },
 "nbformat": 4,
 "nbformat_minor": 2
}
