{
 "cells": [
  {
   "cell_type": "code",
   "execution_count": 1,
   "metadata": {},
   "outputs": [],
   "source": [
    "from tkinter import *\n",
    "import pickle\n",
    "import selenium.webdriver\n",
    "from PIL import ImageTk, Image\n",
    "from tkinter import ttk\n",
    "import cv2\n",
    "import time\n",
    "import matplotlib.pyplot as plt"
   ]
  },
  {
   "cell_type": "code",
   "execution_count": 2,
   "metadata": {},
   "outputs": [
    {
     "ename": "NameError",
     "evalue": "name 'url' is not defined",
     "output_type": "error",
     "traceback": [
      "\u001b[1;31m---------------------------------------------------------------------------\u001b[0m",
      "\u001b[1;31mNameError\u001b[0m                                 Traceback (most recent call last)",
      "\u001b[1;32m<ipython-input-2-61e4f072e304>\u001b[0m in \u001b[0;36m<module>\u001b[1;34m\u001b[0m\n\u001b[0;32m     36\u001b[0m \u001b[1;33m\u001b[0m\u001b[0m\n\u001b[0;32m     37\u001b[0m \u001b[1;33m\u001b[0m\u001b[0m\n\u001b[1;32m---> 38\u001b[1;33m \u001b[0mmy_img\u001b[0m \u001b[1;33m=\u001b[0m \u001b[0mImageTk\u001b[0m\u001b[1;33m.\u001b[0m\u001b[0mPhotoImage\u001b[0m\u001b[1;33m(\u001b[0m\u001b[0mImage\u001b[0m\u001b[1;33m.\u001b[0m\u001b[0mopen\u001b[0m\u001b[1;33m(\u001b[0m\u001b[0murl\u001b[0m\u001b[1;33m)\u001b[0m\u001b[1;33m)\u001b[0m\u001b[1;33m\u001b[0m\u001b[1;33m\u001b[0m\u001b[0m\n\u001b[0m\u001b[0;32m     39\u001b[0m \u001b[1;31m# why we don't have to pass the root object in the image\u001b[0m\u001b[1;33m\u001b[0m\u001b[1;33m\u001b[0m\u001b[1;33m\u001b[0m\u001b[0m\n\u001b[0;32m     40\u001b[0m \u001b[0mlbl\u001b[0m\u001b[1;33m=\u001b[0m\u001b[0mLabel\u001b[0m\u001b[1;33m(\u001b[0m\u001b[0mimage\u001b[0m\u001b[1;33m=\u001b[0m\u001b[0mmy_img\u001b[0m\u001b[1;33m)\u001b[0m\u001b[1;33m\u001b[0m\u001b[1;33m\u001b[0m\u001b[0m\n",
      "\u001b[1;31mNameError\u001b[0m: name 'url' is not defined"
     ]
    }
   ],
   "source": [
    "root =Tk()\n",
    "root.geometry(\"400x400+40+40\")\n",
    "root.resizable(False, False)\n",
    "root.title(\"Image Viewer App\")\n",
    "\n",
    "global img \n",
    "\n",
    "\n",
    "global current_deg\n",
    "current_deg = 0\n",
    "\n",
    "def left_rotate(deg):\n",
    "    img = cv2.imread(\"new.jpg\")\n",
    "    num_cols, num_rows = img.shape[:2]\n",
    "    global current_deg\n",
    "    current_deg = current_deg - 10\n",
    "\n",
    "    rot_matrix = cv2.getRotationMatrix2D((num_cols/2, num_rows/2), current_deg, 1.0)\n",
    "    img_rotation = cv2.warpAffine(img, rot_matrix, (num_cols, num_rows))\n",
    "    \n",
    "    cv2.imwrite(\"new.jpg\", img_rotation)\n",
    "    pass\n",
    "\n",
    "def right_rotate(deg):\n",
    "    img = cv2.imread(\"new.jpg\")\n",
    "    print(img.shape)\n",
    "    num_cols, num_rows = img.shape[:2]\n",
    "    global current_deg\n",
    "    current_deg = current_deg + 10\n",
    "\n",
    "    rot_matrix = cv2.getRotationMatrix2D((num_cols/2, num_rows/2), current_deg, 1.0)\n",
    "    img_rotation = cv2.warpAffine(img, rot_matrix, (num_cols, num_rows))\n",
    "    \n",
    "    cv2.imwrite(\"new.jpg\", img_rotation)\n",
    "    pass\n",
    "\n",
    "\n",
    "my_img = ImageTk.PhotoImage(Image.open(url))\n",
    "# why we don't have to pass the root object in the image\n",
    "lbl=Label(image=my_img)\n",
    "lbl.pack()\n",
    "\n",
    "\n",
    "left_rotation_button = ttk.Button(root, text = \"-10deg\", command=lambda : left_rotate(current_deg)).pack(side=\"left\")\n",
    "# current_degree = Label(root, text = current_deg).pack()\n",
    "right_rotation_button = ttk.Button(root, text = \"+10deg\", command=lambda : right_rotate(current_deg)).pack(side=\"right\")\n",
    "\n",
    "\n",
    "root.mainloop()    "
   ]
  },
  {
   "cell_type": "code",
   "execution_count": null,
   "metadata": {},
   "outputs": [],
   "source": []
  },
  {
   "cell_type": "code",
   "execution_count": null,
   "metadata": {},
   "outputs": [],
   "source": []
  },
  {
   "cell_type": "code",
   "execution_count": null,
   "metadata": {},
   "outputs": [],
   "source": [
    "value = 0\n",
    "x = 0\n",
    "while x < 2:\n",
    "    img = cv2.imread(\"C:\\\\Users\\\\Katlic\\\\Documents\\\\LCO_Bootcamp\\\\LCO_class_assign_prac\\\\PracticeFolder\\\\images\\\\some.jpeg\")\n",
    "    degree = int(input(\"Enter the degree for rotation : \"))\n",
    "    value = value + degree\n",
    "    num_cols, num_rows = img.shape[:2]\n",
    "\n",
    "    rot_matrix = cv2.getRotationMatrix2D((num_cols/2, num_rows/2), value, 1.0)\n",
    "    img_rotation = cv2.warpAffine(img, rot_matrix, (num_cols, num_rows))\n",
    "    \n",
    "    x += 1\n",
    "    cv2.imwrite(\"new.jpg\", img_rotation)\n",
    "    print(\"Successfully saved\")\n",
    "\n",
    "plt.imshow(\"new.jpg\")"
   ]
  }
 ],
 "metadata": {
  "kernelspec": {
   "display_name": "Python 3",
   "language": "python",
   "name": "python3"
  },
  "language_info": {
   "codemirror_mode": {
    "name": "ipython",
    "version": 3
   },
   "file_extension": ".py",
   "mimetype": "text/x-python",
   "name": "python",
   "nbconvert_exporter": "python",
   "pygments_lexer": "ipython3",
   "version": "3.7.4"
  }
 },
 "nbformat": 4,
 "nbformat_minor": 2
}
