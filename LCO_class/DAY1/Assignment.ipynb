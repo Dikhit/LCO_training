{
 "cells": [
  {
   "cell_type": "code",
   "execution_count": 2,
   "metadata": {},
   "outputs": [
    {
     "name": "stdout",
     "output_type": "stream",
     "text": [
      "PayTM recharge basic problem\n",
      "Enter the amount you want to recharge in your mobile : 99\n",
      "Recharge Successfull with 99 amount\n"
     ]
    }
   ],
   "source": [
    "print(\"PayTM recharge basic problem\")\n",
    "rechargePrice = input(\"Enter the amount you want to recharge in your mobile : \")\n",
    "if rechargePrice.isalpha():\n",
    "    print(\"Invalid Input..\")\n",
    "else:\n",
    "    print(\"Recharge Successfull with {rechargeValue} amount\".format(rechargeValue=rechargePrice))"
   ]
  },
  {
   "cell_type": "code",
   "execution_count": 1,
   "metadata": {},
   "outputs": [
    {
     "name": "stdout",
     "output_type": "stream",
     "text": [
      "Enter the price of the course : 89.99\n",
      "After deducting 18% GST and 30% google something charge .... Comapny profit is : 46.794799999999995\n"
     ]
    }
   ],
   "source": [
    "## print(\"LCO basic course sell problem\")\n",
    "# if input is abc.123 then check\n",
    "\n",
    "priceOfCourse = input(\"Enter the price of the course : \")\n",
    "if priceOfCourse.isalnum() and priceOfCourse.isdecmal():\n",
    "    print(\"Invalid Input\")\n",
    "else:\n",
    "    print(\"After deducting 18% GST and 30% google something charge ....\", end=\" \")\n",
    "    companyProfit = float(priceOfCourse) - ((float(priceOfCourse) * .18) + (float(priceOfCourse) * .30))\n",
    "    print( \"Comapny profit is : {}\".format(companyProfit))"
   ]
  },
  {
   "cell_type": "code",
   "execution_count": null,
   "metadata": {},
   "outputs": [],
   "source": []
  }
 ],
 "metadata": {
  "kernelspec": {
   "display_name": "Python 3",
   "language": "python",
   "name": "python3"
  },
  "language_info": {
   "codemirror_mode": {
    "name": "ipython",
    "version": 3
   },
   "file_extension": ".py",
   "mimetype": "text/x-python",
   "name": "python",
   "nbconvert_exporter": "python",
   "pygments_lexer": "ipython3",
   "version": "3.7.4"
  }
 },
 "nbformat": 4,
 "nbformat_minor": 2
}
