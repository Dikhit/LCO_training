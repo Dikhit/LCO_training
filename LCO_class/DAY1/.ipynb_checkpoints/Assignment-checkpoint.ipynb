{
 "cells": [
  {
   "cell_type": "code",
   "execution_count": 1,
   "metadata": {},
   "outputs": [
    {
     "name": "stdout",
     "output_type": "stream",
     "text": [
      "Enter the amount you want to recharge in your mobile : 100\n",
      "Recharge Successfull with 100.0 amount\n"
     ]
    }
   ],
   "source": [
    "rechargePrice = float( input(\"Enter the amount you want to recharge in your mobile : \"))\n",
    "print(\"Recharge Successfull with {rechargeValue} amount\".format(rechargeValue=rechargePrice))"
   ]
  },
  {
   "cell_type": "code",
   "execution_count": 3,
   "metadata": {},
   "outputs": [
    {
     "name": "stdout",
     "output_type": "stream",
     "text": [
      "Enter the price of the course ; 799\n",
      "After deducting 18% GST and 30% google something charge .... Comapny profit is : 415.48\n"
     ]
    }
   ],
   "source": [
    "priceOfCourse = float( input(\"Enter the price of the course ; \"))\n",
    "print(\"After deducting 18% GST and 30% google something charge ....\", end=\" \")\n",
    "companyProfit = priceOfCourse - ((priceOfCourse * .18) + (priceOfCourse * .30))\n",
    "print( \"Comapny profit is : {}\".format(companyProfit))"
   ]
  },
  {
   "cell_type": "code",
   "execution_count": null,
   "metadata": {},
   "outputs": [],
   "source": []
  }
 ],
 "metadata": {
  "kernelspec": {
   "display_name": "Python 3",
   "language": "python",
   "name": "python3"
  },
  "language_info": {
   "codemirror_mode": {
    "name": "ipython",
    "version": 3
   },
   "file_extension": ".py",
   "mimetype": "text/x-python",
   "name": "python",
   "nbconvert_exporter": "python",
   "pygments_lexer": "ipython3",
   "version": "3.7.4"
  }
 },
 "nbformat": 4,
 "nbformat_minor": 2
}
