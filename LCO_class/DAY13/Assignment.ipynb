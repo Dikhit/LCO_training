{
 "cells": [
  {
   "cell_type": "code",
   "execution_count": 2,
   "metadata": {},
   "outputs": [],
   "source": [
    "from selenium import webdriver\n",
    "from selenium.webdriver.common.keys import Keys\n",
    "from selenium.webdriver.support import expected_conditions as EC\n",
    "from selenium.webdriver.support.ui import Select\n",
    "import time\n",
    "\n",
    "import bs4\n",
    "executable_path = \"C:\\\\Users\\\\Katlic\\\\Downloads\\\\web_drivers_chrome\\\\chromedriver.exe\""
   ]
  },
  {
   "cell_type": "markdown",
   "metadata": {},
   "source": [
    "### Swiggy Automation"
   ]
  },
  {
   "cell_type": "code",
   "execution_count": 18,
   "metadata": {},
   "outputs": [],
   "source": [
    "driver = webdriver.Chrome(executable_path = executable_path)\n",
    "driver.maximize_window()\n",
    "\n",
    "driver.get(\"https://www.swiggy.com/\")\n",
    "location = driver.find_element_by_xpath(\"//*[@id='root']/div[1]/div[1]/div/div[1]/div[1]/div/div[2]/div/div[2]\")\n",
    "location.click()\n",
    "\n",
    "# driver.implicitly_Wait(20)"
   ]
  },
  {
   "cell_type": "code",
   "execution_count": 7,
   "metadata": {},
   "outputs": [
    {
     "name": "stdout",
     "output_type": "stream",
     "text": [
      "not found\n"
     ]
    }
   ],
   "source": [
    "# your_address = input(\"Enter your current address for confirmation : \")\n",
    "your_address = \"Jagatpura flyover\"\n",
    "driver = webdriver.Chrome(executable_path = executable_path)\n",
    "driver.maximize_window()\n",
    "\n",
    "driver.get(\"https://www.swiggy.com/\")\n",
    "location = driver.find_element_by_xpath(\"//*[@id='root']/div[1]/div[1]/div/div[1]/div[1]/div/div[2]/div/div[2]\")\n",
    "location.click()\n",
    "\n",
    "try:\n",
    "    driver.implicitly_wait(20)\n",
    "    search_bar = driver.find_element_by_xpath(\"//*[@id='root']/div[1]/header/div/div/div/span[2]\")\n",
    "    search_bar.click()\n",
    "    print(\"Search Bar Element clicked...\")\n",
    "    input_address_element = driver.find_element_by_xpath(\"//*[@id='overlay-sidebar-root']/div/div/div[2]/div/div/div[2]/div[2]/div/input\")\n",
    "    input_address_element.send_keys(your_address)\n",
    "    input_address_element.send_keys(Keys.ENTER)\n",
    "    time.sleep(3)\n",
    "    \n",
    "    select_place = driver.find_elements_by_class_name(\"Ku2oK\")\n",
    "    for i in range(len(select_place)):\n",
    "        select_place[0].click()\n",
    "    \n",
    "    print(\"okay\")\n",
    "    coupon_code = driver.find_elements_by_class_name('_12Jcd')\n",
    "    coupon_code.click()\n",
    "except:\n",
    "    print(\"not found\")"
   ]
  },
  {
   "cell_type": "code",
   "execution_count": null,
   "metadata": {},
   "outputs": [],
   "source": []
  }
 ],
 "metadata": {
  "kernelspec": {
   "display_name": "Python 3",
   "language": "python",
   "name": "python3"
  },
  "language_info": {
   "codemirror_mode": {
    "name": "ipython",
    "version": 3
   },
   "file_extension": ".py",
   "mimetype": "text/x-python",
   "name": "python",
   "nbconvert_exporter": "python",
   "pygments_lexer": "ipython3",
   "version": "3.7.4"
  }
 },
 "nbformat": 4,
 "nbformat_minor": 2
}
