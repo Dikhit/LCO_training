{
 "cells": [
  {
   "cell_type": "code",
   "execution_count": 1,
   "metadata": {},
   "outputs": [
    {
     "name": "stdout",
     "output_type": "stream",
     "text": [
      "Key logger Application \n"
     ]
    }
   ],
   "source": [
    "print(\"Key logger Application \")"
   ]
  },
  {
   "cell_type": "code",
   "execution_count": null,
   "metadata": {},
   "outputs": [],
   "source": []
  },
  {
   "cell_type": "code",
   "execution_count": 5,
   "metadata": {},
   "outputs": [
    {
     "name": "stdout",
     "output_type": "stream",
     "text": [
      "alphanumeric key w pressed\n",
      "'w' released\n",
      "alphanumeric key a pressed\n",
      "'a' released\n",
      "alphanumeric key l pressed\n",
      "'l' released\n",
      "special key Key.esc pressed\n",
      "Key.esc released\n",
      "alphanumeric key f pressed\n",
      "'f' released\n",
      "special key Key.esc pressed\n",
      "Key.esc released\n"
     ]
    }
   ],
   "source": [
    "from pynput import keyboard\n",
    "\n",
    "def on_press(key):\n",
    "    try:\n",
    "        print('alphanumeric key {0} pressed'.format(\n",
    "            key.char))\n",
    "    except AttributeError:\n",
    "        print('special key {0} pressed'.format(\n",
    "            key))\n",
    "\n",
    "def on_release(key):\n",
    "    print('{0} released'.format(\n",
    "        key))\n",
    "    if key == keyboard.Key.esc:\n",
    "        # Stop listener\n",
    "        return False\n",
    "\n",
    "# Collect events until released\n",
    "with keyboard.Listener(\n",
    "        on_press=on_press,\n",
    "        on_release=on_release) as listener:\n",
    "    listener.join()\n",
    "\n",
    "# ...or, in a non-blocking fashion:\n",
    "listener = keyboard.Listener(\n",
    "    on_press=on_press,\n",
    "    on_release=on_release)\n",
    "listener.start()"
   ]
  },
  {
   "cell_type": "code",
   "execution_count": null,
   "metadata": {},
   "outputs": [],
   "source": []
  },
  {
   "cell_type": "code",
   "execution_count": 4,
   "metadata": {},
   "outputs": [
    {
     "name": "stderr",
     "output_type": "stream",
     "text": [
      "Unhandled exception in listener callback\n",
      "Traceback (most recent call last):\n",
      "  File \"C:\\Users\\Katlic\\AppData\\Local\\Continuum\\anaconda3\\lib\\site-packages\\pynput\\_util\\win32.py\", line 382, in _handler\n",
      "    converted = self._convert(code, msg, lpdata)\n",
      "  File \"C:\\Users\\Katlic\\AppData\\Local\\Continuum\\anaconda3\\lib\\site-packages\\pynput\\_util\\win32.py\", line 397, in _convert\n",
      "    raise NotImplementedError()\n",
      "NotImplementedError\n",
      "\n",
      "During handling of the above exception, another exception occurred:\n",
      "\n",
      "Traceback (most recent call last):\n",
      "  File \"C:\\Users\\Katlic\\AppData\\Local\\Continuum\\anaconda3\\lib\\site-packages\\pynput\\_util\\__init__.py\", line 162, in inner\n",
      "    return f(self, *args, **kwargs)\n",
      "  File \"C:\\Users\\Katlic\\AppData\\Local\\Continuum\\anaconda3\\lib\\site-packages\\pynput\\_util\\win32.py\", line 386, in _handler\n",
      "    self._handle(code, msg, lpdata)\n",
      "  File \"C:\\Users\\Katlic\\AppData\\Local\\Continuum\\anaconda3\\lib\\site-packages\\pynput\\mouse\\_win32.py\", line 190, in _handle\n",
      "    self.on_click(data.pt.x, data.pt.y, button, pressed)\n",
      "  File \"C:\\Users\\Katlic\\AppData\\Local\\Continuum\\anaconda3\\lib\\site-packages\\pynput\\_util\\__init__.py\", line 78, in inner\n",
      "    if f(*args) is False:\n",
      "  File \"<ipython-input-4-665870ce3c9d>\", line 7, in on_click\n",
      "    raise MyException(button)\n",
      "MyException: Button.left\n"
     ]
    },
    {
     "name": "stdout",
     "output_type": "stream",
     "text": [
      "Button.left was clicked\n"
     ]
    }
   ],
   "source": [
    "from pynput import mouse\n",
    "\n",
    "class MyException(Exception): pass\n",
    "\n",
    "def on_click(x, y, button, pressed):\n",
    "    if button == mouse.Button.left:\n",
    "        raise MyException(button)\n",
    "\n",
    "# Collect events until released\n",
    "with mouse.Listener(\n",
    "        on_click=on_click) as listener:\n",
    "    try:\n",
    "        listener.join()\n",
    "    except MyException as e:\n",
    "        print('{0} was clicked'.format(e.args[0]))"
   ]
  },
  {
   "cell_type": "code",
   "execution_count": null,
   "metadata": {},
   "outputs": [],
   "source": []
  }
 ],
 "metadata": {
  "kernelspec": {
   "display_name": "Python 3",
   "language": "python",
   "name": "python3"
  },
  "language_info": {
   "codemirror_mode": {
    "name": "ipython",
    "version": 3
   },
   "file_extension": ".py",
   "mimetype": "text/x-python",
   "name": "python",
   "nbconvert_exporter": "python",
   "pygments_lexer": "ipython3",
   "version": "3.7.4"
  }
 },
 "nbformat": 4,
 "nbformat_minor": 2
}
