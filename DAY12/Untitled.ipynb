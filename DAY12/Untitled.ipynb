{
 "cells": [
  {
   "cell_type": "code",
   "execution_count": 14,
   "metadata": {},
   "outputs": [],
   "source": [
    "import requests as rq\n",
    "from bs4 import BeautifulSoup"
   ]
  },
  {
   "cell_type": "code",
   "execution_count": 15,
   "metadata": {},
   "outputs": [],
   "source": [
    "temp_data=[]\n",
    "res = rq.get(\"https://en.wikipedia.org/wiki/List_of_Marvel_Cinematic_Universe_films\")                                                  \n",
    "soup = BeautifulSoup(res.text, 'html.parser') \n",
    "table = soup.find(\"table\",class_=\"wikitable plainrowheaders\")\n",
    "with open(\"marvel.txt\",\"w+\") as file:\n",
    "    for items in table.find_all(\"tr\"):\n",
    "        data = [' '.join(item.text.split()) for item in items.find_all(['th','td'])]\n",
    "        if len(data)>2:\n",
    "             temp_data.append(data[0])"
   ]
  },
  {
   "cell_type": "code",
   "execution_count": 18,
   "metadata": {},
   "outputs": [
    {
     "name": "stdout",
     "output_type": "stream",
     "text": [
      "Iron Man 7.9\n",
      "The Incredible Hulk 6.7\n",
      "Iron Man 2 7.0\n",
      "Thor 7.0\n",
      "Captain America: The First Avenger 6.9\n",
      "Marvel's The Avengers no rating\n",
      "Iron Man 3 7.2\n",
      "Thor: The Dark World 6.9\n",
      "Captain America: The Winter Soldier 7.7\n",
      "Guardians of the Galaxy 8.0\n",
      "Avengers: Age of Ultron 7.3\n",
      "Ant-Man 7.3\n",
      "Captain America: Civil War 7.8\n",
      "Doctor Strange 7.5\n",
      "Guardians of the Galaxy Vol. 2 7.6\n",
      "Spider-Man: Homecoming 7.4\n",
      "Thor: Ragnarok 7.9\n",
      "Black Panther 7.3\n",
      "Avengers: Infinity War 8.5\n",
      "Ant-Man and the Wasp 7.1\n",
      "Captain Marvel 6.9\n",
      "Avengers: Endgame 8.5\n",
      "Spider-Man: Far From Home 7.6\n"
     ]
    }
   ],
   "source": [
    "for items in temp_data[1:]:\n",
    "    omid_api = rq.get(\"http://www.omdbapi.com/?i=tt3896198&apikey=7815f87e&t=\"+items)\n",
    "    json = omid_api.json()\n",
    "    try:\n",
    "        print(items, json['imdbRating'])\n",
    "    except:\n",
    "        print(items,\"no rating\")"
   ]
  },
  {
   "cell_type": "code",
   "execution_count": 19,
   "metadata": {},
   "outputs": [],
   "source": [
    "headers = {'User-Agent': 'Mozilla/5.0 (Macintosh; Intel Mac OS X 10_10_1) AppleWebKit/537.36 (KHTML, like Gecko) Chrome/39.0.2171.95 Safari/537.36'}"
   ]
  },
  {
   "cell_type": "code",
   "execution_count": 20,
   "metadata": {},
   "outputs": [],
   "source": [
    "session = rq.Session()"
   ]
  },
  {
   "cell_type": "code",
   "execution_count": 21,
   "metadata": {},
   "outputs": [],
   "source": [
    "amazon = session.get(\"https://www.amazon.in/s?k=laptops\", headers = headers)"
   ]
  },
  {
   "cell_type": "code",
   "execution_count": 22,
   "metadata": {},
   "outputs": [
    {
     "data": {
      "text/plain": [
       "<RequestsCookieJar[]>"
      ]
     },
     "execution_count": 22,
     "metadata": {},
     "output_type": "execute_result"
    }
   ],
   "source": [
    "session.cookies"
   ]
  },
  {
   "cell_type": "code",
   "execution_count": 25,
   "metadata": {},
   "outputs": [
    {
     "data": {
      "text/plain": [
       "<RequestsCookieJar[]>"
      ]
     },
     "execution_count": 25,
     "metadata": {},
     "output_type": "execute_result"
    }
   ],
   "source": [
    "session.cookies"
   ]
  },
  {
   "cell_type": "code",
   "execution_count": 3,
   "metadata": {},
   "outputs": [
    {
     "ename": "ModuleNotFoundError",
     "evalue": "No module named 'Selenium'",
     "output_type": "error",
     "traceback": [
      "\u001b[1;31m---------------------------------------------------------------------------\u001b[0m",
      "\u001b[1;31mModuleNotFoundError\u001b[0m                       Traceback (most recent call last)",
      "\u001b[1;32m<ipython-input-3-f2478cb65ac4>\u001b[0m in \u001b[0;36m<module>\u001b[1;34m\u001b[0m\n\u001b[1;32m----> 1\u001b[1;33m \u001b[1;32mimport\u001b[0m \u001b[0mSelenium\u001b[0m\u001b[1;33m\u001b[0m\u001b[1;33m\u001b[0m\u001b[0m\n\u001b[0m",
      "\u001b[1;31mModuleNotFoundError\u001b[0m: No module named 'Selenium'"
     ]
    }
   ],
   "source": [
    "import Selenium"
   ]
  },
  {
   "cell_type": "code",
   "execution_count": null,
   "metadata": {},
   "outputs": [],
   "source": []
  }
 ],
 "metadata": {
  "kernelspec": {
   "display_name": "Python 3",
   "language": "python",
   "name": "python3"
  },
  "language_info": {
   "codemirror_mode": {
    "name": "ipython",
    "version": 3
   },
   "file_extension": ".py",
   "mimetype": "text/x-python",
   "name": "python",
   "nbconvert_exporter": "python",
   "pygments_lexer": "ipython3",
   "version": "3.7.4"
  }
 },
 "nbformat": 4,
 "nbformat_minor": 2
}
