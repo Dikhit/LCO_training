{
 "cells": [
  {
   "cell_type": "code",
   "execution_count": null,
   "metadata": {},
   "outputs": [],
   "source": [
    "# "
   ]
  },
  {
   "cell_type": "code",
   "execution_count": 40,
   "metadata": {},
   "outputs": [
    {
     "name": "stdout",
     "output_type": "stream",
     "text": [
      "DAY 9\n"
     ]
    }
   ],
   "source": [
    "print(\"DAY 9\")"
   ]
  },
  {
   "cell_type": "code",
   "execution_count": 41,
   "metadata": {},
   "outputs": [],
   "source": [
    "f = open(\"myFile.txt\",'w+')"
   ]
  },
  {
   "cell_type": "code",
   "execution_count": 42,
   "metadata": {},
   "outputs": [
    {
     "data": {
      "text/plain": [
       "12"
      ]
     },
     "execution_count": 42,
     "metadata": {},
     "output_type": "execute_result"
    }
   ],
   "source": [
    "f.write(\"Hello World!\")"
   ]
  },
  {
   "cell_type": "code",
   "execution_count": 43,
   "metadata": {},
   "outputs": [],
   "source": [
    "f.close()"
   ]
  },
  {
   "cell_type": "code",
   "execution_count": 44,
   "metadata": {},
   "outputs": [],
   "source": [
    "f = open(\"myFile.txt\")"
   ]
  },
  {
   "cell_type": "code",
   "execution_count": 45,
   "metadata": {},
   "outputs": [],
   "source": [
    "data = f.read()"
   ]
  },
  {
   "cell_type": "code",
   "execution_count": 46,
   "metadata": {},
   "outputs": [
    {
     "data": {
      "text/plain": [
       "'Hello World!rld'"
      ]
     },
     "execution_count": 46,
     "metadata": {},
     "output_type": "execute_result"
    }
   ],
   "source": [
    "data"
   ]
  },
  {
   "cell_type": "code",
   "execution_count": 47,
   "metadata": {},
   "outputs": [
    {
     "name": "stdout",
     "output_type": "stream",
     "text": [
      "\n"
     ]
    }
   ],
   "source": [
    "print(f.read())"
   ]
  },
  {
   "cell_type": "code",
   "execution_count": 48,
   "metadata": {},
   "outputs": [
    {
     "data": {
      "text/plain": [
       "0"
      ]
     },
     "execution_count": 48,
     "metadata": {},
     "output_type": "execute_result"
    }
   ],
   "source": [
    "f.seek(0)"
   ]
  },
  {
   "cell_type": "code",
   "execution_count": 49,
   "metadata": {},
   "outputs": [
    {
     "name": "stdout",
     "output_type": "stream",
     "text": [
      "Hello World!rld\n"
     ]
    }
   ],
   "source": [
    "print(f.read())"
   ]
  },
  {
   "cell_type": "code",
   "execution_count": 50,
   "metadata": {},
   "outputs": [
    {
     "data": {
      "text/plain": [
       "3"
      ]
     },
     "execution_count": 50,
     "metadata": {},
     "output_type": "execute_result"
    }
   ],
   "source": [
    "f.seek(3)"
   ]
  },
  {
   "cell_type": "code",
   "execution_count": 51,
   "metadata": {},
   "outputs": [
    {
     "name": "stdout",
     "output_type": "stream",
     "text": [
      "lo World!rld\n"
     ]
    }
   ],
   "source": [
    "print(f.read())"
   ]
  },
  {
   "cell_type": "code",
   "execution_count": 52,
   "metadata": {},
   "outputs": [],
   "source": [
    "f.close()"
   ]
  },
  {
   "cell_type": "code",
   "execution_count": 56,
   "metadata": {},
   "outputs": [],
   "source": [
    "f = open(\"myFile.txt\",'w+')"
   ]
  },
  {
   "cell_type": "code",
   "execution_count": 57,
   "metadata": {},
   "outputs": [],
   "source": [
    "f.writelines(\"Hello\")\n",
    "f.writelines(\"World\")"
   ]
  },
  {
   "cell_type": "code",
   "execution_count": 64,
   "metadata": {},
   "outputs": [
    {
     "data": {
      "text/plain": [
       "0"
      ]
     },
     "execution_count": 64,
     "metadata": {},
     "output_type": "execute_result"
    }
   ],
   "source": [
    "f.seek(0)"
   ]
  },
  {
   "cell_type": "code",
   "execution_count": 65,
   "metadata": {},
   "outputs": [
    {
     "data": {
      "text/plain": [
       "['HelloWorld']"
      ]
     },
     "execution_count": 65,
     "metadata": {},
     "output_type": "execute_result"
    }
   ],
   "source": [
    "f.readlines()"
   ]
  },
  {
   "cell_type": "code",
   "execution_count": 66,
   "metadata": {},
   "outputs": [
    {
     "name": "stdout",
     "output_type": "stream",
     "text": [
      "Dikhit Kumar Bhuyan\n"
     ]
    }
   ],
   "source": [
    "name = input()\n",
    "open(\"inputFiles.txt\")\n"
   ]
  },
  {
   "cell_type": "code",
   "execution_count": 68,
   "metadata": {},
   "outputs": [
    {
     "name": "stdout",
     "output_type": "stream",
     "text": [
      "Dikhit Kumar Bhuyan\n"
     ]
    }
   ],
   "source": [
    "print(name)"
   ]
  },
  {
   "cell_type": "code",
   "execution_count": 71,
   "metadata": {},
   "outputs": [
    {
     "name": "stdout",
     "output_type": "stream",
     "text": [
      "HelloWorld\n"
     ]
    }
   ],
   "source": [
    "with open(\"myFile.txt\") as f:\n",
    "    print(f.read())"
   ]
  },
  {
   "cell_type": "code",
   "execution_count": 12,
   "metadata": {},
   "outputs": [
    {
     "name": "stdout",
     "output_type": "stream",
     "text": [
      "1. Insert\n",
      "2. View\n",
      "Insert/View1\n",
      "Enter your name : Dikhit\n",
      "Enter your email : dikhitbhuyan@gmail.com\n",
      "Enter your password : pass\n",
      "1. Insert\n",
      "2. View\n",
      "Insert/View1\n",
      "Enter your name : kakumon\n",
      "Enter your email : kaku@gmail.com\n",
      "Enter your password : kaku0001\n",
      "1. Insert\n",
      "2. View\n",
      "Insert/View1\n",
      "Enter your name : some\n",
      "Enter your email : some@gmail.com\n",
      "Enter your password : some123\n",
      "1. Insert\n",
      "2. View\n",
      "Insert/View2\n",
      " \n",
      "File details : \n",
      "\n",
      "1 \n",
      "\n",
      "2 Dikhit\n",
      "\n",
      "3 dikhitbhuyan@gmail.com\n",
      "\n",
      "4 pass\n",
      "\n",
      "5 kakumon\n",
      "\n",
      "6 kaku@gmail.com\n",
      "\n",
      "7 kaku0001\n",
      "\n",
      "8 some\n",
      "\n",
      "9 some@gmail.com\n",
      "\n",
      "10 some123\n",
      "\n"
     ]
    }
   ],
   "source": [
    "while True:\n",
    "    print(\"1. Insert\")\n",
    "    print(\"2. View\")\n",
    "    input_choice = input(\"Insert/View\")\n",
    "    if input_choice == '1' or input_choice == 'Insert':\n",
    "        f = open(\"myData.txt\",'a+')\n",
    "        name = input(\"Enter your name : \")\n",
    "        email = input(\"Enter your email : \")\n",
    "        password = input(\"Enter your password : \")\n",
    "        user_number = user_number + 1\n",
    "        f.write(name + \"\\n\" + email + \"\\n\" + password + \"\\n\")\n",
    "        \n",
    "    elif input_choice == '2' or input_choice == 'View':\n",
    "        print(\" \\nFile details : \\n\")\n",
    "        with open(\"myData.txt\") as f:\n",
    "            for index,items in enumerate(f.readlines()):\n",
    "                i = 0\n",
    "                if i % 3 == 0:\n",
    "                    print(\"User \",index + 1)\n",
    "                print(items)\n",
    "                i = i+ 1\n",
    "        break\n",
    "    else:\n",
    "        print(\"wrong input.. check the command or enter number\")"
   ]
  },
  {
   "cell_type": "code",
   "execution_count": 5,
   "metadata": {},
   "outputs": [],
   "source": [
    "class myDataCollect(object):\n",
    "    def __init__(self):   \n",
    "        self.f = open(\"file.txt\",'a+')\n",
    "        self.name = 'user_name'\n",
    "        self.email = 'email@emailcom'\n",
    "        self.password = '12345'\n",
    "    def insert_data(self):\n",
    "        self.name = input(\"Enter your name : \")\n",
    "        self.email = input(\"Enter your email : \")\n",
    "        self.password = input(\"Enter your password : \")\n",
    "        self.f.write(self.name + \"\\t\" + self.email + \"\\t\" + self.password + \"\\n\")\n",
    "    \n",
    "    def read_data(self):\n",
    "        with open(\"file.txt\") as f:\n",
    "            data = f.readlines()\n",
    "            for index,items in enumerate(data):\n",
    "                print(\"User \",index +1)\n",
    "                print(items)\n",
    "        "
   ]
  },
  {
   "cell_type": "code",
   "execution_count": 6,
   "metadata": {},
   "outputs": [],
   "source": [
    "obj = myDataCollect()"
   ]
  },
  {
   "cell_type": "code",
   "execution_count": 7,
   "metadata": {},
   "outputs": [
    {
     "name": "stdout",
     "output_type": "stream",
     "text": [
      "Enter your name : Dikhit\n",
      "Enter your email : dikhitbhuyan@gmail.com\n",
      "Enter your password : kaku0001\n"
     ]
    }
   ],
   "source": [
    "obj.insert_data()"
   ]
  },
  {
   "cell_type": "code",
   "execution_count": 8,
   "metadata": {},
   "outputs": [
    {
     "name": "stdout",
     "output_type": "stream",
     "text": [
      "User  1\n",
      "abc\tabc@gmail.com\tabc_pass\n",
      "\n",
      "User  2\n",
      "some\tsome@gmail.com\tsome_pass\n",
      "\n",
      "User  3\n",
      "a\tb@gmail.com\t123456789\n",
      "\n"
     ]
    }
   ],
   "source": [
    "obj.read_data()"
   ]
  },
  {
   "cell_type": "code",
   "execution_count": null,
   "metadata": {},
   "outputs": [],
   "source": []
  }
 ],
 "metadata": {
  "kernelspec": {
   "display_name": "Python 3",
   "language": "python",
   "name": "python3"
  },
  "language_info": {
   "codemirror_mode": {
    "name": "ipython",
    "version": 3
   },
   "file_extension": ".py",
   "mimetype": "text/x-python",
   "name": "python",
   "nbconvert_exporter": "python",
   "pygments_lexer": "ipython3",
   "version": "3.7.4"
  }
 },
 "nbformat": 4,
 "nbformat_minor": 2
}
