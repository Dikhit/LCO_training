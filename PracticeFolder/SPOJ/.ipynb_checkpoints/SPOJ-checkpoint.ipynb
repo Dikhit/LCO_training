{
 "cells": [
  {
   "cell_type": "code",
   "execution_count": 8,
   "metadata": {},
   "outputs": [
    {
     "name": "stdout",
     "output_type": "stream",
     "text": [
      "SPOJ problem 1 brute force attack\n",
      "1 2 88 "
     ]
    }
   ],
   "source": [
    "print(\"SPOJ problem 1 brute force attack\")\n",
    "numbers = [1,2,88,42,99]\n",
    "temp = -999\n",
    "for values in numbers:\n",
    "    if temp < values:\n",
    "        print(values, end= \" \")\n",
    "        temp = values\n",
    "    else:\n",
    "        break"
   ]
  },
  {
   "cell_type": "code",
   "execution_count": 12,
   "metadata": {},
   "outputs": [
    {
     "name": "stdout",
     "output_type": "stream",
     "text": [
      "SPOJ problem 2 prime generator\n",
      "Enter the first number : 1\n",
      "Enter the last number : 20\n",
      "list of prime numbers :  [2, 3, 5, 7, 11, 13, 17, 19]\n",
      "Non prime numbers :  [1, 4, 6, 8, 9, 10, 12, 14, 15, 16, 18]\n"
     ]
    }
   ],
   "source": [
    "print(\"SPOJ problem 2 prime generator\")\n",
    "def primeGenerator(number):\n",
    "    count = 0\n",
    "    for iterator in range(1,number+1,1):\n",
    "        if number % iterator == 0:\n",
    "            count+=1\n",
    "    if count == 2:\n",
    "        return True\n",
    "    else :\n",
    "        return False\n",
    "def main():\n",
    "    firstNumber = int(input(\"Enter the first number : \"))\n",
    "    secondNumber = int(input(\"Enter the last number : \"))\n",
    "    primeNumber = list()\n",
    "    nonPrimeNumber = list()\n",
    "    for iterator in range(firstNumber, secondNumber,1):\n",
    "        if primeGenerator(iterator):\n",
    "            primeNumber.append(iterator)\n",
    "        else:\n",
    "            nonPrimeNumber.append(iterator)\n",
    "    \n",
    "    print(\"list of prime numbers : \", end = \" \")\n",
    "    print(primeNumber)\n",
    "    print(\"Non prime numbers : \", end = \" \")\n",
    "    print(nonPrimeNumber)\n",
    "if __name__ == \"__main__\" : main()"
   ]
  },
  {
   "cell_type": "code",
   "execution_count": 17,
   "metadata": {},
   "outputs": [
    {
     "name": "stdout",
     "output_type": "stream",
     "text": [
      "Binary addition and substraction\n",
      "Enter the first binary number : 1010110010\n",
      "Enter the second binary number : 10110\n",
      "0b1010011100\n"
     ]
    }
   ],
   "source": [
    "print(\"Binary addition and substraction\")\n",
    "num1 = input(\"Enter the first binary number : \")\n",
    "num2 = input(\"Enter the second binary number : \")\n",
    "sum = bin(int(num1,2) - int(num2,2))\n",
    "print(sum)"
   ]
  },
  {
   "cell_type": "code",
   "execution_count": 22,
   "metadata": {},
   "outputs": [
    {
     "name": "stdout",
     "output_type": "stream",
     "text": [
      "Enter the number : 100\n",
      "Enter the second number : 10\n",
      "Enter the operation (+,-,*./)/\n",
      "100\n",
      "/10\n",
      "-----------\n",
      "10.0\n"
     ]
    }
   ],
   "source": [
    "firstNumber = int(input(\"Enter the number : \"))\n",
    "secondNumber = int(input(\"Enter the second number : \"))\n",
    "operator = input(\"Enter the operation (+,-,*./)\")\n",
    "if operator == '+':\n",
    "    print(firstNumber)\n",
    "    print(operator,str(secondNumber),sep=\"\")\n",
    "    print(\"-----------\")\n",
    "    print(int(firstNumber) + int(secondNumber))\n",
    "elif operator == '-':\n",
    "    print(firstNumber)\n",
    "    print(operator,str(secondNumber),sep=\"\")\n",
    "    print(\"-----------\")\n",
    "    print(int(firstNumber) - int(secondNumber))\n",
    "elif operator == '*':\n",
    "    print(firstNumber)\n",
    "    print(operator,str(secondNumber),sep=\"\")\n",
    "    print(\"-----------\")\n",
    "    print(int(firstNumber) * int(secondNumber))\n",
    "elif operator == '/':\n",
    "    print(firstNumber)\n",
    "    print(operator,str(secondNumber),sep=\"\")\n",
    "    print(\"-----------\")\n",
    "    print(int(firstNumber) / int(secondNumber))\n",
    "else:\n",
    "    print(\"Operator is not define\")"
   ]
  },
  {
   "cell_type": "code",
   "execution_count": null,
   "metadata": {},
   "outputs": [],
   "source": [
    "print(\"ACM reverse number problem ...\")\n"
   ]
  }
 ],
 "metadata": {
  "kernelspec": {
   "display_name": "Python 3",
   "language": "python",
   "name": "python3"
  },
  "language_info": {
   "codemirror_mode": {
    "name": "ipython",
    "version": 3
   },
   "file_extension": ".py",
   "mimetype": "text/x-python",
   "name": "python",
   "nbconvert_exporter": "python",
   "pygments_lexer": "ipython3",
   "version": "3.7.4"
  }
 },
 "nbformat": 4,
 "nbformat_minor": 2
}
