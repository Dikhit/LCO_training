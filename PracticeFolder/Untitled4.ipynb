{
 "cells": [
  {
   "cell_type": "code",
   "execution_count": null,
   "metadata": {},
   "outputs": [],
   "source": [
    "distance_from_home = int(input(\"Enter the distance from home to office : \"))\n",
    "\n",
    "online_taxi_first_km_price, online_taxi_km_travelling, online_taxi_for_each_next_km = input().split()\n",
    "online_taxi_first_km_price = int(online_taxi_first_km_price)\n",
    "online_taxi_km_travelling = int(online_taxi_km_travelling)\n",
    "online_taxi_for_each_next_km = int(online_taxi_for_each_next_km)\n",
    "\n",
    "offline_taxi_kpm, base_fare, cost_p_m,  = "
   ]
  }
 ],
 "metadata": {
  "kernelspec": {
   "display_name": "Python 3",
   "language": "python",
   "name": "python3"
  },
  "language_info": {
   "codemirror_mode": {
    "name": "ipython",
    "version": 3
   },
   "file_extension": ".py",
   "mimetype": "text/x-python",
   "name": "python",
   "nbconvert_exporter": "python",
   "pygments_lexer": "ipython3",
   "version": "3.7.4"
  }
 },
 "nbformat": 4,
 "nbformat_minor": 2
}
