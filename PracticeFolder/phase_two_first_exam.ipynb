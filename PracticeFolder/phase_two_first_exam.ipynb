{
 "cells": [
  {
   "cell_type": "code",
   "execution_count": 47,
   "metadata": {},
   "outputs": [],
   "source": [
    "def outer_func(func):\n",
    "    def convertor(s,i):\n",
    "        if i >= len(s):\n",
    "            return \"Wrong Input\"\n",
    "\n",
    "        if s[i].islower():\n",
    "            for value in s:\n",
    "                if value == s[i].upper():\n",
    "                    x=value.lower()\n",
    "                    s = s.replace(value,x)\n",
    "\n",
    "        elif s[i].isupper():\n",
    "            for value in s:\n",
    "                if value == s[i].lower():\n",
    "                    x=value.upper()\n",
    "                    s = s.replace(value,x)\n",
    "        return s\n",
    "    return convertor"
   ]
  },
  {
   "cell_type": "code",
   "execution_count": 48,
   "metadata": {},
   "outputs": [],
   "source": [
    "@outer_func\n",
    "def value_checker(name):\n",
    "    return name"
   ]
  },
  {
   "cell_type": "code",
   "execution_count": 49,
   "metadata": {},
   "outputs": [
    {
     "data": {
      "text/plain": [
       "'DIKiKt'"
      ]
     },
     "execution_count": 49,
     "metadata": {},
     "output_type": "execute_result"
    }
   ],
   "source": [
    "value_checker(\"DIKikt\",2)"
   ]
  },
  {
   "cell_type": "code",
   "execution_count": 30,
   "metadata": {},
   "outputs": [],
   "source": [
    "def method(lower_limit,upper_limit,sequence_design=1):\n",
    "    isFlag = False\n",
    "    if sequence_design == 0:\n",
    "        return \"Wrong Input\"\n",
    "    my_sequence = [num for num in range(lower_limit,upper_limit,sequence_design)]\n",
    "    for index1,value1 in enumerate(my_sequence):\n",
    "        for index2,value2 in enumerate(my_sequence[index1:]):\n",
    "            if not (value1 + value2) % 2 == 0:\n",
    "                isFlag = True\n",
    "                print(\"({v1},{v2})\".format(v1=value1,v2 = value2),end = \" \")\n",
    "    \n",
    "    if isFlag == False:\n",
    "        return \"no such group\""
   ]
  },
  {
   "cell_type": "code",
   "execution_count": 31,
   "metadata": {},
   "outputs": [
    {
     "name": "stdout",
     "output_type": "stream",
     "text": [
      "(1,2) (1,4) (1,6) (1,8) (2,3) (2,5) (2,7) (2,9) (3,4) (3,6) (3,8) (4,5) (4,7) (4,9) (5,6) (5,8) (6,7) (6,9) (7,8) (8,9) "
     ]
    }
   ],
   "source": [
    "method(1,10,1)"
   ]
  },
  {
   "cell_type": "code",
   "execution_count": 58,
   "metadata": {},
   "outputs": [
    {
     "name": "stdout",
     "output_type": "stream",
     "text": [
      "Enter your element separator,\n",
      "Enter the sequence : 1,2,3,4,5,6,7\n",
      "(1,1) (1,3) (1,5) (1,7) (3,3) (3,5) (3,7) (5,5) (5,7) (7,7) "
     ]
    }
   ],
   "source": [
    "def method2():\n",
    "    your_Separetor = input(\"Enter your element separator\")\n",
    "    my_sequence = input(\"Enter the sequence : \").split(your_Separetor)\n",
    "    for index1,value1 in enumerate(my_sequence):\n",
    "        for index2,value2 in enumerate(my_sequence[index1:]):\n",
    "            if not (int(value1) * int(value2)) % 2 == 0:\n",
    "                print(\"({v1},{v2})\".format(v1=value1,v2 = value2),end = \" \")\n",
    "method2()"
   ]
  },
  {
   "cell_type": "code",
   "execution_count": null,
   "metadata": {},
   "outputs": [],
   "source": []
  }
 ],
 "metadata": {
  "kernelspec": {
   "display_name": "Python 3",
   "language": "python",
   "name": "python3"
  },
  "language_info": {
   "codemirror_mode": {
    "name": "ipython",
    "version": 3
   },
   "file_extension": ".py",
   "mimetype": "text/x-python",
   "name": "python",
   "nbconvert_exporter": "python",
   "pygments_lexer": "ipython3",
   "version": "3.7.4"
  }
 },
 "nbformat": 4,
 "nbformat_minor": 2
}
