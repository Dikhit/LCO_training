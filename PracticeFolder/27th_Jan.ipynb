{
 "cells": [
  {
   "cell_type": "code",
   "execution_count": 2,
   "metadata": {},
   "outputs": [],
   "source": [
    "from selenium import webdriver\n",
    "from selenium.webdriver.common.keys import Keys\n",
    "import time\n",
    "from selenium.webdriver.support.ui import Select\n",
    "executable_path = \"C:\\\\Users\\\\Katlic\\\\Downloads\\\\web_drivers_chrome\\\\chromedriver.exe\""
   ]
  },
  {
   "cell_type": "markdown",
   "metadata": {},
   "source": [
    "## Conditional Commands"
   ]
  },
  {
   "cell_type": "code",
   "execution_count": 14,
   "metadata": {},
   "outputs": [
    {
     "name": "stdout",
     "output_type": "stream",
     "text": [
      "Element Found\n",
      "round trip selected\n"
     ]
    }
   ],
   "source": [
    "drivers = webdriver.Chrome(executable_path = executable_path)\n",
    "drivers.get(\"http://newtours.demoaut.com/\")\n",
    "name_element = drivers.find_element_by_name(\"userName\")\n",
    "pass_element = drivers.find_element_by_name(\"password\")\n",
    "if name_element.is_displayed() and pass_element.is_displayed():\n",
    "    print(\"Element Found\")\n",
    "    name_element.send_keys(\"mercury\")\n",
    "    pass_element.send_keys(\"mercury\")\n",
    "else:\n",
    "    print(\"Element not found\")\n",
    "log_in_element = drivers.find_element_by_name('login').click()\n",
    "trip = drivers.find_element_by_xpath('/html/body/div/table/tbody/tr/td[2]/table/tbody/tr[4]/td/table/tbody/tr/td[2]/table/tbody/tr[5]/td/form/table/tbody/tr[2]/td[2]/b/font/input[1]')\n",
    "if trip.is_selected():\n",
    "    print(\"round trip selected\")\n",
    "else:\n",
    "    print(\"nothing\")\n",
    "time.sleep(5)\n",
    "drivers.quit()"
   ]
  },
  {
   "cell_type": "code",
   "execution_count": 20,
   "metadata": {},
   "outputs": [
    {
     "name": "stdout",
     "output_type": "stream",
     "text": [
      "True\n",
      "True\n"
     ]
    }
   ],
   "source": [
    "driver = webdriver.Chrome(executable_path = executable_path)\n",
    "driver.get(\"http://newtours.demoaut.com/\")\n",
    "user_name=driver.find_element_by_xpath(\"/html/body/div/table/tbody/tr/td[2]/table/tbody/tr[4]/td/table/tbody/tr/td[2]/table/tbody/tr[2]/td[3]/form/table/tbody/tr[4]/td/table/tbody/tr[2]/td[2]/input\")\n",
    "print(user_name.is_displayed())\n",
    "print(user_name.is_enabled())\n",
    "password=driver.find_element_by_name('password')\n",
    "if user_name.is_displayed() and password.is_displayed():\n",
    "    user_name.send_keys(\"mercury\")\n",
    "    password.send_keys(\"mercury\")\n",
    "    driver.find_element_by_xpath('/html/body/div/table/tbody/tr/td[2]/table/tbody/tr[4]/td/table/tbody/tr/td[2]/table/tbody/tr[2]/td[3]/form/table/tbody/tr[4]/td/table/tbody/tr[4]/td[2]/div/input').click()\n",
    "else:\n",
    "    print(\"Something went wrong!\")"
   ]
  },
  {
   "cell_type": "markdown",
   "metadata": {},
   "source": [
    "# Wait Commands"
   ]
  },
  {
   "cell_type": "code",
   "execution_count": 21,
   "metadata": {},
   "outputs": [],
   "source": [
    "drivers = webdriver.Chrome(executable_path = executable_path)\n",
    "drivers.get(\"http://newtours.demoaut.com/\")\n",
    "\n",
    "drivers.implicitly_wait(10)\n",
    "drivers.close()"
   ]
  },
  {
   "cell_type": "code",
   "execution_count": 50,
   "metadata": {},
   "outputs": [
    {
     "name": "stdout",
     "output_type": "stream",
     "text": [
      "False True True\n",
      "False True True\n"
     ]
    }
   ],
   "source": [
    "drivers = webdriver.Chrome(executable_path = executable_path)\n",
    "drivers.maximize_window()\n",
    "drivers.get(\"http://www.expedia.com\")\n",
    "flight_button = drivers.find_element_by_id('tab-flight-tab-hp')\n",
    "flight_button.click()\n",
    "one_way_trip = drivers.find_element_by_id('flight-type-one-way-label-hp-flight')\n",
    "one_way_trip.click()\n",
    "\n",
    "from_input = drivers.find_element_by_xpath(\"//*[@id='flight-origin-hp-flight']\")\n",
    "from_input.send_keys(\"Jaipur\")\n",
    "\n",
    "where_input = drivers.find_element_by_xpath(\"//*[@id='flight-destination-hp-flight']\")\n",
    "where_input.send_keys(\"Guwahati\")\n",
    "\n",
    "date_input = drivers.find_element_by_xpath(\"//*[@id='flight-departing-single-hp-flight']\")\n",
    "date_input.send_keys(\"02/23/2020\")\n",
    "\n",
    "where_input.click()\n",
    "search_button = drivers.find_element_by_xpath(\"//*[@id='gcw-flights-form-hp-flight']/div[7]/label/button\")\n",
    "search_button.click()\n",
    "\n",
    "time.sleep(5)\n",
    "drivers.quit()"
   ]
  },
  {
   "cell_type": "code",
   "execution_count": null,
   "metadata": {},
   "outputs": [],
   "source": [
    "### nemophee_katlic protected text"
   ]
  },
  {
   "cell_type": "code",
   "execution_count": 10,
   "metadata": {},
   "outputs": [
    {
     "name": "stdout",
     "output_type": "stream",
     "text": [
      "Enter your protected text url : nemopheekatlic\n",
      "Enter your password : heythere\n"
     ]
    }
   ],
   "source": [
    "url = input(\"Enter your protected text url : \")\n",
    "password = input(\"Enter your password : \")\n",
    "\n",
    "drivers = webdriver.Chrome(executable_path = executable_path)\n",
    "drivers.get(\"https://www.protectedtext.com/\"+url)\n",
    "drivers.find_element_by_id(\"enterpassword\").send_keys(password)\n",
    "drivers.find_element_by_xpath(\"/html/body/div[11]/div[3]/div/button\").click()\n",
    "for i in range(1,2):\n",
    "    drivers.find_element_by_xpath(\"//*[@id='tabs']/ul/li[1]/span\").click()\n",
    "    drivers.find_element_by_xpath(\"/html/body/div[11]/div[3]/div/button[1]\").click()"
   ]
  },
  {
   "cell_type": "code",
   "execution_count": null,
   "metadata": {},
   "outputs": [],
   "source": []
  }
 ],
 "metadata": {
  "kernelspec": {
   "display_name": "Python 3",
   "language": "python",
   "name": "python3"
  },
  "language_info": {
   "codemirror_mode": {
    "name": "ipython",
    "version": 3
   },
   "file_extension": ".py",
   "mimetype": "text/x-python",
   "name": "python",
   "nbconvert_exporter": "python",
   "pygments_lexer": "ipython3",
   "version": "3.7.4"
  }
 },
 "nbformat": 4,
 "nbformat_minor": 2
}
