{
 "cells": [
  {
   "cell_type": "code",
   "execution_count": 1,
   "metadata": {},
   "outputs": [
    {
     "name": "stdout",
     "output_type": "stream",
     "text": [
      "21st Jan\n"
     ]
    }
   ],
   "source": [
    "print(\"21st Jan\")"
   ]
  },
  {
   "cell_type": "code",
   "execution_count": 40,
   "metadata": {},
   "outputs": [],
   "source": [
    "class first_students():\n",
    "    name = \"Dikhit\"\n",
    "    def print_name(obj):\n",
    "        return \"my name is \"+ obj.name"
   ]
  },
  {
   "cell_type": "code",
   "execution_count": 41,
   "metadata": {},
   "outputs": [],
   "source": [
    "first_students.print_name = classmethod(first_students.print_name)"
   ]
  },
  {
   "cell_type": "code",
   "execution_count": 42,
   "metadata": {},
   "outputs": [
    {
     "data": {
      "text/plain": [
       "'my name is Dikhit'"
      ]
     },
     "execution_count": 42,
     "metadata": {},
     "output_type": "execute_result"
    }
   ],
   "source": [
    "first_students.print_name()"
   ]
  },
  {
   "cell_type": "code",
   "execution_count": 43,
   "metadata": {},
   "outputs": [],
   "source": [
    "class second_students():\n",
    "    name = \"Dikhit\"\n",
    "    def print_name(self,obj):\n",
    "        return \"my name is \"+ obj.name"
   ]
  },
  {
   "cell_type": "code",
   "execution_count": 46,
   "metadata": {},
   "outputs": [],
   "source": [
    "obj1 = second_students()"
   ]
  },
  {
   "cell_type": "code",
   "execution_count": 47,
   "metadata": {},
   "outputs": [
    {
     "data": {
      "text/plain": [
       "'my name is Dikhit'"
      ]
     },
     "execution_count": 47,
     "metadata": {},
     "output_type": "execute_result"
    }
   ],
   "source": [
    "obj1.print_name(obj1)"
   ]
  },
  {
   "cell_type": "code",
   "execution_count": 57,
   "metadata": {},
   "outputs": [],
   "source": [
    "class third_students():\n",
    "    def __init__(self,string):\n",
    "        self.name = string\n",
    "    \n",
    "    @classmethod\n",
    "    def print_name(cls,name):\n",
    "        return cls(name)"
   ]
  },
  {
   "cell_type": "code",
   "execution_count": 58,
   "metadata": {},
   "outputs": [],
   "source": [
    "obj2 = third_students(\"Dikhit\")"
   ]
  },
  {
   "cell_type": "code",
   "execution_count": 59,
   "metadata": {},
   "outputs": [
    {
     "data": {
      "text/plain": [
       "<__main__.third_students at 0x1dab078dbc8>"
      ]
     },
     "execution_count": 59,
     "metadata": {},
     "output_type": "execute_result"
    }
   ],
   "source": [
    "obj2.print_name(\"Dikhit\")"
   ]
  },
  {
   "cell_type": "code",
   "execution_count": null,
   "metadata": {},
   "outputs": [],
   "source": []
  },
  {
   "cell_type": "code",
   "execution_count": null,
   "metadata": {},
   "outputs": [],
   "source": []
  },
  {
   "cell_type": "code",
   "execution_count": 1,
   "metadata": {},
   "outputs": [
    {
     "name": "stdout",
     "output_type": "stream",
     "text": [
      "Enter 1 2 3 4 5 6\n"
     ]
    }
   ],
   "source": [
    "x = input(\"Enter \").split()"
   ]
  },
  {
   "cell_type": "code",
   "execution_count": 2,
   "metadata": {},
   "outputs": [
    {
     "data": {
      "text/plain": [
       "['1', '2', '3', '4', '5', '6']"
      ]
     },
     "execution_count": 2,
     "metadata": {},
     "output_type": "execute_result"
    }
   ],
   "source": [
    "x"
   ]
  },
  {
   "cell_type": "code",
   "execution_count": 3,
   "metadata": {},
   "outputs": [],
   "source": [
    "x.sort(reverse = True)"
   ]
  },
  {
   "cell_type": "code",
   "execution_count": 4,
   "metadata": {},
   "outputs": [
    {
     "data": {
      "text/plain": [
       "['6', '5', '4', '3', '2', '1']"
      ]
     },
     "execution_count": 4,
     "metadata": {},
     "output_type": "execute_result"
    }
   ],
   "source": [
    "x"
   ]
  },
  {
   "cell_type": "code",
   "execution_count": 5,
   "metadata": {},
   "outputs": [],
   "source": [
    "val = lambda x: x*x"
   ]
  },
  {
   "cell_type": "code",
   "execution_count": 12,
   "metadata": {},
   "outputs": [
    {
     "name": "stdout",
     "output_type": "stream",
     "text": [
      "Enter the number : 7\n",
      "7 * 1 = 7\n",
      "7 * 2 = 14\n",
      "7 * 3 = 21\n",
      "7 * 4 = 28\n",
      "7 * 5 = 35\n",
      "7 * 6 = 42\n",
      "7 * 7 = 49\n",
      "7 * 8 = 56\n",
      "7 * 9 = 63\n",
      "7 * 10 = 70\n"
     ]
    }
   ],
   "source": [
    "# lambda problem : \n",
    "mult_val = int(input(\"Enter the number : \"))\n",
    "for i in range(1,11):\n",
    "    val = lambda mult_val : mult_val * i\n",
    "    print(\"{} * {} = {}\".format(mult_val,i,val(mult_val)))"
   ]
  },
  {
   "cell_type": "code",
   "execution_count": 1,
   "metadata": {},
   "outputs": [
    {
     "name": "stdout",
     "output_type": "stream",
     "text": [
      "180\n",
      "3\n",
      "640 480\n",
      "640 480\n",
      "6565\n"
     ]
    },
    {
     "ename": "ValueError",
     "evalue": "not enough values to unpack (expected 2, got 1)",
     "output_type": "error",
     "traceback": [
      "\u001b[1;31m---------------------------------------------------------------------------\u001b[0m",
      "\u001b[1;31mValueError\u001b[0m                                Traceback (most recent call last)",
      "\u001b[1;32m<ipython-input-1-117b627f6f4d>\u001b[0m in \u001b[0;36m<module>\u001b[1;34m\u001b[0m\n\u001b[0;32m      2\u001b[0m \u001b[0mnum_of_photos\u001b[0m \u001b[1;33m=\u001b[0m \u001b[0mint\u001b[0m\u001b[1;33m(\u001b[0m\u001b[0minput\u001b[0m\u001b[1;33m(\u001b[0m\u001b[1;33m)\u001b[0m\u001b[1;33m)\u001b[0m\u001b[1;33m\u001b[0m\u001b[1;33m\u001b[0m\u001b[0m\n\u001b[0;32m      3\u001b[0m \u001b[1;32mwhile\u001b[0m \u001b[0mnum_of_photos\u001b[0m \u001b[1;33m>\u001b[0m \u001b[1;36m0\u001b[0m\u001b[1;33m:\u001b[0m\u001b[1;33m\u001b[0m\u001b[1;33m\u001b[0m\u001b[0m\n\u001b[1;32m----> 4\u001b[1;33m     \u001b[0mwidth\u001b[0m\u001b[1;33m,\u001b[0m\u001b[0mheight\u001b[0m \u001b[1;33m=\u001b[0m \u001b[0minput\u001b[0m\u001b[1;33m(\u001b[0m\u001b[1;33m)\u001b[0m\u001b[1;33m.\u001b[0m\u001b[0msplit\u001b[0m\u001b[1;33m(\u001b[0m\u001b[1;33m)\u001b[0m\u001b[1;33m\u001b[0m\u001b[1;33m\u001b[0m\u001b[0m\n\u001b[0m\u001b[0;32m      5\u001b[0m     \u001b[0mprint\u001b[0m\u001b[1;33m(\u001b[0m\u001b[0mwidth\u001b[0m\u001b[1;33m,\u001b[0m\u001b[0mheight\u001b[0m\u001b[1;33m)\u001b[0m\u001b[1;33m\u001b[0m\u001b[1;33m\u001b[0m\u001b[0m\n\u001b[0;32m      6\u001b[0m     \u001b[1;32mif\u001b[0m \u001b[0mint\u001b[0m\u001b[1;33m(\u001b[0m\u001b[0mheight\u001b[0m\u001b[1;33m)\u001b[0m \u001b[1;33m<\u001b[0m \u001b[0msize_of_photos\u001b[0m \u001b[1;32mor\u001b[0m \u001b[0mint\u001b[0m\u001b[1;33m(\u001b[0m\u001b[0mwidth\u001b[0m\u001b[1;33m)\u001b[0m \u001b[1;33m<\u001b[0m \u001b[0msize_of_photos\u001b[0m\u001b[1;33m:\u001b[0m\u001b[1;33m\u001b[0m\u001b[1;33m\u001b[0m\u001b[0m\n",
      "\u001b[1;31mValueError\u001b[0m: not enough values to unpack (expected 2, got 1)"
     ]
    }
   ],
   "source": [
    "size_of_photos = int(input())\n",
    "num_of_photos = int(input())\n",
    "while num_of_photos > 0:\n",
    "    width,height = input().split()\n",
    "    print(width,height)\n",
    "    if int(height) < size_of_photos or int(width) < size_of_photos:\n",
    "        print(\"UPLOAD ANOTHER\")\n",
    "    elif int(height) < size_of_photos and int(width) < size_of_photos:\n",
    "        if height == width:\n",
    "            print(\"ACCEPTED\")\n",
    "        else:\n",
    "            print(\"CROP IT\")\n",
    "    num_of_photos-=1 "
   ]
  },
  {
   "cell_type": "code",
   "execution_count": 4,
   "metadata": {},
   "outputs": [],
   "source": [
    "def my_func(num1):\n",
    "    print(\"num1 : \", num1)\n",
    "    return lambda sum : sum + num1"
   ]
  },
  {
   "cell_type": "code",
   "execution_count": 5,
   "metadata": {},
   "outputs": [
    {
     "name": "stdout",
     "output_type": "stream",
     "text": [
      "num1 :  12\n"
     ]
    }
   ],
   "source": [
    "lambda_Store = my_func(12)"
   ]
  },
  {
   "cell_type": "code",
   "execution_count": 6,
   "metadata": {},
   "outputs": [
    {
     "data": {
      "text/plain": [
       "25"
      ]
     },
     "execution_count": 6,
     "metadata": {},
     "output_type": "execute_result"
    }
   ],
   "source": [
    "lambda_Store(13)"
   ]
  },
  {
   "cell_type": "code",
   "execution_count": 7,
   "metadata": {},
   "outputs": [
    {
     "name": "stdout",
     "output_type": "stream",
     "text": [
      "Enter the number of grid : 34\n"
     ]
    }
   ],
   "source": [
    "num_of_grid = int(input(\"Enter the number of grid : \"))"
   ]
  },
  {
   "cell_type": "code",
   "execution_count": 1,
   "metadata": {},
   "outputs": [
    {
     "name": "stdout",
     "output_type": "stream",
     "text": [
      "Enter the number of test case : 2\n",
      "Enter the price of green and purple ballon : 9 6\n",
      "Enter the number of students : 10\n",
      "Enter the green winer and purple winner : 1 1\n",
      "Enter the green winer and purple winner : 1 1\n",
      "Enter the green winer and purple winner : 0 1\n",
      "Enter the green winer and purple winner : 0 0\n",
      "Enter the green winer and purple winner : 0 1\n",
      "Enter the green winer and purple winner : 0 0\n",
      "Enter the green winer and purple winner : 0 1\n",
      "Enter the green winer and purple winner : 0 1\n",
      "Enter the green winer and purple winner : 1 1\n",
      "Enter the green winer and purple winner : 0 0\n",
      "69\n"
     ]
    }
   ],
   "source": [
    "num_of_test_case = int(input(\"Enter the number of test case : \"))\n",
    "price_of_green_ballon,price_of_purple_ballon = input(\"Enter the price of green and purple ballon : \").split()\n",
    "num_of_students = int(input(\"Enter the number of students : \"))\n",
    "total_green_winner = 0\n",
    "total_purple_winner = 0\n",
    "while num_of_test_case > 0:\n",
    "    while num_of_students > 0:\n",
    "        green_winner,purple_winner = input(\"Enter the green winer and purple winner : \").split()\n",
    "        total_green_winner = total_green_winner + int(green_winner)\n",
    "        total_purple_winner = total_purple_winner + int(purple_winner)\n",
    "        num_of_students= num_of_students - 1\n",
    "    print((int(total_green_winner)*int(price_of_green_ballon))+(int(total_purple_winner)*int(price_of_purple_ballon)))\n"
   ]
  },
  {
   "cell_type": "code",
   "execution_count": null,
   "metadata": {},
   "outputs": [
    {
     "name": "stdout",
     "output_type": "stream",
     "text": [
      "2\n"
     ]
    }
   ],
   "source": [
    "num_of_test_case = int(input())\n",
    "while num_of_test_case > 0:\n",
    "    price_of_green_ballon,price_of_purple_ballon = input().split()\n",
    "    num_of_students = int(input())\n",
    "    total_green_winner = 0\n",
    "    total_purple_winner = 0\n",
    "    while num_of_students > 0:\n",
    "        green_winner,purple_winner = input().split()\n",
    "        total_green_winner = total_green_winner + int(green_winner)\n",
    "        total_purple_winner = total_purple_winner + int(purple_winner)\n",
    "        num_of_students= num_of_students - 1\n",
    "        \n",
    "    if total_green_winner > total_purple_winner:\n",
    "        if price_of_green_ballon > price_of_purple_ballon:\n",
    "            green_amount = total_green_winner * price_of_purple_ballon\n",
    "            purple_amount = total_purple_winner * price_of_green_ballon\n",
    "            print(green_amount + purple_amount)\n",
    "        elif price_of_purple_ballon > price_of_green_ballon:\n",
    "            green_amount = total_green_winner * price_of_green_ballon\n",
    "            purple_amount = total_purple_winner * price_of_purple_ballon\n",
    "            print(green_amount + purple_amount)\n",
    "                \n",
    "    elif total_purple_winner > total_green_winner:\n",
    "        if price_of_purple_ballon > price_of_green_ballon:\n",
    "            green_amount = total_green_winner * price_of_purple_ballon\n",
    "            purple_amount = total_purple_winner * price_of_green_ballon\n",
    "            print(green_amount + purple_amount)\n",
    "        elif price_of_green_ballon > price_of_purple_ballon:\n",
    "            green_amount = total_green_winner * price_of_green_ballon\n",
    "            purple_amount = total_purple_winner * price_of_purple_ballon\n",
    "            print(green_amount + purple_amount)\n",
    "    num_of_test_case = num_of_test_case - 1"
   ]
  },
  {
   "cell_type": "code",
   "execution_count": null,
   "metadata": {},
   "outputs": [
    {
     "name": "stdout",
     "output_type": "stream",
     "text": [
      "2\n",
      "9 6\n",
      "10\n"
     ]
    }
   ],
   "source": [
    "test_cases=int(input(\"\"))\n",
    "while test_cases>0:\n",
    "    green_balloon, purple_balloon=input(\"\").split()\n",
    "    num_student=int(input(\"\"))\n",
    "    f_sum=0\n",
    "    s_sum=0\n",
    "    while num_student>0:\n",
    "        answer=0\n",
    "        f,s=input(\"\").split()\n",
    "        f_sum=f_sum+int(f)\n",
    "        s_sum=s_sum+int(s)\n",
    "        num_student-=1\n",
    "    test_cases-=1\n",
    "    if int(green_balloon)>int(purple_balloon):\n",
    "        if f_sum<s_sum:\n",
    "            green=int(f_sum*int(green_balloon))\n",
    "            purple=int(s_sum*int(purple_balloon))\n",
    "            answer=green+purple\n",
    "            print(int(answer))\n",
    "    elif int(green_balloon)==int(purple_balloon):\n",
    "        if f_sum<s_sum:\n",
    "            green=int(f_sum*int(green_balloon))\n",
    "            purple=int(s_sum*int(purple_balloon))\n",
    "            answer=green+purple\n",
    "            print(int(answer))\n",
    "        else:\n",
    "            green=int(s_sum*int(green_balloon))\n",
    "            purple=int(f_sum*int(purple_balloon))\n",
    "            answer=green+purple\n",
    "            print(int(answer))  \n",
    "    else:\n",
    "        green=int(s_sum*int(green_balloon))\n",
    "        purple=int(f_sum*int(purple_balloon))\n",
    "        answer=green+purple\n",
    "        print(int(answer))"
   ]
  },
  {
   "cell_type": "code",
   "execution_count": 4,
   "metadata": {},
   "outputs": [
    {
     "name": "stdout",
     "output_type": "stream",
     "text": [
      "1 10 1\n",
      "10\n"
     ]
    }
   ],
   "source": [
    "first_num,last_num,divisor = input().split()\n",
    "first_num = int(first_num)\n",
    "last_num = int(last_num)\n",
    "divisor = int(divisor)\n",
    "divisos_counter = 0\n",
    "for items in range(first_num,last_num+1):\n",
    "    if items % divisor == 0:\n",
    "        divisos_counter+=1\n",
    "print(divisos_counter)"
   ]
  },
  {
   "cell_type": "code",
   "execution_count": 5,
   "metadata": {},
   "outputs": [],
   "source": [
    "name = \"Dikhit kUMAR Bhuyan\""
   ]
  },
  {
   "cell_type": "code",
   "execution_count": 6,
   "metadata": {},
   "outputs": [
    {
     "data": {
      "text/plain": [
       "'dIKHIT Kumar bHUYAN'"
      ]
     },
     "execution_count": 6,
     "metadata": {},
     "output_type": "execute_result"
    }
   ],
   "source": [
    "name.swapcase()"
   ]
  },
  {
   "cell_type": "markdown",
   "metadata": {},
   "source": [
    "# Partially Accepted "
   ]
  },
  {
   "cell_type": "code",
   "execution_count": 8,
   "metadata": {},
   "outputs": [
    {
     "name": "stdout",
     "output_type": "stream",
     "text": [
      "3694\n",
      "bricks_left  3694\n",
      "1 3693\n",
      "2 3691\n",
      "1 ends\n",
      "2 3689\n",
      "4 3685\n",
      "2 ends\n",
      "3 3682\n",
      "6 3676\n",
      "3 ends\n",
      "4 3672\n",
      "8 3664\n",
      "4 ends\n",
      "5 3659\n",
      "10 3649\n",
      "5 ends\n",
      "6 3643\n",
      "12 3631\n",
      "6 ends\n",
      "7 3624\n",
      "14 3610\n",
      "7 ends\n",
      "8 3602\n",
      "16 3586\n",
      "8 ends\n",
      "9 3577\n",
      "18 3559\n",
      "9 ends\n",
      "10 3549\n",
      "20 3529\n",
      "10 ends\n",
      "11 3518\n",
      "22 3496\n",
      "11 ends\n",
      "12 3484\n",
      "24 3460\n",
      "12 ends\n",
      "13 3447\n",
      "26 3421\n",
      "13 ends\n",
      "14 3407\n",
      "28 3379\n",
      "14 ends\n",
      "15 3364\n",
      "30 3334\n",
      "15 ends\n",
      "16 3318\n",
      "32 3286\n",
      "16 ends\n",
      "17 3269\n",
      "34 3235\n",
      "17 ends\n",
      "18 3217\n",
      "36 3181\n",
      "18 ends\n",
      "19 3162\n",
      "38 3124\n",
      "19 ends\n",
      "20 3104\n",
      "40 3064\n",
      "20 ends\n",
      "21 3043\n",
      "42 3001\n",
      "21 ends\n",
      "22 2979\n",
      "44 2935\n",
      "22 ends\n",
      "23 2912\n",
      "46 2866\n",
      "23 ends\n",
      "24 2842\n",
      "48 2794\n",
      "24 ends\n",
      "25 2769\n",
      "50 2719\n",
      "25 ends\n",
      "26 2693\n",
      "52 2641\n",
      "26 ends\n",
      "27 2614\n",
      "54 2560\n",
      "27 ends\n",
      "28 2532\n",
      "56 2476\n",
      "28 ends\n",
      "29 2447\n",
      "58 2389\n",
      "29 ends\n",
      "30 2359\n",
      "60 2299\n",
      "30 ends\n",
      "31 2268\n",
      "62 2206\n",
      "31 ends\n",
      "32 2174\n",
      "64 2110\n",
      "32 ends\n",
      "33 2077\n",
      "66 2011\n",
      "33 ends\n",
      "34 1977\n",
      "68 1909\n",
      "34 ends\n",
      "35 1874\n",
      "70 1804\n",
      "35 ends\n",
      "36 1768\n",
      "72 1696\n",
      "36 ends\n",
      "37 1659\n",
      "74 1585\n",
      "37 ends\n",
      "38 1547\n",
      "76 1471\n",
      "38 ends\n",
      "39 1432\n",
      "78 1354\n",
      "39 ends\n",
      "40 1314\n",
      "80 1234\n",
      "40 ends\n",
      "41 1193\n",
      "82 1111\n",
      "41 ends\n",
      "42 1069\n",
      "84 985\n",
      "42 ends\n",
      "43 942\n",
      "86 856\n",
      "43 ends\n",
      "44 812\n",
      "88 724\n",
      "44 ends\n",
      "45 679\n",
      "90 589\n",
      "45 ends\n",
      "46 543\n",
      "92 451\n",
      "46 ends\n",
      "47 404\n",
      "94 310\n",
      "47 ends\n",
      "48 262\n",
      "96 166\n",
      "48 ends\n",
      "49 117\n",
      "98 19\n",
      "49 ends\n",
      "50 -31\n",
      "100 -131\n",
      "50 ends\n"
     ]
    }
   ],
   "source": [
    "num_of_bricks = int(input())\n",
    "isPatlu = True\n",
    "bricks_left = num_of_bricks\n",
    "iterator = 1\n",
    "print(\"bricks_left \",bricks_left)\n",
    "while bricks_left > 0:\n",
    "    bricks_left = bricks_left - iterator\n",
    "    print(iterator,bricks_left)\n",
    "    if bricks_left == 1:\n",
    "        print(\"Motu\")\n",
    "        break\n",
    "    bricks_left = bricks_left - iterator * 2\n",
    "    print(iterator*2,bricks_left)\n",
    "    if bricks_left == 1:\n",
    "        print(\"Patlu\")\n",
    "        break\n",
    "    print(iterator,\"ends\")\n",
    "    iterator+=1"
   ]
  },
  {
   "cell_type": "markdown",
   "metadata": {},
   "source": []
  }
 ],
 "metadata": {
  "kernelspec": {
   "display_name": "Python 3",
   "language": "python",
   "name": "python3"
  },
  "language_info": {
   "codemirror_mode": {
    "name": "ipython",
    "version": 3
   },
   "file_extension": ".py",
   "mimetype": "text/x-python",
   "name": "python",
   "nbconvert_exporter": "python",
   "pygments_lexer": "ipython3",
   "version": "3.7.4"
  }
 },
 "nbformat": 4,
 "nbformat_minor": 2
}
