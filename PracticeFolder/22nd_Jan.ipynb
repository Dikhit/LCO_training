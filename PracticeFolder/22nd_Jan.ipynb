{
 "cells": [
  {
   "cell_type": "code",
   "execution_count": 1,
   "metadata": {},
   "outputs": [
    {
     "name": "stdout",
     "output_type": "stream",
     "text": [
      "22nd Jan\n"
     ]
    }
   ],
   "source": [
    "print(\"22nd Jan\")"
   ]
  },
  {
   "cell_type": "code",
   "execution_count": 3,
   "metadata": {},
   "outputs": [
    {
     "name": "stdout",
     "output_type": "stream",
     "text": [
      "Enter the number : 1401601499\n",
      "Illegal ISBN\n"
     ]
    }
   ],
   "source": [
    "number = input(\"Enter the number : \")\n",
    "sum = 0\n",
    "for index,value in enumerate(number):\n",
    "    value = int(value)\n",
    "    sum = sum + value*(index+1)\n",
    "if sum % 11 == 0:\n",
    "    print(\"Illegal ISBN\")"
   ]
  },
  {
   "cell_type": "code",
   "execution_count": null,
   "metadata": {},
   "outputs": [],
   "source": []
  },
  {
   "cell_type": "code",
   "execution_count": 24,
   "metadata": {},
   "outputs": [
    {
     "name": "stdout",
     "output_type": "stream",
     "text": [
      "Enter the string : 13X357-22\n",
      "True True True True True\n",
      "Valid\n"
     ]
    }
   ],
   "source": [
    "vowels_list = [\"A\",\"E\",\"I\",\"O\",\"U\",\"Y\"]\n",
    "first_condition = False\n",
    "second_condition = False\n",
    "third_condition = False\n",
    "fourth_condition = False\n",
    "vowel_condition = False\n",
    "input_string = input(\"Enter the string : \")\n",
    "\n",
    "if (int(input_string[0]) + int(input_string[1])) % 2 == 0:\n",
    "    first_condition = True\n",
    "if not input_string[2] in vowels_list:\n",
    "    vowel_condition = True\n",
    "if (int(input_string[3]) + int(input_string[4])) % 2 == 0:\n",
    "    second_condition = True\n",
    "if (int(input_string[4]) + int(input_string[5])) % 2 == 0:\n",
    "    third_condition = True\n",
    "if (int(input_string[7]) + int(input_string[8])) % 2 == 0:\n",
    "    fourth_condition = True\n",
    "    \n",
    "print(first_condition,second_condition,third_condition,fourth_condition,vowel_condition)\n",
    "if first_condition == True and second_condition == True and third_condition == True and fourth_condition ==True and vowel_condition == True:\n",
    "    print(\"Valid\")\n",
    "else:\n",
    "    print(\"Invalid\")\n"
   ]
  },
  {
   "cell_type": "code",
   "execution_count": null,
   "metadata": {},
   "outputs": [],
   "source": []
  },
  {
   "cell_type": "code",
   "execution_count": 5,
   "metadata": {},
   "outputs": [
    {
     "data": {
      "text/plain": [
       "[1, 2, 3, 4, 5, 6, 7]"
      ]
     },
     "execution_count": 5,
     "metadata": {},
     "output_type": "execute_result"
    }
   ],
   "source": [
    "extract_number"
   ]
  },
  {
   "cell_type": "code",
   "execution_count": null,
   "metadata": {},
   "outputs": [],
   "source": [
    "number = int(input(\"Enter number of chocolates : \"))\n",
    "if number % 3 == 0:\n",
    "    print(\"YES\")\n",
    "else:\n",
    "    print(\"NO\")"
   ]
  },
  {
   "cell_type": "code",
   "execution_count": 25,
   "metadata": {},
   "outputs": [
    {
     "name": "stdout",
     "output_type": "stream",
     "text": [
      "Enter the number of peoples : 5\n",
      "Enter the minimum number of skills : 100\n",
      "Enter your skill level : .jen\n"
     ]
    },
    {
     "ename": "ValueError",
     "evalue": "invalid literal for int() with base 10: '.jen'",
     "output_type": "error",
     "traceback": [
      "\u001b[1;31m---------------------------------------------------------------------------\u001b[0m",
      "\u001b[1;31mValueError\u001b[0m                                Traceback (most recent call last)",
      "\u001b[1;32m<ipython-input-25-b0ca94e5aea7>\u001b[0m in \u001b[0;36m<module>\u001b[1;34m\u001b[0m\n\u001b[0;32m      2\u001b[0m \u001b[0mmin_num_of_skills\u001b[0m \u001b[1;33m=\u001b[0m \u001b[0mint\u001b[0m\u001b[1;33m(\u001b[0m\u001b[0minput\u001b[0m\u001b[1;33m(\u001b[0m\u001b[1;34m\"Enter the minimum number of skills : \"\u001b[0m\u001b[1;33m)\u001b[0m\u001b[1;33m)\u001b[0m\u001b[1;33m\u001b[0m\u001b[1;33m\u001b[0m\u001b[0m\n\u001b[0;32m      3\u001b[0m \u001b[1;32mfor\u001b[0m \u001b[0miterator\u001b[0m \u001b[1;32min\u001b[0m \u001b[0mrange\u001b[0m\u001b[1;33m(\u001b[0m\u001b[0mnum_of_peoples\u001b[0m\u001b[1;33m)\u001b[0m\u001b[1;33m:\u001b[0m\u001b[1;33m\u001b[0m\u001b[1;33m\u001b[0m\u001b[0m\n\u001b[1;32m----> 4\u001b[1;33m     \u001b[0mskills\u001b[0m \u001b[1;33m=\u001b[0m \u001b[0mint\u001b[0m\u001b[1;33m(\u001b[0m\u001b[0minput\u001b[0m\u001b[1;33m(\u001b[0m\u001b[1;34m\"Enter your skill level : \"\u001b[0m\u001b[1;33m)\u001b[0m\u001b[1;33m)\u001b[0m\u001b[1;33m\u001b[0m\u001b[1;33m\u001b[0m\u001b[0m\n\u001b[0m\u001b[0;32m      5\u001b[0m     \u001b[1;32mif\u001b[0m \u001b[0mskills\u001b[0m \u001b[1;33m>\u001b[0m \u001b[0mmin_num_of_skills\u001b[0m\u001b[1;33m:\u001b[0m\u001b[1;33m\u001b[0m\u001b[1;33m\u001b[0m\u001b[0m\n\u001b[0;32m      6\u001b[0m         \u001b[0mprint\u001b[0m\u001b[1;33m(\u001b[0m\u001b[1;34m\"YES\"\u001b[0m\u001b[1;33m)\u001b[0m\u001b[1;33m\u001b[0m\u001b[1;33m\u001b[0m\u001b[0m\n",
      "\u001b[1;31mValueError\u001b[0m: invalid literal for int() with base 10: '.jen'"
     ]
    }
   ],
   "source": [
    "num_of_peoples = int(input(\"Enter the number of peoples : \"))\n",
    "min_num_of_skills = int(input(\"Enter the minimum number of skills : \"))\n",
    "for iterator in range(num_of_peoples):\n",
    "    skills = int(input(\"Enter your skill level : \"))\n",
    "    if skills >= min_num_of_skills:\n",
    "        print(\"YES\")\n",
    "    else:\n",
    "        print(\"NO\")"
   ]
  },
  {
   "cell_type": "code",
   "execution_count": 26,
   "metadata": {},
   "outputs": [
    {
     "name": "stdout",
     "output_type": "stream",
     "text": [
      "Enter the number3\n",
      "3\n",
      "6\n",
      "9\n",
      "12\n",
      "15\n",
      "18\n",
      "21\n",
      "24\n",
      "27\n",
      "30\n"
     ]
    }
   ],
   "source": [
    "num = int(input(\"Enter the number\"))\n",
    "for i in range(1,11):\n",
    "    print(num*i)"
   ]
  },
  {
   "cell_type": "code",
   "execution_count": 32,
   "metadata": {},
   "outputs": [
    {
     "name": "stdout",
     "output_type": "stream",
     "text": [
      "Enter the number of steps : 5\n",
      "*   *\n",
      "*   *\n",
      "*****\n",
      "*   *\n",
      "*   *\n",
      "*****\n",
      "*   *\n",
      "*   *\n",
      "*****\n",
      "*   *\n",
      "*   *\n",
      "*****\n",
      "*   *\n",
      "*   *\n",
      "*****\n",
      "*   *\n",
      "*   *\n"
     ]
    }
   ],
   "source": [
    "number_of_Steps = int(input(\"Enter the number of steps : \"))\n",
    "for iterator in range(number_of_Steps):\n",
    "    print(\"*   *\")\n",
    "    print(\"*   *\")\n",
    "    print(\"*****\")\n",
    "print(\"*   *\")\n",
    "print(\"*   *\")"
   ]
  },
  {
   "cell_type": "code",
   "execution_count": 33,
   "metadata": {},
   "outputs": [
    {
     "name": "stdout",
     "output_type": "stream",
     "text": [
      "enter the string : aba\n",
      "4\n"
     ]
    }
   ],
   "source": [
    "input_string = input(\"enter the string : \")\n",
    "sum = 0\n",
    "for items in input_string:\n",
    "    value = ord(items) - 96\n",
    "    sum = sum + value\n",
    "print(sum)"
   ]
  },
  {
   "cell_type": "code",
   "execution_count": null,
   "metadata": {},
   "outputs": [],
   "source": [
    "num_of_test_cases = int(input(\"enter the num of test cases : \"))\n",
    "while num_of_test_cases > 0:\n",
    "    input_number = int(input(\"Enter the number : \"))\n",
    "    while True:\n",
    "        if input_number % 2 == 0:\n",
    "            input_number = input_number / 2\n",
    "            if input_number == 1:\n",
    "                print(\"YES\")\n",
    "                break\n",
    "        elif not input_number % 2 == 0:\n",
    "            input_number = (3 * input_number) + 1\n",
    "            if input_number == 1:\n",
    "                print(\"YES\")\n",
    "                break\n",
    "    num_of_test_cases -=1"
   ]
  },
  {
   "cell_type": "code",
   "execution_count": 34,
   "metadata": {},
   "outputs": [
    {
     "name": "stdout",
     "output_type": "stream",
     "text": [
      "5\n",
      "1 2 3 4 5\n",
      "120\n"
     ]
    }
   ],
   "source": [
    "size=int(input(\"\"))\n",
    "input_element=input(\"\").split()\n",
    "multiplier=1\n",
    "for i in input_element:\n",
    "    multiplier=(multiplier*int(i))%((10**9)+7)\n",
    "print(multiplier)"
   ]
  },
  {
   "cell_type": "code",
   "execution_count": 36,
   "metadata": {},
   "outputs": [
    {
     "name": "stdout",
     "output_type": "stream",
     "text": [
      "Enter the number of days : 3\n",
      "3 2\n",
      "5 2\n",
      "1 2\n",
      "3\n"
     ]
    }
   ],
   "source": [
    "number_of_days = int(input(\"Enter the number of days : \"))\n",
    "tofee = 0\n",
    "while number_of_days > 0:\n",
    "    rad,horlicks_amount = input().split()\n",
    "    radius = int(rad)\n",
    "    horlicks_amount = int(horlicks_amount)\n",
    "    max_distance = horlicks_amount * 100\n",
    "    distance_required = 2 * (22/7) * radius\n",
    "    \n",
    "    if max_distance >= distance_required:\n",
    "        tofee +=1\n",
    "    number_of_days -= 1\n",
    "print(tofee)"
   ]
  },
  {
   "cell_type": "code",
   "execution_count": 40,
   "metadata": {},
   "outputs": [
    {
     "name": "stdout",
     "output_type": "stream",
     "text": [
      "Enter the element number and queries 5 3\n",
      "1 2 3 4 5\n",
      "1 3\n",
      "2\n",
      "2 4\n",
      "3\n",
      "2 5\n",
      "3\n"
     ]
    }
   ],
   "source": [
    "num_of_elements,num_of_queries = input(\"Enter the element number and queries \").split()\n",
    "num_of_elements = int(num_of_elements)\n",
    "num_of_queries = int(num_of_queries)\n",
    "elements = input().split()\n",
    "\n",
    "while num_of_queries > 0:\n",
    "    L,R  = input().split()\n",
    "    L = int(L)\n",
    "    R = int(R)\n",
    "    sum = L + R\n",
    "    sum = sum // 2\n",
    "    print(sum)\n",
    "    num_of_queries -= 1"
   ]
  },
  {
   "cell_type": "code",
   "execution_count": 41,
   "metadata": {},
   "outputs": [
    {
     "name": "stdout",
     "output_type": "stream",
     "text": [
      "5 3\n",
      "1 2 3 4 5\n",
      "1 3\n",
      "2\n",
      "2 4\n",
      "3\n",
      "2 5\n",
      "3\n"
     ]
    }
   ],
   "source": [
    "import math\n",
    "num_of_elements,num_of_queries = input().split()\n",
    "num_of_elements = int(num_of_elements)\n",
    "num_of_queries = int(num_of_queries)\n",
    "elements = input().split()\n",
    "\n",
    "while num_of_queries > 0:\n",
    "    L,R  = input().split()\n",
    "    L = int(L)\n",
    "    R = int(R)\n",
    "    sum = L + R\n",
    "    sum = sum / 2\n",
    "    sum = math.floor(sum)\n",
    "    print(sum)\n",
    "    num_of_queries -= 1"
   ]
  },
  {
   "cell_type": "code",
   "execution_count": 3,
   "metadata": {},
   "outputs": [
    {
     "name": "stdout",
     "output_type": "stream",
     "text": [
      "Enter the number of test cases : 3\n",
      "Enter the pyramid height : 9\n",
      "*################*\n",
      "**##############**\n",
      "***############***\n",
      "****##########****\n",
      "*****########*****\n",
      "******######******\n",
      "*******####*******\n",
      "********##********\n",
      "******************\n",
      "Enter the pyramid height : 2\n",
      "*##*\n",
      "****\n",
      "Enter the pyramid height : 5\n",
      "*########*\n",
      "**######**\n",
      "***####***\n",
      "****##****\n",
      "**********\n"
     ]
    }
   ],
   "source": [
    "num_of_test_case = int(input(\"Enter the number of test cases : \"))\n",
    "\n",
    "while num_of_test_case > 0:\n",
    "    pyramid_heigth = int(input(\"Enter the pyramid height : \"))\n",
    "    has_sign = pyramid_heigth * 2\n",
    "    for items in range(1,pyramid_heigth):\n",
    "        has_sign = has_sign -2\n",
    "        print(\"*\" * items,end = \"\")\n",
    "        print(\"#\" * has_sign,end = \"\")\n",
    "        print(\"*\"*items)\n",
    "    print(\"*\"*pyramid_heigth * 2)\n",
    "    num_of_test_case -=1"
   ]
  },
  {
   "cell_type": "code",
   "execution_count": 19,
   "metadata": {},
   "outputs": [
    {
     "name": "stdout",
     "output_type": "stream",
     "text": [
      "Enter the num of elements : 5\n",
      "85 25 65 21 84\n",
      "No\n"
     ]
    }
   ],
   "source": [
    "num_of_elements = int(input(\"Enter the num of elements : \"))\n",
    "elements = input().split()\n",
    "final = 0\n",
    "iterator = 1\n",
    "my_final_elements = []\n",
    "for i in elements:\n",
    "    value = int(i) % 10\n",
    "    my_final_elements.append(value)\n",
    "my_final_elements.reverse()\n",
    "for i in range(len(my_final_elements)):\n",
    "    final = final + my_final_elements[i] * iterator\n",
    "    iterator = iterator * 10\n",
    "if final % 10 == 0:\n",
    "    print(\"Yes\")\n",
    "else:\n",
    "    print(\"No\")"
   ]
  },
  {
   "cell_type": "code",
   "execution_count": 13,
   "metadata": {},
   "outputs": [
    {
     "data": {
      "text/plain": [
       "[5, 5, 5, 4, 1]"
      ]
     },
     "execution_count": 13,
     "metadata": {},
     "output_type": "execute_result"
    }
   ],
   "source": [
    "my_final_elements"
   ]
  }
 ],
 "metadata": {
  "kernelspec": {
   "display_name": "Python 3",
   "language": "python",
   "name": "python3"
  },
  "language_info": {
   "codemirror_mode": {
    "name": "ipython",
    "version": 3
   },
   "file_extension": ".py",
   "mimetype": "text/x-python",
   "name": "python",
   "nbconvert_exporter": "python",
   "pygments_lexer": "ipython3",
   "version": "3.7.4"
  }
 },
 "nbformat": 4,
 "nbformat_minor": 2
}
