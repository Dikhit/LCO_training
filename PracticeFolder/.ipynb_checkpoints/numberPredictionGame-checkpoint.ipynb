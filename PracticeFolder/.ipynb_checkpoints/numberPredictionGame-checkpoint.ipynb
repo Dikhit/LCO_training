{
 "cells": [
  {
   "cell_type": "code",
   "execution_count": 2,
   "metadata": {},
   "outputs": [
    {
     "name": "stdout",
     "output_type": "stream",
     "text": [
      "Enter the number of times you want to play : 2\n",
      "Player  1  turn\n",
      "Enter the lower range : 0\n",
      "Enter the upper range : 10\n",
      "Guess the number ... range of the generated number is 0 and 10\n",
      "Enter the number : 7\n",
      "Sorry your are too low...Correct ans is  8\n",
      "Player  2  turn\n",
      "Enter the lower range : 5\n",
      "Enter the upper range : 10\n",
      "Guess the number ... range of the generated number is 5 and 10\n",
      "Enter the number : 8\n",
      "Sorry you are too high... Correct ans is  0\n"
     ]
    }
   ],
   "source": [
    "import random\n",
    "def randomNumberGenerator():\n",
    "    lowerRange = int( input(\"Enter the lower range : \"))\n",
    "    upperRange = int( input(\"Enter the upper range : \"))\n",
    "    number = random.random() * ((upperRange - lowerRange)+lowerRange)\n",
    "    number = int(number)\n",
    "    print(\"Guess the number ... range of the generated number is {} and {}\".format(lowerRange, upperRange))\n",
    "    userInputNumber = int( input(\"Enter the number : \"))\n",
    "    if userInputNumber > number:\n",
    "        print(\"Sorry you are too high... Correct ans is \", str(number))\n",
    "    elif userInputNumber < number :\n",
    "        print(\"Sorry your are too low...Correct ans is \", str(number))\n",
    "    elif userInputNumber == number:\n",
    "        print(\"you are correct.. great jobs\")\n",
    "\n",
    "def main():\n",
    "    numOfTimes = int(input(\"Enter the number of times you want to play : \"))\n",
    "    for iterator in range(0,numOfTimes,1):\n",
    "        print(\"Player \", str( (iterator % 2)+1), \" turn\")\n",
    "        randomNumberGenerator()\n",
    "\n",
    "if __name__ == \"__main__\" : main()"
   ]
  },
  {
   "cell_type": "code",
   "execution_count": null,
   "metadata": {},
   "outputs": [],
   "source": []
  }
 ],
 "metadata": {
  "kernelspec": {
   "display_name": "Python 3",
   "language": "python",
   "name": "python3"
  },
  "language_info": {
   "codemirror_mode": {
    "name": "ipython",
    "version": 3
   },
   "file_extension": ".py",
   "mimetype": "text/x-python",
   "name": "python",
   "nbconvert_exporter": "python",
   "pygments_lexer": "ipython3",
   "version": "3.7.4"
  }
 },
 "nbformat": 4,
 "nbformat_minor": 2
}
