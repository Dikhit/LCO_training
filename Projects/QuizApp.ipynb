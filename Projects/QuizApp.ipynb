{
 "cells": [
  {
   "cell_type": "code",
   "execution_count": 1,
   "metadata": {},
   "outputs": [
    {
     "name": "stdout",
     "output_type": "stream",
     "text": [
      "Quiz game direct ans sytem.. for one correct ans +10 Score and for incorrect ans -10 is applied\n",
      "Enter the number of Question you want to ask : 3\n",
      "Enter the Question : First Name\n",
      "Enter the ans : Dikhit\n",
      "Enter the Question : Second Name\n",
      "Enter the ans : Kumar\n",
      "Enter the Question : Bhuyan\n",
      "Enter the ans : Third Name\n",
      "First Name\n",
      "Ans please : Dikhit\n",
      "You are correct..\n",
      "Your score is 10\n",
      "Second Name\n",
      "Ans please : Kumar\n",
      "You are correct..\n",
      "Your score is 20\n",
      "Bhuyan\n",
      "Ans please : Third Name\n",
      "You are correct..\n",
      "Your score is 30\n",
      "Score is 30\n"
     ]
    }
   ],
   "source": [
    "def main():\n",
    "    print(\"Quiz game direct ans sytem.. for one correct ans +10 Score and for incorrect ans -10 is applied\")\n",
    "    numOfQuestion = int( input(\"Enter the number of Question you want to ask : \"))\n",
    "    QuestionContainer = list()\n",
    "    AnsContainer = list()\n",
    "    score = 0\n",
    "    for iterator in range(0,numOfQuestion,1):\n",
    "        Question = input(\"Enter the Question : \")\n",
    "        QuestionContainer.append(Question)\n",
    "        Ans = input(\"Enter the ans : \")\n",
    "        AnsContainer.append(Ans)\n",
    "    \n",
    "    for iterator in range(0,numOfQuestion,1):\n",
    "        print(QuestionContainer[iterator])\n",
    "        UserAns = input(\"Ans please : \")\n",
    "        if UserAns == AnsContainer[iterator]:\n",
    "            print(\"You are correct..\")\n",
    "            score = score + 10\n",
    "            print(\"Your score is \" + str(score))\n",
    "        elif UserAns != AnsContainer[iterator]:\n",
    "            print(\"You are wrong..\")\n",
    "            score = score - 10\n",
    "            print(\"Your current score is \" + str(score))\n",
    "\n",
    "    print(\"Score is \" + str(score))\n",
    "if __name__ == \"__main__\" : main()"
   ]
  },
  {
   "cell_type": "code",
   "execution_count": 2,
   "metadata": {},
   "outputs": [
    {
     "name": "stdout",
     "output_type": "stream",
     "text": [
      "Multiple Choice Quiz Game\n"
     ]
    }
   ],
   "source": [
    "print(\"Multiple Choice Quiz Game\")"
   ]
  }
 ],
 "metadata": {
  "kernelspec": {
   "display_name": "Python 3",
   "language": "python",
   "name": "python3"
  },
  "language_info": {
   "codemirror_mode": {
    "name": "ipython",
    "version": 3
   },
   "file_extension": ".py",
   "mimetype": "text/x-python",
   "name": "python",
   "nbconvert_exporter": "python",
   "pygments_lexer": "ipython3",
   "version": "3.7.4"
  }
 },
 "nbformat": 4,
 "nbformat_minor": 2
}
