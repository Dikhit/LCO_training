{
 "cells": [
  {
   "cell_type": "code",
   "execution_count": 1,
   "metadata": {},
   "outputs": [
    {
     "name": "stdout",
     "output_type": "stream",
     "text": [
      "Number prediction Game\n",
      "Enter the upper limit of the range : 10\n",
      "4\n",
      "Enter your guess : 3\n",
      "number is high..\n",
      "Enter your guess : 5\n",
      "Number is low..\n",
      "Enter your guess : 4\n",
      "great success..\n"
     ]
    }
   ],
   "source": [
    "import random\n",
    "import math\n",
    "print(\"Number prediction Game\")\n",
    "def main():\n",
    "    generatedNumber = random.random()\n",
    "    range = int( input(\"Enter the upper limit of the range : \"))\n",
    "    generatedNumber = generatedNumber * range\n",
    "    generatedNumber = math.floor(generatedNumber)\n",
    "    print(generatedNumber)\n",
    "    while True:\n",
    "        userInput = int(input(\"Enter your guess : \"))\n",
    "        if userInput == generatedNumber:\n",
    "            print(\"great success..\")\n",
    "            break\n",
    "        elif userInput > generatedNumber:\n",
    "            print(\"Number is low..\")\n",
    "        elif userInput < generatedNumber:\n",
    "            print(\"number is high..\")\n",
    "        else:\n",
    "            print(\"Wrong input..\")\n",
    "    pass\n",
    "\n",
    "if __name__ == \"__main__\" : main()"
   ]
  },
  {
   "cell_type": "code",
   "execution_count": null,
   "metadata": {},
   "outputs": [],
   "source": []
  },
  {
   "cell_type": "code",
   "execution_count": null,
   "metadata": {},
   "outputs": [],
   "source": []
  }
 ],
 "metadata": {
  "kernelspec": {
   "display_name": "Python 3",
   "language": "python",
   "name": "python3"
  },
  "language_info": {
   "codemirror_mode": {
    "name": "ipython",
    "version": 3
   },
   "file_extension": ".py",
   "mimetype": "text/x-python",
   "name": "python",
   "nbconvert_exporter": "python",
   "pygments_lexer": "ipython3",
   "version": "3.7.4"
  }
 },
 "nbformat": 4,
 "nbformat_minor": 2
}
